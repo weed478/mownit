{
 "cells": [
  {
   "cell_type": "markdown",
   "id": "cdf177b3",
   "metadata": {},
   "source": [
    "# MOWNIT\n",
    "## Lab 3\n",
    "Jakub Karbowski"
   ]
  },
  {
   "cell_type": "code",
   "execution_count": 1,
   "id": "163bf6df",
   "metadata": {},
   "outputs": [
    {
     "data": {
      "application/vnd.webio.node+json": {
       "children": [],
       "instanceArgs": {
        "namespace": "html",
        "tag": "div"
       },
       "nodeType": "DOM",
       "props": {},
       "type": "node"
      },
      "text/html": [
       "<div style=\"padding: 1em; background-color: #f8d6da; border: 1px solid #f5c6cb; font-weight: bold;\">\n",
       "<p>The WebIO Jupyter extension was not detected. See the\n",
       "<a href=\"https://juliagizmos.github.io/WebIO.jl/latest/providers/ijulia/\" target=\"_blank\">\n",
       "    WebIO Jupyter integration documentation\n",
       "</a>\n",
       "for more information.\n",
       "</div>\n"
      ],
      "text/plain": [
       "WebIO._IJuliaInit()"
      ]
     },
     "metadata": {
      "application/vnd.webio.node+json": {
       "kernelId": "031079b4-7a6c-4f1b-8d4f-5d139b59af37"
      }
     },
     "output_type": "display_data"
    }
   ],
   "source": [
    "using Plots\n",
    "using Interact\n",
    "using DataFrames"
   ]
  },
  {
   "cell_type": "markdown",
   "id": "b5a91873",
   "metadata": {},
   "source": [
    "# Warunki brzegowe\n",
    "Węzły: $x_i, i\\in \\{1,\\dots,n+1\\}$\n",
    "- Równość w węzłach (warunek zawsze stosowany):\n",
    "    - $s'(x_1) = f(x_1)$\n",
    "    - $s'(x_{n+1}) = f(x_{n+1})$\n",
    "- Clamped left:\n",
    "    - $s'(x_1) = f'(x_1)$\n",
    "- Clamped right:\n",
    "    - $s'(x_{n+1}) = f'(x_{n+1})$\n",
    "- Periodic:\n",
    "    - $s'(x_1) = s'(x_{n+1})$\n",
    "- Natural left:\n",
    "    - $s''(x_1) = 0$\n",
    "- Natural right:\n",
    "    - $s''(x_{n+1}) = 0$"
   ]
  },
  {
   "cell_type": "code",
   "execution_count": 2,
   "id": "120d96ab",
   "metadata": {},
   "outputs": [],
   "source": [
    "@enum Boundary ClampedLeft ClampedRight Periodic NaturalLeft NaturalRight"
   ]
  },
  {
   "cell_type": "markdown",
   "id": "c981a156",
   "metadata": {},
   "source": [
    "# Pierwszego rzędu\n",
    "Zero slotów na dodatkowe warunki brzegowe.\n",
    "\\begin{align}\n",
    "    &s_i(x) = a_i + b_i(x-x_i) \\\\\n",
    "    &\\text{Środkowe węzły:} \\\\\n",
    "    &\\begin{cases}\n",
    "        s_i(x_{i+1}) &= y_{i+1} \\\\\n",
    "        s_i(x_{i+1}) &= s_{i+1}(x_{i+1})\n",
    "    \\end{cases} \\\\\n",
    "    &\\text{Węzły brzegowe:} \\\\\n",
    "    &\\begin{cases}\n",
    "        s_1(x_1) &= y_1 \\\\\n",
    "        s_n(x_{n+1}) &= y_{n+1}\n",
    "    \\end{cases}\n",
    "\\end{align}"
   ]
  },
  {
   "cell_type": "code",
   "execution_count": 3,
   "id": "de33feb5",
   "metadata": {},
   "outputs": [
    {
     "data": {
      "text/plain": [
       "spline1 (generic function with 1 method)"
      ]
     },
     "execution_count": 3,
     "metadata": {},
     "output_type": "execute_result"
    }
   ],
   "source": [
    "function spline1(xs, ys, ys1, boundary)\n",
    "    n = length(xs) - 1\n",
    "    \n",
    "    A = zeros(2n, 2n)\n",
    "    Y = zeros(2n)\n",
    "    \n",
    "    # equations for middle nodes\n",
    "    for i = 1:n-1\n",
    "        # a_i + b_i * (x_{i+1} - x_i) = y_{i+1}\n",
    "        A[2i, 2i-1:2i] = [ 1  xs[i+1]-xs[i] ]\n",
    "        Y[2i] = ys[i+1]\n",
    "        \n",
    "        # a_i + b_i * (x_{i+1} - x_i) - a_{i+1} = 0\n",
    "        A[2i+1, 2i-1:2i+1] = [ 1  xs[i+1]-xs[i]  -1 ]\n",
    "        Y[2i+1] = 0\n",
    "    end\n",
    "    \n",
    "    # left boundary\n",
    "    # a_1 = y_1\n",
    "    A[1, 1] = 1\n",
    "    Y[1] = ys[1]\n",
    "    \n",
    "    # right boundary\n",
    "    # a_n + b_n * (x_{n+1} - x_n) = y_{n+1}\n",
    "    A[2n, 2n-1:2n] = [ 1  xs[n+1]-xs[n] ]\n",
    "    Y[2n] = ys[n+1]\n",
    "    \n",
    "    X = A \\ Y\n",
    "    \n",
    "    function (x)\n",
    "        for i = 1:n\n",
    "            if xs[i] <= x <= xs[i+1]\n",
    "                return X[2i-1] + X[2i] * (x - xs[i])\n",
    "            end\n",
    "        end\n",
    "    end\n",
    "end"
   ]
  },
  {
   "cell_type": "markdown",
   "id": "627cf251",
   "metadata": {},
   "source": [
    "# Drugiego rzędu\n",
    "Jeden slot na dodatkowy warunek brzegowy.\n",
    "\\begin{align}\n",
    "    &s_i(x) = a_i + b_i(x-x_i) + c_i(x-x_i)^2 \\\\\n",
    "    &\\text{Środkowe węzły:} \\\\\n",
    "    &\\begin{cases}\n",
    "        s_i(x_{i+1}) &= y_{i+1} \\\\\n",
    "        s_i(x_{i+1}) &= s_{i+1}(x_{i+1}) \\\\\n",
    "        s'_i(x_{i+1}) &= s'_{i+1}(x_{i+1})\n",
    "    \\end{cases} \\\\\n",
    "    &\\text{Węzły brzegowe:} \\\\\n",
    "    &\\begin{cases}\n",
    "        s_1(x_1) &= y_1 \\\\\n",
    "        s_n(x_{n+1}) &= y_{n+1}\n",
    "    \\end{cases} \\\\\n",
    "    &\\text{Clamped left:} \\\\\n",
    "    &s'_1(x_1) = y'_1 \\\\\n",
    "    &\\text{Clamped right:} \\\\\n",
    "    &s'_n(x_{n+1}) = y'_{n+1} \\\\\n",
    "    &\\text{Periodic:} \\\\\n",
    "    &s'_1(x_1) = s'_n(x_{n+1})\n",
    "\\end{align}"
   ]
  },
  {
   "cell_type": "code",
   "execution_count": 4,
   "id": "702b04fc",
   "metadata": {},
   "outputs": [
    {
     "data": {
      "text/plain": [
       "spline2 (generic function with 1 method)"
      ]
     },
     "execution_count": 4,
     "metadata": {},
     "output_type": "execute_result"
    }
   ],
   "source": [
    "function spline2(xs, ys, ys1, boundary)\n",
    "    n = length(xs) - 1\n",
    "    \n",
    "    A = zeros(3n, 3n)\n",
    "    Y = zeros(3n)\n",
    "    \n",
    "    # equations for middle nodes\n",
    "    for i = 1:n-1\n",
    "        A[3i-1, 3i-2:3i] = [ 1  xs[i+1]-xs[i]  (xs[i+1]-xs[i])^2 ]\n",
    "        Y[3i-1] = ys[i+1]\n",
    "        \n",
    "        A[3i, 3i-2:3i+1] = [ 1  xs[i+1]-xs[i]  (xs[i+1]-xs[i])^2  -1 ]\n",
    "        Y[3i] = 0\n",
    "        \n",
    "        A[3i+1, 3i-1:3i+2] = [ 1  2*(xs[i+1]-xs[i])  0  -1 ]\n",
    "        Y[3i+1] = 0\n",
    "    end\n",
    "    \n",
    "    # left boundary\n",
    "    A[1, 1] = 1\n",
    "    Y[1] = ys[1]\n",
    "    \n",
    "    # right boundary\n",
    "    A[3n-1, 3n-2:3n] = [ 1  xs[n+1]-xs[n]  (xs[n+1]-xs[n])^2 ]\n",
    "    Y[3n-1] = ys[n+1]\n",
    "    \n",
    "    if ClampedLeft in boundary\n",
    "        A[3n, 2] = 1\n",
    "        Y[3n] = ys1[1]\n",
    "    elseif ClampedRight in boundary\n",
    "        A[3n, 3n-1:3n] = [ 1  2*(xs[n+1]-xs[n]) ]\n",
    "        Y[3n] = ys1[n+1]\n",
    "    elseif Periodic in boundary\n",
    "        A[3n, 2] = -1\n",
    "        A[3n, 3n-1:3n] = [ 1  2*(xs[n+1]-xs[n]) ]\n",
    "        Y[3n] = 0\n",
    "    end\n",
    "    \n",
    "    X = A \\ Y\n",
    "    \n",
    "    function (x)\n",
    "        for i = 1:n\n",
    "            if xs[i] <= x <= xs[i+1]\n",
    "                return X[3i-2] + X[3i-1] * (x - xs[i]) + X[3i] * (x - xs[i])^2\n",
    "            end\n",
    "        end\n",
    "    end\n",
    "end"
   ]
  },
  {
   "cell_type": "markdown",
   "id": "249cd632",
   "metadata": {},
   "source": [
    "# Trzeciego rzędu\n",
    "Dwa sloty na dodatkowe warunki brzegowe.\n",
    "\\begin{align}\n",
    "    &s_i(x) = a_i + b_i(x-x_i) + c_i(x-x_i)^2 + d_i(x-x_i)^3 \\\\\n",
    "    &\\text{Środkowe węzły:} \\\\\n",
    "    &\\begin{cases}\n",
    "        s_i(x_{i+1}) &= y_{i+1} \\\\\n",
    "        s_i(x_{i+1}) &= s_{i+1}(x_{i+1}) \\\\\n",
    "        s'_i(x_{i+1}) &= s'_{i+1}(x_{i+1}) \\\\\n",
    "        s''_i(x_{i+1}) &= s''_{i+1}(x_{i+1})\n",
    "    \\end{cases} \\\\\n",
    "    &\\text{Węzły brzegowe:} \\\\\n",
    "    &\\begin{cases}\n",
    "        s_1(x_1) &= y_1 \\\\\n",
    "        s_n(x_{n+1}) &= y_{n+1}\n",
    "    \\end{cases} \\\\\n",
    "    &\\text{Clamped left:} \\\\\n",
    "    &s'_1(x_1) = y'_1 \\\\\n",
    "    &\\text{Clamped right:} \\\\\n",
    "    &s'_n(x_{n+1}) = y'_{n+1} \\\\\n",
    "    &\\text{Periodic:} \\\\\n",
    "    &s'_1(x_1) = s'_n(x_{n+1}) \\\\\n",
    "    &\\text{NaturalLeft:} \\\\\n",
    "    &s''_1(x_1) = 0 \\\\\n",
    "    &\\text{NaturalRight:} \\\\\n",
    "    &s''_n(x_{n+1}) = 0\n",
    "\\end{align}"
   ]
  },
  {
   "cell_type": "code",
   "execution_count": 5,
   "id": "308c2af6",
   "metadata": {},
   "outputs": [
    {
     "data": {
      "text/plain": [
       "spline3 (generic function with 1 method)"
      ]
     },
     "execution_count": 5,
     "metadata": {},
     "output_type": "execute_result"
    }
   ],
   "source": [
    "function spline3(xs, ys, ys1, boundary)\n",
    "    n = length(xs) - 1\n",
    "    \n",
    "    A = zeros(4n, 4n)\n",
    "    Y = zeros(4n)\n",
    "    \n",
    "    # equations for middle nodes\n",
    "    for i = 1:n-1\n",
    "        dx = xs[i+1] - xs[i]\n",
    "        \n",
    "        A[4i-3, 4i-3:4i] = [ 1 dx dx^2 dx^3 ]\n",
    "        Y[4i-3] = ys[i+1]\n",
    "        \n",
    "        A[4i-2, 4i-3:4i+1] = [ 1 dx dx^2 dx^3 -1 ]\n",
    "        Y[4i-2] = 0\n",
    "        \n",
    "        A[4i-1, 4i-2:4i+2] = [ 1 2dx 3dx^2 0 -1 ]\n",
    "        Y[4i-1] = 0\n",
    "        \n",
    "        A[4i, 4i-1:4i+3] = [ 1 3dx 0 0 -1 ]\n",
    "        Y[4i] = 0\n",
    "    end\n",
    "    \n",
    "    # left boundary\n",
    "    A[4n-3, 1] = 1\n",
    "    Y[4n-3] = ys[1]\n",
    "\n",
    "    # right boundary\n",
    "    dx = xs[n+1] - xs[n]\n",
    "    A[4n-2, 4n-3:4n] = [ 1 dx dx^2 dx^3 ]\n",
    "    Y[4n-2] = ys[n+1]\n",
    "    \n",
    "    usedslots = 0\n",
    "    \n",
    "    if ClampedLeft in boundary\n",
    "        A[4n-1+usedslots, 2] = 1\n",
    "        Y[4n-1+usedslots] = ys1[1]\n",
    "        usedslots += 1\n",
    "    end\n",
    "\n",
    "    if ClampedRight in boundary\n",
    "        A[4n-1+usedslots, 4n-2:4n] = [ 1 2dx 3dx^2 ]\n",
    "        Y[4n-1+usedslots] = ys1[n+1]\n",
    "        usedslots += 1\n",
    "    end\n",
    "    \n",
    "    if Periodic in boundary\n",
    "        A[4n-1+usedslots, 2] = -1\n",
    "        A[4n-1+usedslots, 4n-2:4n] = [ 1 2dx 3dx^2 ]\n",
    "        Y[4n-1+usedslots] = 0\n",
    "        usedslots += 1\n",
    "    end\n",
    "    \n",
    "    if NaturalLeft in boundary\n",
    "        A[4n-1+usedslots, 3] = 2\n",
    "        Y[4n-1+usedslots] = 0\n",
    "        usedslots += 1\n",
    "    end\n",
    "    \n",
    "    if NaturalRight in boundary\n",
    "        A[4n-1+usedslots, 4n-1:4n] = [ 2 6dx ]\n",
    "        Y[4n-1+usedslots] = 0\n",
    "        usedslots += 1\n",
    "    end\n",
    "    \n",
    "    X = A \\ Y\n",
    "    \n",
    "    function (x)\n",
    "        for i = 1:n\n",
    "            if xs[i] <= x <= xs[i+1]\n",
    "                return X[4i-3] + X[4i-2] * (x - xs[i]) + X[4i-1] * (x - xs[i])^2 + X[4i] * (x - xs[i])^3\n",
    "            end\n",
    "        end\n",
    "    end\n",
    "end"
   ]
  },
  {
   "cell_type": "code",
   "execution_count": 6,
   "id": "a6b88be4",
   "metadata": {},
   "outputs": [
    {
     "data": {
      "text/plain": [
       "sqerr (generic function with 1 method)"
      ]
     },
     "execution_count": 6,
     "metadata": {},
     "output_type": "execute_result"
    }
   ],
   "source": [
    "sqerr(f, g, x) = sum( @. (f(x) - g(x))^2 )"
   ]
  },
  {
   "cell_type": "code",
   "execution_count": 7,
   "id": "3de1200d",
   "metadata": {},
   "outputs": [
    {
     "data": {
      "text/plain": [
       "-10.0:0.02002002002002002:10.0"
      ]
     },
     "execution_count": 7,
     "metadata": {},
     "output_type": "execute_result"
    }
   ],
   "source": [
    "k = 2\n",
    "m = 1\n",
    "\n",
    "# f(x) = exp(-k*sin(m*x))+k*cos(m*x) + 1\n",
    "# df(x) = k*m*(cos(m*x)*(-exp(-k*sin(m*x))) - sin(m*x))\n",
    "f(x) = atan(x)\n",
    "df(x) = 1/(1+x^2)\n",
    "\n",
    "xlo = -10\n",
    "xhi = 10\n",
    "xs = range(xlo, xhi, length=1000)"
   ]
  },
  {
   "cell_type": "code",
   "execution_count": 8,
   "id": "c3ca28bd",
   "metadata": {},
   "outputs": [
    {
     "data": {
      "application/vnd.webio.node+json": {
       "children": [
        {
         "children": [
          {
           "children": [
            {
             "children": [
              {
               "children": [
                {
                 "children": [
                  "n"
                 ],
                 "instanceArgs": {
                  "namespace": "html",
                  "tag": "label"
                 },
                 "nodeType": "DOM",
                 "props": {
                  "className": "interact ",
                  "style": {
                   "padding": "5px 10px 0px 10px"
                  }
                 },
                 "type": "node"
                }
               ],
               "instanceArgs": {
                "namespace": "html",
                "tag": "div"
               },
               "nodeType": "DOM",
               "props": {
                "className": "interact-flex-row-left"
               },
               "type": "node"
              },
              {
               "children": [
                {
                 "children": [],
                 "instanceArgs": {
                  "namespace": "html",
                  "tag": "input"
                 },
                 "nodeType": "DOM",
                 "props": {
                  "attributes": {
                   "data-bind": "numericValue: index, valueUpdate: 'input', event: {change: function (){this.changes(this.changes()+1)}}",
                   "orient": "horizontal",
                   "type": "range"
                  },
                  "className": "slider slider is-fullwidth",
                  "max": 50,
                  "min": 2,
                  "step": 1,
                  "style": {}
                 },
                 "type": "node"
                }
               ],
               "instanceArgs": {
                "namespace": "html",
                "tag": "div"
               },
               "nodeType": "DOM",
               "props": {
                "className": "interact-flex-row-center"
               },
               "type": "node"
              },
              {
               "children": [
                {
                 "children": [],
                 "instanceArgs": {
                  "namespace": "html",
                  "tag": "p"
                 },
                 "nodeType": "DOM",
                 "props": {
                  "attributes": {
                   "data-bind": "text: formatted_val"
                  }
                 },
                 "type": "node"
                }
               ],
               "instanceArgs": {
                "namespace": "html",
                "tag": "div"
               },
               "nodeType": "DOM",
               "props": {
                "className": "interact-flex-row-right"
               },
               "type": "node"
              }
             ],
             "instanceArgs": {
              "namespace": "html",
              "tag": "div"
             },
             "nodeType": "DOM",
             "props": {
              "className": "interact-flex-row interact-widget"
             },
             "type": "node"
            }
           ],
           "instanceArgs": {
            "handlers": {
             "changes": [
              "(function (val){return (val!=this.model[\"changes\"]()) ? (this.valueFromJulia[\"changes\"]=true, this.model[\"changes\"](val)) : undefined})"
             ],
             "index": [
              "(function (val){return (val!=this.model[\"index\"]()) ? (this.valueFromJulia[\"index\"]=true, this.model[\"index\"](val)) : undefined})"
             ]
            },
            "id": "6149868130785045897",
            "imports": {
             "data": [
              {
               "name": "knockout",
               "type": "js",
               "url": "/assetserver/68b391a98f51946de6766c9cb9c06259d0b67941-knockout.js"
              },
              {
               "name": "knockout_punches",
               "type": "js",
               "url": "/assetserver/a75e1e7279f4e8a75d1508d0e0f26637654e46a8-knockout_punches.js"
              },
              {
               "name": null,
               "type": "js",
               "url": "/assetserver/d83021b3162429c4ffddb670fcd019dc3cf3a17e-all.js"
              },
              {
               "name": null,
               "type": "css",
               "url": "/assetserver/59440ba4cbbaeea1ad0662e2f3d142b376ac9fb8-style.css"
              },
              {
               "name": null,
               "type": "css",
               "url": "/assetserver/809dda8cb22c9777167aaf75ded8379bbe41e658-bulma_confined.min.css"
              }
             ],
             "type": "async_block"
            },
            "mount_callbacks": [
             "function () {\n    var handler = (function (ko, koPunches) {\n    ko.punches.enableAll();\n    ko.bindingHandlers.numericValue = {\n        init: function(element, valueAccessor, allBindings, data, context) {\n            var stringified = ko.observable(ko.unwrap(valueAccessor()));\n            stringified.subscribe(function(value) {\n                var val = parseFloat(value);\n                if (!isNaN(val)) {\n                    valueAccessor()(val);\n                }\n            });\n            valueAccessor().subscribe(function(value) {\n                var str = JSON.stringify(value);\n                if ((str == \"0\") && ([\"-0\", \"-0.\"].indexOf(stringified()) >= 0))\n                     return;\n                 if ([\"null\", \"\"].indexOf(str) >= 0)\n                     return;\n                stringified(str);\n            });\n            ko.applyBindingsToNode(\n                element,\n                {\n                    value: stringified,\n                    valueUpdate: allBindings.get('valueUpdate'),\n                },\n                context,\n            );\n        }\n    };\n    var json_data = {\"formatted_vals\":[\"2\",\"3\",\"4\",\"5\",\"6\",\"7\",\"8\",\"9\",\"10\",\"11\",\"12\",\"13\",\"14\",\"15\",\"16\",\"17\",\"18\",\"19\",\"20\",\"21\",\"22\",\"23\",\"24\",\"25\",\"26\",\"27\",\"28\",\"29\",\"30\",\"31\",\"32\",\"33\",\"34\",\"35\",\"36\",\"37\",\"38\",\"39\",\"40\",\"41\",\"42\",\"43\",\"44\",\"45\",\"46\",\"47\",\"48\",\"49\",\"50\"],\"changes\":WebIO.getval({\"name\":\"changes\",\"scope\":\"6149868130785045897\",\"id\":\"2345012731124383594\",\"type\":\"observable\"}),\"index\":WebIO.getval({\"name\":\"index\",\"scope\":\"6149868130785045897\",\"id\":\"10578776765821906720\",\"type\":\"observable\"})};\n    var self = this;\n    function AppViewModel() {\n        for (var key in json_data) {\n            var el = json_data[key];\n            this[key] = Array.isArray(el) ? ko.observableArray(el) : ko.observable(el);\n        }\n        \n        [this[\"formatted_val\"]=ko.computed(    function(){\n        return this.formatted_vals()[parseInt(this.index())-(2)];\n    }\n,this)]\n        [this[\"changes\"].subscribe((function (val){!(this.valueFromJulia[\"changes\"]) ? (WebIO.setval({\"name\":\"changes\",\"scope\":\"6149868130785045897\",\"id\":\"2345012731124383594\",\"type\":\"observable\"},val)) : undefined; return this.valueFromJulia[\"changes\"]=false}),self),this[\"index\"].subscribe((function (val){!(this.valueFromJulia[\"index\"]) ? (WebIO.setval({\"name\":\"index\",\"scope\":\"6149868130785045897\",\"id\":\"10578776765821906720\",\"type\":\"observable\"},val)) : undefined; return this.valueFromJulia[\"index\"]=false}),self)]\n        \n    }\n    self.model = new AppViewModel();\n    self.valueFromJulia = {};\n    for (var key in json_data) {\n        self.valueFromJulia[key] = false;\n    }\n    ko.applyBindings(self.model, self.dom);\n}\n);\n    (WebIO.importBlock({\"data\":[{\"name\":\"knockout\",\"type\":\"js\",\"url\":\"/assetserver/68b391a98f51946de6766c9cb9c06259d0b67941-knockout.js\"},{\"name\":\"knockout_punches\",\"type\":\"js\",\"url\":\"/assetserver/a75e1e7279f4e8a75d1508d0e0f26637654e46a8-knockout_punches.js\"}],\"type\":\"async_block\"})).then((imports) => handler.apply(this, imports));\n}\n"
            ],
            "observables": {
             "changes": {
              "id": "2345012731124383594",
              "sync": false,
              "value": 0
             },
             "index": {
              "id": "10578776765821906720",
              "sync": true,
              "value": 26
             }
            },
            "systemjs_options": null
           },
           "nodeType": "Scope",
           "props": {},
           "type": "node"
          }
         ],
         "instanceArgs": {
          "namespace": "html",
          "tag": "div"
         },
         "nodeType": "DOM",
         "props": {
          "className": "field interact-widget"
         },
         "type": "node"
        },
        {
         "children": [
          {
           "children": [
            {
             "children": [
              {
               "children": [
                {
                 "children": [
                  "spline"
                 ],
                 "instanceArgs": {
                  "namespace": "html",
                  "tag": "label"
                 },
                 "nodeType": "DOM",
                 "props": {
                  "className": "interact ",
                  "style": {
                   "padding": "5px 10px 0px 10px"
                  }
                 },
                 "type": "node"
                }
               ],
               "instanceArgs": {
                "namespace": "html",
                "tag": "div"
               },
               "nodeType": "DOM",
               "props": {
                "className": "interact-flex-row-left"
               },
               "type": "node"
              },
              {
               "children": [
                {
                 "children": [
                  {
                   "children": [
                    {
                     "children": [],
                     "instanceArgs": {
                      "namespace": "html",
                      "tag": "label"
                     },
                     "nodeType": "DOM",
                     "props": {
                      "attributes": {
                       "data-bind": "text : key"
                      }
                     },
                     "type": "node"
                    }
                   ],
                   "instanceArgs": {
                    "namespace": "html",
                    "tag": "span"
                   },
                   "nodeType": "DOM",
                   "props": {
                    "attributes": {
                     "data-bind": "click: function (){$root.update(val)}, css: {'is-primary is-selected' : $root.index() == val, 'interact-widget is-medium button ' : true}"
                    }
                   },
                   "type": "node"
                  }
                 ],
                 "instanceArgs": {
                  "namespace": "html",
                  "tag": "div"
                 },
                 "nodeType": "DOM",
                 "props": {
                  "attributes": {
                   "data-bind": "foreach : options_js"
                  },
                  "className": "buttons has-addons is-centered"
                 },
                 "type": "node"
                }
               ],
               "instanceArgs": {
                "namespace": "html",
                "tag": "div"
               },
               "nodeType": "DOM",
               "props": {
                "className": "interact-flex-row-center"
               },
               "type": "node"
              },
              {
               "children": [
                {
                 "children": [],
                 "instanceArgs": {
                  "namespace": "html",
                  "tag": "div"
                 },
                 "nodeType": "DOM",
                 "props": {},
                 "type": "node"
                }
               ],
               "instanceArgs": {
                "namespace": "html",
                "tag": "div"
               },
               "nodeType": "DOM",
               "props": {
                "className": "interact-flex-row-right"
               },
               "type": "node"
              }
             ],
             "instanceArgs": {
              "namespace": "html",
              "tag": "div"
             },
             "nodeType": "DOM",
             "props": {
              "className": "interact-flex-row interact-widget"
             },
             "type": "node"
            }
           ],
           "instanceArgs": {
            "handlers": {
             "index": [
              "(function (val){return (val!=this.model[\"index\"]()) ? (this.valueFromJulia[\"index\"]=true, this.model[\"index\"](val)) : undefined})"
             ],
             "options_js": [
              "(function (val){return (val!=this.model[\"options_js\"]()) ? (this.valueFromJulia[\"options_js\"]=true, this.model[\"options_js\"](val)) : undefined})"
             ]
            },
            "id": "3768172643377870379",
            "imports": {
             "data": [
              {
               "name": "knockout",
               "type": "js",
               "url": "/assetserver/68b391a98f51946de6766c9cb9c06259d0b67941-knockout.js"
              },
              {
               "name": "knockout_punches",
               "type": "js",
               "url": "/assetserver/a75e1e7279f4e8a75d1508d0e0f26637654e46a8-knockout_punches.js"
              },
              {
               "name": null,
               "type": "js",
               "url": "/assetserver/d83021b3162429c4ffddb670fcd019dc3cf3a17e-all.js"
              },
              {
               "name": null,
               "type": "css",
               "url": "/assetserver/59440ba4cbbaeea1ad0662e2f3d142b376ac9fb8-style.css"
              },
              {
               "name": null,
               "type": "css",
               "url": "/assetserver/809dda8cb22c9777167aaf75ded8379bbe41e658-bulma_confined.min.css"
              }
             ],
             "type": "async_block"
            },
            "mount_callbacks": [
             "function () {\n    var handler = (function (ko, koPunches) {\n    ko.punches.enableAll();\n    ko.bindingHandlers.numericValue = {\n        init: function(element, valueAccessor, allBindings, data, context) {\n            var stringified = ko.observable(ko.unwrap(valueAccessor()));\n            stringified.subscribe(function(value) {\n                var val = parseFloat(value);\n                if (!isNaN(val)) {\n                    valueAccessor()(val);\n                }\n            });\n            valueAccessor().subscribe(function(value) {\n                var str = JSON.stringify(value);\n                if ((str == \"0\") && ([\"-0\", \"-0.\"].indexOf(stringified()) >= 0))\n                     return;\n                 if ([\"null\", \"\"].indexOf(str) >= 0)\n                     return;\n                stringified(str);\n            });\n            ko.applyBindingsToNode(\n                element,\n                {\n                    value: stringified,\n                    valueUpdate: allBindings.get('valueUpdate'),\n                },\n                context,\n            );\n        }\n    };\n    var json_data = {\"options_js\":WebIO.getval({\"name\":\"options_js\",\"scope\":\"3768172643377870379\",\"id\":\"5501042021518863844\",\"type\":\"observable\"}),\"index\":WebIO.getval({\"name\":\"index\",\"scope\":\"3768172643377870379\",\"id\":\"15180783453790595778\",\"type\":\"observable\"})};\n    var self = this;\n    function AppViewModel() {\n        for (var key in json_data) {\n            var el = json_data[key];\n            this[key] = Array.isArray(el) ? ko.observableArray(el) : ko.observable(el);\n        }\n        [this[\"update\"]=function (val) {this.index(val)}]\n        \n        [this[\"options_js\"].subscribe((function (val){!(this.valueFromJulia[\"options_js\"]) ? (WebIO.setval({\"name\":\"options_js\",\"scope\":\"3768172643377870379\",\"id\":\"5501042021518863844\",\"type\":\"observable\"},val)) : undefined; return this.valueFromJulia[\"options_js\"]=false}),self),this[\"index\"].subscribe((function (val){!(this.valueFromJulia[\"index\"]) ? (WebIO.setval({\"name\":\"index\",\"scope\":\"3768172643377870379\",\"id\":\"15180783453790595778\",\"type\":\"observable\"},val)) : undefined; return this.valueFromJulia[\"index\"]=false}),self)]\n        \n    }\n    self.model = new AppViewModel();\n    self.valueFromJulia = {};\n    for (var key in json_data) {\n        self.valueFromJulia[key] = false;\n    }\n    ko.applyBindings(self.model, self.dom);\n}\n);\n    (WebIO.importBlock({\"data\":[{\"name\":\"knockout\",\"type\":\"js\",\"url\":\"/assetserver/68b391a98f51946de6766c9cb9c06259d0b67941-knockout.js\"},{\"name\":\"knockout_punches\",\"type\":\"js\",\"url\":\"/assetserver/a75e1e7279f4e8a75d1508d0e0f26637654e46a8-knockout_punches.js\"}],\"type\":\"async_block\"})).then((imports) => handler.apply(this, imports));\n}\n"
            ],
            "observables": {
             "index": {
              "id": "15180783453790595778",
              "sync": true,
              "value": 1
             },
             "options_js": {
              "id": "5501042021518863844",
              "sync": false,
              "value": [
               {
                "id": "idOAJ6XNYO",
                "key": "spline1",
                "val": 1
               },
               {
                "id": "id9RqngvM4",
                "key": "spline2",
                "val": 2
               },
               {
                "id": "idq0YLn5xh",
                "key": "spline3",
                "val": 3
               }
              ]
             }
            },
            "systemjs_options": null
           },
           "nodeType": "Scope",
           "props": {},
           "type": "node"
          }
         ],
         "instanceArgs": {
          "namespace": "html",
          "tag": "div"
         },
         "nodeType": "DOM",
         "props": {
          "className": "interact-widget"
         },
         "type": "node"
        },
        {
         "children": [
          {
           "children": [
            {
             "children": [
              {
               "children": [
                {
                 "children": [],
                 "instanceArgs": {
                  "namespace": "html",
                  "tag": "input"
                 },
                 "nodeType": "DOM",
                 "props": {
                  "attributes": {
                   "data-bind": "checked: value, valueUpdate: 'change', event: {change: function (){this.changes(this.changes()+1)}}",
                   "type": "checkbox"
                  },
                  "className": "switch ",
                  "id": "##292",
                  "style": {}
                 },
                 "type": "node"
                },
                {
                 "children": [
                  "clampedleft"
                 ],
                 "instanceArgs": {
                  "namespace": "html",
                  "tag": "label"
                 },
                 "nodeType": "DOM",
                 "props": {
                  "attributes": {
                   "className": "",
                   "for": "##292"
                  }
                 },
                 "type": "node"
                }
               ],
               "instanceArgs": {
                "namespace": "html",
                "tag": "div"
               },
               "nodeType": "DOM",
               "props": {
                "className": "field interact-widget"
               },
               "type": "node"
              }
             ],
             "instanceArgs": {
              "handlers": {
               "changes": [
                "(function (val){return (val!=this.model[\"changes\"]()) ? (this.valueFromJulia[\"changes\"]=true, this.model[\"changes\"](val)) : undefined})"
               ],
               "value": [
                "(function (val){return (val!=this.model[\"value\"]()) ? (this.valueFromJulia[\"value\"]=true, this.model[\"value\"](val)) : undefined})"
               ]
              },
              "id": "12453861160394372481",
              "imports": {
               "data": [
                {
                 "name": "knockout",
                 "type": "js",
                 "url": "/assetserver/68b391a98f51946de6766c9cb9c06259d0b67941-knockout.js"
                },
                {
                 "name": "knockout_punches",
                 "type": "js",
                 "url": "/assetserver/a75e1e7279f4e8a75d1508d0e0f26637654e46a8-knockout_punches.js"
                },
                {
                 "name": null,
                 "type": "js",
                 "url": "/assetserver/d83021b3162429c4ffddb670fcd019dc3cf3a17e-all.js"
                },
                {
                 "name": null,
                 "type": "css",
                 "url": "/assetserver/59440ba4cbbaeea1ad0662e2f3d142b376ac9fb8-style.css"
                },
                {
                 "name": null,
                 "type": "css",
                 "url": "/assetserver/809dda8cb22c9777167aaf75ded8379bbe41e658-bulma_confined.min.css"
                }
               ],
               "type": "async_block"
              },
              "mount_callbacks": [
               "function () {\n    var handler = (function (ko, koPunches) {\n    ko.punches.enableAll();\n    ko.bindingHandlers.numericValue = {\n        init: function(element, valueAccessor, allBindings, data, context) {\n            var stringified = ko.observable(ko.unwrap(valueAccessor()));\n            stringified.subscribe(function(value) {\n                var val = parseFloat(value);\n                if (!isNaN(val)) {\n                    valueAccessor()(val);\n                }\n            });\n            valueAccessor().subscribe(function(value) {\n                var str = JSON.stringify(value);\n                if ((str == \"0\") && ([\"-0\", \"-0.\"].indexOf(stringified()) >= 0))\n                     return;\n                 if ([\"null\", \"\"].indexOf(str) >= 0)\n                     return;\n                stringified(str);\n            });\n            ko.applyBindingsToNode(\n                element,\n                {\n                    value: stringified,\n                    valueUpdate: allBindings.get('valueUpdate'),\n                },\n                context,\n            );\n        }\n    };\n    var json_data = {\"changes\":WebIO.getval({\"name\":\"changes\",\"scope\":\"12453861160394372481\",\"id\":\"10982875746723634692\",\"type\":\"observable\"}),\"value\":WebIO.getval({\"name\":\"value\",\"scope\":\"12453861160394372481\",\"id\":\"2098318484413778770\",\"type\":\"observable\"})};\n    var self = this;\n    function AppViewModel() {\n        for (var key in json_data) {\n            var el = json_data[key];\n            this[key] = Array.isArray(el) ? ko.observableArray(el) : ko.observable(el);\n        }\n        \n        \n        [this[\"changes\"].subscribe((function (val){!(this.valueFromJulia[\"changes\"]) ? (WebIO.setval({\"name\":\"changes\",\"scope\":\"12453861160394372481\",\"id\":\"10982875746723634692\",\"type\":\"observable\"},val)) : undefined; return this.valueFromJulia[\"changes\"]=false}),self),this[\"value\"].subscribe((function (val){!(this.valueFromJulia[\"value\"]) ? (WebIO.setval({\"name\":\"value\",\"scope\":\"12453861160394372481\",\"id\":\"2098318484413778770\",\"type\":\"observable\"},val)) : undefined; return this.valueFromJulia[\"value\"]=false}),self)]\n        \n    }\n    self.model = new AppViewModel();\n    self.valueFromJulia = {};\n    for (var key in json_data) {\n        self.valueFromJulia[key] = false;\n    }\n    ko.applyBindings(self.model, self.dom);\n}\n);\n    (WebIO.importBlock({\"data\":[{\"name\":\"knockout\",\"type\":\"js\",\"url\":\"/assetserver/68b391a98f51946de6766c9cb9c06259d0b67941-knockout.js\"},{\"name\":\"knockout_punches\",\"type\":\"js\",\"url\":\"/assetserver/a75e1e7279f4e8a75d1508d0e0f26637654e46a8-knockout_punches.js\"}],\"type\":\"async_block\"})).then((imports) => handler.apply(this, imports));\n}\n"
              ],
              "observables": {
               "changes": {
                "id": "10982875746723634692",
                "sync": false,
                "value": 0
               },
               "value": {
                "id": "2098318484413778770",
                "sync": true,
                "value": false
               }
              },
              "systemjs_options": null
             },
             "nodeType": "Scope",
             "props": {},
             "type": "node"
            }
           ],
           "instanceArgs": {
            "namespace": "html",
            "tag": "div"
           },
           "nodeType": "DOM",
           "props": {
            "className": "field interact-widget"
           },
           "type": "node"
          }
         ],
         "instanceArgs": {
          "namespace": "html",
          "tag": "div"
         },
         "nodeType": "DOM",
         "props": {
          "className": "interact-flex-row interact-widget"
         },
         "type": "node"
        },
        {
         "children": [
          {
           "children": [
            {
             "children": [
              {
               "children": [
                {
                 "children": [],
                 "instanceArgs": {
                  "namespace": "html",
                  "tag": "input"
                 },
                 "nodeType": "DOM",
                 "props": {
                  "attributes": {
                   "data-bind": "checked: value, valueUpdate: 'change', event: {change: function (){this.changes(this.changes()+1)}}",
                   "type": "checkbox"
                  },
                  "className": "switch ",
                  "id": "##293",
                  "style": {}
                 },
                 "type": "node"
                },
                {
                 "children": [
                  "clampedright"
                 ],
                 "instanceArgs": {
                  "namespace": "html",
                  "tag": "label"
                 },
                 "nodeType": "DOM",
                 "props": {
                  "attributes": {
                   "className": "",
                   "for": "##293"
                  }
                 },
                 "type": "node"
                }
               ],
               "instanceArgs": {
                "namespace": "html",
                "tag": "div"
               },
               "nodeType": "DOM",
               "props": {
                "className": "field interact-widget"
               },
               "type": "node"
              }
             ],
             "instanceArgs": {
              "handlers": {
               "changes": [
                "(function (val){return (val!=this.model[\"changes\"]()) ? (this.valueFromJulia[\"changes\"]=true, this.model[\"changes\"](val)) : undefined})"
               ],
               "value": [
                "(function (val){return (val!=this.model[\"value\"]()) ? (this.valueFromJulia[\"value\"]=true, this.model[\"value\"](val)) : undefined})"
               ]
              },
              "id": "2352799863583871972",
              "imports": {
               "data": [
                {
                 "name": "knockout",
                 "type": "js",
                 "url": "/assetserver/68b391a98f51946de6766c9cb9c06259d0b67941-knockout.js"
                },
                {
                 "name": "knockout_punches",
                 "type": "js",
                 "url": "/assetserver/a75e1e7279f4e8a75d1508d0e0f26637654e46a8-knockout_punches.js"
                },
                {
                 "name": null,
                 "type": "js",
                 "url": "/assetserver/d83021b3162429c4ffddb670fcd019dc3cf3a17e-all.js"
                },
                {
                 "name": null,
                 "type": "css",
                 "url": "/assetserver/59440ba4cbbaeea1ad0662e2f3d142b376ac9fb8-style.css"
                },
                {
                 "name": null,
                 "type": "css",
                 "url": "/assetserver/809dda8cb22c9777167aaf75ded8379bbe41e658-bulma_confined.min.css"
                }
               ],
               "type": "async_block"
              },
              "mount_callbacks": [
               "function () {\n    var handler = (function (ko, koPunches) {\n    ko.punches.enableAll();\n    ko.bindingHandlers.numericValue = {\n        init: function(element, valueAccessor, allBindings, data, context) {\n            var stringified = ko.observable(ko.unwrap(valueAccessor()));\n            stringified.subscribe(function(value) {\n                var val = parseFloat(value);\n                if (!isNaN(val)) {\n                    valueAccessor()(val);\n                }\n            });\n            valueAccessor().subscribe(function(value) {\n                var str = JSON.stringify(value);\n                if ((str == \"0\") && ([\"-0\", \"-0.\"].indexOf(stringified()) >= 0))\n                     return;\n                 if ([\"null\", \"\"].indexOf(str) >= 0)\n                     return;\n                stringified(str);\n            });\n            ko.applyBindingsToNode(\n                element,\n                {\n                    value: stringified,\n                    valueUpdate: allBindings.get('valueUpdate'),\n                },\n                context,\n            );\n        }\n    };\n    var json_data = {\"changes\":WebIO.getval({\"name\":\"changes\",\"scope\":\"2352799863583871972\",\"id\":\"8078459403723888167\",\"type\":\"observable\"}),\"value\":WebIO.getval({\"name\":\"value\",\"scope\":\"2352799863583871972\",\"id\":\"1848456544513264309\",\"type\":\"observable\"})};\n    var self = this;\n    function AppViewModel() {\n        for (var key in json_data) {\n            var el = json_data[key];\n            this[key] = Array.isArray(el) ? ko.observableArray(el) : ko.observable(el);\n        }\n        \n        \n        [this[\"changes\"].subscribe((function (val){!(this.valueFromJulia[\"changes\"]) ? (WebIO.setval({\"name\":\"changes\",\"scope\":\"2352799863583871972\",\"id\":\"8078459403723888167\",\"type\":\"observable\"},val)) : undefined; return this.valueFromJulia[\"changes\"]=false}),self),this[\"value\"].subscribe((function (val){!(this.valueFromJulia[\"value\"]) ? (WebIO.setval({\"name\":\"value\",\"scope\":\"2352799863583871972\",\"id\":\"1848456544513264309\",\"type\":\"observable\"},val)) : undefined; return this.valueFromJulia[\"value\"]=false}),self)]\n        \n    }\n    self.model = new AppViewModel();\n    self.valueFromJulia = {};\n    for (var key in json_data) {\n        self.valueFromJulia[key] = false;\n    }\n    ko.applyBindings(self.model, self.dom);\n}\n);\n    (WebIO.importBlock({\"data\":[{\"name\":\"knockout\",\"type\":\"js\",\"url\":\"/assetserver/68b391a98f51946de6766c9cb9c06259d0b67941-knockout.js\"},{\"name\":\"knockout_punches\",\"type\":\"js\",\"url\":\"/assetserver/a75e1e7279f4e8a75d1508d0e0f26637654e46a8-knockout_punches.js\"}],\"type\":\"async_block\"})).then((imports) => handler.apply(this, imports));\n}\n"
              ],
              "observables": {
               "changes": {
                "id": "8078459403723888167",
                "sync": false,
                "value": 0
               },
               "value": {
                "id": "1848456544513264309",
                "sync": true,
                "value": false
               }
              },
              "systemjs_options": null
             },
             "nodeType": "Scope",
             "props": {},
             "type": "node"
            }
           ],
           "instanceArgs": {
            "namespace": "html",
            "tag": "div"
           },
           "nodeType": "DOM",
           "props": {
            "className": "field interact-widget"
           },
           "type": "node"
          }
         ],
         "instanceArgs": {
          "namespace": "html",
          "tag": "div"
         },
         "nodeType": "DOM",
         "props": {
          "className": "interact-flex-row interact-widget"
         },
         "type": "node"
        },
        {
         "children": [
          {
           "children": [
            {
             "children": [
              {
               "children": [
                {
                 "children": [],
                 "instanceArgs": {
                  "namespace": "html",
                  "tag": "input"
                 },
                 "nodeType": "DOM",
                 "props": {
                  "attributes": {
                   "data-bind": "checked: value, valueUpdate: 'change', event: {change: function (){this.changes(this.changes()+1)}}",
                   "type": "checkbox"
                  },
                  "className": "switch ",
                  "id": "##294",
                  "style": {}
                 },
                 "type": "node"
                },
                {
                 "children": [
                  "periodic"
                 ],
                 "instanceArgs": {
                  "namespace": "html",
                  "tag": "label"
                 },
                 "nodeType": "DOM",
                 "props": {
                  "attributes": {
                   "className": "",
                   "for": "##294"
                  }
                 },
                 "type": "node"
                }
               ],
               "instanceArgs": {
                "namespace": "html",
                "tag": "div"
               },
               "nodeType": "DOM",
               "props": {
                "className": "field interact-widget"
               },
               "type": "node"
              }
             ],
             "instanceArgs": {
              "handlers": {
               "changes": [
                "(function (val){return (val!=this.model[\"changes\"]()) ? (this.valueFromJulia[\"changes\"]=true, this.model[\"changes\"](val)) : undefined})"
               ],
               "value": [
                "(function (val){return (val!=this.model[\"value\"]()) ? (this.valueFromJulia[\"value\"]=true, this.model[\"value\"](val)) : undefined})"
               ]
              },
              "id": "11790289613816933860",
              "imports": {
               "data": [
                {
                 "name": "knockout",
                 "type": "js",
                 "url": "/assetserver/68b391a98f51946de6766c9cb9c06259d0b67941-knockout.js"
                },
                {
                 "name": "knockout_punches",
                 "type": "js",
                 "url": "/assetserver/a75e1e7279f4e8a75d1508d0e0f26637654e46a8-knockout_punches.js"
                },
                {
                 "name": null,
                 "type": "js",
                 "url": "/assetserver/d83021b3162429c4ffddb670fcd019dc3cf3a17e-all.js"
                },
                {
                 "name": null,
                 "type": "css",
                 "url": "/assetserver/59440ba4cbbaeea1ad0662e2f3d142b376ac9fb8-style.css"
                },
                {
                 "name": null,
                 "type": "css",
                 "url": "/assetserver/809dda8cb22c9777167aaf75ded8379bbe41e658-bulma_confined.min.css"
                }
               ],
               "type": "async_block"
              },
              "mount_callbacks": [
               "function () {\n    var handler = (function (ko, koPunches) {\n    ko.punches.enableAll();\n    ko.bindingHandlers.numericValue = {\n        init: function(element, valueAccessor, allBindings, data, context) {\n            var stringified = ko.observable(ko.unwrap(valueAccessor()));\n            stringified.subscribe(function(value) {\n                var val = parseFloat(value);\n                if (!isNaN(val)) {\n                    valueAccessor()(val);\n                }\n            });\n            valueAccessor().subscribe(function(value) {\n                var str = JSON.stringify(value);\n                if ((str == \"0\") && ([\"-0\", \"-0.\"].indexOf(stringified()) >= 0))\n                     return;\n                 if ([\"null\", \"\"].indexOf(str) >= 0)\n                     return;\n                stringified(str);\n            });\n            ko.applyBindingsToNode(\n                element,\n                {\n                    value: stringified,\n                    valueUpdate: allBindings.get('valueUpdate'),\n                },\n                context,\n            );\n        }\n    };\n    var json_data = {\"changes\":WebIO.getval({\"name\":\"changes\",\"scope\":\"11790289613816933860\",\"id\":\"13391487479250174267\",\"type\":\"observable\"}),\"value\":WebIO.getval({\"name\":\"value\",\"scope\":\"11790289613816933860\",\"id\":\"9654119713781886359\",\"type\":\"observable\"})};\n    var self = this;\n    function AppViewModel() {\n        for (var key in json_data) {\n            var el = json_data[key];\n            this[key] = Array.isArray(el) ? ko.observableArray(el) : ko.observable(el);\n        }\n        \n        \n        [this[\"changes\"].subscribe((function (val){!(this.valueFromJulia[\"changes\"]) ? (WebIO.setval({\"name\":\"changes\",\"scope\":\"11790289613816933860\",\"id\":\"13391487479250174267\",\"type\":\"observable\"},val)) : undefined; return this.valueFromJulia[\"changes\"]=false}),self),this[\"value\"].subscribe((function (val){!(this.valueFromJulia[\"value\"]) ? (WebIO.setval({\"name\":\"value\",\"scope\":\"11790289613816933860\",\"id\":\"9654119713781886359\",\"type\":\"observable\"},val)) : undefined; return this.valueFromJulia[\"value\"]=false}),self)]\n        \n    }\n    self.model = new AppViewModel();\n    self.valueFromJulia = {};\n    for (var key in json_data) {\n        self.valueFromJulia[key] = false;\n    }\n    ko.applyBindings(self.model, self.dom);\n}\n);\n    (WebIO.importBlock({\"data\":[{\"name\":\"knockout\",\"type\":\"js\",\"url\":\"/assetserver/68b391a98f51946de6766c9cb9c06259d0b67941-knockout.js\"},{\"name\":\"knockout_punches\",\"type\":\"js\",\"url\":\"/assetserver/a75e1e7279f4e8a75d1508d0e0f26637654e46a8-knockout_punches.js\"}],\"type\":\"async_block\"})).then((imports) => handler.apply(this, imports));\n}\n"
              ],
              "observables": {
               "changes": {
                "id": "13391487479250174267",
                "sync": false,
                "value": 0
               },
               "value": {
                "id": "9654119713781886359",
                "sync": true,
                "value": false
               }
              },
              "systemjs_options": null
             },
             "nodeType": "Scope",
             "props": {},
             "type": "node"
            }
           ],
           "instanceArgs": {
            "namespace": "html",
            "tag": "div"
           },
           "nodeType": "DOM",
           "props": {
            "className": "field interact-widget"
           },
           "type": "node"
          }
         ],
         "instanceArgs": {
          "namespace": "html",
          "tag": "div"
         },
         "nodeType": "DOM",
         "props": {
          "className": "interact-flex-row interact-widget"
         },
         "type": "node"
        },
        {
         "children": [
          {
           "children": [
            {
             "children": [
              {
               "children": [
                {
                 "children": [],
                 "instanceArgs": {
                  "namespace": "html",
                  "tag": "input"
                 },
                 "nodeType": "DOM",
                 "props": {
                  "attributes": {
                   "data-bind": "checked: value, valueUpdate: 'change', event: {change: function (){this.changes(this.changes()+1)}}",
                   "type": "checkbox"
                  },
                  "className": "switch ",
                  "id": "##295",
                  "style": {}
                 },
                 "type": "node"
                },
                {
                 "children": [
                  "naturalleft"
                 ],
                 "instanceArgs": {
                  "namespace": "html",
                  "tag": "label"
                 },
                 "nodeType": "DOM",
                 "props": {
                  "attributes": {
                   "className": "",
                   "for": "##295"
                  }
                 },
                 "type": "node"
                }
               ],
               "instanceArgs": {
                "namespace": "html",
                "tag": "div"
               },
               "nodeType": "DOM",
               "props": {
                "className": "field interact-widget"
               },
               "type": "node"
              }
             ],
             "instanceArgs": {
              "handlers": {
               "changes": [
                "(function (val){return (val!=this.model[\"changes\"]()) ? (this.valueFromJulia[\"changes\"]=true, this.model[\"changes\"](val)) : undefined})"
               ],
               "value": [
                "(function (val){return (val!=this.model[\"value\"]()) ? (this.valueFromJulia[\"value\"]=true, this.model[\"value\"](val)) : undefined})"
               ]
              },
              "id": "15814540398560056224",
              "imports": {
               "data": [
                {
                 "name": "knockout",
                 "type": "js",
                 "url": "/assetserver/68b391a98f51946de6766c9cb9c06259d0b67941-knockout.js"
                },
                {
                 "name": "knockout_punches",
                 "type": "js",
                 "url": "/assetserver/a75e1e7279f4e8a75d1508d0e0f26637654e46a8-knockout_punches.js"
                },
                {
                 "name": null,
                 "type": "js",
                 "url": "/assetserver/d83021b3162429c4ffddb670fcd019dc3cf3a17e-all.js"
                },
                {
                 "name": null,
                 "type": "css",
                 "url": "/assetserver/59440ba4cbbaeea1ad0662e2f3d142b376ac9fb8-style.css"
                },
                {
                 "name": null,
                 "type": "css",
                 "url": "/assetserver/809dda8cb22c9777167aaf75ded8379bbe41e658-bulma_confined.min.css"
                }
               ],
               "type": "async_block"
              },
              "mount_callbacks": [
               "function () {\n    var handler = (function (ko, koPunches) {\n    ko.punches.enableAll();\n    ko.bindingHandlers.numericValue = {\n        init: function(element, valueAccessor, allBindings, data, context) {\n            var stringified = ko.observable(ko.unwrap(valueAccessor()));\n            stringified.subscribe(function(value) {\n                var val = parseFloat(value);\n                if (!isNaN(val)) {\n                    valueAccessor()(val);\n                }\n            });\n            valueAccessor().subscribe(function(value) {\n                var str = JSON.stringify(value);\n                if ((str == \"0\") && ([\"-0\", \"-0.\"].indexOf(stringified()) >= 0))\n                     return;\n                 if ([\"null\", \"\"].indexOf(str) >= 0)\n                     return;\n                stringified(str);\n            });\n            ko.applyBindingsToNode(\n                element,\n                {\n                    value: stringified,\n                    valueUpdate: allBindings.get('valueUpdate'),\n                },\n                context,\n            );\n        }\n    };\n    var json_data = {\"changes\":WebIO.getval({\"name\":\"changes\",\"scope\":\"15814540398560056224\",\"id\":\"4817521045528906106\",\"type\":\"observable\"}),\"value\":WebIO.getval({\"name\":\"value\",\"scope\":\"15814540398560056224\",\"id\":\"8291278684059506527\",\"type\":\"observable\"})};\n    var self = this;\n    function AppViewModel() {\n        for (var key in json_data) {\n            var el = json_data[key];\n            this[key] = Array.isArray(el) ? ko.observableArray(el) : ko.observable(el);\n        }\n        \n        \n        [this[\"changes\"].subscribe((function (val){!(this.valueFromJulia[\"changes\"]) ? (WebIO.setval({\"name\":\"changes\",\"scope\":\"15814540398560056224\",\"id\":\"4817521045528906106\",\"type\":\"observable\"},val)) : undefined; return this.valueFromJulia[\"changes\"]=false}),self),this[\"value\"].subscribe((function (val){!(this.valueFromJulia[\"value\"]) ? (WebIO.setval({\"name\":\"value\",\"scope\":\"15814540398560056224\",\"id\":\"8291278684059506527\",\"type\":\"observable\"},val)) : undefined; return this.valueFromJulia[\"value\"]=false}),self)]\n        \n    }\n    self.model = new AppViewModel();\n    self.valueFromJulia = {};\n    for (var key in json_data) {\n        self.valueFromJulia[key] = false;\n    }\n    ko.applyBindings(self.model, self.dom);\n}\n);\n    (WebIO.importBlock({\"data\":[{\"name\":\"knockout\",\"type\":\"js\",\"url\":\"/assetserver/68b391a98f51946de6766c9cb9c06259d0b67941-knockout.js\"},{\"name\":\"knockout_punches\",\"type\":\"js\",\"url\":\"/assetserver/a75e1e7279f4e8a75d1508d0e0f26637654e46a8-knockout_punches.js\"}],\"type\":\"async_block\"})).then((imports) => handler.apply(this, imports));\n}\n"
              ],
              "observables": {
               "changes": {
                "id": "4817521045528906106",
                "sync": false,
                "value": 0
               },
               "value": {
                "id": "8291278684059506527",
                "sync": true,
                "value": false
               }
              },
              "systemjs_options": null
             },
             "nodeType": "Scope",
             "props": {},
             "type": "node"
            }
           ],
           "instanceArgs": {
            "namespace": "html",
            "tag": "div"
           },
           "nodeType": "DOM",
           "props": {
            "className": "field interact-widget"
           },
           "type": "node"
          }
         ],
         "instanceArgs": {
          "namespace": "html",
          "tag": "div"
         },
         "nodeType": "DOM",
         "props": {
          "className": "interact-flex-row interact-widget"
         },
         "type": "node"
        },
        {
         "children": [
          {
           "children": [
            {
             "children": [
              {
               "children": [
                {
                 "children": [],
                 "instanceArgs": {
                  "namespace": "html",
                  "tag": "input"
                 },
                 "nodeType": "DOM",
                 "props": {
                  "attributes": {
                   "data-bind": "checked: value, valueUpdate: 'change', event: {change: function (){this.changes(this.changes()+1)}}",
                   "type": "checkbox"
                  },
                  "className": "switch ",
                  "id": "##296",
                  "style": {}
                 },
                 "type": "node"
                },
                {
                 "children": [
                  "naturalright"
                 ],
                 "instanceArgs": {
                  "namespace": "html",
                  "tag": "label"
                 },
                 "nodeType": "DOM",
                 "props": {
                  "attributes": {
                   "className": "",
                   "for": "##296"
                  }
                 },
                 "type": "node"
                }
               ],
               "instanceArgs": {
                "namespace": "html",
                "tag": "div"
               },
               "nodeType": "DOM",
               "props": {
                "className": "field interact-widget"
               },
               "type": "node"
              }
             ],
             "instanceArgs": {
              "handlers": {
               "changes": [
                "(function (val){return (val!=this.model[\"changes\"]()) ? (this.valueFromJulia[\"changes\"]=true, this.model[\"changes\"](val)) : undefined})"
               ],
               "value": [
                "(function (val){return (val!=this.model[\"value\"]()) ? (this.valueFromJulia[\"value\"]=true, this.model[\"value\"](val)) : undefined})"
               ]
              },
              "id": "16078247271783612114",
              "imports": {
               "data": [
                {
                 "name": "knockout",
                 "type": "js",
                 "url": "/assetserver/68b391a98f51946de6766c9cb9c06259d0b67941-knockout.js"
                },
                {
                 "name": "knockout_punches",
                 "type": "js",
                 "url": "/assetserver/a75e1e7279f4e8a75d1508d0e0f26637654e46a8-knockout_punches.js"
                },
                {
                 "name": null,
                 "type": "js",
                 "url": "/assetserver/d83021b3162429c4ffddb670fcd019dc3cf3a17e-all.js"
                },
                {
                 "name": null,
                 "type": "css",
                 "url": "/assetserver/59440ba4cbbaeea1ad0662e2f3d142b376ac9fb8-style.css"
                },
                {
                 "name": null,
                 "type": "css",
                 "url": "/assetserver/809dda8cb22c9777167aaf75ded8379bbe41e658-bulma_confined.min.css"
                }
               ],
               "type": "async_block"
              },
              "mount_callbacks": [
               "function () {\n    var handler = (function (ko, koPunches) {\n    ko.punches.enableAll();\n    ko.bindingHandlers.numericValue = {\n        init: function(element, valueAccessor, allBindings, data, context) {\n            var stringified = ko.observable(ko.unwrap(valueAccessor()));\n            stringified.subscribe(function(value) {\n                var val = parseFloat(value);\n                if (!isNaN(val)) {\n                    valueAccessor()(val);\n                }\n            });\n            valueAccessor().subscribe(function(value) {\n                var str = JSON.stringify(value);\n                if ((str == \"0\") && ([\"-0\", \"-0.\"].indexOf(stringified()) >= 0))\n                     return;\n                 if ([\"null\", \"\"].indexOf(str) >= 0)\n                     return;\n                stringified(str);\n            });\n            ko.applyBindingsToNode(\n                element,\n                {\n                    value: stringified,\n                    valueUpdate: allBindings.get('valueUpdate'),\n                },\n                context,\n            );\n        }\n    };\n    var json_data = {\"changes\":WebIO.getval({\"name\":\"changes\",\"scope\":\"16078247271783612114\",\"id\":\"2367939373995726488\",\"type\":\"observable\"}),\"value\":WebIO.getval({\"name\":\"value\",\"scope\":\"16078247271783612114\",\"id\":\"5739574063253290749\",\"type\":\"observable\"})};\n    var self = this;\n    function AppViewModel() {\n        for (var key in json_data) {\n            var el = json_data[key];\n            this[key] = Array.isArray(el) ? ko.observableArray(el) : ko.observable(el);\n        }\n        \n        \n        [this[\"changes\"].subscribe((function (val){!(this.valueFromJulia[\"changes\"]) ? (WebIO.setval({\"name\":\"changes\",\"scope\":\"16078247271783612114\",\"id\":\"2367939373995726488\",\"type\":\"observable\"},val)) : undefined; return this.valueFromJulia[\"changes\"]=false}),self),this[\"value\"].subscribe((function (val){!(this.valueFromJulia[\"value\"]) ? (WebIO.setval({\"name\":\"value\",\"scope\":\"16078247271783612114\",\"id\":\"5739574063253290749\",\"type\":\"observable\"},val)) : undefined; return this.valueFromJulia[\"value\"]=false}),self)]\n        \n    }\n    self.model = new AppViewModel();\n    self.valueFromJulia = {};\n    for (var key in json_data) {\n        self.valueFromJulia[key] = false;\n    }\n    ko.applyBindings(self.model, self.dom);\n}\n);\n    (WebIO.importBlock({\"data\":[{\"name\":\"knockout\",\"type\":\"js\",\"url\":\"/assetserver/68b391a98f51946de6766c9cb9c06259d0b67941-knockout.js\"},{\"name\":\"knockout_punches\",\"type\":\"js\",\"url\":\"/assetserver/a75e1e7279f4e8a75d1508d0e0f26637654e46a8-knockout_punches.js\"}],\"type\":\"async_block\"})).then((imports) => handler.apply(this, imports));\n}\n"
              ],
              "observables": {
               "changes": {
                "id": "2367939373995726488",
                "sync": false,
                "value": 0
               },
               "value": {
                "id": "5739574063253290749",
                "sync": true,
                "value": false
               }
              },
              "systemjs_options": null
             },
             "nodeType": "Scope",
             "props": {},
             "type": "node"
            }
           ],
           "instanceArgs": {
            "namespace": "html",
            "tag": "div"
           },
           "nodeType": "DOM",
           "props": {
            "className": "field interact-widget"
           },
           "type": "node"
          }
         ],
         "instanceArgs": {
          "namespace": "html",
          "tag": "div"
         },
         "nodeType": "DOM",
         "props": {
          "className": "interact-flex-row interact-widget"
         },
         "type": "node"
        },
        {
         "children": [
          {
           "children": [],
           "instanceArgs": {
            "id": "738094859974438494",
            "name": "obs-node"
           },
           "nodeType": "ObservableNode",
           "props": {},
           "type": "node"
          }
         ],
         "instanceArgs": {
          "handlers": {},
          "id": "17679174114064531852",
          "imports": {
           "data": [],
           "type": "async_block"
          },
          "mount_callbacks": [],
          "observables": {
           "obs-node": {
            "id": "738094859974438494",
            "sync": false,
            "value": {
             "children": [
              {
               "children": [],
               "instanceArgs": {
                "namespace": "html",
                "tag": "div"
               },
               "nodeType": "DOM",
               "props": {
                "setInnerHtml": "<?xml version=\"1.0\" encoding=\"utf-8\"?>\n<svg xmlns=\"http://www.w3.org/2000/svg\" xmlns:xlink=\"http://www.w3.org/1999/xlink\" width=\"600\" height=\"400\" viewBox=\"0 0 2400 1600\">\n<defs>\n  <clipPath id=\"clip390\">\n    <rect x=\"0\" y=\"0\" width=\"2400\" height=\"1600\"/>\n  </clipPath>\n</defs>\n<path clip-path=\"url(#clip390)\" d=\"\nM0 1600 L2400 1600 L2400 0 L0 0  Z\n  \" fill=\"#ffffff\" fill-rule=\"evenodd\" fill-opacity=\"1\"/>\n<defs>\n  <clipPath id=\"clip391\">\n    <rect x=\"480\" y=\"0\" width=\"1681\" height=\"1600\"/>\n  </clipPath>\n</defs>\n<path clip-path=\"url(#clip390)\" d=\"\nM193.936 1181.82 L2352.76 1181.82 L2352.76 123.472 L193.936 123.472  Z\n  \" fill=\"#ffffff\" fill-rule=\"evenodd\" fill-opacity=\"1\"/>\n<defs>\n  <clipPath id=\"clip392\">\n    <rect x=\"193\" y=\"123\" width=\"2160\" height=\"1059\"/>\n  </clipPath>\n</defs>\n<polyline clip-path=\"url(#clip392)\" style=\"stroke:#000000; stroke-linecap:butt; stroke-linejoin:round; stroke-width:2; stroke-opacity:0.1; fill:none\" points=\"\n  255.035,1181.82 255.035,123.472 \n  \"/>\n<polyline clip-path=\"url(#clip392)\" style=\"stroke:#000000; stroke-linecap:butt; stroke-linejoin:round; stroke-width:2; stroke-opacity:0.1; fill:none\" points=\"\n  764.19,1181.82 764.19,123.472 \n  \"/>\n<polyline clip-path=\"url(#clip392)\" style=\"stroke:#000000; stroke-linecap:butt; stroke-linejoin:round; stroke-width:2; stroke-opacity:0.1; fill:none\" points=\"\n  1273.35,1181.82 1273.35,123.472 \n  \"/>\n<polyline clip-path=\"url(#clip392)\" style=\"stroke:#000000; stroke-linecap:butt; stroke-linejoin:round; stroke-width:2; stroke-opacity:0.1; fill:none\" points=\"\n  1782.5,1181.82 1782.5,123.472 \n  \"/>\n<polyline clip-path=\"url(#clip392)\" style=\"stroke:#000000; stroke-linecap:butt; stroke-linejoin:round; stroke-width:2; stroke-opacity:0.1; fill:none\" points=\"\n  2291.66,1181.82 2291.66,123.472 \n  \"/>\n<polyline clip-path=\"url(#clip390)\" style=\"stroke:#000000; stroke-linecap:butt; stroke-linejoin:round; stroke-width:4; stroke-opacity:1; fill:none\" points=\"\n  193.936,1181.82 2352.76,1181.82 \n  \"/>\n<polyline clip-path=\"url(#clip390)\" style=\"stroke:#000000; stroke-linecap:butt; stroke-linejoin:round; stroke-width:4; stroke-opacity:1; fill:none\" points=\"\n  255.035,1181.82 255.035,1167.14 \n  \"/>\n<polyline clip-path=\"url(#clip390)\" style=\"stroke:#000000; stroke-linecap:butt; stroke-linejoin:round; stroke-width:4; stroke-opacity:1; fill:none\" points=\"\n  764.19,1181.82 764.19,1167.14 \n  \"/>\n<polyline clip-path=\"url(#clip390)\" style=\"stroke:#000000; stroke-linecap:butt; stroke-linejoin:round; stroke-width:4; stroke-opacity:1; fill:none\" points=\"\n  1273.35,1181.82 1273.35,1167.14 \n  \"/>\n<polyline clip-path=\"url(#clip390)\" style=\"stroke:#000000; stroke-linecap:butt; stroke-linejoin:round; stroke-width:4; stroke-opacity:1; fill:none\" points=\"\n  1782.5,1181.82 1782.5,1167.14 \n  \"/>\n<polyline clip-path=\"url(#clip390)\" style=\"stroke:#000000; stroke-linecap:butt; stroke-linejoin:round; stroke-width:4; stroke-opacity:1; fill:none\" points=\"\n  2291.66,1181.82 2291.66,1167.14 \n  \"/>\n<path clip-path=\"url(#clip390)\" d=\"M209.097 1227.39 L238.773 1227.39 L238.773 1231.32 L209.097 1231.32 L209.097 1227.39 Z\" fill=\"#000000\" fill-rule=\"evenodd\" fill-opacity=\"1\" /><path clip-path=\"url(#clip390)\" d=\"M249.676 1240.28 L257.315 1240.28 L257.315 1213.91 L249.005 1215.58 L249.005 1211.32 L257.268 1209.66 L261.944 1209.66 L261.944 1240.28 L269.583 1240.28 L269.583 1244.22 L249.676 1244.22 L249.676 1240.28 Z\" fill=\"#000000\" fill-rule=\"evenodd\" fill-opacity=\"1\" /><path clip-path=\"url(#clip390)\" d=\"M289.028 1212.73 Q285.416 1212.73 283.588 1216.3 Q281.782 1219.84 281.782 1226.97 Q281.782 1234.08 283.588 1237.64 Q285.416 1241.18 289.028 1241.18 Q292.662 1241.18 294.467 1237.64 Q296.296 1234.08 296.296 1226.97 Q296.296 1219.84 294.467 1216.3 Q292.662 1212.73 289.028 1212.73 M289.028 1209.03 Q294.838 1209.03 297.893 1213.64 Q300.972 1218.22 300.972 1226.97 Q300.972 1235.7 297.893 1240.3 Q294.838 1244.89 289.028 1244.89 Q283.217 1244.89 280.139 1240.3 Q277.083 1235.7 277.083 1226.97 Q277.083 1218.22 280.139 1213.64 Q283.217 1209.03 289.028 1209.03 Z\" fill=\"#000000\" fill-rule=\"evenodd\" fill-opacity=\"1\" /><path clip-path=\"url(#clip390)\" d=\"M733.832 1227.39 L763.507 1227.39 L763.507 1231.32 L733.832 1231.32 L733.832 1227.39 Z\" fill=\"#000000\" fill-rule=\"evenodd\" fill-opacity=\"1\" /><path clip-path=\"url(#clip390)\" d=\"M773.646 1209.66 L792.003 1209.66 L792.003 1213.59 L777.929 1213.59 L777.929 1222.06 Q778.947 1221.72 779.966 1221.55 Q780.984 1221.37 782.003 1221.37 Q787.79 1221.37 791.169 1224.54 Q794.549 1227.71 794.549 1233.13 Q794.549 1238.71 791.077 1241.81 Q787.605 1244.89 781.285 1244.89 Q779.109 1244.89 776.841 1244.52 Q774.595 1244.15 772.188 1243.41 L772.188 1238.71 Q774.271 1239.84 776.493 1240.4 Q778.716 1240.95 781.193 1240.95 Q785.197 1240.95 787.535 1238.85 Q789.873 1236.74 789.873 1233.13 Q789.873 1229.52 787.535 1227.41 Q785.197 1225.3 781.193 1225.3 Q779.318 1225.3 777.443 1225.72 Q775.591 1226.14 773.646 1227.02 L773.646 1209.66 Z\" fill=\"#000000\" fill-rule=\"evenodd\" fill-opacity=\"1\" /><path clip-path=\"url(#clip390)\" d=\"M1273.35 1212.73 Q1269.73 1212.73 1267.91 1216.3 Q1266.1 1219.84 1266.1 1226.97 Q1266.1 1234.08 1267.91 1237.64 Q1269.73 1241.18 1273.35 1241.18 Q1276.98 1241.18 1278.79 1237.64 Q1280.61 1234.08 1280.61 1226.97 Q1280.61 1219.84 1278.79 1216.3 Q1276.98 1212.73 1273.35 1212.73 M1273.35 1209.03 Q1279.16 1209.03 1282.21 1213.64 Q1285.29 1218.22 1285.29 1226.97 Q1285.29 1235.7 1282.21 1240.3 Q1279.16 1244.89 1273.35 1244.89 Q1267.54 1244.89 1264.46 1240.3 Q1261.4 1235.7 1261.4 1226.97 Q1261.4 1218.22 1264.46 1213.64 Q1267.54 1209.03 1273.35 1209.03 Z\" fill=\"#000000\" fill-rule=\"evenodd\" fill-opacity=\"1\" /><path clip-path=\"url(#clip390)\" d=\"M1772.78 1209.66 L1791.14 1209.66 L1791.14 1213.59 L1777.06 1213.59 L1777.06 1222.06 Q1778.08 1221.72 1779.1 1221.55 Q1780.12 1221.37 1781.14 1221.37 Q1786.92 1221.37 1790.3 1224.54 Q1793.68 1227.71 1793.68 1233.13 Q1793.68 1238.71 1790.21 1241.81 Q1786.74 1244.89 1780.42 1244.89 Q1778.24 1244.89 1775.97 1244.52 Q1773.73 1244.15 1771.32 1243.41 L1771.32 1238.71 Q1773.4 1239.84 1775.63 1240.4 Q1777.85 1240.95 1780.33 1240.95 Q1784.33 1240.95 1786.67 1238.85 Q1789.01 1236.74 1789.01 1233.13 Q1789.01 1229.52 1786.67 1227.41 Q1784.33 1225.3 1780.33 1225.3 Q1778.45 1225.3 1776.58 1225.72 Q1774.72 1226.14 1772.78 1227.02 L1772.78 1209.66 Z\" fill=\"#000000\" fill-rule=\"evenodd\" fill-opacity=\"1\" /><path clip-path=\"url(#clip390)\" d=\"M2266.34 1240.28 L2273.98 1240.28 L2273.98 1213.91 L2265.67 1215.58 L2265.67 1211.32 L2273.94 1209.66 L2278.61 1209.66 L2278.61 1240.28 L2286.25 1240.28 L2286.25 1244.22 L2266.34 1244.22 L2266.34 1240.28 Z\" fill=\"#000000\" fill-rule=\"evenodd\" fill-opacity=\"1\" /><path clip-path=\"url(#clip390)\" d=\"M2305.7 1212.73 Q2302.09 1212.73 2300.26 1216.3 Q2298.45 1219.84 2298.45 1226.97 Q2298.45 1234.08 2300.26 1237.64 Q2302.09 1241.18 2305.7 1241.18 Q2309.33 1241.18 2311.14 1237.64 Q2312.96 1234.08 2312.96 1226.97 Q2312.96 1219.84 2311.14 1216.3 Q2309.33 1212.73 2305.7 1212.73 M2305.7 1209.03 Q2311.51 1209.03 2314.56 1213.64 Q2317.64 1218.22 2317.64 1226.97 Q2317.64 1235.7 2314.56 1240.3 Q2311.51 1244.89 2305.7 1244.89 Q2299.89 1244.89 2296.81 1240.3 Q2293.75 1235.7 2293.75 1226.97 Q2293.75 1218.22 2296.81 1213.64 Q2299.89 1209.03 2305.7 1209.03 Z\" fill=\"#000000\" fill-rule=\"evenodd\" fill-opacity=\"1\" /><polyline clip-path=\"url(#clip392)\" style=\"stroke:#000000; stroke-linecap:butt; stroke-linejoin:round; stroke-width:2; stroke-opacity:0.1; fill:none\" points=\"\n  193.936,1161.66 2352.76,1161.66 \n  \"/>\n<polyline clip-path=\"url(#clip392)\" style=\"stroke:#000000; stroke-linecap:butt; stroke-linejoin:round; stroke-width:2; stroke-opacity:0.1; fill:none\" points=\"\n  193.936,991.988 2352.76,991.988 \n  \"/>\n<polyline clip-path=\"url(#clip392)\" style=\"stroke:#000000; stroke-linecap:butt; stroke-linejoin:round; stroke-width:2; stroke-opacity:0.1; fill:none\" points=\"\n  193.936,822.316 2352.76,822.316 \n  \"/>\n<polyline clip-path=\"url(#clip392)\" style=\"stroke:#000000; stroke-linecap:butt; stroke-linejoin:round; stroke-width:2; stroke-opacity:0.1; fill:none\" points=\"\n  193.936,652.644 2352.76,652.644 \n  \"/>\n<polyline clip-path=\"url(#clip392)\" style=\"stroke:#000000; stroke-linecap:butt; stroke-linejoin:round; stroke-width:2; stroke-opacity:0.1; fill:none\" points=\"\n  193.936,482.972 2352.76,482.972 \n  \"/>\n<polyline clip-path=\"url(#clip392)\" style=\"stroke:#000000; stroke-linecap:butt; stroke-linejoin:round; stroke-width:2; stroke-opacity:0.1; fill:none\" points=\"\n  193.936,313.3 2352.76,313.3 \n  \"/>\n<polyline clip-path=\"url(#clip392)\" style=\"stroke:#000000; stroke-linecap:butt; stroke-linejoin:round; stroke-width:2; stroke-opacity:0.1; fill:none\" points=\"\n  193.936,143.628 2352.76,143.628 \n  \"/>\n<polyline clip-path=\"url(#clip390)\" style=\"stroke:#000000; stroke-linecap:butt; stroke-linejoin:round; stroke-width:4; stroke-opacity:1; fill:none\" points=\"\n  193.936,1181.82 193.936,123.472 \n  \"/>\n<polyline clip-path=\"url(#clip390)\" style=\"stroke:#000000; stroke-linecap:butt; stroke-linejoin:round; stroke-width:4; stroke-opacity:1; fill:none\" points=\"\n  193.936,1161.66 212.834,1161.66 \n  \"/>\n<polyline clip-path=\"url(#clip390)\" style=\"stroke:#000000; stroke-linecap:butt; stroke-linejoin:round; stroke-width:4; stroke-opacity:1; fill:none\" points=\"\n  193.936,991.988 212.834,991.988 \n  \"/>\n<polyline clip-path=\"url(#clip390)\" style=\"stroke:#000000; stroke-linecap:butt; stroke-linejoin:round; stroke-width:4; stroke-opacity:1; fill:none\" points=\"\n  193.936,822.316 212.834,822.316 \n  \"/>\n<polyline clip-path=\"url(#clip390)\" style=\"stroke:#000000; stroke-linecap:butt; stroke-linejoin:round; stroke-width:4; stroke-opacity:1; fill:none\" points=\"\n  193.936,652.644 212.834,652.644 \n  \"/>\n<polyline clip-path=\"url(#clip390)\" style=\"stroke:#000000; stroke-linecap:butt; stroke-linejoin:round; stroke-width:4; stroke-opacity:1; fill:none\" points=\"\n  193.936,482.972 212.834,482.972 \n  \"/>\n<polyline clip-path=\"url(#clip390)\" style=\"stroke:#000000; stroke-linecap:butt; stroke-linejoin:round; stroke-width:4; stroke-opacity:1; fill:none\" points=\"\n  193.936,313.3 212.834,313.3 \n  \"/>\n<polyline clip-path=\"url(#clip390)\" style=\"stroke:#000000; stroke-linecap:butt; stroke-linejoin:round; stroke-width:4; stroke-opacity:1; fill:none\" points=\"\n  193.936,143.628 212.834,143.628 \n  \"/>\n<path clip-path=\"url(#clip390)\" d=\"M51.9875 1162.11 L81.6633 1162.11 L81.6633 1166.05 L51.9875 1166.05 L51.9875 1162.11 Z\" fill=\"#000000\" fill-rule=\"evenodd\" fill-opacity=\"1\" /><path clip-path=\"url(#clip390)\" d=\"M92.566 1175 L100.205 1175 L100.205 1148.64 L91.8947 1150.31 L91.8947 1146.05 L100.159 1144.38 L104.834 1144.38 L104.834 1175 L112.473 1175 L112.473 1178.94 L92.566 1178.94 L92.566 1175 Z\" fill=\"#000000\" fill-rule=\"evenodd\" fill-opacity=\"1\" /><path clip-path=\"url(#clip390)\" d=\"M121.918 1173.06 L126.802 1173.06 L126.802 1178.94 L121.918 1178.94 L121.918 1173.06 Z\" fill=\"#000000\" fill-rule=\"evenodd\" fill-opacity=\"1\" /><path clip-path=\"url(#clip390)\" d=\"M137.033 1144.38 L155.39 1144.38 L155.39 1148.32 L141.316 1148.32 L141.316 1156.79 Q142.334 1156.44 143.353 1156.28 Q144.371 1156.09 145.39 1156.09 Q151.177 1156.09 154.556 1159.26 Q157.936 1162.44 157.936 1167.85 Q157.936 1173.43 154.464 1176.53 Q150.992 1179.61 144.672 1179.61 Q142.496 1179.61 140.228 1179.24 Q137.982 1178.87 135.575 1178.13 L135.575 1173.43 Q137.658 1174.56 139.881 1175.12 Q142.103 1175.68 144.58 1175.68 Q148.584 1175.68 150.922 1173.57 Q153.26 1171.46 153.26 1167.85 Q153.26 1164.24 150.922 1162.13 Q148.584 1160.03 144.58 1160.03 Q142.705 1160.03 140.83 1160.44 Q138.978 1160.86 137.033 1161.74 L137.033 1144.38 Z\" fill=\"#000000\" fill-rule=\"evenodd\" fill-opacity=\"1\" /><path clip-path=\"url(#clip390)\" d=\"M50.9921 992.439 L80.6679 992.439 L80.6679 996.374 L50.9921 996.374 L50.9921 992.439 Z\" fill=\"#000000\" fill-rule=\"evenodd\" fill-opacity=\"1\" /><path clip-path=\"url(#clip390)\" d=\"M91.5706 1005.33 L99.2095 1005.33 L99.2095 978.967 L90.8993 980.634 L90.8993 976.374 L99.1632 974.708 L103.839 974.708 L103.839 1005.33 L111.478 1005.33 L111.478 1009.27 L91.5706 1009.27 L91.5706 1005.33 Z\" fill=\"#000000\" fill-rule=\"evenodd\" fill-opacity=\"1\" /><path clip-path=\"url(#clip390)\" d=\"M120.922 1003.39 L125.807 1003.39 L125.807 1009.27 L120.922 1009.27 L120.922 1003.39 Z\" fill=\"#000000\" fill-rule=\"evenodd\" fill-opacity=\"1\" /><path clip-path=\"url(#clip390)\" d=\"M145.992 977.787 Q142.381 977.787 140.552 981.351 Q138.746 984.893 138.746 992.023 Q138.746 999.129 140.552 1002.69 Q142.381 1006.24 145.992 1006.24 Q149.626 1006.24 151.431 1002.69 Q153.26 999.129 153.26 992.023 Q153.26 984.893 151.431 981.351 Q149.626 977.787 145.992 977.787 M145.992 974.083 Q151.802 974.083 154.857 978.689 Q157.936 983.273 157.936 992.023 Q157.936 1000.75 154.857 1005.36 Q151.802 1009.94 145.992 1009.94 Q140.181 1009.94 137.103 1005.36 Q134.047 1000.75 134.047 992.023 Q134.047 983.273 137.103 978.689 Q140.181 974.083 145.992 974.083 Z\" fill=\"#000000\" fill-rule=\"evenodd\" fill-opacity=\"1\" /><path clip-path=\"url(#clip390)\" d=\"M51.9875 822.767 L81.6633 822.767 L81.6633 826.702 L51.9875 826.702 L51.9875 822.767 Z\" fill=\"#000000\" fill-rule=\"evenodd\" fill-opacity=\"1\" /><path clip-path=\"url(#clip390)\" d=\"M101.756 808.114 Q98.1447 808.114 96.316 811.679 Q94.5104 815.221 94.5104 822.351 Q94.5104 829.457 96.316 833.022 Q98.1447 836.563 101.756 836.563 Q105.39 836.563 107.196 833.022 Q109.024 829.457 109.024 822.351 Q109.024 815.221 107.196 811.679 Q105.39 808.114 101.756 808.114 M101.756 804.411 Q107.566 804.411 110.621 809.017 Q113.7 813.601 113.7 822.351 Q113.7 831.077 110.621 835.684 Q107.566 840.267 101.756 840.267 Q95.9456 840.267 92.8669 835.684 Q89.8114 831.077 89.8114 822.351 Q89.8114 813.601 92.8669 809.017 Q95.9456 804.411 101.756 804.411 Z\" fill=\"#000000\" fill-rule=\"evenodd\" fill-opacity=\"1\" /><path clip-path=\"url(#clip390)\" d=\"M121.918 833.716 L126.802 833.716 L126.802 839.596 L121.918 839.596 L121.918 833.716 Z\" fill=\"#000000\" fill-rule=\"evenodd\" fill-opacity=\"1\" /><path clip-path=\"url(#clip390)\" d=\"M137.033 805.036 L155.39 805.036 L155.39 808.971 L141.316 808.971 L141.316 817.443 Q142.334 817.096 143.353 816.934 Q144.371 816.749 145.39 816.749 Q151.177 816.749 154.556 819.92 Q157.936 823.091 157.936 828.508 Q157.936 834.087 154.464 837.188 Q150.992 840.267 144.672 840.267 Q142.496 840.267 140.228 839.897 Q137.982 839.526 135.575 838.786 L135.575 834.087 Q137.658 835.221 139.881 835.776 Q142.103 836.332 144.58 836.332 Q148.584 836.332 150.922 834.225 Q153.26 832.119 153.26 828.508 Q153.26 824.897 150.922 822.79 Q148.584 820.684 144.58 820.684 Q142.705 820.684 140.83 821.101 Q138.978 821.517 137.033 822.397 L137.033 805.036 Z\" fill=\"#000000\" fill-rule=\"evenodd\" fill-opacity=\"1\" /><path clip-path=\"url(#clip390)\" d=\"M100.76 638.442 Q97.1493 638.442 95.3206 642.007 Q93.515 645.549 93.515 652.678 Q93.515 659.785 95.3206 663.35 Q97.1493 666.891 100.76 666.891 Q104.395 666.891 106.2 663.35 Q108.029 659.785 108.029 652.678 Q108.029 645.549 106.2 642.007 Q104.395 638.442 100.76 638.442 M100.76 634.739 Q106.571 634.739 109.626 639.345 Q112.705 643.929 112.705 652.678 Q112.705 661.405 109.626 666.012 Q106.571 670.595 100.76 670.595 Q94.9502 670.595 91.8715 666.012 Q88.816 661.405 88.816 652.678 Q88.816 643.929 91.8715 639.345 Q94.9502 634.739 100.76 634.739 Z\" fill=\"#000000\" fill-rule=\"evenodd\" fill-opacity=\"1\" /><path clip-path=\"url(#clip390)\" d=\"M120.922 664.044 L125.807 664.044 L125.807 669.924 L120.922 669.924 L120.922 664.044 Z\" fill=\"#000000\" fill-rule=\"evenodd\" fill-opacity=\"1\" /><path clip-path=\"url(#clip390)\" d=\"M145.992 638.442 Q142.381 638.442 140.552 642.007 Q138.746 645.549 138.746 652.678 Q138.746 659.785 140.552 663.35 Q142.381 666.891 145.992 666.891 Q149.626 666.891 151.431 663.35 Q153.26 659.785 153.26 652.678 Q153.26 645.549 151.431 642.007 Q149.626 638.442 145.992 638.442 M145.992 634.739 Q151.802 634.739 154.857 639.345 Q157.936 643.929 157.936 652.678 Q157.936 661.405 154.857 666.012 Q151.802 670.595 145.992 670.595 Q140.181 670.595 137.103 666.012 Q134.047 661.405 134.047 652.678 Q134.047 643.929 137.103 639.345 Q140.181 634.739 145.992 634.739 Z\" fill=\"#000000\" fill-rule=\"evenodd\" fill-opacity=\"1\" /><path clip-path=\"url(#clip390)\" d=\"M101.756 468.77 Q98.1447 468.77 96.316 472.335 Q94.5104 475.877 94.5104 483.006 Q94.5104 490.113 96.316 493.678 Q98.1447 497.219 101.756 497.219 Q105.39 497.219 107.196 493.678 Q109.024 490.113 109.024 483.006 Q109.024 475.877 107.196 472.335 Q105.39 468.77 101.756 468.77 M101.756 465.067 Q107.566 465.067 110.621 469.673 Q113.7 474.256 113.7 483.006 Q113.7 491.733 110.621 496.34 Q107.566 500.923 101.756 500.923 Q95.9456 500.923 92.8669 496.34 Q89.8114 491.733 89.8114 483.006 Q89.8114 474.256 92.8669 469.673 Q95.9456 465.067 101.756 465.067 Z\" fill=\"#000000\" fill-rule=\"evenodd\" fill-opacity=\"1\" /><path clip-path=\"url(#clip390)\" d=\"M121.918 494.372 L126.802 494.372 L126.802 500.252 L121.918 500.252 L121.918 494.372 Z\" fill=\"#000000\" fill-rule=\"evenodd\" fill-opacity=\"1\" /><path clip-path=\"url(#clip390)\" d=\"M137.033 465.692 L155.39 465.692 L155.39 469.627 L141.316 469.627 L141.316 478.099 Q142.334 477.752 143.353 477.59 Q144.371 477.405 145.39 477.405 Q151.177 477.405 154.556 480.576 Q157.936 483.747 157.936 489.164 Q157.936 494.742 154.464 497.844 Q150.992 500.923 144.672 500.923 Q142.496 500.923 140.228 500.553 Q137.982 500.182 135.575 499.442 L135.575 494.742 Q137.658 495.877 139.881 496.432 Q142.103 496.988 144.58 496.988 Q148.584 496.988 150.922 494.881 Q153.26 492.775 153.26 489.164 Q153.26 485.553 150.922 483.446 Q148.584 481.34 144.58 481.34 Q142.705 481.34 140.83 481.756 Q138.978 482.173 137.033 483.053 L137.033 465.692 Z\" fill=\"#000000\" fill-rule=\"evenodd\" fill-opacity=\"1\" /><path clip-path=\"url(#clip390)\" d=\"M91.5706 326.644 L99.2095 326.644 L99.2095 300.279 L90.8993 301.946 L90.8993 297.686 L99.1632 296.02 L103.839 296.02 L103.839 326.644 L111.478 326.644 L111.478 330.58 L91.5706 330.58 L91.5706 326.644 Z\" fill=\"#000000\" fill-rule=\"evenodd\" fill-opacity=\"1\" /><path clip-path=\"url(#clip390)\" d=\"M120.922 324.7 L125.807 324.7 L125.807 330.58 L120.922 330.58 L120.922 324.7 Z\" fill=\"#000000\" fill-rule=\"evenodd\" fill-opacity=\"1\" /><path clip-path=\"url(#clip390)\" d=\"M145.992 299.098 Q142.381 299.098 140.552 302.663 Q138.746 306.205 138.746 313.334 Q138.746 320.441 140.552 324.006 Q142.381 327.547 145.992 327.547 Q149.626 327.547 151.431 324.006 Q153.26 320.441 153.26 313.334 Q153.26 306.205 151.431 302.663 Q149.626 299.098 145.992 299.098 M145.992 295.395 Q151.802 295.395 154.857 300.001 Q157.936 304.584 157.936 313.334 Q157.936 322.061 154.857 326.668 Q151.802 331.251 145.992 331.251 Q140.181 331.251 137.103 326.668 Q134.047 322.061 134.047 313.334 Q134.047 304.584 137.103 300.001 Q140.181 295.395 145.992 295.395 Z\" fill=\"#000000\" fill-rule=\"evenodd\" fill-opacity=\"1\" /><path clip-path=\"url(#clip390)\" d=\"M92.566 156.972 L100.205 156.972 L100.205 130.607 L91.8947 132.273 L91.8947 128.014 L100.159 126.348 L104.834 126.348 L104.834 156.972 L112.473 156.972 L112.473 160.908 L92.566 160.908 L92.566 156.972 Z\" fill=\"#000000\" fill-rule=\"evenodd\" fill-opacity=\"1\" /><path clip-path=\"url(#clip390)\" d=\"M121.918 155.028 L126.802 155.028 L126.802 160.908 L121.918 160.908 L121.918 155.028 Z\" fill=\"#000000\" fill-rule=\"evenodd\" fill-opacity=\"1\" /><path clip-path=\"url(#clip390)\" d=\"M137.033 126.348 L155.39 126.348 L155.39 130.283 L141.316 130.283 L141.316 138.755 Q142.334 138.408 143.353 138.246 Q144.371 138.06 145.39 138.06 Q151.177 138.06 154.556 141.232 Q157.936 144.403 157.936 149.82 Q157.936 155.398 154.464 158.5 Q150.992 161.579 144.672 161.579 Q142.496 161.579 140.228 161.209 Q137.982 160.838 135.575 160.097 L135.575 155.398 Q137.658 156.533 139.881 157.088 Q142.103 157.644 144.58 157.644 Q148.584 157.644 150.922 155.537 Q153.26 153.431 153.26 149.82 Q153.26 146.209 150.922 144.102 Q148.584 141.996 144.58 141.996 Q142.705 141.996 140.83 142.412 Q138.978 142.829 137.033 143.709 L137.033 126.348 Z\" fill=\"#000000\" fill-rule=\"evenodd\" fill-opacity=\"1\" /><path clip-path=\"url(#clip390)\" d=\"M1057.03 43.6931 L1057.03 65.8515 L1070.15 65.8515 Q1076.76 65.8515 1079.92 63.1374 Q1083.12 60.3828 1083.12 54.752 Q1083.12 49.0808 1079.92 46.4072 Q1076.76 43.6931 1070.15 43.6931 L1057.03 43.6931 M1057.03 18.8205 L1057.03 37.0496 L1069.14 37.0496 Q1075.14 37.0496 1078.05 34.8216 Q1081.01 32.5531 1081.01 27.935 Q1081.01 23.3575 1078.05 21.089 Q1075.14 18.8205 1069.14 18.8205 L1057.03 18.8205 M1048.84 12.096 L1069.75 12.096 Q1079.11 12.096 1084.17 15.9849 Q1089.23 19.8737 1089.23 27.0438 Q1089.23 32.5936 1086.64 35.8748 Q1084.05 39.156 1079.02 39.9662 Q1085.06 41.2625 1088.38 45.3944 Q1091.74 49.4858 1091.74 55.6432 Q1091.74 63.745 1086.23 68.1605 Q1080.73 72.576 1070.56 72.576 L1048.84 72.576 L1048.84 12.096 Z\" fill=\"#000000\" fill-rule=\"evenodd\" fill-opacity=\"1\" /><path clip-path=\"url(#clip390)\" d=\"M1123.02 32.4315 Q1117.02 32.4315 1113.54 37.1306 Q1110.05 41.7891 1110.05 49.9314 Q1110.05 58.0738 1113.5 62.7728 Q1116.98 67.4314 1123.02 67.4314 Q1128.97 67.4314 1132.46 62.7323 Q1135.94 58.0333 1135.94 49.9314 Q1135.94 41.8701 1132.46 37.1711 Q1128.97 32.4315 1123.02 32.4315 M1123.02 26.1121 Q1132.74 26.1121 1138.29 32.4315 Q1143.84 38.7509 1143.84 49.9314 Q1143.84 61.0714 1138.29 67.4314 Q1132.74 73.7508 1123.02 73.7508 Q1113.25 73.7508 1107.7 67.4314 Q1102.2 61.0714 1102.2 49.9314 Q1102.2 38.7509 1107.7 32.4315 Q1113.25 26.1121 1123.02 26.1121 Z\" fill=\"#000000\" fill-rule=\"evenodd\" fill-opacity=\"1\" /><path clip-path=\"url(#clip390)\" d=\"M1155.42 54.671 L1155.42 27.2059 L1162.88 27.2059 L1162.88 54.3874 Q1162.88 60.8284 1165.39 64.0691 Q1167.9 67.2693 1172.92 67.2693 Q1178.96 67.2693 1182.44 63.421 Q1185.97 59.5726 1185.97 52.9291 L1185.97 27.2059 L1193.42 27.2059 L1193.42 72.576 L1185.97 72.576 L1185.97 65.6084 Q1183.25 69.7404 1179.65 71.7658 Q1176.08 73.7508 1171.34 73.7508 Q1163.53 73.7508 1159.48 68.8897 Q1155.42 64.0286 1155.42 54.671 M1174.18 26.1121 L1174.18 26.1121 Z\" fill=\"#000000\" fill-rule=\"evenodd\" fill-opacity=\"1\" /><path clip-path=\"url(#clip390)\" d=\"M1246.49 45.1919 L1246.49 72.576 L1239.03 72.576 L1239.03 45.4349 Q1239.03 38.994 1236.52 35.7938 Q1234.01 32.5936 1228.99 32.5936 Q1222.95 32.5936 1219.47 36.4419 Q1215.99 40.2903 1215.99 46.9338 L1215.99 72.576 L1208.49 72.576 L1208.49 27.2059 L1215.99 27.2059 L1215.99 34.2544 Q1218.66 30.163 1222.26 28.1376 Q1225.91 26.1121 1230.65 26.1121 Q1238.47 26.1121 1242.48 30.9732 Q1246.49 35.7938 1246.49 45.1919 Z\" fill=\"#000000\" fill-rule=\"evenodd\" fill-opacity=\"1\" /><path clip-path=\"url(#clip390)\" d=\"M1291.21 34.0924 L1291.21 9.54393 L1298.66 9.54393 L1298.66 72.576 L1291.21 72.576 L1291.21 65.7705 Q1288.86 69.8214 1285.26 71.8063 Q1281.69 73.7508 1276.67 73.7508 Q1268.44 73.7508 1263.26 67.1883 Q1258.11 60.6258 1258.11 49.9314 Q1258.11 39.2371 1263.26 32.6746 Q1268.44 26.1121 1276.67 26.1121 Q1281.69 26.1121 1285.26 28.0971 Q1288.86 30.0415 1291.21 34.0924 M1265.81 49.9314 Q1265.81 58.1548 1269.17 62.8538 Q1272.58 67.5124 1278.49 67.5124 Q1284.4 67.5124 1287.81 62.8538 Q1291.21 58.1548 1291.21 49.9314 Q1291.21 41.7081 1287.81 37.0496 Q1284.4 32.3505 1278.49 32.3505 Q1272.58 32.3505 1269.17 37.0496 Q1265.81 41.7081 1265.81 49.9314 Z\" fill=\"#000000\" fill-rule=\"evenodd\" fill-opacity=\"1\" /><path clip-path=\"url(#clip390)\" d=\"M1334.64 49.7694 Q1325.6 49.7694 1322.12 51.8354 Q1318.64 53.9013 1318.64 58.8839 Q1318.64 62.8538 1321.23 65.2034 Q1323.86 67.5124 1328.36 67.5124 Q1334.56 67.5124 1338.28 63.1374 Q1342.05 58.7219 1342.05 51.4303 L1342.05 49.7694 L1334.64 49.7694 M1349.5 46.6907 L1349.5 72.576 L1342.05 72.576 L1342.05 65.6895 Q1339.5 69.8214 1335.69 71.8063 Q1331.88 73.7508 1326.37 73.7508 Q1319.4 73.7508 1315.27 69.8619 Q1311.18 65.9325 1311.18 59.3701 Q1311.18 51.7138 1316.29 47.825 Q1321.43 43.9361 1331.6 43.9361 L1342.05 43.9361 L1342.05 43.2069 Q1342.05 38.0623 1338.65 35.2672 Q1335.28 32.4315 1329.17 32.4315 Q1325.28 32.4315 1321.59 33.3632 Q1317.91 34.295 1314.5 36.1584 L1314.5 29.2718 Q1318.59 27.692 1322.44 26.9223 Q1326.29 26.1121 1329.94 26.1121 Q1339.78 26.1121 1344.64 31.2163 Q1349.5 36.3204 1349.5 46.6907 Z\" fill=\"#000000\" fill-rule=\"evenodd\" fill-opacity=\"1\" /><path clip-path=\"url(#clip390)\" d=\"M1391.15 34.1734 Q1389.89 33.4443 1388.39 33.1202 Q1386.93 32.7556 1385.15 32.7556 Q1378.83 32.7556 1375.43 36.8875 Q1372.07 40.9789 1372.07 48.6757 L1372.07 72.576 L1364.57 72.576 L1364.57 27.2059 L1372.07 27.2059 L1372.07 34.2544 Q1374.42 30.1225 1378.18 28.1376 Q1381.95 26.1121 1387.34 26.1121 Q1388.11 26.1121 1389.04 26.2337 Q1389.97 26.3147 1391.11 26.5172 L1391.15 34.1734 Z\" fill=\"#000000\" fill-rule=\"evenodd\" fill-opacity=\"1\" /><path clip-path=\"url(#clip390)\" d=\"M1417.84 76.7889 Q1414.68 84.8907 1411.68 87.3618 Q1408.69 89.8329 1403.66 89.8329 L1397.71 89.8329 L1397.71 83.5945 L1402.08 83.5945 Q1405.16 83.5945 1406.86 82.1361 Q1408.57 80.6778 1410.63 75.2496 L1411.97 71.8468 L1393.62 27.2059 L1401.52 27.2059 L1415.69 62.6918 L1429.87 27.2059 L1437.77 27.2059 L1417.84 76.7889 Z\" fill=\"#000000\" fill-rule=\"evenodd\" fill-opacity=\"1\" /><path clip-path=\"url(#clip390)\" d=\"M1447.37 9.54393 L1464.55 9.54393 L1464.55 15.3367 L1454.83 15.3367 L1454.83 77.7206 L1464.55 77.7206 L1464.55 83.5134 L1447.37 83.5134 L1447.37 9.54393 Z\" fill=\"#000000\" fill-rule=\"evenodd\" fill-opacity=\"1\" /><path clip-path=\"url(#clip390)\" d=\"M1497.85 9.54393 L1497.85 83.5134 L1480.67 83.5134 L1480.67 77.7206 L1490.35 77.7206 L1490.35 15.3367 L1480.67 15.3367 L1480.67 9.54393 L1497.85 9.54393 Z\" fill=\"#000000\" fill-rule=\"evenodd\" fill-opacity=\"1\" /><polyline clip-path=\"url(#clip392)\" style=\"stroke:#009af9; stroke-linecap:butt; stroke-linejoin:round; stroke-width:4; stroke-opacity:1; fill:none\" stroke-dasharray=\"16, 10\" points=\"\n  255.035,1151.86 257.073,1151.79 259.112,1151.73 261.151,1151.66 263.189,1151.59 265.228,1151.52 267.267,1151.45 269.305,1151.38 271.344,1151.32 273.383,1151.25 \n  275.421,1151.18 277.46,1151.11 279.499,1151.04 281.537,1150.96 283.576,1150.89 285.615,1150.82 287.653,1150.75 289.692,1150.68 291.731,1150.61 293.769,1150.53 \n  295.808,1150.46 297.847,1150.39 299.885,1150.31 301.924,1150.24 303.963,1150.17 306.001,1150.09 308.04,1150.02 310.079,1149.94 312.117,1149.87 314.156,1149.79 \n  316.195,1149.72 318.233,1149.64 320.272,1149.56 322.31,1149.49 324.349,1149.41 326.388,1149.33 328.426,1149.25 330.465,1149.18 332.504,1149.1 334.542,1149.02 \n  336.581,1148.94 338.62,1148.86 340.658,1148.78 342.697,1148.7 344.736,1148.62 346.774,1148.54 348.813,1148.46 350.852,1148.38 352.89,1148.29 354.929,1148.21 \n  356.968,1148.13 359.006,1148.05 361.045,1147.96 363.084,1147.88 365.122,1147.79 367.161,1147.71 369.2,1147.63 371.238,1147.54 373.277,1147.45 375.316,1147.37 \n  377.354,1147.28 379.393,1147.2 381.432,1147.11 383.47,1147.02 385.509,1146.93 387.548,1146.84 389.586,1146.75 391.625,1146.67 393.664,1146.58 395.702,1146.49 \n  397.741,1146.4 399.78,1146.3 401.818,1146.21 403.857,1146.12 405.896,1146.03 407.934,1145.94 409.973,1145.84 412.012,1145.75 414.05,1145.66 416.089,1145.56 \n  418.128,1145.47 420.166,1145.37 422.205,1145.28 424.244,1145.18 426.282,1145.08 428.321,1144.99 430.36,1144.89 432.398,1144.79 434.437,1144.69 436.476,1144.59 \n  438.514,1144.5 440.553,1144.4 442.592,1144.3 444.63,1144.19 446.669,1144.09 448.707,1143.99 450.746,1143.89 452.785,1143.79 454.823,1143.68 456.862,1143.58 \n  458.901,1143.47 460.939,1143.37 462.978,1143.26 465.017,1143.16 467.055,1143.05 469.094,1142.95 471.133,1142.84 473.171,1142.73 475.21,1142.62 477.249,1142.51 \n  479.287,1142.4 481.326,1142.29 483.365,1142.18 485.403,1142.07 487.442,1141.96 489.481,1141.85 491.519,1141.73 493.558,1141.62 495.597,1141.51 497.635,1141.39 \n  499.674,1141.27 501.713,1141.16 503.751,1141.04 505.79,1140.93 507.829,1140.81 509.867,1140.69 511.906,1140.57 513.945,1140.45 515.983,1140.33 518.022,1140.21 \n  520.061,1140.09 522.099,1139.96 524.138,1139.84 526.177,1139.72 528.215,1139.59 530.254,1139.47 532.293,1139.34 534.331,1139.22 536.37,1139.09 538.409,1138.96 \n  540.447,1138.83 542.486,1138.71 544.525,1138.58 546.563,1138.45 548.602,1138.31 550.641,1138.18 552.679,1138.05 554.718,1137.92 556.757,1137.78 558.795,1137.65 \n  560.834,1137.51 562.873,1137.38 564.911,1137.24 566.95,1137.1 568.989,1136.96 571.027,1136.82 573.066,1136.68 575.104,1136.54 577.143,1136.4 579.182,1136.26 \n  581.22,1136.11 583.259,1135.97 585.298,1135.82 587.336,1135.68 589.375,1135.53 591.414,1135.38 593.452,1135.23 595.491,1135.08 597.53,1134.93 599.568,1134.78 \n  601.607,1134.63 603.646,1134.48 605.684,1134.32 607.723,1134.17 609.762,1134.01 611.8,1133.86 613.839,1133.7 615.878,1133.54 617.916,1133.38 619.955,1133.22 \n  621.994,1133.06 624.032,1132.9 626.071,1132.73 628.11,1132.57 630.148,1132.4 632.187,1132.23 634.226,1132.07 636.264,1131.9 638.303,1131.73 640.342,1131.56 \n  642.38,1131.39 644.419,1131.21 646.458,1131.04 648.496,1130.86 650.535,1130.69 652.574,1130.51 654.612,1130.33 656.651,1130.15 658.69,1129.97 660.728,1129.79 \n  662.767,1129.61 664.806,1129.42 666.844,1129.24 668.883,1129.05 670.922,1128.86 672.96,1128.67 674.999,1128.48 677.038,1128.29 679.076,1128.1 681.115,1127.9 \n  683.154,1127.71 685.192,1127.51 687.231,1127.31 689.27,1127.11 691.308,1126.91 693.347,1126.71 695.385,1126.5 697.424,1126.3 699.463,1126.09 701.501,1125.88 \n  703.54,1125.67 705.579,1125.46 707.617,1125.25 709.656,1125.04 711.695,1124.82 713.733,1124.6 715.772,1124.38 717.811,1124.16 719.849,1123.94 721.888,1123.72 \n  723.927,1123.49 725.965,1123.27 728.004,1123.04 730.043,1122.81 732.081,1122.58 734.12,1122.35 736.159,1122.11 738.197,1121.87 740.236,1121.64 742.275,1121.4 \n  744.313,1121.15 746.352,1120.91 748.391,1120.67 750.429,1120.42 752.468,1120.17 754.507,1119.92 756.545,1119.67 758.584,1119.41 760.623,1119.15 762.661,1118.89 \n  764.7,1118.63 766.739,1118.37 768.777,1118.11 770.816,1117.84 772.855,1117.57 774.893,1117.3 776.932,1117.03 778.971,1116.75 781.009,1116.47 783.048,1116.19 \n  785.087,1115.91 787.125,1115.63 789.164,1115.34 791.203,1115.05 793.241,1114.76 795.28,1114.47 797.319,1114.17 799.357,1113.87 801.396,1113.57 803.435,1113.27 \n  805.473,1112.96 807.512,1112.65 809.551,1112.34 811.589,1112.03 813.628,1111.71 815.667,1111.39 817.705,1111.07 819.744,1110.75 821.782,1110.42 823.821,1110.09 \n  825.86,1109.76 827.898,1109.42 829.937,1109.08 831.976,1108.74 834.014,1108.39 836.053,1108.05 838.092,1107.69 840.13,1107.34 842.169,1106.98 844.208,1106.62 \n  846.246,1106.26 848.285,1105.89 850.324,1105.52 852.362,1105.15 854.401,1104.77 856.44,1104.39 858.478,1104.01 860.517,1103.62 862.556,1103.23 864.594,1102.83 \n  866.633,1102.43 868.672,1102.03 870.71,1101.62 872.749,1101.21 874.788,1100.8 876.826,1100.38 878.865,1099.96 880.904,1099.53 882.942,1099.1 884.981,1098.67 \n  887.02,1098.23 889.058,1097.78 891.097,1097.33 893.136,1096.88 895.174,1096.43 897.213,1095.96 899.252,1095.5 901.29,1095.03 903.329,1094.55 905.368,1094.07 \n  907.406,1093.58 909.445,1093.09 911.484,1092.6 913.522,1092.1 915.561,1091.59 917.6,1091.08 919.638,1090.56 921.677,1090.04 923.716,1089.51 925.754,1088.98 \n  927.793,1088.44 929.832,1087.89 931.87,1087.34 933.909,1086.78 935.948,1086.22 937.986,1085.65 940.025,1085.07 942.064,1084.49 944.102,1083.9 946.141,1083.3 \n  948.179,1082.7 950.218,1082.09 952.257,1081.47 954.295,1080.84 956.334,1080.21 958.373,1079.57 960.411,1078.93 962.45,1078.27 964.489,1077.61 966.527,1076.94 \n  968.566,1076.26 970.605,1075.58 972.643,1074.88 974.682,1074.18 976.721,1073.47 978.759,1072.74 980.798,1072.02 982.837,1071.28 984.875,1070.53 986.914,1069.77 \n  988.953,1069 990.991,1068.23 993.03,1067.44 995.069,1066.64 997.107,1065.84 999.146,1065.02 1001.18,1064.19 1003.22,1063.35 1005.26,1062.5 1007.3,1061.64 \n  1009.34,1060.76 1011.38,1059.88 1013.42,1058.98 1015.46,1058.07 1017.49,1057.14 1019.53,1056.21 1021.57,1055.26 1023.61,1054.3 1025.65,1053.32 1027.69,1052.33 \n  1029.73,1051.33 1031.76,1050.31 1033.8,1049.28 1035.84,1048.23 1037.88,1047.17 1039.92,1046.09 1041.96,1045 1044,1043.89 1046.04,1042.76 1048.07,1041.62 \n  1050.11,1040.46 1052.15,1039.28 1054.19,1038.08 1056.23,1036.86 1058.27,1035.63 1060.31,1034.38 1062.34,1033.1 1064.38,1031.81 1066.42,1030.49 1068.46,1029.16 \n  1070.5,1027.8 1072.54,1026.42 1074.58,1025.02 1076.62,1023.6 1078.65,1022.15 1080.69,1020.68 1082.73,1019.18 1084.77,1017.66 1086.81,1016.12 1088.85,1014.54 \n  1090.89,1012.94 1092.92,1011.32 1094.96,1009.66 1097,1007.98 1099.04,1006.26 1101.08,1004.52 1103.12,1002.74 1105.16,1000.94 1107.2,999.1 1109.23,997.228 \n  1111.27,995.322 1113.31,993.382 1115.35,991.406 1117.39,989.394 1119.43,987.345 1121.47,985.257 1123.5,983.131 1125.54,980.964 1127.58,978.757 1129.62,976.507 \n  1131.66,974.215 1133.7,971.879 1135.74,969.498 1137.77,967.071 1139.81,964.597 1141.85,962.075 1143.89,959.503 1145.93,956.88 1147.97,954.206 1150.01,951.48 \n  1152.05,948.698 1154.08,945.862 1156.12,942.969 1158.16,940.018 1160.2,937.008 1162.24,933.937 1164.28,930.804 1166.32,927.609 1168.35,924.348 1170.39,921.022 \n  1172.43,917.628 1174.47,914.166 1176.51,910.634 1178.55,907.031 1180.59,903.355 1182.63,899.605 1184.66,895.779 1186.7,891.877 1188.74,887.897 1190.78,883.838 \n  1192.82,879.699 1194.86,875.478 1196.9,871.175 1198.93,866.788 1200.97,862.317 1203.01,857.761 1205.05,853.118 1207.09,848.388 1209.13,843.572 1211.17,838.667 \n  1213.21,833.674 1215.24,828.593 1217.28,823.424 1219.32,818.167 1221.36,812.821 1223.4,807.388 1225.44,801.869 1227.48,796.264 1229.51,790.574 1231.55,784.801 \n  1233.59,778.946 1235.63,773.011 1237.67,766.998 1239.71,760.91 1241.75,754.749 1243.79,748.517 1245.82,742.218 1247.86,735.856 1249.9,729.433 1251.94,722.954 \n  1253.98,716.422 1256.02,709.842 1258.06,703.218 1260.09,696.556 1262.13,689.859 1264.17,683.133 1266.21,676.383 1268.25,669.614 1270.29,662.831 1272.33,656.04 \n  1274.37,649.247 1276.4,642.456 1278.44,635.674 1280.48,628.905 1282.52,622.155 1284.56,615.428 1286.6,608.732 1288.64,602.069 1290.67,595.445 1292.71,588.866 \n  1294.75,582.334 1296.79,575.855 1298.83,569.432 1300.87,563.069 1302.91,556.77 1304.95,550.539 1306.98,544.378 1309.02,538.289 1311.06,532.276 1313.1,526.342 \n  1315.14,520.487 1317.18,514.714 1319.22,509.024 1321.25,503.418 1323.29,497.899 1325.33,492.466 1327.37,487.121 1329.41,481.863 1331.45,476.694 1333.49,471.613 \n  1335.53,466.62 1337.56,461.716 1339.6,456.899 1341.64,452.17 1343.68,447.527 1345.72,442.97 1347.76,438.499 1349.8,434.112 1351.83,429.809 1353.87,425.588 \n  1355.91,421.449 1357.95,417.39 1359.99,413.41 1362.03,409.508 1364.07,405.683 1366.11,401.933 1368.14,398.257 1370.18,394.653 1372.22,391.121 1374.26,387.659 \n  1376.3,384.265 1378.34,380.939 1380.38,377.679 1382.41,374.483 1384.45,371.35 1386.49,368.28 1388.53,365.27 1390.57,362.319 1392.61,359.425 1394.65,356.589 \n  1396.68,353.808 1398.72,351.081 1400.76,348.407 1402.8,345.785 1404.84,343.213 1406.88,340.691 1408.92,338.216 1410.96,335.789 1412.99,333.408 1415.03,331.072 \n  1417.07,328.78 1419.11,326.531 1421.15,324.323 1423.19,322.157 1425.23,320.03 1427.26,317.943 1429.3,315.893 1431.34,313.881 1433.38,311.905 1435.42,309.965 \n  1437.46,308.06 1439.5,306.188 1441.54,304.349 1443.57,302.543 1445.61,300.768 1447.65,299.024 1449.69,297.31 1451.73,295.626 1453.77,293.971 1455.81,292.343 \n  1457.84,290.744 1459.88,289.171 1461.92,287.624 1463.96,286.103 1466,284.607 1468.04,283.135 1470.08,281.688 1472.12,280.264 1474.15,278.863 1476.19,277.485 \n  1478.23,276.128 1480.27,274.793 1482.31,273.479 1484.35,272.185 1486.39,270.912 1488.42,269.658 1490.46,268.424 1492.5,267.208 1494.54,266.011 1496.58,264.832 \n  1498.62,263.67 1500.66,262.526 1502.7,261.399 1504.73,260.289 1506.77,259.195 1508.81,258.116 1510.85,257.054 1512.89,256.006 1514.93,254.974 1516.97,253.956 \n  1519,252.953 1521.04,251.964 1523.08,250.988 1525.12,250.027 1527.16,249.078 1529.2,248.143 1531.24,247.22 1533.28,246.31 1535.31,245.412 1537.35,244.526 \n  1539.39,243.652 1541.43,242.79 1543.47,241.939 1545.51,241.099 1547.55,240.27 1549.58,239.452 1551.62,238.645 1553.66,237.848 1555.7,237.061 1557.74,236.284 \n  1559.78,235.517 1561.82,234.759 1563.86,234.011 1565.89,233.272 1567.93,232.543 1569.97,231.822 1572.01,231.11 1574.05,230.407 1576.09,229.712 1578.13,229.026 \n  1580.16,228.348 1582.2,227.677 1584.24,227.015 1586.28,226.361 1588.32,225.714 1590.36,225.075 1592.4,224.443 1594.44,223.819 1596.47,223.202 1598.51,222.591 \n  1600.55,221.988 1602.59,221.392 1604.63,220.802 1606.67,220.219 1608.71,219.642 1610.74,219.071 1612.78,218.507 1614.82,217.95 1616.86,217.398 1618.9,216.852 \n  1620.94,216.312 1622.98,215.778 1625.02,215.25 1627.05,214.727 1629.09,214.21 1631.13,213.698 1633.17,213.191 1635.21,212.69 1637.25,212.194 1639.29,211.703 \n  1641.32,211.218 1643.36,210.737 1645.4,210.261 1647.44,209.79 1649.48,209.324 1651.52,208.862 1653.56,208.405 1655.59,207.953 1657.63,207.505 1659.67,207.061 \n  1661.71,206.622 1663.75,206.187 1665.79,205.756 1667.83,205.33 1669.87,204.908 1671.9,204.489 1673.94,204.075 1675.98,203.665 1678.02,203.258 1680.06,202.855 \n  1682.1,202.457 1684.14,202.061 1686.17,201.67 1688.21,201.282 1690.25,200.898 1692.29,200.517 1694.33,200.14 1696.37,199.766 1698.41,199.396 1700.45,199.028 \n  1702.48,198.665 1704.52,198.304 1706.56,197.947 1708.6,197.593 1710.64,197.242 1712.68,196.894 1714.72,196.549 1716.75,196.207 1718.79,195.868 1720.83,195.532 \n  1722.87,195.199 1724.91,194.869 1726.95,194.542 1728.99,194.217 1731.03,193.895 1733.06,193.576 1735.1,193.26 1737.14,192.946 1739.18,192.635 1741.22,192.326 \n  1743.26,192.02 1745.3,191.717 1747.33,191.416 1749.37,191.117 1751.41,190.821 1753.45,190.528 1755.49,190.236 1757.53,189.947 1759.57,189.661 1761.61,189.377 \n  1763.64,189.094 1765.68,188.815 1767.72,188.537 1769.76,188.262 1771.8,187.988 1773.84,187.717 1775.88,187.448 1777.91,187.181 1779.95,186.916 1781.99,186.654 \n  1784.03,186.393 1786.07,186.134 1788.11,185.877 1790.15,185.622 1792.19,185.369 1794.22,185.118 1796.26,184.869 1798.3,184.622 1800.34,184.376 1802.38,184.133 \n  1804.42,183.891 1806.46,183.651 1808.49,183.413 1810.53,183.176 1812.57,182.941 1814.61,182.708 1816.65,182.477 1818.69,182.247 1820.73,182.019 1822.77,181.793 \n  1824.8,181.568 1826.84,181.345 1828.88,181.123 1830.92,180.903 1832.96,180.684 1835,180.467 1837.04,180.252 1839.07,180.038 1841.11,179.826 1843.15,179.615 \n  1845.19,179.405 1847.23,179.197 1849.27,178.99 1851.31,178.785 1853.35,178.581 1855.38,178.379 1857.42,178.178 1859.46,177.978 1861.5,177.78 1863.54,177.582 \n  1865.58,177.387 1867.62,177.192 1869.65,176.999 1871.69,176.807 1873.73,176.617 1875.77,176.427 1877.81,176.239 1879.85,176.052 1881.89,175.867 1883.92,175.682 \n  1885.96,175.499 1888,175.317 1890.04,175.136 1892.08,174.956 1894.12,174.778 1896.16,174.6 1898.2,174.424 1900.23,174.249 1902.27,174.075 1904.31,173.902 \n  1906.35,173.73 1908.39,173.559 1910.43,173.389 1912.47,173.22 1914.5,173.053 1916.54,172.886 1918.58,172.72 1920.62,172.556 1922.66,172.392 1924.7,172.23 \n  1926.74,172.068 1928.78,171.907 1930.81,171.748 1932.85,171.589 1934.89,171.431 1936.93,171.275 1938.97,171.119 1941.01,170.964 1943.05,170.81 1945.08,170.657 \n  1947.12,170.505 1949.16,170.353 1951.2,170.203 1953.24,170.054 1955.28,169.905 1957.32,169.757 1959.36,169.61 1961.39,169.464 1963.43,169.319 1965.47,169.175 \n  1967.51,169.031 1969.55,168.888 1971.59,168.747 1973.63,168.605 1975.66,168.465 1977.7,168.326 1979.74,168.187 1981.78,168.049 1983.82,167.912 1985.86,167.776 \n  1987.9,167.64 1989.94,167.505 1991.97,167.371 1994.01,167.238 1996.05,167.105 1998.09,166.973 2000.13,166.842 2002.17,166.712 2004.21,166.582 2006.24,166.453 \n  2008.28,166.324 2010.32,166.197 2012.36,166.07 2014.4,165.944 2016.44,165.818 2018.48,165.693 2020.52,165.569 2022.55,165.445 2024.59,165.323 2026.63,165.2 \n  2028.67,165.079 2030.71,164.958 2032.75,164.837 2034.79,164.718 2036.82,164.599 2038.86,164.48 2040.9,164.362 2042.94,164.245 2044.98,164.129 2047.02,164.013 \n  2049.06,163.897 2051.1,163.782 2053.13,163.668 2055.17,163.555 2057.21,163.442 2059.25,163.329 2061.29,163.217 2063.33,163.106 2065.37,162.995 2067.4,162.885 \n  2069.44,162.775 2071.48,162.666 2073.52,162.558 2075.56,162.45 2077.6,162.342 2079.64,162.235 2081.68,162.129 2083.71,162.023 2085.75,161.918 2087.79,161.813 \n  2089.83,161.709 2091.87,161.605 2093.91,161.501 2095.95,161.399 2097.98,161.296 2100.02,161.195 2102.06,161.093 2104.1,160.992 2106.14,160.892 2108.18,160.792 \n  2110.22,160.693 2112.26,160.594 2114.29,160.496 2116.33,160.398 2118.37,160.3 2120.41,160.203 2122.45,160.107 2124.49,160.011 2126.53,159.915 2128.56,159.82 \n  2130.6,159.725 2132.64,159.631 2134.68,159.537 2136.72,159.443 2138.76,159.35 2140.8,159.258 2142.83,159.166 2144.87,159.074 2146.91,158.983 2148.95,158.892 \n  2150.99,158.801 2153.03,158.711 2155.07,158.622 2157.11,158.532 2159.14,158.444 2161.18,158.355 2163.22,158.267 2165.26,158.18 2167.3,158.092 2169.34,158.006 \n  2171.38,157.919 2173.41,157.833 2175.45,157.747 2177.49,157.662 2179.53,157.577 2181.57,157.493 2183.61,157.409 2185.65,157.325 2187.69,157.241 2189.72,157.158 \n  2191.76,157.076 2193.8,156.993 2195.84,156.911 2197.88,156.83 2199.92,156.748 2201.96,156.668 2203.99,156.587 2206.03,156.507 2208.07,156.427 2210.11,156.347 \n  2212.15,156.268 2214.19,156.189 2216.23,156.111 2218.27,156.033 2220.3,155.955 2222.34,155.877 2224.38,155.8 2226.42,155.723 2228.46,155.647 2230.5,155.571 \n  2232.54,155.495 2234.57,155.419 2236.61,155.344 2238.65,155.269 2240.69,155.194 2242.73,155.12 2244.77,155.046 2246.81,154.973 2248.85,154.899 2250.88,154.826 \n  2252.92,154.753 2254.96,154.681 2257,154.609 2259.04,154.537 2261.08,154.465 2263.12,154.394 2265.15,154.323 2267.19,154.252 2269.23,154.182 2271.27,154.111 \n  2273.31,154.042 2275.35,153.972 2277.39,153.903 2279.43,153.834 2281.46,153.765 2283.5,153.696 2285.54,153.628 2287.58,153.56 2289.62,153.493 2291.66,153.425 \n  \n  \"/>\n<circle clip-path=\"url(#clip392)\" cx=\"255.035\" cy=\"1151.86\" r=\"14.4\" fill=\"#e26f46\" fill-rule=\"evenodd\" fill-opacity=\"1\" stroke=\"#000000\" stroke-opacity=\"1\" stroke-width=\"3.2\"/>\n<circle clip-path=\"url(#clip392)\" cx=\"336.5\" cy=\"1148.94\" r=\"14.4\" fill=\"#e26f46\" fill-rule=\"evenodd\" fill-opacity=\"1\" stroke=\"#000000\" stroke-opacity=\"1\" stroke-width=\"3.2\"/>\n<circle clip-path=\"url(#clip392)\" cx=\"417.964\" cy=\"1145.48\" r=\"14.4\" fill=\"#e26f46\" fill-rule=\"evenodd\" fill-opacity=\"1\" stroke=\"#000000\" stroke-opacity=\"1\" stroke-width=\"3.2\"/>\n<circle clip-path=\"url(#clip392)\" cx=\"499.429\" cy=\"1141.29\" r=\"14.4\" fill=\"#e26f46\" fill-rule=\"evenodd\" fill-opacity=\"1\" stroke=\"#000000\" stroke-opacity=\"1\" stroke-width=\"3.2\"/>\n<circle clip-path=\"url(#clip392)\" cx=\"580.894\" cy=\"1136.14\" r=\"14.4\" fill=\"#e26f46\" fill-rule=\"evenodd\" fill-opacity=\"1\" stroke=\"#000000\" stroke-opacity=\"1\" stroke-width=\"3.2\"/>\n<circle clip-path=\"url(#clip392)\" cx=\"662.359\" cy=\"1129.64\" r=\"14.4\" fill=\"#e26f46\" fill-rule=\"evenodd\" fill-opacity=\"1\" stroke=\"#000000\" stroke-opacity=\"1\" stroke-width=\"3.2\"/>\n<circle clip-path=\"url(#clip392)\" cx=\"743.824\" cy=\"1121.21\" r=\"14.4\" fill=\"#e26f46\" fill-rule=\"evenodd\" fill-opacity=\"1\" stroke=\"#000000\" stroke-opacity=\"1\" stroke-width=\"3.2\"/>\n<circle clip-path=\"url(#clip392)\" cx=\"825.289\" cy=\"1109.85\" r=\"14.4\" fill=\"#e26f46\" fill-rule=\"evenodd\" fill-opacity=\"1\" stroke=\"#000000\" stroke-opacity=\"1\" stroke-width=\"3.2\"/>\n<circle clip-path=\"url(#clip392)\" cx=\"906.754\" cy=\"1093.74\" r=\"14.4\" fill=\"#e26f46\" fill-rule=\"evenodd\" fill-opacity=\"1\" stroke=\"#000000\" stroke-opacity=\"1\" stroke-width=\"3.2\"/>\n<circle clip-path=\"url(#clip392)\" cx=\"988.219\" cy=\"1069.28\" r=\"14.4\" fill=\"#e26f46\" fill-rule=\"evenodd\" fill-opacity=\"1\" stroke=\"#000000\" stroke-opacity=\"1\" stroke-width=\"3.2\"/>\n<circle clip-path=\"url(#clip392)\" cx=\"1069.68\" cy=\"1028.35\" r=\"14.4\" fill=\"#e26f46\" fill-rule=\"evenodd\" fill-opacity=\"1\" stroke=\"#000000\" stroke-opacity=\"1\" stroke-width=\"3.2\"/>\n<circle clip-path=\"url(#clip392)\" cx=\"1151.15\" cy=\"949.929\" r=\"14.4\" fill=\"#e26f46\" fill-rule=\"evenodd\" fill-opacity=\"1\" stroke=\"#000000\" stroke-opacity=\"1\" stroke-width=\"3.2\"/>\n<circle clip-path=\"url(#clip392)\" cx=\"1232.61\" cy=\"781.766\" r=\"14.4\" fill=\"#e26f46\" fill-rule=\"evenodd\" fill-opacity=\"1\" stroke=\"#000000\" stroke-opacity=\"1\" stroke-width=\"3.2\"/>\n<circle clip-path=\"url(#clip392)\" cx=\"1314.08\" cy=\"523.521\" r=\"14.4\" fill=\"#e26f46\" fill-rule=\"evenodd\" fill-opacity=\"1\" stroke=\"#000000\" stroke-opacity=\"1\" stroke-width=\"3.2\"/>\n<circle clip-path=\"url(#clip392)\" cx=\"1395.54\" cy=\"355.359\" r=\"14.4\" fill=\"#e26f46\" fill-rule=\"evenodd\" fill-opacity=\"1\" stroke=\"#000000\" stroke-opacity=\"1\" stroke-width=\"3.2\"/>\n<circle clip-path=\"url(#clip392)\" cx=\"1477.01\" cy=\"276.939\" r=\"14.4\" fill=\"#e26f46\" fill-rule=\"evenodd\" fill-opacity=\"1\" stroke=\"#000000\" stroke-opacity=\"1\" stroke-width=\"3.2\"/>\n<circle clip-path=\"url(#clip392)\" cx=\"1558.47\" cy=\"236.006\" r=\"14.4\" fill=\"#e26f46\" fill-rule=\"evenodd\" fill-opacity=\"1\" stroke=\"#000000\" stroke-opacity=\"1\" stroke-width=\"3.2\"/>\n<circle clip-path=\"url(#clip392)\" cx=\"1639.94\" cy=\"211.547\" r=\"14.4\" fill=\"#e26f46\" fill-rule=\"evenodd\" fill-opacity=\"1\" stroke=\"#000000\" stroke-opacity=\"1\" stroke-width=\"3.2\"/>\n<circle clip-path=\"url(#clip392)\" cx=\"1721.4\" cy=\"195.439\" r=\"14.4\" fill=\"#e26f46\" fill-rule=\"evenodd\" fill-opacity=\"1\" stroke=\"#000000\" stroke-opacity=\"1\" stroke-width=\"3.2\"/>\n<circle clip-path=\"url(#clip392)\" cx=\"1802.87\" cy=\"184.075\" r=\"14.4\" fill=\"#e26f46\" fill-rule=\"evenodd\" fill-opacity=\"1\" stroke=\"#000000\" stroke-opacity=\"1\" stroke-width=\"3.2\"/>\n<circle clip-path=\"url(#clip392)\" cx=\"1884.33\" cy=\"175.645\" r=\"14.4\" fill=\"#e26f46\" fill-rule=\"evenodd\" fill-opacity=\"1\" stroke=\"#000000\" stroke-opacity=\"1\" stroke-width=\"3.2\"/>\n<circle clip-path=\"url(#clip392)\" cx=\"1965.8\" cy=\"169.152\" r=\"14.4\" fill=\"#e26f46\" fill-rule=\"evenodd\" fill-opacity=\"1\" stroke=\"#000000\" stroke-opacity=\"1\" stroke-width=\"3.2\"/>\n<circle clip-path=\"url(#clip392)\" cx=\"2047.26\" cy=\"163.999\" r=\"14.4\" fill=\"#e26f46\" fill-rule=\"evenodd\" fill-opacity=\"1\" stroke=\"#000000\" stroke-opacity=\"1\" stroke-width=\"3.2\"/>\n<circle clip-path=\"url(#clip392)\" cx=\"2128.73\" cy=\"159.812\" r=\"14.4\" fill=\"#e26f46\" fill-rule=\"evenodd\" fill-opacity=\"1\" stroke=\"#000000\" stroke-opacity=\"1\" stroke-width=\"3.2\"/>\n<circle clip-path=\"url(#clip392)\" cx=\"2210.19\" cy=\"156.344\" r=\"14.4\" fill=\"#e26f46\" fill-rule=\"evenodd\" fill-opacity=\"1\" stroke=\"#000000\" stroke-opacity=\"1\" stroke-width=\"3.2\"/>\n<circle clip-path=\"url(#clip392)\" cx=\"2291.66\" cy=\"153.425\" r=\"14.4\" fill=\"#e26f46\" fill-rule=\"evenodd\" fill-opacity=\"1\" stroke=\"#000000\" stroke-opacity=\"1\" stroke-width=\"3.2\"/>\n<polyline clip-path=\"url(#clip392)\" style=\"stroke:#3da44d; stroke-linecap:butt; stroke-linejoin:round; stroke-width:4; stroke-opacity:1; fill:none\" points=\"\n  255.035,1151.86 257.073,1151.79 259.112,1151.72 261.151,1151.64 263.189,1151.57 265.228,1151.5 267.267,1151.42 269.305,1151.35 271.344,1151.28 273.383,1151.2 \n  275.421,1151.13 277.46,1151.06 279.499,1150.99 281.537,1150.91 283.576,1150.84 285.615,1150.77 287.653,1150.69 289.692,1150.62 291.731,1150.55 293.769,1150.47 \n  295.808,1150.4 297.847,1150.33 299.885,1150.26 301.924,1150.18 303.963,1150.11 306.001,1150.04 308.04,1149.96 310.079,1149.89 312.117,1149.82 314.156,1149.74 \n  316.195,1149.67 318.233,1149.6 320.272,1149.52 322.31,1149.45 324.349,1149.38 326.388,1149.31 328.426,1149.23 330.465,1149.16 332.504,1149.09 334.542,1149.01 \n  336.581,1148.94 338.62,1148.85 340.658,1148.77 342.697,1148.68 344.736,1148.59 346.774,1148.51 348.813,1148.42 350.852,1148.33 352.89,1148.25 354.929,1148.16 \n  356.968,1148.07 359.006,1147.99 361.045,1147.9 363.084,1147.81 365.122,1147.72 367.161,1147.64 369.2,1147.55 371.238,1147.46 373.277,1147.38 375.316,1147.29 \n  377.354,1147.2 379.393,1147.12 381.432,1147.03 383.47,1146.94 385.509,1146.86 387.548,1146.77 389.586,1146.68 391.625,1146.6 393.664,1146.51 395.702,1146.42 \n  397.741,1146.34 399.78,1146.25 401.818,1146.16 403.857,1146.08 405.896,1145.99 407.934,1145.9 409.973,1145.82 412.012,1145.73 414.05,1145.64 416.089,1145.56 \n  418.128,1145.47 420.166,1145.36 422.205,1145.26 424.244,1145.15 426.282,1145.05 428.321,1144.94 430.36,1144.84 432.398,1144.73 434.437,1144.63 436.476,1144.52 \n  438.514,1144.42 440.553,1144.31 442.592,1144.21 444.63,1144.1 446.669,1144 448.707,1143.9 450.746,1143.79 452.785,1143.69 454.823,1143.58 456.862,1143.48 \n  458.901,1143.37 460.939,1143.27 462.978,1143.16 465.017,1143.06 467.055,1142.95 469.094,1142.85 471.133,1142.74 473.171,1142.64 475.21,1142.53 477.249,1142.43 \n  479.287,1142.32 481.326,1142.22 483.365,1142.11 485.403,1142.01 487.442,1141.9 489.481,1141.8 491.519,1141.7 493.558,1141.59 495.597,1141.49 497.635,1141.38 \n  499.674,1141.27 501.713,1141.14 503.751,1141.02 505.79,1140.89 507.829,1140.76 509.867,1140.63 511.906,1140.5 513.945,1140.37 515.983,1140.24 518.022,1140.11 \n  520.061,1139.98 522.099,1139.85 524.138,1139.73 526.177,1139.6 528.215,1139.47 530.254,1139.34 532.293,1139.21 534.331,1139.08 536.37,1138.95 538.409,1138.82 \n  540.447,1138.69 542.486,1138.57 544.525,1138.44 546.563,1138.31 548.602,1138.18 550.641,1138.05 552.679,1137.92 554.718,1137.79 556.757,1137.66 558.795,1137.53 \n  560.834,1137.4 562.873,1137.28 564.911,1137.15 566.95,1137.02 568.989,1136.89 571.027,1136.76 573.066,1136.63 575.104,1136.5 577.143,1136.37 579.182,1136.24 \n  581.22,1136.11 583.259,1135.95 585.298,1135.78 587.336,1135.62 589.375,1135.46 591.414,1135.3 593.452,1135.13 595.491,1134.97 597.53,1134.81 599.568,1134.65 \n  601.607,1134.48 603.646,1134.32 605.684,1134.16 607.723,1134 609.762,1133.83 611.8,1133.67 613.839,1133.51 615.878,1133.35 617.916,1133.18 619.955,1133.02 \n  621.994,1132.86 624.032,1132.7 626.071,1132.53 628.11,1132.37 630.148,1132.21 632.187,1132.05 634.226,1131.88 636.264,1131.72 638.303,1131.56 640.342,1131.4 \n  642.38,1131.23 644.419,1131.07 646.458,1130.91 648.496,1130.75 650.535,1130.58 652.574,1130.42 654.612,1130.26 656.651,1130.1 658.69,1129.93 660.728,1129.77 \n  662.767,1129.6 664.806,1129.39 666.844,1129.18 668.883,1128.97 670.922,1128.76 672.96,1128.55 674.999,1128.33 677.038,1128.12 679.076,1127.91 681.115,1127.7 \n  683.154,1127.49 685.192,1127.28 687.231,1127.07 689.27,1126.86 691.308,1126.65 693.347,1126.44 695.385,1126.22 697.424,1126.01 699.463,1125.8 701.501,1125.59 \n  703.54,1125.38 705.579,1125.17 707.617,1124.96 709.656,1124.75 711.695,1124.54 713.733,1124.33 715.772,1124.12 717.811,1123.9 719.849,1123.69 721.888,1123.48 \n  723.927,1123.27 725.965,1123.06 728.004,1122.85 730.043,1122.64 732.081,1122.43 734.12,1122.22 736.159,1122.01 738.197,1121.79 740.236,1121.58 742.275,1121.37 \n  744.313,1121.14 746.352,1120.86 748.391,1120.58 750.429,1120.29 752.468,1120.01 754.507,1119.72 756.545,1119.44 758.584,1119.15 760.623,1118.87 762.661,1118.59 \n  764.7,1118.3 766.739,1118.02 768.777,1117.73 770.816,1117.45 772.855,1117.16 774.893,1116.88 776.932,1116.59 778.971,1116.31 781.009,1116.03 783.048,1115.74 \n  785.087,1115.46 787.125,1115.17 789.164,1114.89 791.203,1114.6 793.241,1114.32 795.28,1114.03 797.319,1113.75 799.357,1113.47 801.396,1113.18 803.435,1112.9 \n  805.473,1112.61 807.512,1112.33 809.551,1112.04 811.589,1111.76 813.628,1111.48 815.667,1111.19 817.705,1110.91 819.744,1110.62 821.782,1110.34 823.821,1110.05 \n  825.86,1109.74 827.898,1109.33 829.937,1108.93 831.976,1108.53 834.014,1108.12 836.053,1107.72 838.092,1107.32 840.13,1106.91 842.169,1106.51 844.208,1106.11 \n  846.246,1105.7 848.285,1105.3 850.324,1104.9 852.362,1104.5 854.401,1104.09 856.44,1103.69 858.478,1103.29 860.517,1102.88 862.556,1102.48 864.594,1102.08 \n  866.633,1101.67 868.672,1101.27 870.71,1100.87 872.749,1100.46 874.788,1100.06 876.826,1099.66 878.865,1099.25 880.904,1098.85 882.942,1098.45 884.981,1098.05 \n  887.02,1097.64 889.058,1097.24 891.097,1096.84 893.136,1096.43 895.174,1096.03 897.213,1095.63 899.252,1095.22 901.29,1094.82 903.329,1094.42 905.368,1094.01 \n  907.406,1093.54 909.445,1092.93 911.484,1092.32 913.522,1091.71 915.561,1091.1 917.6,1090.48 919.638,1089.87 921.677,1089.26 923.716,1088.65 925.754,1088.04 \n  927.793,1087.42 929.832,1086.81 931.87,1086.2 933.909,1085.59 935.948,1084.97 937.986,1084.36 940.025,1083.75 942.064,1083.14 944.102,1082.53 946.141,1081.91 \n  948.179,1081.3 950.218,1080.69 952.257,1080.08 954.295,1079.47 956.334,1078.85 958.373,1078.24 960.411,1077.63 962.45,1077.02 964.489,1076.41 966.527,1075.79 \n  968.566,1075.18 970.605,1074.57 972.643,1073.96 974.682,1073.35 976.721,1072.73 978.759,1072.12 980.798,1071.51 982.837,1070.9 984.875,1070.28 986.914,1069.67 \n  988.953,1068.91 990.991,1067.89 993.03,1066.86 995.069,1065.84 997.107,1064.81 999.146,1063.79 1001.18,1062.77 1003.22,1061.74 1005.26,1060.72 1007.3,1059.69 \n  1009.34,1058.67 1011.38,1057.64 1013.42,1056.62 1015.46,1055.6 1017.49,1054.57 1019.53,1053.55 1021.57,1052.52 1023.61,1051.5 1025.65,1050.47 1027.69,1049.45 \n  1029.73,1048.43 1031.76,1047.4 1033.8,1046.38 1035.84,1045.35 1037.88,1044.33 1039.92,1043.3 1041.96,1042.28 1044,1041.25 1046.04,1040.23 1048.07,1039.21 \n  1050.11,1038.18 1052.15,1037.16 1054.19,1036.13 1056.23,1035.11 1058.27,1034.08 1060.31,1033.06 1062.34,1032.04 1064.38,1031.01 1066.42,1029.99 1068.46,1028.96 \n  1070.5,1027.56 1072.54,1025.6 1074.58,1023.64 1076.62,1021.68 1078.65,1019.71 1080.69,1017.75 1082.73,1015.79 1084.77,1013.83 1086.81,1011.86 1088.85,1009.9 \n  1090.89,1007.94 1092.92,1005.98 1094.96,1004.01 1097,1002.05 1099.04,1000.09 1101.08,998.126 1103.12,996.164 1105.16,994.202 1107.2,992.239 1109.23,990.277 \n  1111.27,988.314 1113.31,986.352 1115.35,984.389 1117.39,982.427 1119.43,980.464 1121.47,978.502 1123.5,976.54 1125.54,974.577 1127.58,972.615 1129.62,970.652 \n  1131.66,968.69 1133.7,966.727 1135.74,964.765 1137.77,962.803 1139.81,960.84 1141.85,958.878 1143.89,956.915 1145.93,954.953 1147.97,952.99 1150.01,951.028 \n  1152.05,948.077 1154.08,943.869 1156.12,939.661 1158.16,935.452 1160.2,931.244 1162.24,927.036 1164.28,922.828 1166.32,918.619 1168.35,914.411 1170.39,910.203 \n  1172.43,905.995 1174.47,901.786 1176.51,897.578 1178.55,893.37 1180.59,889.161 1182.63,884.953 1184.66,880.745 1186.7,876.537 1188.74,872.328 1190.78,868.12 \n  1192.82,863.912 1194.86,859.704 1196.9,855.495 1198.93,851.287 1200.97,847.079 1203.01,842.87 1205.05,838.662 1207.09,834.454 1209.13,830.246 1211.17,826.037 \n  1213.21,821.829 1215.24,817.621 1217.28,813.413 1219.32,809.204 1221.36,804.996 1223.4,800.788 1225.44,796.579 1227.48,792.371 1229.51,788.163 1231.55,783.955 \n  1233.59,778.664 1235.63,772.202 1237.67,765.739 1239.71,759.277 1241.75,752.814 1243.79,746.351 1245.82,739.889 1247.86,733.426 1249.9,726.964 1251.94,720.501 \n  1253.98,714.038 1256.02,707.576 1258.06,701.113 1260.09,694.651 1262.13,688.188 1264.17,681.725 1266.21,675.263 1268.25,668.8 1270.29,662.338 1272.33,655.875 \n  1274.37,649.412 1276.4,642.95 1278.44,636.487 1280.48,630.025 1282.52,623.562 1284.56,617.099 1286.6,610.637 1288.64,604.174 1290.67,597.712 1292.71,591.249 \n  1294.75,584.787 1296.79,578.324 1298.83,571.861 1300.87,565.399 1302.91,558.936 1304.95,552.474 1306.98,546.011 1309.02,539.548 1311.06,533.086 1313.1,526.623 \n  1315.14,521.333 1317.18,517.125 1319.22,512.916 1321.25,508.708 1323.29,504.5 1325.33,500.291 1327.37,496.083 1329.41,491.875 1331.45,487.667 1333.49,483.458 \n  1335.53,479.25 1337.56,475.042 1339.6,470.834 1341.64,466.625 1343.68,462.417 1345.72,458.209 1347.76,454 1349.8,449.792 1351.83,445.584 1353.87,441.376 \n  1355.91,437.167 1357.95,432.959 1359.99,428.751 1362.03,424.543 1364.07,420.334 1366.11,416.126 1368.14,411.918 1370.18,407.71 1372.22,403.501 1374.26,399.293 \n  1376.3,395.085 1378.34,390.876 1380.38,386.668 1382.41,382.46 1384.45,378.252 1386.49,374.043 1388.53,369.835 1390.57,365.627 1392.61,361.419 1394.65,357.21 \n  1396.68,354.26 1398.72,352.297 1400.76,350.335 1402.8,348.372 1404.84,346.41 1406.88,344.447 1408.92,342.485 1410.96,340.523 1412.99,338.56 1415.03,336.598 \n  1417.07,334.635 1419.11,332.673 1421.15,330.71 1423.19,328.748 1425.23,326.785 1427.26,324.823 1429.3,322.861 1431.34,320.898 1433.38,318.936 1435.42,316.973 \n  1437.46,315.011 1439.5,313.048 1441.54,311.086 1443.57,309.123 1445.61,307.161 1447.65,305.199 1449.69,303.236 1451.73,301.274 1453.77,299.311 1455.81,297.349 \n  1457.84,295.386 1459.88,293.424 1461.92,291.461 1463.96,289.499 1466,287.537 1468.04,285.574 1470.08,283.612 1472.12,281.649 1474.15,279.687 1476.19,277.724 \n  1478.23,276.325 1480.27,275.3 1482.31,274.276 1484.35,273.252 1486.39,272.227 1488.42,271.203 1490.46,270.179 1492.5,269.154 1494.54,268.13 1496.58,267.106 \n  1498.62,266.081 1500.66,265.057 1502.7,264.033 1504.73,263.008 1506.77,261.984 1508.81,260.96 1510.85,259.935 1512.89,258.911 1514.93,257.886 1516.97,256.862 \n  1519,255.838 1521.04,254.813 1523.08,253.789 1525.12,252.765 1527.16,251.74 1529.2,250.716 1531.24,249.692 1533.28,248.667 1535.31,247.643 1537.35,246.619 \n  1539.39,245.594 1541.43,244.57 1543.47,243.546 1545.51,242.521 1547.55,241.497 1549.58,240.473 1551.62,239.448 1553.66,238.424 1555.7,237.4 1557.74,236.375 \n  1559.78,235.615 1561.82,235.003 1563.86,234.391 1565.89,233.778 1567.93,233.166 1569.97,232.554 1572.01,231.942 1574.05,231.33 1576.09,230.718 1578.13,230.106 \n  1580.16,229.494 1582.2,228.882 1584.24,228.27 1586.28,227.658 1588.32,227.045 1590.36,226.433 1592.4,225.821 1594.44,225.209 1596.47,224.597 1598.51,223.985 \n  1600.55,223.373 1602.59,222.761 1604.63,222.149 1606.67,221.537 1608.71,220.925 1610.74,220.313 1612.78,219.7 1614.82,219.088 1616.86,218.476 1618.9,217.864 \n  1620.94,217.252 1622.98,216.64 1625.02,216.028 1627.05,215.416 1629.09,214.804 1631.13,214.192 1633.17,213.58 1635.21,212.968 1637.25,212.355 1639.29,211.743 \n  1641.32,211.273 1643.36,210.87 1645.4,210.467 1647.44,210.064 1649.48,209.661 1651.52,209.258 1653.56,208.855 1655.59,208.452 1657.63,208.048 1659.67,207.645 \n  1661.71,207.242 1663.75,206.839 1665.79,206.436 1667.83,206.033 1669.87,205.63 1671.9,205.227 1673.94,204.823 1675.98,204.42 1678.02,204.017 1680.06,203.614 \n  1682.1,203.211 1684.14,202.808 1686.17,202.405 1688.21,202.002 1690.25,201.598 1692.29,201.195 1694.33,200.792 1696.37,200.389 1698.41,199.986 1700.45,199.583 \n  1702.48,199.18 1704.52,198.777 1706.56,198.373 1708.6,197.97 1710.64,197.567 1712.68,197.164 1714.72,196.761 1716.75,196.358 1718.79,195.955 1720.83,195.552 \n  1722.87,195.234 1724.91,194.95 1726.95,194.665 1728.99,194.381 1731.03,194.096 1733.06,193.812 1735.1,193.528 1737.14,193.243 1739.18,192.959 1741.22,192.675 \n  1743.26,192.39 1745.3,192.106 1747.33,191.821 1749.37,191.537 1751.41,191.253 1753.45,190.968 1755.49,190.684 1757.53,190.399 1759.57,190.115 1761.61,189.831 \n  1763.64,189.546 1765.68,189.262 1767.72,188.977 1769.76,188.693 1771.8,188.409 1773.84,188.124 1775.88,187.84 1777.91,187.556 1779.95,187.271 1781.99,186.987 \n  1784.03,186.702 1786.07,186.418 1788.11,186.134 1790.15,185.849 1792.19,185.565 1794.22,185.28 1796.26,184.996 1798.3,184.712 1800.34,184.427 1802.38,184.143 \n  1804.42,183.914 1806.46,183.703 1808.49,183.492 1810.53,183.282 1812.57,183.071 1814.61,182.86 1816.65,182.649 1818.69,182.438 1820.73,182.227 1822.77,182.016 \n  1824.8,181.805 1826.84,181.594 1828.88,181.383 1830.92,181.172 1832.96,180.961 1835,180.75 1837.04,180.539 1839.07,180.328 1841.11,180.117 1843.15,179.906 \n  1845.19,179.696 1847.23,179.485 1849.27,179.274 1851.31,179.063 1853.35,178.852 1855.38,178.641 1857.42,178.43 1859.46,178.219 1861.5,178.008 1863.54,177.797 \n  1865.58,177.586 1867.62,177.375 1869.65,177.164 1871.69,176.953 1873.73,176.742 1875.77,176.531 1877.81,176.321 1879.85,176.11 1881.89,175.899 1883.92,175.688 \n  1885.96,175.515 1888,175.353 1890.04,175.19 1892.08,175.028 1894.12,174.865 1896.16,174.703 1898.2,174.54 1900.23,174.378 1902.27,174.215 1904.31,174.053 \n  1906.35,173.89 1908.39,173.728 1910.43,173.565 1912.47,173.403 1914.5,173.24 1916.54,173.078 1918.58,172.915 1920.62,172.753 1922.66,172.59 1924.7,172.428 \n  1926.74,172.265 1928.78,172.103 1930.81,171.94 1932.85,171.778 1934.89,171.615 1936.93,171.453 1938.97,171.29 1941.01,171.128 1943.05,170.965 1945.08,170.803 \n  1947.12,170.64 1949.16,170.478 1951.2,170.315 1953.24,170.153 1955.28,169.99 1957.32,169.828 1959.36,169.665 1961.39,169.503 1963.43,169.34 1965.47,169.178 \n  1967.51,169.043 1969.55,168.914 1971.59,168.785 1973.63,168.656 1975.66,168.528 1977.7,168.399 1979.74,168.27 1981.78,168.141 1983.82,168.012 1985.86,167.883 \n  1987.9,167.754 1989.94,167.625 1991.97,167.496 1994.01,167.367 1996.05,167.238 1998.09,167.109 2000.13,166.98 2002.17,166.851 2004.21,166.722 2006.24,166.593 \n  2008.28,166.464 2010.32,166.335 2012.36,166.206 2014.4,166.077 2016.44,165.949 2018.48,165.82 2020.52,165.691 2022.55,165.562 2024.59,165.433 2026.63,165.304 \n  2028.67,165.175 2030.71,165.046 2032.75,164.917 2034.79,164.788 2036.82,164.659 2038.86,164.53 2040.9,164.401 2042.94,164.272 2044.98,164.143 2047.02,164.014 \n  2049.06,163.907 2051.1,163.802 2053.13,163.697 2055.17,163.592 2057.21,163.487 2059.25,163.383 2061.29,163.278 2063.33,163.173 2065.37,163.068 2067.4,162.964 \n  2069.44,162.859 2071.48,162.754 2073.52,162.649 2075.56,162.545 2077.6,162.44 2079.64,162.335 2081.68,162.23 2083.71,162.125 2085.75,162.021 2087.79,161.916 \n  2089.83,161.811 2091.87,161.706 2093.91,161.602 2095.95,161.497 2097.98,161.392 2100.02,161.287 2102.06,161.183 2104.1,161.078 2106.14,160.973 2108.18,160.868 \n  2110.22,160.763 2112.26,160.659 2114.29,160.554 2116.33,160.449 2118.37,160.344 2120.41,160.24 2122.45,160.135 2124.49,160.03 2126.53,159.925 2128.56,159.821 \n  2130.6,159.732 2132.64,159.646 2134.68,159.559 2136.72,159.472 2138.76,159.385 2140.8,159.298 2142.83,159.212 2144.87,159.125 2146.91,159.038 2148.95,158.951 \n  2150.99,158.864 2153.03,158.778 2155.07,158.691 2157.11,158.604 2159.14,158.517 2161.18,158.431 2163.22,158.344 2165.26,158.257 2167.3,158.17 2169.34,158.083 \n  2171.38,157.997 2173.41,157.91 2175.45,157.823 2177.49,157.736 2179.53,157.649 2181.57,157.563 2183.61,157.476 2185.65,157.389 2187.69,157.302 2189.72,157.216 \n  2191.76,157.129 2193.8,157.042 2195.84,156.955 2197.88,156.868 2199.92,156.782 2201.96,156.695 2203.99,156.608 2206.03,156.521 2208.07,156.435 2210.11,156.348 \n  2212.15,156.274 2214.19,156.201 2216.23,156.128 2218.27,156.055 2220.3,155.982 2222.34,155.909 2224.38,155.836 2226.42,155.763 2228.46,155.69 2230.5,155.617 \n  2232.54,155.544 2234.57,155.471 2236.61,155.398 2238.65,155.324 2240.69,155.251 2242.73,155.178 2244.77,155.105 2246.81,155.032 2248.85,154.959 2250.88,154.886 \n  2252.92,154.813 2254.96,154.74 2257,154.667 2259.04,154.594 2261.08,154.521 2263.12,154.448 2265.15,154.375 2267.19,154.302 2269.23,154.229 2271.27,154.156 \n  2273.31,154.083 2275.35,154.01 2277.39,153.937 2279.43,153.864 2281.46,153.79 2283.5,153.717 2285.54,153.644 2287.58,153.571 2289.62,153.498 2291.66,153.425 \n  \n  \"/>\n<path clip-path=\"url(#clip390)\" d=\"\nM759.601 1486.45 L1321.32 1486.45 L1321.32 1279.09 L759.601 1279.09  Z\n  \" fill=\"#ffffff\" fill-rule=\"evenodd\" fill-opacity=\"1\"/>\n<polyline clip-path=\"url(#clip390)\" style=\"stroke:#000000; stroke-linecap:butt; stroke-linejoin:round; stroke-width:4; stroke-opacity:1; fill:none\" points=\"\n  759.601,1486.45 1321.32,1486.45 1321.32,1279.09 759.601,1279.09 759.601,1486.45 \n  \"/>\n<polyline clip-path=\"url(#clip390)\" style=\"stroke:#009af9; stroke-linecap:butt; stroke-linejoin:round; stroke-width:4; stroke-opacity:1; fill:none\" stroke-dasharray=\"16, 10\" points=\"\n  783.588,1330.93 927.509,1330.93 \n  \"/>\n<path clip-path=\"url(#clip390)\" d=\"M968 1312.19 L968 1315.73 L963.926 1315.73 Q961.635 1315.73 960.732 1316.66 Q959.852 1317.58 959.852 1319.99 L959.852 1322.28 L966.866 1322.28 L966.866 1325.59 L959.852 1325.59 L959.852 1348.21 L955.57 1348.21 L955.57 1325.59 L951.496 1325.59 L951.496 1322.28 L955.57 1322.28 L955.57 1320.48 Q955.57 1316.15 957.584 1314.18 Q959.598 1312.19 963.973 1312.19 L968 1312.19 Z\" fill=\"#000000\" fill-rule=\"evenodd\" fill-opacity=\"1\" /><path clip-path=\"url(#clip390)\" d=\"M981.797 1312.24 Q978.695 1317.56 977.19 1322.77 Q975.686 1327.98 975.686 1333.32 Q975.686 1338.67 977.19 1343.93 Q978.718 1349.16 981.797 1354.46 L978.093 1354.46 Q974.621 1349.02 972.885 1343.76 Q971.172 1338.51 971.172 1333.32 Q971.172 1328.16 972.885 1322.93 Q974.598 1317.7 978.093 1312.24 L981.797 1312.24 Z\" fill=\"#000000\" fill-rule=\"evenodd\" fill-opacity=\"1\" /><path clip-path=\"url(#clip390)\" d=\"M1011.61 1322.28 L1002.24 1334.9 L1012.1 1348.21 L1007.07 1348.21 L999.528 1338.02 L991.982 1348.21 L986.959 1348.21 L997.028 1334.64 L987.815 1322.28 L992.838 1322.28 L999.713 1331.52 L1006.59 1322.28 L1011.61 1322.28 Z\" fill=\"#000000\" fill-rule=\"evenodd\" fill-opacity=\"1\" /><path clip-path=\"url(#clip390)\" d=\"M1017.44 1312.24 L1021.15 1312.24 Q1024.62 1317.7 1026.33 1322.93 Q1028.07 1328.16 1028.07 1333.32 Q1028.07 1338.51 1026.33 1343.76 Q1024.62 1349.02 1021.15 1354.46 L1017.44 1354.46 Q1020.52 1349.16 1022.03 1343.93 Q1023.56 1338.67 1023.56 1333.32 Q1023.56 1327.98 1022.03 1322.77 Q1020.52 1317.56 1017.44 1312.24 Z\" fill=\"#000000\" fill-rule=\"evenodd\" fill-opacity=\"1\" /><circle clip-path=\"url(#clip390)\" cx=\"855.548\" cy=\"1382.77\" r=\"23.04\" fill=\"#e26f46\" fill-rule=\"evenodd\" fill-opacity=\"1\" stroke=\"#000000\" stroke-opacity=\"1\" stroke-width=\"5.12\"/>\n<path clip-path=\"url(#clip390)\" d=\"M951.496 1365.49 L957.792 1365.49 L973.116 1394.4 L973.116 1365.49 L977.653 1365.49 L977.653 1400.05 L971.357 1400.05 L956.033 1371.14 L956.033 1400.05 L951.496 1400.05 L951.496 1365.49 Z\" fill=\"#000000\" fill-rule=\"evenodd\" fill-opacity=\"1\" /><path clip-path=\"url(#clip390)\" d=\"M996.82 1377.11 Q993.394 1377.11 991.403 1379.79 Q989.412 1382.46 989.412 1387.11 Q989.412 1391.76 991.38 1394.45 Q993.371 1397.11 996.82 1397.11 Q1000.22 1397.11 1002.21 1394.42 Q1004.2 1391.74 1004.2 1387.11 Q1004.2 1382.5 1002.21 1379.82 Q1000.22 1377.11 996.82 1377.11 M996.82 1373.5 Q1002.38 1373.5 1005.55 1377.11 Q1008.72 1380.72 1008.72 1387.11 Q1008.72 1393.47 1005.55 1397.11 Q1002.38 1400.72 996.82 1400.72 Q991.241 1400.72 988.07 1397.11 Q984.922 1393.47 984.922 1387.11 Q984.922 1380.72 988.07 1377.11 Q991.241 1373.5 996.82 1373.5 Z\" fill=\"#000000\" fill-rule=\"evenodd\" fill-opacity=\"1\" /><path clip-path=\"url(#clip390)\" d=\"M1032.84 1378.06 L1032.84 1364.03 L1037.1 1364.03 L1037.1 1400.05 L1032.84 1400.05 L1032.84 1396.16 Q1031.5 1398.47 1029.44 1399.61 Q1027.4 1400.72 1024.53 1400.72 Q1019.83 1400.72 1016.87 1396.97 Q1013.93 1393.22 1013.93 1387.11 Q1013.93 1381 1016.87 1377.25 Q1019.83 1373.5 1024.53 1373.5 Q1027.4 1373.5 1029.44 1374.63 Q1031.5 1375.74 1032.84 1378.06 M1018.32 1387.11 Q1018.32 1391.81 1020.25 1394.49 Q1022.19 1397.15 1025.57 1397.15 Q1028.95 1397.15 1030.89 1394.49 Q1032.84 1391.81 1032.84 1387.11 Q1032.84 1382.41 1030.89 1379.75 Q1028.95 1377.06 1025.57 1377.06 Q1022.19 1377.06 1020.25 1379.75 Q1018.32 1382.41 1018.32 1387.11 Z\" fill=\"#000000\" fill-rule=\"evenodd\" fill-opacity=\"1\" /><path clip-path=\"url(#clip390)\" d=\"M1068.05 1386.02 L1068.05 1388.1 L1048.46 1388.1 Q1048.74 1392.5 1051.1 1394.82 Q1053.49 1397.11 1057.72 1397.11 Q1060.18 1397.11 1062.47 1396.51 Q1064.78 1395.9 1067.05 1394.7 L1067.05 1398.73 Q1064.76 1399.7 1062.35 1400.21 Q1059.94 1400.72 1057.47 1400.72 Q1051.26 1400.72 1047.63 1397.11 Q1044.02 1393.5 1044.02 1387.34 Q1044.02 1380.97 1047.44 1377.25 Q1050.89 1373.5 1056.73 1373.5 Q1061.96 1373.5 1064.99 1376.88 Q1068.05 1380.23 1068.05 1386.02 M1063.79 1384.77 Q1063.74 1381.27 1061.82 1379.19 Q1059.92 1377.11 1056.77 1377.11 Q1053.21 1377.11 1051.06 1379.12 Q1048.93 1381.14 1048.6 1384.79 L1063.79 1384.77 Z\" fill=\"#000000\" fill-rule=\"evenodd\" fill-opacity=\"1\" /><path clip-path=\"url(#clip390)\" d=\"M1091.56 1374.89 L1091.56 1378.91 Q1089.76 1377.99 1087.81 1377.52 Q1085.87 1377.06 1083.79 1377.06 Q1080.62 1377.06 1079.02 1378.03 Q1077.44 1379.01 1077.44 1380.95 Q1077.44 1382.43 1078.58 1383.29 Q1079.71 1384.12 1083.14 1384.89 L1084.6 1385.21 Q1089.13 1386.18 1091.03 1387.96 Q1092.95 1389.72 1092.95 1392.9 Q1092.95 1396.51 1090.08 1398.61 Q1087.24 1400.72 1082.24 1400.72 Q1080.15 1400.72 1077.88 1400.3 Q1075.64 1399.91 1073.14 1399.1 L1073.14 1394.7 Q1075.5 1395.93 1077.79 1396.55 Q1080.08 1397.15 1082.33 1397.15 Q1085.34 1397.15 1086.96 1396.14 Q1088.58 1395.09 1088.58 1393.22 Q1088.58 1391.48 1087.4 1390.56 Q1086.24 1389.63 1082.28 1388.77 L1080.8 1388.43 Q1076.84 1387.59 1075.08 1385.88 Q1073.32 1384.15 1073.32 1381.14 Q1073.32 1377.48 1075.92 1375.49 Q1078.51 1373.5 1083.28 1373.5 Q1085.64 1373.5 1087.72 1373.84 Q1089.81 1374.19 1091.56 1374.89 Z\" fill=\"#000000\" fill-rule=\"evenodd\" fill-opacity=\"1\" /><path clip-path=\"url(#clip390)\" d=\"M1125.04 1364.08 Q1121.93 1369.4 1120.43 1374.61 Q1118.93 1379.82 1118.93 1385.16 Q1118.93 1390.51 1120.43 1395.77 Q1121.96 1401 1125.04 1406.3 L1121.33 1406.3 Q1117.86 1400.86 1116.12 1395.6 Q1114.41 1390.35 1114.41 1385.16 Q1114.41 1380 1116.12 1374.77 Q1117.84 1369.54 1121.33 1364.08 L1125.04 1364.08 Z\" fill=\"#000000\" fill-rule=\"evenodd\" fill-opacity=\"1\" /><path clip-path=\"url(#clip390)\" d=\"M1154.85 1384.4 L1154.85 1400.05 L1150.59 1400.05 L1150.59 1384.54 Q1150.59 1380.86 1149.16 1379.03 Q1147.72 1377.2 1144.85 1377.2 Q1141.4 1377.2 1139.41 1379.4 Q1137.42 1381.6 1137.42 1385.4 L1137.42 1400.05 L1133.14 1400.05 L1133.14 1374.12 L1137.42 1374.12 L1137.42 1378.15 Q1138.95 1375.81 1141.01 1374.65 Q1143.09 1373.5 1145.8 1373.5 Q1150.27 1373.5 1152.56 1376.27 Q1154.85 1379.03 1154.85 1384.4 Z\" fill=\"#000000\" fill-rule=\"evenodd\" fill-opacity=\"1\" /><path clip-path=\"url(#clip390)\" d=\"M1163.9 1378.52 L1193.58 1378.52 L1193.58 1382.41 L1163.9 1382.41 L1163.9 1378.52 M1163.9 1387.96 L1193.58 1387.96 L1193.58 1391.9 L1163.9 1391.9 L1163.9 1387.96 Z\" fill=\"#000000\" fill-rule=\"evenodd\" fill-opacity=\"1\" /><path clip-path=\"url(#clip390)\" d=\"M1207.7 1396.11 L1224.02 1396.11 L1224.02 1400.05 L1202.07 1400.05 L1202.07 1396.11 Q1204.74 1393.36 1209.32 1388.73 Q1213.92 1384.08 1215.11 1382.73 Q1217.35 1380.21 1218.23 1378.47 Q1219.13 1376.71 1219.13 1375.02 Q1219.13 1372.27 1217.19 1370.53 Q1215.27 1368.8 1212.17 1368.8 Q1209.97 1368.8 1207.51 1369.56 Q1205.08 1370.33 1202.3 1371.88 L1202.3 1367.15 Q1205.13 1366.02 1207.58 1365.44 Q1210.04 1364.86 1212.07 1364.86 Q1217.44 1364.86 1220.64 1367.55 Q1223.83 1370.23 1223.83 1374.72 Q1223.83 1376.85 1223.02 1378.77 Q1222.24 1380.67 1220.13 1383.27 Q1219.55 1383.94 1216.45 1387.15 Q1213.35 1390.35 1207.7 1396.11 Z\" fill=\"#000000\" fill-rule=\"evenodd\" fill-opacity=\"1\" /><path clip-path=\"url(#clip390)\" d=\"M1244.41 1380.9 Q1241.26 1380.9 1239.41 1383.06 Q1237.58 1385.21 1237.58 1388.96 Q1237.58 1392.69 1239.41 1394.86 Q1241.26 1397.02 1244.41 1397.02 Q1247.56 1397.02 1249.39 1394.86 Q1251.24 1392.69 1251.24 1388.96 Q1251.24 1385.21 1249.39 1383.06 Q1247.56 1380.9 1244.41 1380.9 M1253.69 1366.25 L1253.69 1370.51 Q1251.93 1369.68 1250.13 1369.24 Q1248.35 1368.8 1246.59 1368.8 Q1241.96 1368.8 1239.5 1371.92 Q1237.07 1375.05 1236.73 1381.37 Q1238.09 1379.35 1240.15 1378.29 Q1242.21 1377.2 1244.69 1377.2 Q1249.9 1377.2 1252.91 1380.37 Q1255.94 1383.52 1255.94 1388.96 Q1255.94 1394.28 1252.79 1397.5 Q1249.64 1400.72 1244.41 1400.72 Q1238.42 1400.72 1235.24 1396.14 Q1232.07 1391.53 1232.07 1382.8 Q1232.07 1374.61 1235.96 1369.75 Q1239.85 1364.86 1246.4 1364.86 Q1248.16 1364.86 1249.94 1365.21 Q1251.75 1365.56 1253.69 1366.25 Z\" fill=\"#000000\" fill-rule=\"evenodd\" fill-opacity=\"1\" /><path clip-path=\"url(#clip390)\" d=\"M1262.72 1364.08 L1266.42 1364.08 Q1269.9 1369.54 1271.61 1374.77 Q1273.35 1380 1273.35 1385.16 Q1273.35 1390.35 1271.61 1395.6 Q1269.9 1400.86 1266.42 1406.3 L1262.72 1406.3 Q1265.8 1401 1267.3 1395.77 Q1268.83 1390.51 1268.83 1385.16 Q1268.83 1379.82 1267.3 1374.61 Q1265.8 1369.4 1262.72 1364.08 Z\" fill=\"#000000\" fill-rule=\"evenodd\" fill-opacity=\"1\" /><polyline clip-path=\"url(#clip390)\" style=\"stroke:#3da44d; stroke-linecap:butt; stroke-linejoin:round; stroke-width:4; stroke-opacity:1; fill:none\" points=\"\n  783.588,1434.61 927.509,1434.61 \n  \"/>\n<path clip-path=\"url(#clip390)\" d=\"M969.922 1426.73 L969.922 1430.75 Q968.116 1429.83 966.172 1429.36 Q964.227 1428.9 962.144 1428.9 Q958.973 1428.9 957.375 1429.87 Q955.801 1430.85 955.801 1432.79 Q955.801 1434.27 956.936 1435.13 Q958.07 1435.96 961.496 1436.73 L962.954 1437.05 Q967.491 1438.02 969.389 1439.8 Q971.311 1441.56 971.311 1444.74 Q971.311 1448.35 968.44 1450.45 Q965.593 1452.56 960.593 1452.56 Q958.51 1452.56 956.241 1452.14 Q953.996 1451.75 951.496 1450.94 L951.496 1446.54 Q953.857 1447.77 956.149 1448.39 Q958.44 1448.99 960.686 1448.99 Q963.695 1448.99 965.315 1447.98 Q966.936 1446.93 966.936 1445.06 Q966.936 1443.32 965.755 1442.4 Q964.598 1441.47 960.639 1440.61 L959.158 1440.27 Q955.2 1439.43 953.44 1437.72 Q951.681 1435.99 951.681 1432.98 Q951.681 1429.32 954.274 1427.33 Q956.866 1425.34 961.635 1425.34 Q963.996 1425.34 966.079 1425.68 Q968.162 1426.03 969.922 1426.73 Z\" fill=\"#000000\" fill-rule=\"evenodd\" fill-opacity=\"1\" /><path clip-path=\"url(#clip390)\" d=\"M982.213 1448 L982.213 1461.75 L977.931 1461.75 L977.931 1425.96 L982.213 1425.96 L982.213 1429.9 Q983.556 1427.58 985.593 1426.47 Q987.653 1425.34 990.5 1425.34 Q995.222 1425.34 998.162 1429.09 Q1001.13 1432.84 1001.13 1438.95 Q1001.13 1445.06 998.162 1448.81 Q995.222 1452.56 990.5 1452.56 Q987.653 1452.56 985.593 1451.45 Q983.556 1450.31 982.213 1448 M996.704 1438.95 Q996.704 1434.25 994.759 1431.59 Q992.838 1428.9 989.459 1428.9 Q986.079 1428.9 984.135 1431.59 Q982.213 1434.25 982.213 1438.95 Q982.213 1443.65 984.135 1446.33 Q986.079 1448.99 989.459 1448.99 Q992.838 1448.99 994.759 1446.33 Q996.704 1443.65 996.704 1438.95 Z\" fill=\"#000000\" fill-rule=\"evenodd\" fill-opacity=\"1\" /><path clip-path=\"url(#clip390)\" d=\"M1008.19 1415.87 L1012.44 1415.87 L1012.44 1451.89 L1008.19 1451.89 L1008.19 1415.87 Z\" fill=\"#000000\" fill-rule=\"evenodd\" fill-opacity=\"1\" /><path clip-path=\"url(#clip390)\" d=\"M1021.36 1425.96 L1025.62 1425.96 L1025.62 1451.89 L1021.36 1451.89 L1021.36 1425.96 M1021.36 1415.87 L1025.62 1415.87 L1025.62 1421.26 L1021.36 1421.26 L1021.36 1415.87 Z\" fill=\"#000000\" fill-rule=\"evenodd\" fill-opacity=\"1\" /><path clip-path=\"url(#clip390)\" d=\"M1056.08 1436.24 L1056.08 1451.89 L1051.82 1451.89 L1051.82 1436.38 Q1051.82 1432.7 1050.38 1430.87 Q1048.95 1429.04 1046.08 1429.04 Q1042.63 1429.04 1040.64 1431.24 Q1038.65 1433.44 1038.65 1437.24 L1038.65 1451.89 L1034.37 1451.89 L1034.37 1425.96 L1038.65 1425.96 L1038.65 1429.99 Q1040.18 1427.65 1042.24 1426.49 Q1044.32 1425.34 1047.03 1425.34 Q1051.5 1425.34 1053.79 1428.11 Q1056.08 1430.87 1056.08 1436.24 Z\" fill=\"#000000\" fill-rule=\"evenodd\" fill-opacity=\"1\" /><path clip-path=\"url(#clip390)\" d=\"M1086.75 1437.86 L1086.75 1439.94 L1067.17 1439.94 Q1067.44 1444.34 1069.81 1446.66 Q1072.19 1448.95 1076.43 1448.95 Q1078.88 1448.95 1081.17 1448.35 Q1083.49 1447.74 1085.75 1446.54 L1085.75 1450.57 Q1083.46 1451.54 1081.06 1452.05 Q1078.65 1452.56 1076.17 1452.56 Q1069.97 1452.56 1066.33 1448.95 Q1062.72 1445.34 1062.72 1439.18 Q1062.72 1432.81 1066.15 1429.09 Q1069.6 1425.34 1075.43 1425.34 Q1080.66 1425.34 1083.69 1428.72 Q1086.75 1432.07 1086.75 1437.86 M1082.49 1436.61 Q1082.44 1433.11 1080.52 1431.03 Q1078.62 1428.95 1075.48 1428.95 Q1071.91 1428.95 1069.76 1430.96 Q1067.63 1432.98 1067.31 1436.63 L1082.49 1436.61 Z\" fill=\"#000000\" fill-rule=\"evenodd\" fill-opacity=\"1\" /><path clip-path=\"url(#clip390)\" d=\"M1095.15 1447.95 L1102.79 1447.95 L1102.79 1421.59 L1094.48 1423.25 L1094.48 1418.99 L1102.75 1417.33 L1107.42 1417.33 L1107.42 1447.95 L1115.06 1447.95 L1115.06 1451.89 L1095.15 1451.89 L1095.15 1447.95 Z\" fill=\"#000000\" fill-rule=\"evenodd\" fill-opacity=\"1\" /></svg>\n"
               },
               "type": "node"
              }
             ],
             "instanceArgs": {
              "namespace": "html",
              "tag": "div"
             },
             "nodeType": "DOM",
             "props": {
              "className": "interact-flex-row interact-widget"
             },
             "type": "node"
            }
           }
          },
          "systemjs_options": null
         },
         "nodeType": "Scope",
         "props": {},
         "type": "node"
        }
       ],
       "instanceArgs": {
        "namespace": "html",
        "tag": "div"
       },
       "nodeType": "DOM",
       "props": {},
       "type": "node"
      },
      "text/html": [
       "<div\n",
       "    class=\"webio-mountpoint\"\n",
       "    data-webio-mountpoint=\"12185349026873305995\"\n",
       ">\n",
       "    <script>\n",
       "    (function(){\n",
       "    // Some integrations (namely, IJulia/Jupyter) use an alternate render pathway than\n",
       "    // just putting the html on the page. If WebIO isn't defined, then it's pretty likely\n",
       "    // that we're in one of those situations and the integration just isn't installed\n",
       "    // correctly.\n",
       "    if (typeof window.WebIO === \"undefined\") {\n",
       "        document\n",
       "            .querySelector('[data-webio-mountpoint=\"12185349026873305995\"]')\n",
       "            .innerHTML = (\n",
       "                '<div style=\"padding: 1em; background-color: #f8d6da; border: 1px solid #f5c6cb; font-weight: bold;\">' +\n",
       "                '<p><strong>WebIO not detected.</strong></p>' +\n",
       "                '<p>Please read ' +\n",
       "                '<a href=\"https://juliagizmos.github.io/WebIO.jl/latest/troubleshooting/not-detected/\" target=\"_blank\">the troubleshooting guide</a> ' +\n",
       "                'for more information on how to resolve this issue.</p>' +\n",
       "                '<p><a href=\"https://juliagizmos.github.io/WebIO.jl/latest/troubleshooting/not-detected/\" target=\"_blank\">https://juliagizmos.github.io/WebIO.jl/latest/troubleshooting/not-detected/</a></p>' +\n",
       "                '</div>'\n",
       "            );\n",
       "        return;\n",
       "    }\n",
       "    WebIO.mount(\n",
       "        document.querySelector('[data-webio-mountpoint=\"12185349026873305995\"]'),\n",
       "        {\"props\":{},\"nodeType\":\"DOM\",\"type\":\"node\",\"instanceArgs\":{\"namespace\":\"html\",\"tag\":\"div\"},\"children\":[{\"props\":{\"className\":\"field interact-widget\"},\"nodeType\":\"DOM\",\"type\":\"node\",\"instanceArgs\":{\"namespace\":\"html\",\"tag\":\"div\"},\"children\":[{\"props\":{},\"nodeType\":\"Scope\",\"type\":\"node\",\"instanceArgs\":{\"imports\":{\"data\":[{\"name\":\"knockout\",\"type\":\"js\",\"url\":\"\\/assetserver\\/68b391a98f51946de6766c9cb9c06259d0b67941-knockout.js\"},{\"name\":\"knockout_punches\",\"type\":\"js\",\"url\":\"\\/assetserver\\/a75e1e7279f4e8a75d1508d0e0f26637654e46a8-knockout_punches.js\"},{\"name\":null,\"type\":\"js\",\"url\":\"\\/assetserver\\/d83021b3162429c4ffddb670fcd019dc3cf3a17e-all.js\"},{\"name\":null,\"type\":\"css\",\"url\":\"\\/assetserver\\/59440ba4cbbaeea1ad0662e2f3d142b376ac9fb8-style.css\"},{\"name\":null,\"type\":\"css\",\"url\":\"\\/assetserver\\/809dda8cb22c9777167aaf75ded8379bbe41e658-bulma_confined.min.css\"}],\"type\":\"async_block\"},\"id\":\"6149868130785045897\",\"handlers\":{\"changes\":[\"(function (val){return (val!=this.model[\\\"changes\\\"]()) ? (this.valueFromJulia[\\\"changes\\\"]=true, this.model[\\\"changes\\\"](val)) : undefined})\"],\"index\":[\"(function (val){return (val!=this.model[\\\"index\\\"]()) ? (this.valueFromJulia[\\\"index\\\"]=true, this.model[\\\"index\\\"](val)) : undefined})\"]},\"systemjs_options\":null,\"mount_callbacks\":[\"function () {\\n    var handler = (function (ko, koPunches) {\\n    ko.punches.enableAll();\\n    ko.bindingHandlers.numericValue = {\\n        init: function(element, valueAccessor, allBindings, data, context) {\\n            var stringified = ko.observable(ko.unwrap(valueAccessor()));\\n            stringified.subscribe(function(value) {\\n                var val = parseFloat(value);\\n                if (!isNaN(val)) {\\n                    valueAccessor()(val);\\n                }\\n            });\\n            valueAccessor().subscribe(function(value) {\\n                var str = JSON.stringify(value);\\n                if ((str == \\\"0\\\") && ([\\\"-0\\\", \\\"-0.\\\"].indexOf(stringified()) >= 0))\\n                     return;\\n                 if ([\\\"null\\\", \\\"\\\"].indexOf(str) >= 0)\\n                     return;\\n                stringified(str);\\n            });\\n            ko.applyBindingsToNode(\\n                element,\\n                {\\n                    value: stringified,\\n                    valueUpdate: allBindings.get('valueUpdate'),\\n                },\\n                context,\\n            );\\n        }\\n    };\\n    var json_data = {\\\"formatted_vals\\\":[\\\"2\\\",\\\"3\\\",\\\"4\\\",\\\"5\\\",\\\"6\\\",\\\"7\\\",\\\"8\\\",\\\"9\\\",\\\"10\\\",\\\"11\\\",\\\"12\\\",\\\"13\\\",\\\"14\\\",\\\"15\\\",\\\"16\\\",\\\"17\\\",\\\"18\\\",\\\"19\\\",\\\"20\\\",\\\"21\\\",\\\"22\\\",\\\"23\\\",\\\"24\\\",\\\"25\\\",\\\"26\\\",\\\"27\\\",\\\"28\\\",\\\"29\\\",\\\"30\\\",\\\"31\\\",\\\"32\\\",\\\"33\\\",\\\"34\\\",\\\"35\\\",\\\"36\\\",\\\"37\\\",\\\"38\\\",\\\"39\\\",\\\"40\\\",\\\"41\\\",\\\"42\\\",\\\"43\\\",\\\"44\\\",\\\"45\\\",\\\"46\\\",\\\"47\\\",\\\"48\\\",\\\"49\\\",\\\"50\\\"],\\\"changes\\\":WebIO.getval({\\\"name\\\":\\\"changes\\\",\\\"scope\\\":\\\"6149868130785045897\\\",\\\"id\\\":\\\"2345012731124383594\\\",\\\"type\\\":\\\"observable\\\"}),\\\"index\\\":WebIO.getval({\\\"name\\\":\\\"index\\\",\\\"scope\\\":\\\"6149868130785045897\\\",\\\"id\\\":\\\"10578776765821906720\\\",\\\"type\\\":\\\"observable\\\"})};\\n    var self = this;\\n    function AppViewModel() {\\n        for (var key in json_data) {\\n            var el = json_data[key];\\n            this[key] = Array.isArray(el) ? ko.observableArray(el) : ko.observable(el);\\n        }\\n        \\n        [this[\\\"formatted_val\\\"]=ko.computed(    function(){\\n        return this.formatted_vals()[parseInt(this.index())-(2)];\\n    }\\n,this)]\\n        [this[\\\"changes\\\"].subscribe((function (val){!(this.valueFromJulia[\\\"changes\\\"]) ? (WebIO.setval({\\\"name\\\":\\\"changes\\\",\\\"scope\\\":\\\"6149868130785045897\\\",\\\"id\\\":\\\"2345012731124383594\\\",\\\"type\\\":\\\"observable\\\"},val)) : undefined; return this.valueFromJulia[\\\"changes\\\"]=false}),self),this[\\\"index\\\"].subscribe((function (val){!(this.valueFromJulia[\\\"index\\\"]) ? (WebIO.setval({\\\"name\\\":\\\"index\\\",\\\"scope\\\":\\\"6149868130785045897\\\",\\\"id\\\":\\\"10578776765821906720\\\",\\\"type\\\":\\\"observable\\\"},val)) : undefined; return this.valueFromJulia[\\\"index\\\"]=false}),self)]\\n        \\n    }\\n    self.model = new AppViewModel();\\n    self.valueFromJulia = {};\\n    for (var key in json_data) {\\n        self.valueFromJulia[key] = false;\\n    }\\n    ko.applyBindings(self.model, self.dom);\\n}\\n);\\n    (WebIO.importBlock({\\\"data\\\":[{\\\"name\\\":\\\"knockout\\\",\\\"type\\\":\\\"js\\\",\\\"url\\\":\\\"\\/assetserver\\/68b391a98f51946de6766c9cb9c06259d0b67941-knockout.js\\\"},{\\\"name\\\":\\\"knockout_punches\\\",\\\"type\\\":\\\"js\\\",\\\"url\\\":\\\"\\/assetserver\\/a75e1e7279f4e8a75d1508d0e0f26637654e46a8-knockout_punches.js\\\"}],\\\"type\\\":\\\"async_block\\\"})).then((imports) => handler.apply(this, imports));\\n}\\n\"],\"observables\":{\"changes\":{\"sync\":false,\"id\":\"2345012731124383594\",\"value\":0},\"index\":{\"sync\":true,\"id\":\"10578776765821906720\",\"value\":26}}},\"children\":[{\"props\":{\"className\":\"interact-flex-row interact-widget\"},\"nodeType\":\"DOM\",\"type\":\"node\",\"instanceArgs\":{\"namespace\":\"html\",\"tag\":\"div\"},\"children\":[{\"props\":{\"className\":\"interact-flex-row-left\"},\"nodeType\":\"DOM\",\"type\":\"node\",\"instanceArgs\":{\"namespace\":\"html\",\"tag\":\"div\"},\"children\":[{\"props\":{\"className\":\"interact \",\"style\":{\"padding\":\"5px 10px 0px 10px\"}},\"nodeType\":\"DOM\",\"type\":\"node\",\"instanceArgs\":{\"namespace\":\"html\",\"tag\":\"label\"},\"children\":[\"n\"]}]},{\"props\":{\"className\":\"interact-flex-row-center\"},\"nodeType\":\"DOM\",\"type\":\"node\",\"instanceArgs\":{\"namespace\":\"html\",\"tag\":\"div\"},\"children\":[{\"props\":{\"max\":50,\"min\":2,\"attributes\":{\"type\":\"range\",\"data-bind\":\"numericValue: index, valueUpdate: 'input', event: {change: function (){this.changes(this.changes()+1)}}\",\"orient\":\"horizontal\"},\"step\":1,\"className\":\"slider slider is-fullwidth\",\"style\":{}},\"nodeType\":\"DOM\",\"type\":\"node\",\"instanceArgs\":{\"namespace\":\"html\",\"tag\":\"input\"},\"children\":[]}]},{\"props\":{\"className\":\"interact-flex-row-right\"},\"nodeType\":\"DOM\",\"type\":\"node\",\"instanceArgs\":{\"namespace\":\"html\",\"tag\":\"div\"},\"children\":[{\"props\":{\"attributes\":{\"data-bind\":\"text: formatted_val\"}},\"nodeType\":\"DOM\",\"type\":\"node\",\"instanceArgs\":{\"namespace\":\"html\",\"tag\":\"p\"},\"children\":[]}]}]}]}]},{\"props\":{\"className\":\"interact-widget\"},\"nodeType\":\"DOM\",\"type\":\"node\",\"instanceArgs\":{\"namespace\":\"html\",\"tag\":\"div\"},\"children\":[{\"props\":{},\"nodeType\":\"Scope\",\"type\":\"node\",\"instanceArgs\":{\"imports\":{\"data\":[{\"name\":\"knockout\",\"type\":\"js\",\"url\":\"\\/assetserver\\/68b391a98f51946de6766c9cb9c06259d0b67941-knockout.js\"},{\"name\":\"knockout_punches\",\"type\":\"js\",\"url\":\"\\/assetserver\\/a75e1e7279f4e8a75d1508d0e0f26637654e46a8-knockout_punches.js\"},{\"name\":null,\"type\":\"js\",\"url\":\"\\/assetserver\\/d83021b3162429c4ffddb670fcd019dc3cf3a17e-all.js\"},{\"name\":null,\"type\":\"css\",\"url\":\"\\/assetserver\\/59440ba4cbbaeea1ad0662e2f3d142b376ac9fb8-style.css\"},{\"name\":null,\"type\":\"css\",\"url\":\"\\/assetserver\\/809dda8cb22c9777167aaf75ded8379bbe41e658-bulma_confined.min.css\"}],\"type\":\"async_block\"},\"id\":\"3768172643377870379\",\"handlers\":{\"options_js\":[\"(function (val){return (val!=this.model[\\\"options_js\\\"]()) ? (this.valueFromJulia[\\\"options_js\\\"]=true, this.model[\\\"options_js\\\"](val)) : undefined})\"],\"index\":[\"(function (val){return (val!=this.model[\\\"index\\\"]()) ? (this.valueFromJulia[\\\"index\\\"]=true, this.model[\\\"index\\\"](val)) : undefined})\"]},\"systemjs_options\":null,\"mount_callbacks\":[\"function () {\\n    var handler = (function (ko, koPunches) {\\n    ko.punches.enableAll();\\n    ko.bindingHandlers.numericValue = {\\n        init: function(element, valueAccessor, allBindings, data, context) {\\n            var stringified = ko.observable(ko.unwrap(valueAccessor()));\\n            stringified.subscribe(function(value) {\\n                var val = parseFloat(value);\\n                if (!isNaN(val)) {\\n                    valueAccessor()(val);\\n                }\\n            });\\n            valueAccessor().subscribe(function(value) {\\n                var str = JSON.stringify(value);\\n                if ((str == \\\"0\\\") && ([\\\"-0\\\", \\\"-0.\\\"].indexOf(stringified()) >= 0))\\n                     return;\\n                 if ([\\\"null\\\", \\\"\\\"].indexOf(str) >= 0)\\n                     return;\\n                stringified(str);\\n            });\\n            ko.applyBindingsToNode(\\n                element,\\n                {\\n                    value: stringified,\\n                    valueUpdate: allBindings.get('valueUpdate'),\\n                },\\n                context,\\n            );\\n        }\\n    };\\n    var json_data = {\\\"options_js\\\":WebIO.getval({\\\"name\\\":\\\"options_js\\\",\\\"scope\\\":\\\"3768172643377870379\\\",\\\"id\\\":\\\"5501042021518863844\\\",\\\"type\\\":\\\"observable\\\"}),\\\"index\\\":WebIO.getval({\\\"name\\\":\\\"index\\\",\\\"scope\\\":\\\"3768172643377870379\\\",\\\"id\\\":\\\"15180783453790595778\\\",\\\"type\\\":\\\"observable\\\"})};\\n    var self = this;\\n    function AppViewModel() {\\n        for (var key in json_data) {\\n            var el = json_data[key];\\n            this[key] = Array.isArray(el) ? ko.observableArray(el) : ko.observable(el);\\n        }\\n        [this[\\\"update\\\"]=function (val) {this.index(val)}]\\n        \\n        [this[\\\"options_js\\\"].subscribe((function (val){!(this.valueFromJulia[\\\"options_js\\\"]) ? (WebIO.setval({\\\"name\\\":\\\"options_js\\\",\\\"scope\\\":\\\"3768172643377870379\\\",\\\"id\\\":\\\"5501042021518863844\\\",\\\"type\\\":\\\"observable\\\"},val)) : undefined; return this.valueFromJulia[\\\"options_js\\\"]=false}),self),this[\\\"index\\\"].subscribe((function (val){!(this.valueFromJulia[\\\"index\\\"]) ? (WebIO.setval({\\\"name\\\":\\\"index\\\",\\\"scope\\\":\\\"3768172643377870379\\\",\\\"id\\\":\\\"15180783453790595778\\\",\\\"type\\\":\\\"observable\\\"},val)) : undefined; return this.valueFromJulia[\\\"index\\\"]=false}),self)]\\n        \\n    }\\n    self.model = new AppViewModel();\\n    self.valueFromJulia = {};\\n    for (var key in json_data) {\\n        self.valueFromJulia[key] = false;\\n    }\\n    ko.applyBindings(self.model, self.dom);\\n}\\n);\\n    (WebIO.importBlock({\\\"data\\\":[{\\\"name\\\":\\\"knockout\\\",\\\"type\\\":\\\"js\\\",\\\"url\\\":\\\"\\/assetserver\\/68b391a98f51946de6766c9cb9c06259d0b67941-knockout.js\\\"},{\\\"name\\\":\\\"knockout_punches\\\",\\\"type\\\":\\\"js\\\",\\\"url\\\":\\\"\\/assetserver\\/a75e1e7279f4e8a75d1508d0e0f26637654e46a8-knockout_punches.js\\\"}],\\\"type\\\":\\\"async_block\\\"})).then((imports) => handler.apply(this, imports));\\n}\\n\"],\"observables\":{\"options_js\":{\"sync\":false,\"id\":\"5501042021518863844\",\"value\":[{\"key\":\"spline1\",\"val\":1,\"id\":\"idOAJ6XNYO\"},{\"key\":\"spline2\",\"val\":2,\"id\":\"id9RqngvM4\"},{\"key\":\"spline3\",\"val\":3,\"id\":\"idq0YLn5xh\"}]},\"index\":{\"sync\":true,\"id\":\"15180783453790595778\",\"value\":1}}},\"children\":[{\"props\":{\"className\":\"interact-flex-row interact-widget\"},\"nodeType\":\"DOM\",\"type\":\"node\",\"instanceArgs\":{\"namespace\":\"html\",\"tag\":\"div\"},\"children\":[{\"props\":{\"className\":\"interact-flex-row-left\"},\"nodeType\":\"DOM\",\"type\":\"node\",\"instanceArgs\":{\"namespace\":\"html\",\"tag\":\"div\"},\"children\":[{\"props\":{\"className\":\"interact \",\"style\":{\"padding\":\"5px 10px 0px 10px\"}},\"nodeType\":\"DOM\",\"type\":\"node\",\"instanceArgs\":{\"namespace\":\"html\",\"tag\":\"label\"},\"children\":[\"spline\"]}]},{\"props\":{\"className\":\"interact-flex-row-center\"},\"nodeType\":\"DOM\",\"type\":\"node\",\"instanceArgs\":{\"namespace\":\"html\",\"tag\":\"div\"},\"children\":[{\"props\":{\"attributes\":{\"data-bind\":\"foreach : options_js\"},\"className\":\"buttons has-addons is-centered\"},\"nodeType\":\"DOM\",\"type\":\"node\",\"instanceArgs\":{\"namespace\":\"html\",\"tag\":\"div\"},\"children\":[{\"props\":{\"attributes\":{\"data-bind\":\"click: function (){$root.update(val)}, css: {'is-primary is-selected' : $root.index() == val, 'interact-widget is-medium button ' : true}\"}},\"nodeType\":\"DOM\",\"type\":\"node\",\"instanceArgs\":{\"namespace\":\"html\",\"tag\":\"span\"},\"children\":[{\"props\":{\"attributes\":{\"data-bind\":\"text : key\"}},\"nodeType\":\"DOM\",\"type\":\"node\",\"instanceArgs\":{\"namespace\":\"html\",\"tag\":\"label\"},\"children\":[]}]}]}]},{\"props\":{\"className\":\"interact-flex-row-right\"},\"nodeType\":\"DOM\",\"type\":\"node\",\"instanceArgs\":{\"namespace\":\"html\",\"tag\":\"div\"},\"children\":[{\"props\":{},\"nodeType\":\"DOM\",\"type\":\"node\",\"instanceArgs\":{\"namespace\":\"html\",\"tag\":\"div\"},\"children\":[]}]}]}]}]},{\"props\":{\"className\":\"interact-flex-row interact-widget\"},\"nodeType\":\"DOM\",\"type\":\"node\",\"instanceArgs\":{\"namespace\":\"html\",\"tag\":\"div\"},\"children\":[{\"props\":{\"className\":\"field interact-widget\"},\"nodeType\":\"DOM\",\"type\":\"node\",\"instanceArgs\":{\"namespace\":\"html\",\"tag\":\"div\"},\"children\":[{\"props\":{},\"nodeType\":\"Scope\",\"type\":\"node\",\"instanceArgs\":{\"imports\":{\"data\":[{\"name\":\"knockout\",\"type\":\"js\",\"url\":\"\\/assetserver\\/68b391a98f51946de6766c9cb9c06259d0b67941-knockout.js\"},{\"name\":\"knockout_punches\",\"type\":\"js\",\"url\":\"\\/assetserver\\/a75e1e7279f4e8a75d1508d0e0f26637654e46a8-knockout_punches.js\"},{\"name\":null,\"type\":\"js\",\"url\":\"\\/assetserver\\/d83021b3162429c4ffddb670fcd019dc3cf3a17e-all.js\"},{\"name\":null,\"type\":\"css\",\"url\":\"\\/assetserver\\/59440ba4cbbaeea1ad0662e2f3d142b376ac9fb8-style.css\"},{\"name\":null,\"type\":\"css\",\"url\":\"\\/assetserver\\/809dda8cb22c9777167aaf75ded8379bbe41e658-bulma_confined.min.css\"}],\"type\":\"async_block\"},\"id\":\"12453861160394372481\",\"handlers\":{\"changes\":[\"(function (val){return (val!=this.model[\\\"changes\\\"]()) ? (this.valueFromJulia[\\\"changes\\\"]=true, this.model[\\\"changes\\\"](val)) : undefined})\"],\"value\":[\"(function (val){return (val!=this.model[\\\"value\\\"]()) ? (this.valueFromJulia[\\\"value\\\"]=true, this.model[\\\"value\\\"](val)) : undefined})\"]},\"systemjs_options\":null,\"mount_callbacks\":[\"function () {\\n    var handler = (function (ko, koPunches) {\\n    ko.punches.enableAll();\\n    ko.bindingHandlers.numericValue = {\\n        init: function(element, valueAccessor, allBindings, data, context) {\\n            var stringified = ko.observable(ko.unwrap(valueAccessor()));\\n            stringified.subscribe(function(value) {\\n                var val = parseFloat(value);\\n                if (!isNaN(val)) {\\n                    valueAccessor()(val);\\n                }\\n            });\\n            valueAccessor().subscribe(function(value) {\\n                var str = JSON.stringify(value);\\n                if ((str == \\\"0\\\") && ([\\\"-0\\\", \\\"-0.\\\"].indexOf(stringified()) >= 0))\\n                     return;\\n                 if ([\\\"null\\\", \\\"\\\"].indexOf(str) >= 0)\\n                     return;\\n                stringified(str);\\n            });\\n            ko.applyBindingsToNode(\\n                element,\\n                {\\n                    value: stringified,\\n                    valueUpdate: allBindings.get('valueUpdate'),\\n                },\\n                context,\\n            );\\n        }\\n    };\\n    var json_data = {\\\"changes\\\":WebIO.getval({\\\"name\\\":\\\"changes\\\",\\\"scope\\\":\\\"12453861160394372481\\\",\\\"id\\\":\\\"10982875746723634692\\\",\\\"type\\\":\\\"observable\\\"}),\\\"value\\\":WebIO.getval({\\\"name\\\":\\\"value\\\",\\\"scope\\\":\\\"12453861160394372481\\\",\\\"id\\\":\\\"2098318484413778770\\\",\\\"type\\\":\\\"observable\\\"})};\\n    var self = this;\\n    function AppViewModel() {\\n        for (var key in json_data) {\\n            var el = json_data[key];\\n            this[key] = Array.isArray(el) ? ko.observableArray(el) : ko.observable(el);\\n        }\\n        \\n        \\n        [this[\\\"changes\\\"].subscribe((function (val){!(this.valueFromJulia[\\\"changes\\\"]) ? (WebIO.setval({\\\"name\\\":\\\"changes\\\",\\\"scope\\\":\\\"12453861160394372481\\\",\\\"id\\\":\\\"10982875746723634692\\\",\\\"type\\\":\\\"observable\\\"},val)) : undefined; return this.valueFromJulia[\\\"changes\\\"]=false}),self),this[\\\"value\\\"].subscribe((function (val){!(this.valueFromJulia[\\\"value\\\"]) ? (WebIO.setval({\\\"name\\\":\\\"value\\\",\\\"scope\\\":\\\"12453861160394372481\\\",\\\"id\\\":\\\"2098318484413778770\\\",\\\"type\\\":\\\"observable\\\"},val)) : undefined; return this.valueFromJulia[\\\"value\\\"]=false}),self)]\\n        \\n    }\\n    self.model = new AppViewModel();\\n    self.valueFromJulia = {};\\n    for (var key in json_data) {\\n        self.valueFromJulia[key] = false;\\n    }\\n    ko.applyBindings(self.model, self.dom);\\n}\\n);\\n    (WebIO.importBlock({\\\"data\\\":[{\\\"name\\\":\\\"knockout\\\",\\\"type\\\":\\\"js\\\",\\\"url\\\":\\\"\\/assetserver\\/68b391a98f51946de6766c9cb9c06259d0b67941-knockout.js\\\"},{\\\"name\\\":\\\"knockout_punches\\\",\\\"type\\\":\\\"js\\\",\\\"url\\\":\\\"\\/assetserver\\/a75e1e7279f4e8a75d1508d0e0f26637654e46a8-knockout_punches.js\\\"}],\\\"type\\\":\\\"async_block\\\"})).then((imports) => handler.apply(this, imports));\\n}\\n\"],\"observables\":{\"changes\":{\"sync\":false,\"id\":\"10982875746723634692\",\"value\":0},\"value\":{\"sync\":true,\"id\":\"2098318484413778770\",\"value\":false}}},\"children\":[{\"props\":{\"className\":\"field interact-widget\"},\"nodeType\":\"DOM\",\"type\":\"node\",\"instanceArgs\":{\"namespace\":\"html\",\"tag\":\"div\"},\"children\":[{\"props\":{\"attributes\":{\"type\":\"checkbox\",\"data-bind\":\"checked: value, valueUpdate: 'change', event: {change: function (){this.changes(this.changes()+1)}}\"},\"id\":\"##292\",\"className\":\"switch \",\"style\":{}},\"nodeType\":\"DOM\",\"type\":\"node\",\"instanceArgs\":{\"namespace\":\"html\",\"tag\":\"input\"},\"children\":[]},{\"props\":{\"attributes\":{\"className\":\"\",\"for\":\"##292\"}},\"nodeType\":\"DOM\",\"type\":\"node\",\"instanceArgs\":{\"namespace\":\"html\",\"tag\":\"label\"},\"children\":[\"clampedleft\"]}]}]}]}]},{\"props\":{\"className\":\"interact-flex-row interact-widget\"},\"nodeType\":\"DOM\",\"type\":\"node\",\"instanceArgs\":{\"namespace\":\"html\",\"tag\":\"div\"},\"children\":[{\"props\":{\"className\":\"field interact-widget\"},\"nodeType\":\"DOM\",\"type\":\"node\",\"instanceArgs\":{\"namespace\":\"html\",\"tag\":\"div\"},\"children\":[{\"props\":{},\"nodeType\":\"Scope\",\"type\":\"node\",\"instanceArgs\":{\"imports\":{\"data\":[{\"name\":\"knockout\",\"type\":\"js\",\"url\":\"\\/assetserver\\/68b391a98f51946de6766c9cb9c06259d0b67941-knockout.js\"},{\"name\":\"knockout_punches\",\"type\":\"js\",\"url\":\"\\/assetserver\\/a75e1e7279f4e8a75d1508d0e0f26637654e46a8-knockout_punches.js\"},{\"name\":null,\"type\":\"js\",\"url\":\"\\/assetserver\\/d83021b3162429c4ffddb670fcd019dc3cf3a17e-all.js\"},{\"name\":null,\"type\":\"css\",\"url\":\"\\/assetserver\\/59440ba4cbbaeea1ad0662e2f3d142b376ac9fb8-style.css\"},{\"name\":null,\"type\":\"css\",\"url\":\"\\/assetserver\\/809dda8cb22c9777167aaf75ded8379bbe41e658-bulma_confined.min.css\"}],\"type\":\"async_block\"},\"id\":\"2352799863583871972\",\"handlers\":{\"changes\":[\"(function (val){return (val!=this.model[\\\"changes\\\"]()) ? (this.valueFromJulia[\\\"changes\\\"]=true, this.model[\\\"changes\\\"](val)) : undefined})\"],\"value\":[\"(function (val){return (val!=this.model[\\\"value\\\"]()) ? (this.valueFromJulia[\\\"value\\\"]=true, this.model[\\\"value\\\"](val)) : undefined})\"]},\"systemjs_options\":null,\"mount_callbacks\":[\"function () {\\n    var handler = (function (ko, koPunches) {\\n    ko.punches.enableAll();\\n    ko.bindingHandlers.numericValue = {\\n        init: function(element, valueAccessor, allBindings, data, context) {\\n            var stringified = ko.observable(ko.unwrap(valueAccessor()));\\n            stringified.subscribe(function(value) {\\n                var val = parseFloat(value);\\n                if (!isNaN(val)) {\\n                    valueAccessor()(val);\\n                }\\n            });\\n            valueAccessor().subscribe(function(value) {\\n                var str = JSON.stringify(value);\\n                if ((str == \\\"0\\\") && ([\\\"-0\\\", \\\"-0.\\\"].indexOf(stringified()) >= 0))\\n                     return;\\n                 if ([\\\"null\\\", \\\"\\\"].indexOf(str) >= 0)\\n                     return;\\n                stringified(str);\\n            });\\n            ko.applyBindingsToNode(\\n                element,\\n                {\\n                    value: stringified,\\n                    valueUpdate: allBindings.get('valueUpdate'),\\n                },\\n                context,\\n            );\\n        }\\n    };\\n    var json_data = {\\\"changes\\\":WebIO.getval({\\\"name\\\":\\\"changes\\\",\\\"scope\\\":\\\"2352799863583871972\\\",\\\"id\\\":\\\"8078459403723888167\\\",\\\"type\\\":\\\"observable\\\"}),\\\"value\\\":WebIO.getval({\\\"name\\\":\\\"value\\\",\\\"scope\\\":\\\"2352799863583871972\\\",\\\"id\\\":\\\"1848456544513264309\\\",\\\"type\\\":\\\"observable\\\"})};\\n    var self = this;\\n    function AppViewModel() {\\n        for (var key in json_data) {\\n            var el = json_data[key];\\n            this[key] = Array.isArray(el) ? ko.observableArray(el) : ko.observable(el);\\n        }\\n        \\n        \\n        [this[\\\"changes\\\"].subscribe((function (val){!(this.valueFromJulia[\\\"changes\\\"]) ? (WebIO.setval({\\\"name\\\":\\\"changes\\\",\\\"scope\\\":\\\"2352799863583871972\\\",\\\"id\\\":\\\"8078459403723888167\\\",\\\"type\\\":\\\"observable\\\"},val)) : undefined; return this.valueFromJulia[\\\"changes\\\"]=false}),self),this[\\\"value\\\"].subscribe((function (val){!(this.valueFromJulia[\\\"value\\\"]) ? (WebIO.setval({\\\"name\\\":\\\"value\\\",\\\"scope\\\":\\\"2352799863583871972\\\",\\\"id\\\":\\\"1848456544513264309\\\",\\\"type\\\":\\\"observable\\\"},val)) : undefined; return this.valueFromJulia[\\\"value\\\"]=false}),self)]\\n        \\n    }\\n    self.model = new AppViewModel();\\n    self.valueFromJulia = {};\\n    for (var key in json_data) {\\n        self.valueFromJulia[key] = false;\\n    }\\n    ko.applyBindings(self.model, self.dom);\\n}\\n);\\n    (WebIO.importBlock({\\\"data\\\":[{\\\"name\\\":\\\"knockout\\\",\\\"type\\\":\\\"js\\\",\\\"url\\\":\\\"\\/assetserver\\/68b391a98f51946de6766c9cb9c06259d0b67941-knockout.js\\\"},{\\\"name\\\":\\\"knockout_punches\\\",\\\"type\\\":\\\"js\\\",\\\"url\\\":\\\"\\/assetserver\\/a75e1e7279f4e8a75d1508d0e0f26637654e46a8-knockout_punches.js\\\"}],\\\"type\\\":\\\"async_block\\\"})).then((imports) => handler.apply(this, imports));\\n}\\n\"],\"observables\":{\"changes\":{\"sync\":false,\"id\":\"8078459403723888167\",\"value\":0},\"value\":{\"sync\":true,\"id\":\"1848456544513264309\",\"value\":false}}},\"children\":[{\"props\":{\"className\":\"field interact-widget\"},\"nodeType\":\"DOM\",\"type\":\"node\",\"instanceArgs\":{\"namespace\":\"html\",\"tag\":\"div\"},\"children\":[{\"props\":{\"attributes\":{\"type\":\"checkbox\",\"data-bind\":\"checked: value, valueUpdate: 'change', event: {change: function (){this.changes(this.changes()+1)}}\"},\"id\":\"##293\",\"className\":\"switch \",\"style\":{}},\"nodeType\":\"DOM\",\"type\":\"node\",\"instanceArgs\":{\"namespace\":\"html\",\"tag\":\"input\"},\"children\":[]},{\"props\":{\"attributes\":{\"className\":\"\",\"for\":\"##293\"}},\"nodeType\":\"DOM\",\"type\":\"node\",\"instanceArgs\":{\"namespace\":\"html\",\"tag\":\"label\"},\"children\":[\"clampedright\"]}]}]}]}]},{\"props\":{\"className\":\"interact-flex-row interact-widget\"},\"nodeType\":\"DOM\",\"type\":\"node\",\"instanceArgs\":{\"namespace\":\"html\",\"tag\":\"div\"},\"children\":[{\"props\":{\"className\":\"field interact-widget\"},\"nodeType\":\"DOM\",\"type\":\"node\",\"instanceArgs\":{\"namespace\":\"html\",\"tag\":\"div\"},\"children\":[{\"props\":{},\"nodeType\":\"Scope\",\"type\":\"node\",\"instanceArgs\":{\"imports\":{\"data\":[{\"name\":\"knockout\",\"type\":\"js\",\"url\":\"\\/assetserver\\/68b391a98f51946de6766c9cb9c06259d0b67941-knockout.js\"},{\"name\":\"knockout_punches\",\"type\":\"js\",\"url\":\"\\/assetserver\\/a75e1e7279f4e8a75d1508d0e0f26637654e46a8-knockout_punches.js\"},{\"name\":null,\"type\":\"js\",\"url\":\"\\/assetserver\\/d83021b3162429c4ffddb670fcd019dc3cf3a17e-all.js\"},{\"name\":null,\"type\":\"css\",\"url\":\"\\/assetserver\\/59440ba4cbbaeea1ad0662e2f3d142b376ac9fb8-style.css\"},{\"name\":null,\"type\":\"css\",\"url\":\"\\/assetserver\\/809dda8cb22c9777167aaf75ded8379bbe41e658-bulma_confined.min.css\"}],\"type\":\"async_block\"},\"id\":\"11790289613816933860\",\"handlers\":{\"changes\":[\"(function (val){return (val!=this.model[\\\"changes\\\"]()) ? (this.valueFromJulia[\\\"changes\\\"]=true, this.model[\\\"changes\\\"](val)) : undefined})\"],\"value\":[\"(function (val){return (val!=this.model[\\\"value\\\"]()) ? (this.valueFromJulia[\\\"value\\\"]=true, this.model[\\\"value\\\"](val)) : undefined})\"]},\"systemjs_options\":null,\"mount_callbacks\":[\"function () {\\n    var handler = (function (ko, koPunches) {\\n    ko.punches.enableAll();\\n    ko.bindingHandlers.numericValue = {\\n        init: function(element, valueAccessor, allBindings, data, context) {\\n            var stringified = ko.observable(ko.unwrap(valueAccessor()));\\n            stringified.subscribe(function(value) {\\n                var val = parseFloat(value);\\n                if (!isNaN(val)) {\\n                    valueAccessor()(val);\\n                }\\n            });\\n            valueAccessor().subscribe(function(value) {\\n                var str = JSON.stringify(value);\\n                if ((str == \\\"0\\\") && ([\\\"-0\\\", \\\"-0.\\\"].indexOf(stringified()) >= 0))\\n                     return;\\n                 if ([\\\"null\\\", \\\"\\\"].indexOf(str) >= 0)\\n                     return;\\n                stringified(str);\\n            });\\n            ko.applyBindingsToNode(\\n                element,\\n                {\\n                    value: stringified,\\n                    valueUpdate: allBindings.get('valueUpdate'),\\n                },\\n                context,\\n            );\\n        }\\n    };\\n    var json_data = {\\\"changes\\\":WebIO.getval({\\\"name\\\":\\\"changes\\\",\\\"scope\\\":\\\"11790289613816933860\\\",\\\"id\\\":\\\"13391487479250174267\\\",\\\"type\\\":\\\"observable\\\"}),\\\"value\\\":WebIO.getval({\\\"name\\\":\\\"value\\\",\\\"scope\\\":\\\"11790289613816933860\\\",\\\"id\\\":\\\"9654119713781886359\\\",\\\"type\\\":\\\"observable\\\"})};\\n    var self = this;\\n    function AppViewModel() {\\n        for (var key in json_data) {\\n            var el = json_data[key];\\n            this[key] = Array.isArray(el) ? ko.observableArray(el) : ko.observable(el);\\n        }\\n        \\n        \\n        [this[\\\"changes\\\"].subscribe((function (val){!(this.valueFromJulia[\\\"changes\\\"]) ? (WebIO.setval({\\\"name\\\":\\\"changes\\\",\\\"scope\\\":\\\"11790289613816933860\\\",\\\"id\\\":\\\"13391487479250174267\\\",\\\"type\\\":\\\"observable\\\"},val)) : undefined; return this.valueFromJulia[\\\"changes\\\"]=false}),self),this[\\\"value\\\"].subscribe((function (val){!(this.valueFromJulia[\\\"value\\\"]) ? (WebIO.setval({\\\"name\\\":\\\"value\\\",\\\"scope\\\":\\\"11790289613816933860\\\",\\\"id\\\":\\\"9654119713781886359\\\",\\\"type\\\":\\\"observable\\\"},val)) : undefined; return this.valueFromJulia[\\\"value\\\"]=false}),self)]\\n        \\n    }\\n    self.model = new AppViewModel();\\n    self.valueFromJulia = {};\\n    for (var key in json_data) {\\n        self.valueFromJulia[key] = false;\\n    }\\n    ko.applyBindings(self.model, self.dom);\\n}\\n);\\n    (WebIO.importBlock({\\\"data\\\":[{\\\"name\\\":\\\"knockout\\\",\\\"type\\\":\\\"js\\\",\\\"url\\\":\\\"\\/assetserver\\/68b391a98f51946de6766c9cb9c06259d0b67941-knockout.js\\\"},{\\\"name\\\":\\\"knockout_punches\\\",\\\"type\\\":\\\"js\\\",\\\"url\\\":\\\"\\/assetserver\\/a75e1e7279f4e8a75d1508d0e0f26637654e46a8-knockout_punches.js\\\"}],\\\"type\\\":\\\"async_block\\\"})).then((imports) => handler.apply(this, imports));\\n}\\n\"],\"observables\":{\"changes\":{\"sync\":false,\"id\":\"13391487479250174267\",\"value\":0},\"value\":{\"sync\":true,\"id\":\"9654119713781886359\",\"value\":false}}},\"children\":[{\"props\":{\"className\":\"field interact-widget\"},\"nodeType\":\"DOM\",\"type\":\"node\",\"instanceArgs\":{\"namespace\":\"html\",\"tag\":\"div\"},\"children\":[{\"props\":{\"attributes\":{\"type\":\"checkbox\",\"data-bind\":\"checked: value, valueUpdate: 'change', event: {change: function (){this.changes(this.changes()+1)}}\"},\"id\":\"##294\",\"className\":\"switch \",\"style\":{}},\"nodeType\":\"DOM\",\"type\":\"node\",\"instanceArgs\":{\"namespace\":\"html\",\"tag\":\"input\"},\"children\":[]},{\"props\":{\"attributes\":{\"className\":\"\",\"for\":\"##294\"}},\"nodeType\":\"DOM\",\"type\":\"node\",\"instanceArgs\":{\"namespace\":\"html\",\"tag\":\"label\"},\"children\":[\"periodic\"]}]}]}]}]},{\"props\":{\"className\":\"interact-flex-row interact-widget\"},\"nodeType\":\"DOM\",\"type\":\"node\",\"instanceArgs\":{\"namespace\":\"html\",\"tag\":\"div\"},\"children\":[{\"props\":{\"className\":\"field interact-widget\"},\"nodeType\":\"DOM\",\"type\":\"node\",\"instanceArgs\":{\"namespace\":\"html\",\"tag\":\"div\"},\"children\":[{\"props\":{},\"nodeType\":\"Scope\",\"type\":\"node\",\"instanceArgs\":{\"imports\":{\"data\":[{\"name\":\"knockout\",\"type\":\"js\",\"url\":\"\\/assetserver\\/68b391a98f51946de6766c9cb9c06259d0b67941-knockout.js\"},{\"name\":\"knockout_punches\",\"type\":\"js\",\"url\":\"\\/assetserver\\/a75e1e7279f4e8a75d1508d0e0f26637654e46a8-knockout_punches.js\"},{\"name\":null,\"type\":\"js\",\"url\":\"\\/assetserver\\/d83021b3162429c4ffddb670fcd019dc3cf3a17e-all.js\"},{\"name\":null,\"type\":\"css\",\"url\":\"\\/assetserver\\/59440ba4cbbaeea1ad0662e2f3d142b376ac9fb8-style.css\"},{\"name\":null,\"type\":\"css\",\"url\":\"\\/assetserver\\/809dda8cb22c9777167aaf75ded8379bbe41e658-bulma_confined.min.css\"}],\"type\":\"async_block\"},\"id\":\"15814540398560056224\",\"handlers\":{\"changes\":[\"(function (val){return (val!=this.model[\\\"changes\\\"]()) ? (this.valueFromJulia[\\\"changes\\\"]=true, this.model[\\\"changes\\\"](val)) : undefined})\"],\"value\":[\"(function (val){return (val!=this.model[\\\"value\\\"]()) ? (this.valueFromJulia[\\\"value\\\"]=true, this.model[\\\"value\\\"](val)) : undefined})\"]},\"systemjs_options\":null,\"mount_callbacks\":[\"function () {\\n    var handler = (function (ko, koPunches) {\\n    ko.punches.enableAll();\\n    ko.bindingHandlers.numericValue = {\\n        init: function(element, valueAccessor, allBindings, data, context) {\\n            var stringified = ko.observable(ko.unwrap(valueAccessor()));\\n            stringified.subscribe(function(value) {\\n                var val = parseFloat(value);\\n                if (!isNaN(val)) {\\n                    valueAccessor()(val);\\n                }\\n            });\\n            valueAccessor().subscribe(function(value) {\\n                var str = JSON.stringify(value);\\n                if ((str == \\\"0\\\") && ([\\\"-0\\\", \\\"-0.\\\"].indexOf(stringified()) >= 0))\\n                     return;\\n                 if ([\\\"null\\\", \\\"\\\"].indexOf(str) >= 0)\\n                     return;\\n                stringified(str);\\n            });\\n            ko.applyBindingsToNode(\\n                element,\\n                {\\n                    value: stringified,\\n                    valueUpdate: allBindings.get('valueUpdate'),\\n                },\\n                context,\\n            );\\n        }\\n    };\\n    var json_data = {\\\"changes\\\":WebIO.getval({\\\"name\\\":\\\"changes\\\",\\\"scope\\\":\\\"15814540398560056224\\\",\\\"id\\\":\\\"4817521045528906106\\\",\\\"type\\\":\\\"observable\\\"}),\\\"value\\\":WebIO.getval({\\\"name\\\":\\\"value\\\",\\\"scope\\\":\\\"15814540398560056224\\\",\\\"id\\\":\\\"8291278684059506527\\\",\\\"type\\\":\\\"observable\\\"})};\\n    var self = this;\\n    function AppViewModel() {\\n        for (var key in json_data) {\\n            var el = json_data[key];\\n            this[key] = Array.isArray(el) ? ko.observableArray(el) : ko.observable(el);\\n        }\\n        \\n        \\n        [this[\\\"changes\\\"].subscribe((function (val){!(this.valueFromJulia[\\\"changes\\\"]) ? (WebIO.setval({\\\"name\\\":\\\"changes\\\",\\\"scope\\\":\\\"15814540398560056224\\\",\\\"id\\\":\\\"4817521045528906106\\\",\\\"type\\\":\\\"observable\\\"},val)) : undefined; return this.valueFromJulia[\\\"changes\\\"]=false}),self),this[\\\"value\\\"].subscribe((function (val){!(this.valueFromJulia[\\\"value\\\"]) ? (WebIO.setval({\\\"name\\\":\\\"value\\\",\\\"scope\\\":\\\"15814540398560056224\\\",\\\"id\\\":\\\"8291278684059506527\\\",\\\"type\\\":\\\"observable\\\"},val)) : undefined; return this.valueFromJulia[\\\"value\\\"]=false}),self)]\\n        \\n    }\\n    self.model = new AppViewModel();\\n    self.valueFromJulia = {};\\n    for (var key in json_data) {\\n        self.valueFromJulia[key] = false;\\n    }\\n    ko.applyBindings(self.model, self.dom);\\n}\\n);\\n    (WebIO.importBlock({\\\"data\\\":[{\\\"name\\\":\\\"knockout\\\",\\\"type\\\":\\\"js\\\",\\\"url\\\":\\\"\\/assetserver\\/68b391a98f51946de6766c9cb9c06259d0b67941-knockout.js\\\"},{\\\"name\\\":\\\"knockout_punches\\\",\\\"type\\\":\\\"js\\\",\\\"url\\\":\\\"\\/assetserver\\/a75e1e7279f4e8a75d1508d0e0f26637654e46a8-knockout_punches.js\\\"}],\\\"type\\\":\\\"async_block\\\"})).then((imports) => handler.apply(this, imports));\\n}\\n\"],\"observables\":{\"changes\":{\"sync\":false,\"id\":\"4817521045528906106\",\"value\":0},\"value\":{\"sync\":true,\"id\":\"8291278684059506527\",\"value\":false}}},\"children\":[{\"props\":{\"className\":\"field interact-widget\"},\"nodeType\":\"DOM\",\"type\":\"node\",\"instanceArgs\":{\"namespace\":\"html\",\"tag\":\"div\"},\"children\":[{\"props\":{\"attributes\":{\"type\":\"checkbox\",\"data-bind\":\"checked: value, valueUpdate: 'change', event: {change: function (){this.changes(this.changes()+1)}}\"},\"id\":\"##295\",\"className\":\"switch \",\"style\":{}},\"nodeType\":\"DOM\",\"type\":\"node\",\"instanceArgs\":{\"namespace\":\"html\",\"tag\":\"input\"},\"children\":[]},{\"props\":{\"attributes\":{\"className\":\"\",\"for\":\"##295\"}},\"nodeType\":\"DOM\",\"type\":\"node\",\"instanceArgs\":{\"namespace\":\"html\",\"tag\":\"label\"},\"children\":[\"naturalleft\"]}]}]}]}]},{\"props\":{\"className\":\"interact-flex-row interact-widget\"},\"nodeType\":\"DOM\",\"type\":\"node\",\"instanceArgs\":{\"namespace\":\"html\",\"tag\":\"div\"},\"children\":[{\"props\":{\"className\":\"field interact-widget\"},\"nodeType\":\"DOM\",\"type\":\"node\",\"instanceArgs\":{\"namespace\":\"html\",\"tag\":\"div\"},\"children\":[{\"props\":{},\"nodeType\":\"Scope\",\"type\":\"node\",\"instanceArgs\":{\"imports\":{\"data\":[{\"name\":\"knockout\",\"type\":\"js\",\"url\":\"\\/assetserver\\/68b391a98f51946de6766c9cb9c06259d0b67941-knockout.js\"},{\"name\":\"knockout_punches\",\"type\":\"js\",\"url\":\"\\/assetserver\\/a75e1e7279f4e8a75d1508d0e0f26637654e46a8-knockout_punches.js\"},{\"name\":null,\"type\":\"js\",\"url\":\"\\/assetserver\\/d83021b3162429c4ffddb670fcd019dc3cf3a17e-all.js\"},{\"name\":null,\"type\":\"css\",\"url\":\"\\/assetserver\\/59440ba4cbbaeea1ad0662e2f3d142b376ac9fb8-style.css\"},{\"name\":null,\"type\":\"css\",\"url\":\"\\/assetserver\\/809dda8cb22c9777167aaf75ded8379bbe41e658-bulma_confined.min.css\"}],\"type\":\"async_block\"},\"id\":\"16078247271783612114\",\"handlers\":{\"changes\":[\"(function (val){return (val!=this.model[\\\"changes\\\"]()) ? (this.valueFromJulia[\\\"changes\\\"]=true, this.model[\\\"changes\\\"](val)) : undefined})\"],\"value\":[\"(function (val){return (val!=this.model[\\\"value\\\"]()) ? (this.valueFromJulia[\\\"value\\\"]=true, this.model[\\\"value\\\"](val)) : undefined})\"]},\"systemjs_options\":null,\"mount_callbacks\":[\"function () {\\n    var handler = (function (ko, koPunches) {\\n    ko.punches.enableAll();\\n    ko.bindingHandlers.numericValue = {\\n        init: function(element, valueAccessor, allBindings, data, context) {\\n            var stringified = ko.observable(ko.unwrap(valueAccessor()));\\n            stringified.subscribe(function(value) {\\n                var val = parseFloat(value);\\n                if (!isNaN(val)) {\\n                    valueAccessor()(val);\\n                }\\n            });\\n            valueAccessor().subscribe(function(value) {\\n                var str = JSON.stringify(value);\\n                if ((str == \\\"0\\\") && ([\\\"-0\\\", \\\"-0.\\\"].indexOf(stringified()) >= 0))\\n                     return;\\n                 if ([\\\"null\\\", \\\"\\\"].indexOf(str) >= 0)\\n                     return;\\n                stringified(str);\\n            });\\n            ko.applyBindingsToNode(\\n                element,\\n                {\\n                    value: stringified,\\n                    valueUpdate: allBindings.get('valueUpdate'),\\n                },\\n                context,\\n            );\\n        }\\n    };\\n    var json_data = {\\\"changes\\\":WebIO.getval({\\\"name\\\":\\\"changes\\\",\\\"scope\\\":\\\"16078247271783612114\\\",\\\"id\\\":\\\"2367939373995726488\\\",\\\"type\\\":\\\"observable\\\"}),\\\"value\\\":WebIO.getval({\\\"name\\\":\\\"value\\\",\\\"scope\\\":\\\"16078247271783612114\\\",\\\"id\\\":\\\"5739574063253290749\\\",\\\"type\\\":\\\"observable\\\"})};\\n    var self = this;\\n    function AppViewModel() {\\n        for (var key in json_data) {\\n            var el = json_data[key];\\n            this[key] = Array.isArray(el) ? ko.observableArray(el) : ko.observable(el);\\n        }\\n        \\n        \\n        [this[\\\"changes\\\"].subscribe((function (val){!(this.valueFromJulia[\\\"changes\\\"]) ? (WebIO.setval({\\\"name\\\":\\\"changes\\\",\\\"scope\\\":\\\"16078247271783612114\\\",\\\"id\\\":\\\"2367939373995726488\\\",\\\"type\\\":\\\"observable\\\"},val)) : undefined; return this.valueFromJulia[\\\"changes\\\"]=false}),self),this[\\\"value\\\"].subscribe((function (val){!(this.valueFromJulia[\\\"value\\\"]) ? (WebIO.setval({\\\"name\\\":\\\"value\\\",\\\"scope\\\":\\\"16078247271783612114\\\",\\\"id\\\":\\\"5739574063253290749\\\",\\\"type\\\":\\\"observable\\\"},val)) : undefined; return this.valueFromJulia[\\\"value\\\"]=false}),self)]\\n        \\n    }\\n    self.model = new AppViewModel();\\n    self.valueFromJulia = {};\\n    for (var key in json_data) {\\n        self.valueFromJulia[key] = false;\\n    }\\n    ko.applyBindings(self.model, self.dom);\\n}\\n);\\n    (WebIO.importBlock({\\\"data\\\":[{\\\"name\\\":\\\"knockout\\\",\\\"type\\\":\\\"js\\\",\\\"url\\\":\\\"\\/assetserver\\/68b391a98f51946de6766c9cb9c06259d0b67941-knockout.js\\\"},{\\\"name\\\":\\\"knockout_punches\\\",\\\"type\\\":\\\"js\\\",\\\"url\\\":\\\"\\/assetserver\\/a75e1e7279f4e8a75d1508d0e0f26637654e46a8-knockout_punches.js\\\"}],\\\"type\\\":\\\"async_block\\\"})).then((imports) => handler.apply(this, imports));\\n}\\n\"],\"observables\":{\"changes\":{\"sync\":false,\"id\":\"2367939373995726488\",\"value\":0},\"value\":{\"sync\":true,\"id\":\"5739574063253290749\",\"value\":false}}},\"children\":[{\"props\":{\"className\":\"field interact-widget\"},\"nodeType\":\"DOM\",\"type\":\"node\",\"instanceArgs\":{\"namespace\":\"html\",\"tag\":\"div\"},\"children\":[{\"props\":{\"attributes\":{\"type\":\"checkbox\",\"data-bind\":\"checked: value, valueUpdate: 'change', event: {change: function (){this.changes(this.changes()+1)}}\"},\"id\":\"##296\",\"className\":\"switch \",\"style\":{}},\"nodeType\":\"DOM\",\"type\":\"node\",\"instanceArgs\":{\"namespace\":\"html\",\"tag\":\"input\"},\"children\":[]},{\"props\":{\"attributes\":{\"className\":\"\",\"for\":\"##296\"}},\"nodeType\":\"DOM\",\"type\":\"node\",\"instanceArgs\":{\"namespace\":\"html\",\"tag\":\"label\"},\"children\":[\"naturalright\"]}]}]}]}]},{\"props\":{},\"nodeType\":\"Scope\",\"type\":\"node\",\"instanceArgs\":{\"imports\":{\"data\":[],\"type\":\"async_block\"},\"id\":\"9112236449131463713\",\"handlers\":{},\"systemjs_options\":null,\"mount_callbacks\":[],\"observables\":{\"obs-node\":{\"sync\":false,\"id\":\"17009665018942004493\",\"value\":{\"props\":{\"className\":\"interact-flex-row interact-widget\"},\"nodeType\":\"DOM\",\"type\":\"node\",\"instanceArgs\":{\"namespace\":\"html\",\"tag\":\"div\"},\"children\":[{\"props\":{\"setInnerHtml\":\"<?xml version=\\\"1.0\\\" encoding=\\\"utf-8\\\"?>\\n<svg xmlns=\\\"http:\\/\\/www.w3.org\\/2000\\/svg\\\" xmlns:xlink=\\\"http:\\/\\/www.w3.org\\/1999\\/xlink\\\" width=\\\"600\\\" height=\\\"400\\\" viewBox=\\\"0 0 2400 1600\\\">\\n<defs>\\n  <clipPath id=\\\"clip350\\\">\\n    <rect x=\\\"0\\\" y=\\\"0\\\" width=\\\"2400\\\" height=\\\"1600\\\"\\/>\\n  <\\/clipPath>\\n<\\/defs>\\n<path clip-path=\\\"url(#clip350)\\\" d=\\\"\\nM0 1600 L2400 1600 L2400 0 L0 0  Z\\n  \\\" fill=\\\"#ffffff\\\" fill-rule=\\\"evenodd\\\" fill-opacity=\\\"1\\\"\\/>\\n<defs>\\n  <clipPath id=\\\"clip351\\\">\\n    <rect x=\\\"480\\\" y=\\\"0\\\" width=\\\"1681\\\" height=\\\"1600\\\"\\/>\\n  <\\/clipPath>\\n<\\/defs>\\n<path clip-path=\\\"url(#clip350)\\\" d=\\\"\\nM193.936 1181.82 L2352.76 1181.82 L2352.76 123.472 L193.936 123.472  Z\\n  \\\" fill=\\\"#ffffff\\\" fill-rule=\\\"evenodd\\\" fill-opacity=\\\"1\\\"\\/>\\n<defs>\\n  <clipPath id=\\\"clip352\\\">\\n    <rect x=\\\"193\\\" y=\\\"123\\\" width=\\\"2160\\\" height=\\\"1059\\\"\\/>\\n  <\\/clipPath>\\n<\\/defs>\\n<polyline clip-path=\\\"url(#clip352)\\\" style=\\\"stroke:#000000; stroke-linecap:butt; stroke-linejoin:round; stroke-width:2; stroke-opacity:0.1; fill:none\\\" points=\\\"\\n  255.035,1181.82 255.035,123.472 \\n  \\\"\\/>\\n<polyline clip-path=\\\"url(#clip352)\\\" style=\\\"stroke:#000000; stroke-linecap:butt; stroke-linejoin:round; stroke-width:2; stroke-opacity:0.1; fill:none\\\" points=\\\"\\n  764.19,1181.82 764.19,123.472 \\n  \\\"\\/>\\n<polyline clip-path=\\\"url(#clip352)\\\" style=\\\"stroke:#000000; stroke-linecap:butt; stroke-linejoin:round; stroke-width:2; stroke-opacity:0.1; fill:none\\\" points=\\\"\\n  1273.35,1181.82 1273.35,123.472 \\n  \\\"\\/>\\n<polyline clip-path=\\\"url(#clip352)\\\" style=\\\"stroke:#000000; stroke-linecap:butt; stroke-linejoin:round; stroke-width:2; stroke-opacity:0.1; fill:none\\\" points=\\\"\\n  1782.5,1181.82 1782.5,123.472 \\n  \\\"\\/>\\n<polyline clip-path=\\\"url(#clip352)\\\" style=\\\"stroke:#000000; stroke-linecap:butt; stroke-linejoin:round; stroke-width:2; stroke-opacity:0.1; fill:none\\\" points=\\\"\\n  2291.66,1181.82 2291.66,123.472 \\n  \\\"\\/>\\n<polyline clip-path=\\\"url(#clip350)\\\" style=\\\"stroke:#000000; stroke-linecap:butt; stroke-linejoin:round; stroke-width:4; stroke-opacity:1; fill:none\\\" points=\\\"\\n  193.936,1181.82 2352.76,1181.82 \\n  \\\"\\/>\\n<polyline clip-path=\\\"url(#clip350)\\\" style=\\\"stroke:#000000; stroke-linecap:butt; stroke-linejoin:round; stroke-width:4; stroke-opacity:1; fill:none\\\" points=\\\"\\n  255.035,1181.82 255.035,1167.14 \\n  \\\"\\/>\\n<polyline clip-path=\\\"url(#clip350)\\\" style=\\\"stroke:#000000; stroke-linecap:butt; stroke-linejoin:round; stroke-width:4; stroke-opacity:1; fill:none\\\" points=\\\"\\n  764.19,1181.82 764.19,1167.14 \\n  \\\"\\/>\\n<polyline clip-path=\\\"url(#clip350)\\\" style=\\\"stroke:#000000; stroke-linecap:butt; stroke-linejoin:round; stroke-width:4; stroke-opacity:1; fill:none\\\" points=\\\"\\n  1273.35,1181.82 1273.35,1167.14 \\n  \\\"\\/>\\n<polyline clip-path=\\\"url(#clip350)\\\" style=\\\"stroke:#000000; stroke-linecap:butt; stroke-linejoin:round; stroke-width:4; stroke-opacity:1; fill:none\\\" points=\\\"\\n  1782.5,1181.82 1782.5,1167.14 \\n  \\\"\\/>\\n<polyline clip-path=\\\"url(#clip350)\\\" style=\\\"stroke:#000000; stroke-linecap:butt; stroke-linejoin:round; stroke-width:4; stroke-opacity:1; fill:none\\\" points=\\\"\\n  2291.66,1181.82 2291.66,1167.14 \\n  \\\"\\/>\\n<path clip-path=\\\"url(#clip350)\\\" d=\\\"M209.097 1227.39 L238.773 1227.39 L238.773 1231.32 L209.097 1231.32 L209.097 1227.39 Z\\\" fill=\\\"#000000\\\" fill-rule=\\\"evenodd\\\" fill-opacity=\\\"1\\\" \\/><path clip-path=\\\"url(#clip350)\\\" d=\\\"M249.676 1240.28 L257.315 1240.28 L257.315 1213.91 L249.005 1215.58 L249.005 1211.32 L257.268 1209.66 L261.944 1209.66 L261.944 1240.28 L269.583 1240.28 L269.583 1244.22 L249.676 1244.22 L249.676 1240.28 Z\\\" fill=\\\"#000000\\\" fill-rule=\\\"evenodd\\\" fill-opacity=\\\"1\\\" \\/><path clip-path=\\\"url(#clip350)\\\" d=\\\"M289.028 1212.73 Q285.416 1212.73 283.588 1216.3 Q281.782 1219.84 281.782 1226.97 Q281.782 1234.08 283.588 1237.64 Q285.416 1241.18 289.028 1241.18 Q292.662 1241.18 294.467 1237.64 Q296.296 1234.08 296.296 1226.97 Q296.296 1219.84 294.467 1216.3 Q292.662 1212.73 289.028 1212.73 M289.028 1209.03 Q294.838 1209.03 297.893 1213.64 Q300.972 1218.22 300.972 1226.97 Q300.972 1235.7 297.893 1240.3 Q294.838 1244.89 289.028 1244.89 Q283.217 1244.89 280.139 1240.3 Q277.083 1235.7 277.083 1226.97 Q277.083 1218.22 280.139 1213.64 Q283.217 1209.03 289.028 1209.03 Z\\\" fill=\\\"#000000\\\" fill-rule=\\\"evenodd\\\" fill-opacity=\\\"1\\\" \\/><path clip-path=\\\"url(#clip350)\\\" d=\\\"M733.832 1227.39 L763.507 1227.39 L763.507 1231.32 L733.832 1231.32 L733.832 1227.39 Z\\\" fill=\\\"#000000\\\" fill-rule=\\\"evenodd\\\" fill-opacity=\\\"1\\\" \\/><path clip-path=\\\"url(#clip350)\\\" d=\\\"M773.646 1209.66 L792.003 1209.66 L792.003 1213.59 L777.929 1213.59 L777.929 1222.06 Q778.947 1221.72 779.966 1221.55 Q780.984 1221.37 782.003 1221.37 Q787.79 1221.37 791.169 1224.54 Q794.549 1227.71 794.549 1233.13 Q794.549 1238.71 791.077 1241.81 Q787.605 1244.89 781.285 1244.89 Q779.109 1244.89 776.841 1244.52 Q774.595 1244.15 772.188 1243.41 L772.188 1238.71 Q774.271 1239.84 776.493 1240.4 Q778.716 1240.95 781.193 1240.95 Q785.197 1240.95 787.535 1238.85 Q789.873 1236.74 789.873 1233.13 Q789.873 1229.52 787.535 1227.41 Q785.197 1225.3 781.193 1225.3 Q779.318 1225.3 777.443 1225.72 Q775.591 1226.14 773.646 1227.02 L773.646 1209.66 Z\\\" fill=\\\"#000000\\\" fill-rule=\\\"evenodd\\\" fill-opacity=\\\"1\\\" \\/><path clip-path=\\\"url(#clip350)\\\" d=\\\"M1273.35 1212.73 Q1269.73 1212.73 1267.91 1216.3 Q1266.1 1219.84 1266.1 1226.97 Q1266.1 1234.08 1267.91 1237.64 Q1269.73 1241.18 1273.35 1241.18 Q1276.98 1241.18 1278.79 1237.64 Q1280.61 1234.08 1280.61 1226.97 Q1280.61 1219.84 1278.79 1216.3 Q1276.98 1212.73 1273.35 1212.73 M1273.35 1209.03 Q1279.16 1209.03 1282.21 1213.64 Q1285.29 1218.22 1285.29 1226.97 Q1285.29 1235.7 1282.21 1240.3 Q1279.16 1244.89 1273.35 1244.89 Q1267.54 1244.89 1264.46 1240.3 Q1261.4 1235.7 1261.4 1226.97 Q1261.4 1218.22 1264.46 1213.64 Q1267.54 1209.03 1273.35 1209.03 Z\\\" fill=\\\"#000000\\\" fill-rule=\\\"evenodd\\\" fill-opacity=\\\"1\\\" \\/><path clip-path=\\\"url(#clip350)\\\" d=\\\"M1772.78 1209.66 L1791.14 1209.66 L1791.14 1213.59 L1777.06 1213.59 L1777.06 1222.06 Q1778.08 1221.72 1779.1 1221.55 Q1780.12 1221.37 1781.14 1221.37 Q1786.92 1221.37 1790.3 1224.54 Q1793.68 1227.71 1793.68 1233.13 Q1793.68 1238.71 1790.21 1241.81 Q1786.74 1244.89 1780.42 1244.89 Q1778.24 1244.89 1775.97 1244.52 Q1773.73 1244.15 1771.32 1243.41 L1771.32 1238.71 Q1773.4 1239.84 1775.63 1240.4 Q1777.85 1240.95 1780.33 1240.95 Q1784.33 1240.95 1786.67 1238.85 Q1789.01 1236.74 1789.01 1233.13 Q1789.01 1229.52 1786.67 1227.41 Q1784.33 1225.3 1780.33 1225.3 Q1778.45 1225.3 1776.58 1225.72 Q1774.72 1226.14 1772.78 1227.02 L1772.78 1209.66 Z\\\" fill=\\\"#000000\\\" fill-rule=\\\"evenodd\\\" fill-opacity=\\\"1\\\" \\/><path clip-path=\\\"url(#clip350)\\\" d=\\\"M2266.34 1240.28 L2273.98 1240.28 L2273.98 1213.91 L2265.67 1215.58 L2265.67 1211.32 L2273.94 1209.66 L2278.61 1209.66 L2278.61 1240.28 L2286.25 1240.28 L2286.25 1244.22 L2266.34 1244.22 L2266.34 1240.28 Z\\\" fill=\\\"#000000\\\" fill-rule=\\\"evenodd\\\" fill-opacity=\\\"1\\\" \\/><path clip-path=\\\"url(#clip350)\\\" d=\\\"M2305.7 1212.73 Q2302.09 1212.73 2300.26 1216.3 Q2298.45 1219.84 2298.45 1226.97 Q2298.45 1234.08 2300.26 1237.64 Q2302.09 1241.18 2305.7 1241.18 Q2309.33 1241.18 2311.14 1237.64 Q2312.96 1234.08 2312.96 1226.97 Q2312.96 1219.84 2311.14 1216.3 Q2309.33 1212.73 2305.7 1212.73 M2305.7 1209.03 Q2311.51 1209.03 2314.56 1213.64 Q2317.64 1218.22 2317.64 1226.97 Q2317.64 1235.7 2314.56 1240.3 Q2311.51 1244.89 2305.7 1244.89 Q2299.89 1244.89 2296.81 1240.3 Q2293.75 1235.7 2293.75 1226.97 Q2293.75 1218.22 2296.81 1213.64 Q2299.89 1209.03 2305.7 1209.03 Z\\\" fill=\\\"#000000\\\" fill-rule=\\\"evenodd\\\" fill-opacity=\\\"1\\\" \\/><polyline clip-path=\\\"url(#clip352)\\\" style=\\\"stroke:#000000; stroke-linecap:butt; stroke-linejoin:round; stroke-width:2; stroke-opacity:0.1; fill:none\\\" points=\\\"\\n  193.936,1161.66 2352.76,1161.66 \\n  \\\"\\/>\\n<polyline clip-path=\\\"url(#clip352)\\\" style=\\\"stroke:#000000; stroke-linecap:butt; stroke-linejoin:round; stroke-width:2; stroke-opacity:0.1; fill:none\\\" points=\\\"\\n  193.936,991.988 2352.76,991.988 \\n  \\\"\\/>\\n<polyline clip-path=\\\"url(#clip352)\\\" style=\\\"stroke:#000000; stroke-linecap:butt; stroke-linejoin:round; stroke-width:2; stroke-opacity:0.1; fill:none\\\" points=\\\"\\n  193.936,822.316 2352.76,822.316 \\n  \\\"\\/>\\n<polyline clip-path=\\\"url(#clip352)\\\" style=\\\"stroke:#000000; stroke-linecap:butt; stroke-linejoin:round; stroke-width:2; stroke-opacity:0.1; fill:none\\\" points=\\\"\\n  193.936,652.644 2352.76,652.644 \\n  \\\"\\/>\\n<polyline clip-path=\\\"url(#clip352)\\\" style=\\\"stroke:#000000; stroke-linecap:butt; stroke-linejoin:round; stroke-width:2; stroke-opacity:0.1; fill:none\\\" points=\\\"\\n  193.936,482.972 2352.76,482.972 \\n  \\\"\\/>\\n<polyline clip-path=\\\"url(#clip352)\\\" style=\\\"stroke:#000000; stroke-linecap:butt; stroke-linejoin:round; stroke-width:2; stroke-opacity:0.1; fill:none\\\" points=\\\"\\n  193.936,313.3 2352.76,313.3 \\n  \\\"\\/>\\n<polyline clip-path=\\\"url(#clip352)\\\" style=\\\"stroke:#000000; stroke-linecap:butt; stroke-linejoin:round; stroke-width:2; stroke-opacity:0.1; fill:none\\\" points=\\\"\\n  193.936,143.628 2352.76,143.628 \\n  \\\"\\/>\\n<polyline clip-path=\\\"url(#clip350)\\\" style=\\\"stroke:#000000; stroke-linecap:butt; stroke-linejoin:round; stroke-width:4; stroke-opacity:1; fill:none\\\" points=\\\"\\n  193.936,1181.82 193.936,123.472 \\n  \\\"\\/>\\n<polyline clip-path=\\\"url(#clip350)\\\" style=\\\"stroke:#000000; stroke-linecap:butt; stroke-linejoin:round; stroke-width:4; stroke-opacity:1; fill:none\\\" points=\\\"\\n  193.936,1161.66 212.834,1161.66 \\n  \\\"\\/>\\n<polyline clip-path=\\\"url(#clip350)\\\" style=\\\"stroke:#000000; stroke-linecap:butt; stroke-linejoin:round; stroke-width:4; stroke-opacity:1; fill:none\\\" points=\\\"\\n  193.936,991.988 212.834,991.988 \\n  \\\"\\/>\\n<polyline clip-path=\\\"url(#clip350)\\\" style=\\\"stroke:#000000; stroke-linecap:butt; stroke-linejoin:round; stroke-width:4; stroke-opacity:1; fill:none\\\" points=\\\"\\n  193.936,822.316 212.834,822.316 \\n  \\\"\\/>\\n<polyline clip-path=\\\"url(#clip350)\\\" style=\\\"stroke:#000000; stroke-linecap:butt; stroke-linejoin:round; stroke-width:4; stroke-opacity:1; fill:none\\\" points=\\\"\\n  193.936,652.644 212.834,652.644 \\n  \\\"\\/>\\n<polyline clip-path=\\\"url(#clip350)\\\" style=\\\"stroke:#000000; stroke-linecap:butt; stroke-linejoin:round; stroke-width:4; stroke-opacity:1; fill:none\\\" points=\\\"\\n  193.936,482.972 212.834,482.972 \\n  \\\"\\/>\\n<polyline clip-path=\\\"url(#clip350)\\\" style=\\\"stroke:#000000; stroke-linecap:butt; stroke-linejoin:round; stroke-width:4; stroke-opacity:1; fill:none\\\" points=\\\"\\n  193.936,313.3 212.834,313.3 \\n  \\\"\\/>\\n<polyline clip-path=\\\"url(#clip350)\\\" style=\\\"stroke:#000000; stroke-linecap:butt; stroke-linejoin:round; stroke-width:4; stroke-opacity:1; fill:none\\\" points=\\\"\\n  193.936,143.628 212.834,143.628 \\n  \\\"\\/>\\n<path clip-path=\\\"url(#clip350)\\\" d=\\\"M51.9875 1162.11 L81.6633 1162.11 L81.6633 1166.05 L51.9875 1166.05 L51.9875 1162.11 Z\\\" fill=\\\"#000000\\\" fill-rule=\\\"evenodd\\\" fill-opacity=\\\"1\\\" \\/><path clip-path=\\\"url(#clip350)\\\" d=\\\"M92.566 1175 L100.205 1175 L100.205 1148.64 L91.8947 1150.31 L91.8947 1146.05 L100.159 1144.38 L104.834 1144.38 L104.834 1175 L112.473 1175 L112.473 1178.94 L92.566 1178.94 L92.566 1175 Z\\\" fill=\\\"#000000\\\" fill-rule=\\\"evenodd\\\" fill-opacity=\\\"1\\\" \\/><path clip-path=\\\"url(#clip350)\\\" d=\\\"M121.918 1173.06 L126.802 1173.06 L126.802 1178.94 L121.918 1178.94 L121.918 1173.06 Z\\\" fill=\\\"#000000\\\" fill-rule=\\\"evenodd\\\" fill-opacity=\\\"1\\\" \\/><path clip-path=\\\"url(#clip350)\\\" d=\\\"M137.033 1144.38 L155.39 1144.38 L155.39 1148.32 L141.316 1148.32 L141.316 1156.79 Q142.334 1156.44 143.353 1156.28 Q144.371 1156.09 145.39 1156.09 Q151.177 1156.09 154.556 1159.26 Q157.936 1162.44 157.936 1167.85 Q157.936 1173.43 154.464 1176.53 Q150.992 1179.61 144.672 1179.61 Q142.496 1179.61 140.228 1179.24 Q137.982 1178.87 135.575 1178.13 L135.575 1173.43 Q137.658 1174.56 139.881 1175.12 Q142.103 1175.68 144.58 1175.68 Q148.584 1175.68 150.922 1173.57 Q153.26 1171.46 153.26 1167.85 Q153.26 1164.24 150.922 1162.13 Q148.584 1160.03 144.58 1160.03 Q142.705 1160.03 140.83 1160.44 Q138.978 1160.86 137.033 1161.74 L137.033 1144.38 Z\\\" fill=\\\"#000000\\\" fill-rule=\\\"evenodd\\\" fill-opacity=\\\"1\\\" \\/><path clip-path=\\\"url(#clip350)\\\" d=\\\"M50.9921 992.439 L80.6679 992.439 L80.6679 996.374 L50.9921 996.374 L50.9921 992.439 Z\\\" fill=\\\"#000000\\\" fill-rule=\\\"evenodd\\\" fill-opacity=\\\"1\\\" \\/><path clip-path=\\\"url(#clip350)\\\" d=\\\"M91.5706 1005.33 L99.2095 1005.33 L99.2095 978.967 L90.8993 980.634 L90.8993 976.374 L99.1632 974.708 L103.839 974.708 L103.839 1005.33 L111.478 1005.33 L111.478 1009.27 L91.5706 1009.27 L91.5706 1005.33 Z\\\" fill=\\\"#000000\\\" fill-rule=\\\"evenodd\\\" fill-opacity=\\\"1\\\" \\/><path clip-path=\\\"url(#clip350)\\\" d=\\\"M120.922 1003.39 L125.807 1003.39 L125.807 1009.27 L120.922 1009.27 L120.922 1003.39 Z\\\" fill=\\\"#000000\\\" fill-rule=\\\"evenodd\\\" fill-opacity=\\\"1\\\" \\/><path clip-path=\\\"url(#clip350)\\\" d=\\\"M145.992 977.787 Q142.381 977.787 140.552 981.351 Q138.746 984.893 138.746 992.023 Q138.746 999.129 140.552 1002.69 Q142.381 1006.24 145.992 1006.24 Q149.626 1006.24 151.431 1002.69 Q153.26 999.129 153.26 992.023 Q153.26 984.893 151.431 981.351 Q149.626 977.787 145.992 977.787 M145.992 974.083 Q151.802 974.083 154.857 978.689 Q157.936 983.273 157.936 992.023 Q157.936 1000.75 154.857 1005.36 Q151.802 1009.94 145.992 1009.94 Q140.181 1009.94 137.103 1005.36 Q134.047 1000.75 134.047 992.023 Q134.047 983.273 137.103 978.689 Q140.181 974.083 145.992 974.083 Z\\\" fill=\\\"#000000\\\" fill-rule=\\\"evenodd\\\" fill-opacity=\\\"1\\\" \\/><path clip-path=\\\"url(#clip350)\\\" d=\\\"M51.9875 822.767 L81.6633 822.767 L81.6633 826.702 L51.9875 826.702 L51.9875 822.767 Z\\\" fill=\\\"#000000\\\" fill-rule=\\\"evenodd\\\" fill-opacity=\\\"1\\\" \\/><path clip-path=\\\"url(#clip350)\\\" d=\\\"M101.756 808.114 Q98.1447 808.114 96.316 811.679 Q94.5104 815.221 94.5104 822.351 Q94.5104 829.457 96.316 833.022 Q98.1447 836.563 101.756 836.563 Q105.39 836.563 107.196 833.022 Q109.024 829.457 109.024 822.351 Q109.024 815.221 107.196 811.679 Q105.39 808.114 101.756 808.114 M101.756 804.411 Q107.566 804.411 110.621 809.017 Q113.7 813.601 113.7 822.351 Q113.7 831.077 110.621 835.684 Q107.566 840.267 101.756 840.267 Q95.9456 840.267 92.8669 835.684 Q89.8114 831.077 89.8114 822.351 Q89.8114 813.601 92.8669 809.017 Q95.9456 804.411 101.756 804.411 Z\\\" fill=\\\"#000000\\\" fill-rule=\\\"evenodd\\\" fill-opacity=\\\"1\\\" \\/><path clip-path=\\\"url(#clip350)\\\" d=\\\"M121.918 833.716 L126.802 833.716 L126.802 839.596 L121.918 839.596 L121.918 833.716 Z\\\" fill=\\\"#000000\\\" fill-rule=\\\"evenodd\\\" fill-opacity=\\\"1\\\" \\/><path clip-path=\\\"url(#clip350)\\\" d=\\\"M137.033 805.036 L155.39 805.036 L155.39 808.971 L141.316 808.971 L141.316 817.443 Q142.334 817.096 143.353 816.934 Q144.371 816.749 145.39 816.749 Q151.177 816.749 154.556 819.92 Q157.936 823.091 157.936 828.508 Q157.936 834.087 154.464 837.188 Q150.992 840.267 144.672 840.267 Q142.496 840.267 140.228 839.897 Q137.982 839.526 135.575 838.786 L135.575 834.087 Q137.658 835.221 139.881 835.776 Q142.103 836.332 144.58 836.332 Q148.584 836.332 150.922 834.225 Q153.26 832.119 153.26 828.508 Q153.26 824.897 150.922 822.79 Q148.584 820.684 144.58 820.684 Q142.705 820.684 140.83 821.101 Q138.978 821.517 137.033 822.397 L137.033 805.036 Z\\\" fill=\\\"#000000\\\" fill-rule=\\\"evenodd\\\" fill-opacity=\\\"1\\\" \\/><path clip-path=\\\"url(#clip350)\\\" d=\\\"M100.76 638.442 Q97.1493 638.442 95.3206 642.007 Q93.515 645.549 93.515 652.678 Q93.515 659.785 95.3206 663.35 Q97.1493 666.891 100.76 666.891 Q104.395 666.891 106.2 663.35 Q108.029 659.785 108.029 652.678 Q108.029 645.549 106.2 642.007 Q104.395 638.442 100.76 638.442 M100.76 634.739 Q106.571 634.739 109.626 639.345 Q112.705 643.929 112.705 652.678 Q112.705 661.405 109.626 666.012 Q106.571 670.595 100.76 670.595 Q94.9502 670.595 91.8715 666.012 Q88.816 661.405 88.816 652.678 Q88.816 643.929 91.8715 639.345 Q94.9502 634.739 100.76 634.739 Z\\\" fill=\\\"#000000\\\" fill-rule=\\\"evenodd\\\" fill-opacity=\\\"1\\\" \\/><path clip-path=\\\"url(#clip350)\\\" d=\\\"M120.922 664.044 L125.807 664.044 L125.807 669.924 L120.922 669.924 L120.922 664.044 Z\\\" fill=\\\"#000000\\\" fill-rule=\\\"evenodd\\\" fill-opacity=\\\"1\\\" \\/><path clip-path=\\\"url(#clip350)\\\" d=\\\"M145.992 638.442 Q142.381 638.442 140.552 642.007 Q138.746 645.549 138.746 652.678 Q138.746 659.785 140.552 663.35 Q142.381 666.891 145.992 666.891 Q149.626 666.891 151.431 663.35 Q153.26 659.785 153.26 652.678 Q153.26 645.549 151.431 642.007 Q149.626 638.442 145.992 638.442 M145.992 634.739 Q151.802 634.739 154.857 639.345 Q157.936 643.929 157.936 652.678 Q157.936 661.405 154.857 666.012 Q151.802 670.595 145.992 670.595 Q140.181 670.595 137.103 666.012 Q134.047 661.405 134.047 652.678 Q134.047 643.929 137.103 639.345 Q140.181 634.739 145.992 634.739 Z\\\" fill=\\\"#000000\\\" fill-rule=\\\"evenodd\\\" fill-opacity=\\\"1\\\" \\/><path clip-path=\\\"url(#clip350)\\\" d=\\\"M101.756 468.77 Q98.1447 468.77 96.316 472.335 Q94.5104 475.877 94.5104 483.006 Q94.5104 490.113 96.316 493.678 Q98.1447 497.219 101.756 497.219 Q105.39 497.219 107.196 493.678 Q109.024 490.113 109.024 483.006 Q109.024 475.877 107.196 472.335 Q105.39 468.77 101.756 468.77 M101.756 465.067 Q107.566 465.067 110.621 469.673 Q113.7 474.256 113.7 483.006 Q113.7 491.733 110.621 496.34 Q107.566 500.923 101.756 500.923 Q95.9456 500.923 92.8669 496.34 Q89.8114 491.733 89.8114 483.006 Q89.8114 474.256 92.8669 469.673 Q95.9456 465.067 101.756 465.067 Z\\\" fill=\\\"#000000\\\" fill-rule=\\\"evenodd\\\" fill-opacity=\\\"1\\\" \\/><path clip-path=\\\"url(#clip350)\\\" d=\\\"M121.918 494.372 L126.802 494.372 L126.802 500.252 L121.918 500.252 L121.918 494.372 Z\\\" fill=\\\"#000000\\\" fill-rule=\\\"evenodd\\\" fill-opacity=\\\"1\\\" \\/><path clip-path=\\\"url(#clip350)\\\" d=\\\"M137.033 465.692 L155.39 465.692 L155.39 469.627 L141.316 469.627 L141.316 478.099 Q142.334 477.752 143.353 477.59 Q144.371 477.405 145.39 477.405 Q151.177 477.405 154.556 480.576 Q157.936 483.747 157.936 489.164 Q157.936 494.742 154.464 497.844 Q150.992 500.923 144.672 500.923 Q142.496 500.923 140.228 500.553 Q137.982 500.182 135.575 499.442 L135.575 494.742 Q137.658 495.877 139.881 496.432 Q142.103 496.988 144.58 496.988 Q148.584 496.988 150.922 494.881 Q153.26 492.775 153.26 489.164 Q153.26 485.553 150.922 483.446 Q148.584 481.34 144.58 481.34 Q142.705 481.34 140.83 481.756 Q138.978 482.173 137.033 483.053 L137.033 465.692 Z\\\" fill=\\\"#000000\\\" fill-rule=\\\"evenodd\\\" fill-opacity=\\\"1\\\" \\/><path clip-path=\\\"url(#clip350)\\\" d=\\\"M91.5706 326.644 L99.2095 326.644 L99.2095 300.279 L90.8993 301.946 L90.8993 297.686 L99.1632 296.02 L103.839 296.02 L103.839 326.644 L111.478 326.644 L111.478 330.58 L91.5706 330.58 L91.5706 326.644 Z\\\" fill=\\\"#000000\\\" fill-rule=\\\"evenodd\\\" fill-opacity=\\\"1\\\" \\/><path clip-path=\\\"url(#clip350)\\\" d=\\\"M120.922 324.7 L125.807 324.7 L125.807 330.58 L120.922 330.58 L120.922 324.7 Z\\\" fill=\\\"#000000\\\" fill-rule=\\\"evenodd\\\" fill-opacity=\\\"1\\\" \\/><path clip-path=\\\"url(#clip350)\\\" d=\\\"M145.992 299.098 Q142.381 299.098 140.552 302.663 Q138.746 306.205 138.746 313.334 Q138.746 320.441 140.552 324.006 Q142.381 327.547 145.992 327.547 Q149.626 327.547 151.431 324.006 Q153.26 320.441 153.26 313.334 Q153.26 306.205 151.431 302.663 Q149.626 299.098 145.992 299.098 M145.992 295.395 Q151.802 295.395 154.857 300.001 Q157.936 304.584 157.936 313.334 Q157.936 322.061 154.857 326.668 Q151.802 331.251 145.992 331.251 Q140.181 331.251 137.103 326.668 Q134.047 322.061 134.047 313.334 Q134.047 304.584 137.103 300.001 Q140.181 295.395 145.992 295.395 Z\\\" fill=\\\"#000000\\\" fill-rule=\\\"evenodd\\\" fill-opacity=\\\"1\\\" \\/><path clip-path=\\\"url(#clip350)\\\" d=\\\"M92.566 156.972 L100.205 156.972 L100.205 130.607 L91.8947 132.273 L91.8947 128.014 L100.159 126.348 L104.834 126.348 L104.834 156.972 L112.473 156.972 L112.473 160.908 L92.566 160.908 L92.566 156.972 Z\\\" fill=\\\"#000000\\\" fill-rule=\\\"evenodd\\\" fill-opacity=\\\"1\\\" \\/><path clip-path=\\\"url(#clip350)\\\" d=\\\"M121.918 155.028 L126.802 155.028 L126.802 160.908 L121.918 160.908 L121.918 155.028 Z\\\" fill=\\\"#000000\\\" fill-rule=\\\"evenodd\\\" fill-opacity=\\\"1\\\" \\/><path clip-path=\\\"url(#clip350)\\\" d=\\\"M137.033 126.348 L155.39 126.348 L155.39 130.283 L141.316 130.283 L141.316 138.755 Q142.334 138.408 143.353 138.246 Q144.371 138.06 145.39 138.06 Q151.177 138.06 154.556 141.232 Q157.936 144.403 157.936 149.82 Q157.936 155.398 154.464 158.5 Q150.992 161.579 144.672 161.579 Q142.496 161.579 140.228 161.209 Q137.982 160.838 135.575 160.097 L135.575 155.398 Q137.658 156.533 139.881 157.088 Q142.103 157.644 144.58 157.644 Q148.584 157.644 150.922 155.537 Q153.26 153.431 153.26 149.82 Q153.26 146.209 150.922 144.102 Q148.584 141.996 144.58 141.996 Q142.705 141.996 140.83 142.412 Q138.978 142.829 137.033 143.709 L137.033 126.348 Z\\\" fill=\\\"#000000\\\" fill-rule=\\\"evenodd\\\" fill-opacity=\\\"1\\\" \\/><path clip-path=\\\"url(#clip350)\\\" d=\\\"M1057.03 43.6931 L1057.03 65.8515 L1070.15 65.8515 Q1076.76 65.8515 1079.92 63.1374 Q1083.12 60.3828 1083.12 54.752 Q1083.12 49.0808 1079.92 46.4072 Q1076.76 43.6931 1070.15 43.6931 L1057.03 43.6931 M1057.03 18.8205 L1057.03 37.0496 L1069.14 37.0496 Q1075.14 37.0496 1078.05 34.8216 Q1081.01 32.5531 1081.01 27.935 Q1081.01 23.3575 1078.05 21.089 Q1075.14 18.8205 1069.14 18.8205 L1057.03 18.8205 M1048.84 12.096 L1069.75 12.096 Q1079.11 12.096 1084.17 15.9849 Q1089.23 19.8737 1089.23 27.0438 Q1089.23 32.5936 1086.64 35.8748 Q1084.05 39.156 1079.02 39.9662 Q1085.06 41.2625 1088.38 45.3944 Q1091.74 49.4858 1091.74 55.6432 Q1091.74 63.745 1086.23 68.1605 Q1080.73 72.576 1070.56 72.576 L1048.84 72.576 L1048.84 12.096 Z\\\" fill=\\\"#000000\\\" fill-rule=\\\"evenodd\\\" fill-opacity=\\\"1\\\" \\/><path clip-path=\\\"url(#clip350)\\\" d=\\\"M1123.02 32.4315 Q1117.02 32.4315 1113.54 37.1306 Q1110.05 41.7891 1110.05 49.9314 Q1110.05 58.0738 1113.5 62.7728 Q1116.98 67.4314 1123.02 67.4314 Q1128.97 67.4314 1132.46 62.7323 Q1135.94 58.0333 1135.94 49.9314 Q1135.94 41.8701 1132.46 37.1711 Q1128.97 32.4315 1123.02 32.4315 M1123.02 26.1121 Q1132.74 26.1121 1138.29 32.4315 Q1143.84 38.7509 1143.84 49.9314 Q1143.84 61.0714 1138.29 67.4314 Q1132.74 73.7508 1123.02 73.7508 Q1113.25 73.7508 1107.7 67.4314 Q1102.2 61.0714 1102.2 49.9314 Q1102.2 38.7509 1107.7 32.4315 Q1113.25 26.1121 1123.02 26.1121 Z\\\" fill=\\\"#000000\\\" fill-rule=\\\"evenodd\\\" fill-opacity=\\\"1\\\" \\/><path clip-path=\\\"url(#clip350)\\\" d=\\\"M1155.42 54.671 L1155.42 27.2059 L1162.88 27.2059 L1162.88 54.3874 Q1162.88 60.8284 1165.39 64.0691 Q1167.9 67.2693 1172.92 67.2693 Q1178.96 67.2693 1182.44 63.421 Q1185.97 59.5726 1185.97 52.9291 L1185.97 27.2059 L1193.42 27.2059 L1193.42 72.576 L1185.97 72.576 L1185.97 65.6084 Q1183.25 69.7404 1179.65 71.7658 Q1176.08 73.7508 1171.34 73.7508 Q1163.53 73.7508 1159.48 68.8897 Q1155.42 64.0286 1155.42 54.671 M1174.18 26.1121 L1174.18 26.1121 Z\\\" fill=\\\"#000000\\\" fill-rule=\\\"evenodd\\\" fill-opacity=\\\"1\\\" \\/><path clip-path=\\\"url(#clip350)\\\" d=\\\"M1246.49 45.1919 L1246.49 72.576 L1239.03 72.576 L1239.03 45.4349 Q1239.03 38.994 1236.52 35.7938 Q1234.01 32.5936 1228.99 32.5936 Q1222.95 32.5936 1219.47 36.4419 Q1215.99 40.2903 1215.99 46.9338 L1215.99 72.576 L1208.49 72.576 L1208.49 27.2059 L1215.99 27.2059 L1215.99 34.2544 Q1218.66 30.163 1222.26 28.1376 Q1225.91 26.1121 1230.65 26.1121 Q1238.47 26.1121 1242.48 30.9732 Q1246.49 35.7938 1246.49 45.1919 Z\\\" fill=\\\"#000000\\\" fill-rule=\\\"evenodd\\\" fill-opacity=\\\"1\\\" \\/><path clip-path=\\\"url(#clip350)\\\" d=\\\"M1291.21 34.0924 L1291.21 9.54393 L1298.66 9.54393 L1298.66 72.576 L1291.21 72.576 L1291.21 65.7705 Q1288.86 69.8214 1285.26 71.8063 Q1281.69 73.7508 1276.67 73.7508 Q1268.44 73.7508 1263.26 67.1883 Q1258.11 60.6258 1258.11 49.9314 Q1258.11 39.2371 1263.26 32.6746 Q1268.44 26.1121 1276.67 26.1121 Q1281.69 26.1121 1285.26 28.0971 Q1288.86 30.0415 1291.21 34.0924 M1265.81 49.9314 Q1265.81 58.1548 1269.17 62.8538 Q1272.58 67.5124 1278.49 67.5124 Q1284.4 67.5124 1287.81 62.8538 Q1291.21 58.1548 1291.21 49.9314 Q1291.21 41.7081 1287.81 37.0496 Q1284.4 32.3505 1278.49 32.3505 Q1272.58 32.3505 1269.17 37.0496 Q1265.81 41.7081 1265.81 49.9314 Z\\\" fill=\\\"#000000\\\" fill-rule=\\\"evenodd\\\" fill-opacity=\\\"1\\\" \\/><path clip-path=\\\"url(#clip350)\\\" d=\\\"M1334.64 49.7694 Q1325.6 49.7694 1322.12 51.8354 Q1318.64 53.9013 1318.64 58.8839 Q1318.64 62.8538 1321.23 65.2034 Q1323.86 67.5124 1328.36 67.5124 Q1334.56 67.5124 1338.28 63.1374 Q1342.05 58.7219 1342.05 51.4303 L1342.05 49.7694 L1334.64 49.7694 M1349.5 46.6907 L1349.5 72.576 L1342.05 72.576 L1342.05 65.6895 Q1339.5 69.8214 1335.69 71.8063 Q1331.88 73.7508 1326.37 73.7508 Q1319.4 73.7508 1315.27 69.8619 Q1311.18 65.9325 1311.18 59.3701 Q1311.18 51.7138 1316.29 47.825 Q1321.43 43.9361 1331.6 43.9361 L1342.05 43.9361 L1342.05 43.2069 Q1342.05 38.0623 1338.65 35.2672 Q1335.28 32.4315 1329.17 32.4315 Q1325.28 32.4315 1321.59 33.3632 Q1317.91 34.295 1314.5 36.1584 L1314.5 29.2718 Q1318.59 27.692 1322.44 26.9223 Q1326.29 26.1121 1329.94 26.1121 Q1339.78 26.1121 1344.64 31.2163 Q1349.5 36.3204 1349.5 46.6907 Z\\\" fill=\\\"#000000\\\" fill-rule=\\\"evenodd\\\" fill-opacity=\\\"1\\\" \\/><path clip-path=\\\"url(#clip350)\\\" d=\\\"M1391.15 34.1734 Q1389.89 33.4443 1388.39 33.1202 Q1386.93 32.7556 1385.15 32.7556 Q1378.83 32.7556 1375.43 36.8875 Q1372.07 40.9789 1372.07 48.6757 L1372.07 72.576 L1364.57 72.576 L1364.57 27.2059 L1372.07 27.2059 L1372.07 34.2544 Q1374.42 30.1225 1378.18 28.1376 Q1381.95 26.1121 1387.34 26.1121 Q1388.11 26.1121 1389.04 26.2337 Q1389.97 26.3147 1391.11 26.5172 L1391.15 34.1734 Z\\\" fill=\\\"#000000\\\" fill-rule=\\\"evenodd\\\" fill-opacity=\\\"1\\\" \\/><path clip-path=\\\"url(#clip350)\\\" d=\\\"M1417.84 76.7889 Q1414.68 84.8907 1411.68 87.3618 Q1408.69 89.8329 1403.66 89.8329 L1397.71 89.8329 L1397.71 83.5945 L1402.08 83.5945 Q1405.16 83.5945 1406.86 82.1361 Q1408.57 80.6778 1410.63 75.2496 L1411.97 71.8468 L1393.62 27.2059 L1401.52 27.2059 L1415.69 62.6918 L1429.87 27.2059 L1437.77 27.2059 L1417.84 76.7889 Z\\\" fill=\\\"#000000\\\" fill-rule=\\\"evenodd\\\" fill-opacity=\\\"1\\\" \\/><path clip-path=\\\"url(#clip350)\\\" d=\\\"M1447.37 9.54393 L1464.55 9.54393 L1464.55 15.3367 L1454.83 15.3367 L1454.83 77.7206 L1464.55 77.7206 L1464.55 83.5134 L1447.37 83.5134 L1447.37 9.54393 Z\\\" fill=\\\"#000000\\\" fill-rule=\\\"evenodd\\\" fill-opacity=\\\"1\\\" \\/><path clip-path=\\\"url(#clip350)\\\" d=\\\"M1497.85 9.54393 L1497.85 83.5134 L1480.67 83.5134 L1480.67 77.7206 L1490.35 77.7206 L1490.35 15.3367 L1480.67 15.3367 L1480.67 9.54393 L1497.85 9.54393 Z\\\" fill=\\\"#000000\\\" fill-rule=\\\"evenodd\\\" fill-opacity=\\\"1\\\" \\/><polyline clip-path=\\\"url(#clip352)\\\" style=\\\"stroke:#009af9; stroke-linecap:butt; stroke-linejoin:round; stroke-width:4; stroke-opacity:1; fill:none\\\" stroke-dasharray=\\\"16, 10\\\" points=\\\"\\n  255.035,1151.86 257.073,1151.79 259.112,1151.73 261.151,1151.66 263.189,1151.59 265.228,1151.52 267.267,1151.45 269.305,1151.38 271.344,1151.32 273.383,1151.25 \\n  275.421,1151.18 277.46,1151.11 279.499,1151.04 281.537,1150.96 283.576,1150.89 285.615,1150.82 287.653,1150.75 289.692,1150.68 291.731,1150.61 293.769,1150.53 \\n  295.808,1150.46 297.847,1150.39 299.885,1150.31 301.924,1150.24 303.963,1150.17 306.001,1150.09 308.04,1150.02 310.079,1149.94 312.117,1149.87 314.156,1149.79 \\n  316.195,1149.72 318.233,1149.64 320.272,1149.56 322.31,1149.49 324.349,1149.41 326.388,1149.33 328.426,1149.25 330.465,1149.18 332.504,1149.1 334.542,1149.02 \\n  336.581,1148.94 338.62,1148.86 340.658,1148.78 342.697,1148.7 344.736,1148.62 346.774,1148.54 348.813,1148.46 350.852,1148.38 352.89,1148.29 354.929,1148.21 \\n  356.968,1148.13 359.006,1148.05 361.045,1147.96 363.084,1147.88 365.122,1147.79 367.161,1147.71 369.2,1147.63 371.238,1147.54 373.277,1147.45 375.316,1147.37 \\n  377.354,1147.28 379.393,1147.2 381.432,1147.11 383.47,1147.02 385.509,1146.93 387.548,1146.84 389.586,1146.75 391.625,1146.67 393.664,1146.58 395.702,1146.49 \\n  397.741,1146.4 399.78,1146.3 401.818,1146.21 403.857,1146.12 405.896,1146.03 407.934,1145.94 409.973,1145.84 412.012,1145.75 414.05,1145.66 416.089,1145.56 \\n  418.128,1145.47 420.166,1145.37 422.205,1145.28 424.244,1145.18 426.282,1145.08 428.321,1144.99 430.36,1144.89 432.398,1144.79 434.437,1144.69 436.476,1144.59 \\n  438.514,1144.5 440.553,1144.4 442.592,1144.3 444.63,1144.19 446.669,1144.09 448.707,1143.99 450.746,1143.89 452.785,1143.79 454.823,1143.68 456.862,1143.58 \\n  458.901,1143.47 460.939,1143.37 462.978,1143.26 465.017,1143.16 467.055,1143.05 469.094,1142.95 471.133,1142.84 473.171,1142.73 475.21,1142.62 477.249,1142.51 \\n  479.287,1142.4 481.326,1142.29 483.365,1142.18 485.403,1142.07 487.442,1141.96 489.481,1141.85 491.519,1141.73 493.558,1141.62 495.597,1141.51 497.635,1141.39 \\n  499.674,1141.27 501.713,1141.16 503.751,1141.04 505.79,1140.93 507.829,1140.81 509.867,1140.69 511.906,1140.57 513.945,1140.45 515.983,1140.33 518.022,1140.21 \\n  520.061,1140.09 522.099,1139.96 524.138,1139.84 526.177,1139.72 528.215,1139.59 530.254,1139.47 532.293,1139.34 534.331,1139.22 536.37,1139.09 538.409,1138.96 \\n  540.447,1138.83 542.486,1138.71 544.525,1138.58 546.563,1138.45 548.602,1138.31 550.641,1138.18 552.679,1138.05 554.718,1137.92 556.757,1137.78 558.795,1137.65 \\n  560.834,1137.51 562.873,1137.38 564.911,1137.24 566.95,1137.1 568.989,1136.96 571.027,1136.82 573.066,1136.68 575.104,1136.54 577.143,1136.4 579.182,1136.26 \\n  581.22,1136.11 583.259,1135.97 585.298,1135.82 587.336,1135.68 589.375,1135.53 591.414,1135.38 593.452,1135.23 595.491,1135.08 597.53,1134.93 599.568,1134.78 \\n  601.607,1134.63 603.646,1134.48 605.684,1134.32 607.723,1134.17 609.762,1134.01 611.8,1133.86 613.839,1133.7 615.878,1133.54 617.916,1133.38 619.955,1133.22 \\n  621.994,1133.06 624.032,1132.9 626.071,1132.73 628.11,1132.57 630.148,1132.4 632.187,1132.23 634.226,1132.07 636.264,1131.9 638.303,1131.73 640.342,1131.56 \\n  642.38,1131.39 644.419,1131.21 646.458,1131.04 648.496,1130.86 650.535,1130.69 652.574,1130.51 654.612,1130.33 656.651,1130.15 658.69,1129.97 660.728,1129.79 \\n  662.767,1129.61 664.806,1129.42 666.844,1129.24 668.883,1129.05 670.922,1128.86 672.96,1128.67 674.999,1128.48 677.038,1128.29 679.076,1128.1 681.115,1127.9 \\n  683.154,1127.71 685.192,1127.51 687.231,1127.31 689.27,1127.11 691.308,1126.91 693.347,1126.71 695.385,1126.5 697.424,1126.3 699.463,1126.09 701.501,1125.88 \\n  703.54,1125.67 705.579,1125.46 707.617,1125.25 709.656,1125.04 711.695,1124.82 713.733,1124.6 715.772,1124.38 717.811,1124.16 719.849,1123.94 721.888,1123.72 \\n  723.927,1123.49 725.965,1123.27 728.004,1123.04 730.043,1122.81 732.081,1122.58 734.12,1122.35 736.159,1122.11 738.197,1121.87 740.236,1121.64 742.275,1121.4 \\n  744.313,1121.15 746.352,1120.91 748.391,1120.67 750.429,1120.42 752.468,1120.17 754.507,1119.92 756.545,1119.67 758.584,1119.41 760.623,1119.15 762.661,1118.89 \\n  764.7,1118.63 766.739,1118.37 768.777,1118.11 770.816,1117.84 772.855,1117.57 774.893,1117.3 776.932,1117.03 778.971,1116.75 781.009,1116.47 783.048,1116.19 \\n  785.087,1115.91 787.125,1115.63 789.164,1115.34 791.203,1115.05 793.241,1114.76 795.28,1114.47 797.319,1114.17 799.357,1113.87 801.396,1113.57 803.435,1113.27 \\n  805.473,1112.96 807.512,1112.65 809.551,1112.34 811.589,1112.03 813.628,1111.71 815.667,1111.39 817.705,1111.07 819.744,1110.75 821.782,1110.42 823.821,1110.09 \\n  825.86,1109.76 827.898,1109.42 829.937,1109.08 831.976,1108.74 834.014,1108.39 836.053,1108.05 838.092,1107.69 840.13,1107.34 842.169,1106.98 844.208,1106.62 \\n  846.246,1106.26 848.285,1105.89 850.324,1105.52 852.362,1105.15 854.401,1104.77 856.44,1104.39 858.478,1104.01 860.517,1103.62 862.556,1103.23 864.594,1102.83 \\n  866.633,1102.43 868.672,1102.03 870.71,1101.62 872.749,1101.21 874.788,1100.8 876.826,1100.38 878.865,1099.96 880.904,1099.53 882.942,1099.1 884.981,1098.67 \\n  887.02,1098.23 889.058,1097.78 891.097,1097.33 893.136,1096.88 895.174,1096.43 897.213,1095.96 899.252,1095.5 901.29,1095.03 903.329,1094.55 905.368,1094.07 \\n  907.406,1093.58 909.445,1093.09 911.484,1092.6 913.522,1092.1 915.561,1091.59 917.6,1091.08 919.638,1090.56 921.677,1090.04 923.716,1089.51 925.754,1088.98 \\n  927.793,1088.44 929.832,1087.89 931.87,1087.34 933.909,1086.78 935.948,1086.22 937.986,1085.65 940.025,1085.07 942.064,1084.49 944.102,1083.9 946.141,1083.3 \\n  948.179,1082.7 950.218,1082.09 952.257,1081.47 954.295,1080.84 956.334,1080.21 958.373,1079.57 960.411,1078.93 962.45,1078.27 964.489,1077.61 966.527,1076.94 \\n  968.566,1076.26 970.605,1075.58 972.643,1074.88 974.682,1074.18 976.721,1073.47 978.759,1072.74 980.798,1072.02 982.837,1071.28 984.875,1070.53 986.914,1069.77 \\n  988.953,1069 990.991,1068.23 993.03,1067.44 995.069,1066.64 997.107,1065.84 999.146,1065.02 1001.18,1064.19 1003.22,1063.35 1005.26,1062.5 1007.3,1061.64 \\n  1009.34,1060.76 1011.38,1059.88 1013.42,1058.98 1015.46,1058.07 1017.49,1057.14 1019.53,1056.21 1021.57,1055.26 1023.61,1054.3 1025.65,1053.32 1027.69,1052.33 \\n  1029.73,1051.33 1031.76,1050.31 1033.8,1049.28 1035.84,1048.23 1037.88,1047.17 1039.92,1046.09 1041.96,1045 1044,1043.89 1046.04,1042.76 1048.07,1041.62 \\n  1050.11,1040.46 1052.15,1039.28 1054.19,1038.08 1056.23,1036.86 1058.27,1035.63 1060.31,1034.38 1062.34,1033.1 1064.38,1031.81 1066.42,1030.49 1068.46,1029.16 \\n  1070.5,1027.8 1072.54,1026.42 1074.58,1025.02 1076.62,1023.6 1078.65,1022.15 1080.69,1020.68 1082.73,1019.18 1084.77,1017.66 1086.81,1016.12 1088.85,1014.54 \\n  1090.89,1012.94 1092.92,1011.32 1094.96,1009.66 1097,1007.98 1099.04,1006.26 1101.08,1004.52 1103.12,1002.74 1105.16,1000.94 1107.2,999.1 1109.23,997.228 \\n  1111.27,995.322 1113.31,993.382 1115.35,991.406 1117.39,989.394 1119.43,987.345 1121.47,985.257 1123.5,983.131 1125.54,980.964 1127.58,978.757 1129.62,976.507 \\n  1131.66,974.215 1133.7,971.879 1135.74,969.498 1137.77,967.071 1139.81,964.597 1141.85,962.075 1143.89,959.503 1145.93,956.88 1147.97,954.206 1150.01,951.48 \\n  1152.05,948.698 1154.08,945.862 1156.12,942.969 1158.16,940.018 1160.2,937.008 1162.24,933.937 1164.28,930.804 1166.32,927.609 1168.35,924.348 1170.39,921.022 \\n  1172.43,917.628 1174.47,914.166 1176.51,910.634 1178.55,907.031 1180.59,903.355 1182.63,899.605 1184.66,895.779 1186.7,891.877 1188.74,887.897 1190.78,883.838 \\n  1192.82,879.699 1194.86,875.478 1196.9,871.175 1198.93,866.788 1200.97,862.317 1203.01,857.761 1205.05,853.118 1207.09,848.388 1209.13,843.572 1211.17,838.667 \\n  1213.21,833.674 1215.24,828.593 1217.28,823.424 1219.32,818.167 1221.36,812.821 1223.4,807.388 1225.44,801.869 1227.48,796.264 1229.51,790.574 1231.55,784.801 \\n  1233.59,778.946 1235.63,773.011 1237.67,766.998 1239.71,760.91 1241.75,754.749 1243.79,748.517 1245.82,742.218 1247.86,735.856 1249.9,729.433 1251.94,722.954 \\n  1253.98,716.422 1256.02,709.842 1258.06,703.218 1260.09,696.556 1262.13,689.859 1264.17,683.133 1266.21,676.383 1268.25,669.614 1270.29,662.831 1272.33,656.04 \\n  1274.37,649.247 1276.4,642.456 1278.44,635.674 1280.48,628.905 1282.52,622.155 1284.56,615.428 1286.6,608.732 1288.64,602.069 1290.67,595.445 1292.71,588.866 \\n  1294.75,582.334 1296.79,575.855 1298.83,569.432 1300.87,563.069 1302.91,556.77 1304.95,550.539 1306.98,544.378 1309.02,538.289 1311.06,532.276 1313.1,526.342 \\n  1315.14,520.487 1317.18,514.714 1319.22,509.024 1321.25,503.418 1323.29,497.899 1325.33,492.466 1327.37,487.121 1329.41,481.863 1331.45,476.694 1333.49,471.613 \\n  1335.53,466.62 1337.56,461.716 1339.6,456.899 1341.64,452.17 1343.68,447.527 1345.72,442.97 1347.76,438.499 1349.8,434.112 1351.83,429.809 1353.87,425.588 \\n  1355.91,421.449 1357.95,417.39 1359.99,413.41 1362.03,409.508 1364.07,405.683 1366.11,401.933 1368.14,398.257 1370.18,394.653 1372.22,391.121 1374.26,387.659 \\n  1376.3,384.265 1378.34,380.939 1380.38,377.679 1382.41,374.483 1384.45,371.35 1386.49,368.28 1388.53,365.27 1390.57,362.319 1392.61,359.425 1394.65,356.589 \\n  1396.68,353.808 1398.72,351.081 1400.76,348.407 1402.8,345.785 1404.84,343.213 1406.88,340.691 1408.92,338.216 1410.96,335.789 1412.99,333.408 1415.03,331.072 \\n  1417.07,328.78 1419.11,326.531 1421.15,324.323 1423.19,322.157 1425.23,320.03 1427.26,317.943 1429.3,315.893 1431.34,313.881 1433.38,311.905 1435.42,309.965 \\n  1437.46,308.06 1439.5,306.188 1441.54,304.349 1443.57,302.543 1445.61,300.768 1447.65,299.024 1449.69,297.31 1451.73,295.626 1453.77,293.971 1455.81,292.343 \\n  1457.84,290.744 1459.88,289.171 1461.92,287.624 1463.96,286.103 1466,284.607 1468.04,283.135 1470.08,281.688 1472.12,280.264 1474.15,278.863 1476.19,277.485 \\n  1478.23,276.128 1480.27,274.793 1482.31,273.479 1484.35,272.185 1486.39,270.912 1488.42,269.658 1490.46,268.424 1492.5,267.208 1494.54,266.011 1496.58,264.832 \\n  1498.62,263.67 1500.66,262.526 1502.7,261.399 1504.73,260.289 1506.77,259.195 1508.81,258.116 1510.85,257.054 1512.89,256.006 1514.93,254.974 1516.97,253.956 \\n  1519,252.953 1521.04,251.964 1523.08,250.988 1525.12,250.027 1527.16,249.078 1529.2,248.143 1531.24,247.22 1533.28,246.31 1535.31,245.412 1537.35,244.526 \\n  1539.39,243.652 1541.43,242.79 1543.47,241.939 1545.51,241.099 1547.55,240.27 1549.58,239.452 1551.62,238.645 1553.66,237.848 1555.7,237.061 1557.74,236.284 \\n  1559.78,235.517 1561.82,234.759 1563.86,234.011 1565.89,233.272 1567.93,232.543 1569.97,231.822 1572.01,231.11 1574.05,230.407 1576.09,229.712 1578.13,229.026 \\n  1580.16,228.348 1582.2,227.677 1584.24,227.015 1586.28,226.361 1588.32,225.714 1590.36,225.075 1592.4,224.443 1594.44,223.819 1596.47,223.202 1598.51,222.591 \\n  1600.55,221.988 1602.59,221.392 1604.63,220.802 1606.67,220.219 1608.71,219.642 1610.74,219.071 1612.78,218.507 1614.82,217.95 1616.86,217.398 1618.9,216.852 \\n  1620.94,216.312 1622.98,215.778 1625.02,215.25 1627.05,214.727 1629.09,214.21 1631.13,213.698 1633.17,213.191 1635.21,212.69 1637.25,212.194 1639.29,211.703 \\n  1641.32,211.218 1643.36,210.737 1645.4,210.261 1647.44,209.79 1649.48,209.324 1651.52,208.862 1653.56,208.405 1655.59,207.953 1657.63,207.505 1659.67,207.061 \\n  1661.71,206.622 1663.75,206.187 1665.79,205.756 1667.83,205.33 1669.87,204.908 1671.9,204.489 1673.94,204.075 1675.98,203.665 1678.02,203.258 1680.06,202.855 \\n  1682.1,202.457 1684.14,202.061 1686.17,201.67 1688.21,201.282 1690.25,200.898 1692.29,200.517 1694.33,200.14 1696.37,199.766 1698.41,199.396 1700.45,199.028 \\n  1702.48,198.665 1704.52,198.304 1706.56,197.947 1708.6,197.593 1710.64,197.242 1712.68,196.894 1714.72,196.549 1716.75,196.207 1718.79,195.868 1720.83,195.532 \\n  1722.87,195.199 1724.91,194.869 1726.95,194.542 1728.99,194.217 1731.03,193.895 1733.06,193.576 1735.1,193.26 1737.14,192.946 1739.18,192.635 1741.22,192.326 \\n  1743.26,192.02 1745.3,191.717 1747.33,191.416 1749.37,191.117 1751.41,190.821 1753.45,190.528 1755.49,190.236 1757.53,189.947 1759.57,189.661 1761.61,189.377 \\n  1763.64,189.094 1765.68,188.815 1767.72,188.537 1769.76,188.262 1771.8,187.988 1773.84,187.717 1775.88,187.448 1777.91,187.181 1779.95,186.916 1781.99,186.654 \\n  1784.03,186.393 1786.07,186.134 1788.11,185.877 1790.15,185.622 1792.19,185.369 1794.22,185.118 1796.26,184.869 1798.3,184.622 1800.34,184.376 1802.38,184.133 \\n  1804.42,183.891 1806.46,183.651 1808.49,183.413 1810.53,183.176 1812.57,182.941 1814.61,182.708 1816.65,182.477 1818.69,182.247 1820.73,182.019 1822.77,181.793 \\n  1824.8,181.568 1826.84,181.345 1828.88,181.123 1830.92,180.903 1832.96,180.684 1835,180.467 1837.04,180.252 1839.07,180.038 1841.11,179.826 1843.15,179.615 \\n  1845.19,179.405 1847.23,179.197 1849.27,178.99 1851.31,178.785 1853.35,178.581 1855.38,178.379 1857.42,178.178 1859.46,177.978 1861.5,177.78 1863.54,177.582 \\n  1865.58,177.387 1867.62,177.192 1869.65,176.999 1871.69,176.807 1873.73,176.617 1875.77,176.427 1877.81,176.239 1879.85,176.052 1881.89,175.867 1883.92,175.682 \\n  1885.96,175.499 1888,175.317 1890.04,175.136 1892.08,174.956 1894.12,174.778 1896.16,174.6 1898.2,174.424 1900.23,174.249 1902.27,174.075 1904.31,173.902 \\n  1906.35,173.73 1908.39,173.559 1910.43,173.389 1912.47,173.22 1914.5,173.053 1916.54,172.886 1918.58,172.72 1920.62,172.556 1922.66,172.392 1924.7,172.23 \\n  1926.74,172.068 1928.78,171.907 1930.81,171.748 1932.85,171.589 1934.89,171.431 1936.93,171.275 1938.97,171.119 1941.01,170.964 1943.05,170.81 1945.08,170.657 \\n  1947.12,170.505 1949.16,170.353 1951.2,170.203 1953.24,170.054 1955.28,169.905 1957.32,169.757 1959.36,169.61 1961.39,169.464 1963.43,169.319 1965.47,169.175 \\n  1967.51,169.031 1969.55,168.888 1971.59,168.747 1973.63,168.605 1975.66,168.465 1977.7,168.326 1979.74,168.187 1981.78,168.049 1983.82,167.912 1985.86,167.776 \\n  1987.9,167.64 1989.94,167.505 1991.97,167.371 1994.01,167.238 1996.05,167.105 1998.09,166.973 2000.13,166.842 2002.17,166.712 2004.21,166.582 2006.24,166.453 \\n  2008.28,166.324 2010.32,166.197 2012.36,166.07 2014.4,165.944 2016.44,165.818 2018.48,165.693 2020.52,165.569 2022.55,165.445 2024.59,165.323 2026.63,165.2 \\n  2028.67,165.079 2030.71,164.958 2032.75,164.837 2034.79,164.718 2036.82,164.599 2038.86,164.48 2040.9,164.362 2042.94,164.245 2044.98,164.129 2047.02,164.013 \\n  2049.06,163.897 2051.1,163.782 2053.13,163.668 2055.17,163.555 2057.21,163.442 2059.25,163.329 2061.29,163.217 2063.33,163.106 2065.37,162.995 2067.4,162.885 \\n  2069.44,162.775 2071.48,162.666 2073.52,162.558 2075.56,162.45 2077.6,162.342 2079.64,162.235 2081.68,162.129 2083.71,162.023 2085.75,161.918 2087.79,161.813 \\n  2089.83,161.709 2091.87,161.605 2093.91,161.501 2095.95,161.399 2097.98,161.296 2100.02,161.195 2102.06,161.093 2104.1,160.992 2106.14,160.892 2108.18,160.792 \\n  2110.22,160.693 2112.26,160.594 2114.29,160.496 2116.33,160.398 2118.37,160.3 2120.41,160.203 2122.45,160.107 2124.49,160.011 2126.53,159.915 2128.56,159.82 \\n  2130.6,159.725 2132.64,159.631 2134.68,159.537 2136.72,159.443 2138.76,159.35 2140.8,159.258 2142.83,159.166 2144.87,159.074 2146.91,158.983 2148.95,158.892 \\n  2150.99,158.801 2153.03,158.711 2155.07,158.622 2157.11,158.532 2159.14,158.444 2161.18,158.355 2163.22,158.267 2165.26,158.18 2167.3,158.092 2169.34,158.006 \\n  2171.38,157.919 2173.41,157.833 2175.45,157.747 2177.49,157.662 2179.53,157.577 2181.57,157.493 2183.61,157.409 2185.65,157.325 2187.69,157.241 2189.72,157.158 \\n  2191.76,157.076 2193.8,156.993 2195.84,156.911 2197.88,156.83 2199.92,156.748 2201.96,156.668 2203.99,156.587 2206.03,156.507 2208.07,156.427 2210.11,156.347 \\n  2212.15,156.268 2214.19,156.189 2216.23,156.111 2218.27,156.033 2220.3,155.955 2222.34,155.877 2224.38,155.8 2226.42,155.723 2228.46,155.647 2230.5,155.571 \\n  2232.54,155.495 2234.57,155.419 2236.61,155.344 2238.65,155.269 2240.69,155.194 2242.73,155.12 2244.77,155.046 2246.81,154.973 2248.85,154.899 2250.88,154.826 \\n  2252.92,154.753 2254.96,154.681 2257,154.609 2259.04,154.537 2261.08,154.465 2263.12,154.394 2265.15,154.323 2267.19,154.252 2269.23,154.182 2271.27,154.111 \\n  2273.31,154.042 2275.35,153.972 2277.39,153.903 2279.43,153.834 2281.46,153.765 2283.5,153.696 2285.54,153.628 2287.58,153.56 2289.62,153.493 2291.66,153.425 \\n  \\n  \\\"\\/>\\n<circle clip-path=\\\"url(#clip352)\\\" cx=\\\"255.035\\\" cy=\\\"1151.86\\\" r=\\\"14.4\\\" fill=\\\"#e26f46\\\" fill-rule=\\\"evenodd\\\" fill-opacity=\\\"1\\\" stroke=\\\"#000000\\\" stroke-opacity=\\\"1\\\" stroke-width=\\\"3.2\\\"\\/>\\n<circle clip-path=\\\"url(#clip352)\\\" cx=\\\"336.5\\\" cy=\\\"1148.94\\\" r=\\\"14.4\\\" fill=\\\"#e26f46\\\" fill-rule=\\\"evenodd\\\" fill-opacity=\\\"1\\\" stroke=\\\"#000000\\\" stroke-opacity=\\\"1\\\" stroke-width=\\\"3.2\\\"\\/>\\n<circle clip-path=\\\"url(#clip352)\\\" cx=\\\"417.964\\\" cy=\\\"1145.48\\\" r=\\\"14.4\\\" fill=\\\"#e26f46\\\" fill-rule=\\\"evenodd\\\" fill-opacity=\\\"1\\\" stroke=\\\"#000000\\\" stroke-opacity=\\\"1\\\" stroke-width=\\\"3.2\\\"\\/>\\n<circle clip-path=\\\"url(#clip352)\\\" cx=\\\"499.429\\\" cy=\\\"1141.29\\\" r=\\\"14.4\\\" fill=\\\"#e26f46\\\" fill-rule=\\\"evenodd\\\" fill-opacity=\\\"1\\\" stroke=\\\"#000000\\\" stroke-opacity=\\\"1\\\" stroke-width=\\\"3.2\\\"\\/>\\n<circle clip-path=\\\"url(#clip352)\\\" cx=\\\"580.894\\\" cy=\\\"1136.14\\\" r=\\\"14.4\\\" fill=\\\"#e26f46\\\" fill-rule=\\\"evenodd\\\" fill-opacity=\\\"1\\\" stroke=\\\"#000000\\\" stroke-opacity=\\\"1\\\" stroke-width=\\\"3.2\\\"\\/>\\n<circle clip-path=\\\"url(#clip352)\\\" cx=\\\"662.359\\\" cy=\\\"1129.64\\\" r=\\\"14.4\\\" fill=\\\"#e26f46\\\" fill-rule=\\\"evenodd\\\" fill-opacity=\\\"1\\\" stroke=\\\"#000000\\\" stroke-opacity=\\\"1\\\" stroke-width=\\\"3.2\\\"\\/>\\n<circle clip-path=\\\"url(#clip352)\\\" cx=\\\"743.824\\\" cy=\\\"1121.21\\\" r=\\\"14.4\\\" fill=\\\"#e26f46\\\" fill-rule=\\\"evenodd\\\" fill-opacity=\\\"1\\\" stroke=\\\"#000000\\\" stroke-opacity=\\\"1\\\" stroke-width=\\\"3.2\\\"\\/>\\n<circle clip-path=\\\"url(#clip352)\\\" cx=\\\"825.289\\\" cy=\\\"1109.85\\\" r=\\\"14.4\\\" fill=\\\"#e26f46\\\" fill-rule=\\\"evenodd\\\" fill-opacity=\\\"1\\\" stroke=\\\"#000000\\\" stroke-opacity=\\\"1\\\" stroke-width=\\\"3.2\\\"\\/>\\n<circle clip-path=\\\"url(#clip352)\\\" cx=\\\"906.754\\\" cy=\\\"1093.74\\\" r=\\\"14.4\\\" fill=\\\"#e26f46\\\" fill-rule=\\\"evenodd\\\" fill-opacity=\\\"1\\\" stroke=\\\"#000000\\\" stroke-opacity=\\\"1\\\" stroke-width=\\\"3.2\\\"\\/>\\n<circle clip-path=\\\"url(#clip352)\\\" cx=\\\"988.219\\\" cy=\\\"1069.28\\\" r=\\\"14.4\\\" fill=\\\"#e26f46\\\" fill-rule=\\\"evenodd\\\" fill-opacity=\\\"1\\\" stroke=\\\"#000000\\\" stroke-opacity=\\\"1\\\" stroke-width=\\\"3.2\\\"\\/>\\n<circle clip-path=\\\"url(#clip352)\\\" cx=\\\"1069.68\\\" cy=\\\"1028.35\\\" r=\\\"14.4\\\" fill=\\\"#e26f46\\\" fill-rule=\\\"evenodd\\\" fill-opacity=\\\"1\\\" stroke=\\\"#000000\\\" stroke-opacity=\\\"1\\\" stroke-width=\\\"3.2\\\"\\/>\\n<circle clip-path=\\\"url(#clip352)\\\" cx=\\\"1151.15\\\" cy=\\\"949.929\\\" r=\\\"14.4\\\" fill=\\\"#e26f46\\\" fill-rule=\\\"evenodd\\\" fill-opacity=\\\"1\\\" stroke=\\\"#000000\\\" stroke-opacity=\\\"1\\\" stroke-width=\\\"3.2\\\"\\/>\\n<circle clip-path=\\\"url(#clip352)\\\" cx=\\\"1232.61\\\" cy=\\\"781.766\\\" r=\\\"14.4\\\" fill=\\\"#e26f46\\\" fill-rule=\\\"evenodd\\\" fill-opacity=\\\"1\\\" stroke=\\\"#000000\\\" stroke-opacity=\\\"1\\\" stroke-width=\\\"3.2\\\"\\/>\\n<circle clip-path=\\\"url(#clip352)\\\" cx=\\\"1314.08\\\" cy=\\\"523.521\\\" r=\\\"14.4\\\" fill=\\\"#e26f46\\\" fill-rule=\\\"evenodd\\\" fill-opacity=\\\"1\\\" stroke=\\\"#000000\\\" stroke-opacity=\\\"1\\\" stroke-width=\\\"3.2\\\"\\/>\\n<circle clip-path=\\\"url(#clip352)\\\" cx=\\\"1395.54\\\" cy=\\\"355.359\\\" r=\\\"14.4\\\" fill=\\\"#e26f46\\\" fill-rule=\\\"evenodd\\\" fill-opacity=\\\"1\\\" stroke=\\\"#000000\\\" stroke-opacity=\\\"1\\\" stroke-width=\\\"3.2\\\"\\/>\\n<circle clip-path=\\\"url(#clip352)\\\" cx=\\\"1477.01\\\" cy=\\\"276.939\\\" r=\\\"14.4\\\" fill=\\\"#e26f46\\\" fill-rule=\\\"evenodd\\\" fill-opacity=\\\"1\\\" stroke=\\\"#000000\\\" stroke-opacity=\\\"1\\\" stroke-width=\\\"3.2\\\"\\/>\\n<circle clip-path=\\\"url(#clip352)\\\" cx=\\\"1558.47\\\" cy=\\\"236.006\\\" r=\\\"14.4\\\" fill=\\\"#e26f46\\\" fill-rule=\\\"evenodd\\\" fill-opacity=\\\"1\\\" stroke=\\\"#000000\\\" stroke-opacity=\\\"1\\\" stroke-width=\\\"3.2\\\"\\/>\\n<circle clip-path=\\\"url(#clip352)\\\" cx=\\\"1639.94\\\" cy=\\\"211.547\\\" r=\\\"14.4\\\" fill=\\\"#e26f46\\\" fill-rule=\\\"evenodd\\\" fill-opacity=\\\"1\\\" stroke=\\\"#000000\\\" stroke-opacity=\\\"1\\\" stroke-width=\\\"3.2\\\"\\/>\\n<circle clip-path=\\\"url(#clip352)\\\" cx=\\\"1721.4\\\" cy=\\\"195.439\\\" r=\\\"14.4\\\" fill=\\\"#e26f46\\\" fill-rule=\\\"evenodd\\\" fill-opacity=\\\"1\\\" stroke=\\\"#000000\\\" stroke-opacity=\\\"1\\\" stroke-width=\\\"3.2\\\"\\/>\\n<circle clip-path=\\\"url(#clip352)\\\" cx=\\\"1802.87\\\" cy=\\\"184.075\\\" r=\\\"14.4\\\" fill=\\\"#e26f46\\\" fill-rule=\\\"evenodd\\\" fill-opacity=\\\"1\\\" stroke=\\\"#000000\\\" stroke-opacity=\\\"1\\\" stroke-width=\\\"3.2\\\"\\/>\\n<circle clip-path=\\\"url(#clip352)\\\" cx=\\\"1884.33\\\" cy=\\\"175.645\\\" r=\\\"14.4\\\" fill=\\\"#e26f46\\\" fill-rule=\\\"evenodd\\\" fill-opacity=\\\"1\\\" stroke=\\\"#000000\\\" stroke-opacity=\\\"1\\\" stroke-width=\\\"3.2\\\"\\/>\\n<circle clip-path=\\\"url(#clip352)\\\" cx=\\\"1965.8\\\" cy=\\\"169.152\\\" r=\\\"14.4\\\" fill=\\\"#e26f46\\\" fill-rule=\\\"evenodd\\\" fill-opacity=\\\"1\\\" stroke=\\\"#000000\\\" stroke-opacity=\\\"1\\\" stroke-width=\\\"3.2\\\"\\/>\\n<circle clip-path=\\\"url(#clip352)\\\" cx=\\\"2047.26\\\" cy=\\\"163.999\\\" r=\\\"14.4\\\" fill=\\\"#e26f46\\\" fill-rule=\\\"evenodd\\\" fill-opacity=\\\"1\\\" stroke=\\\"#000000\\\" stroke-opacity=\\\"1\\\" stroke-width=\\\"3.2\\\"\\/>\\n<circle clip-path=\\\"url(#clip352)\\\" cx=\\\"2128.73\\\" cy=\\\"159.812\\\" r=\\\"14.4\\\" fill=\\\"#e26f46\\\" fill-rule=\\\"evenodd\\\" fill-opacity=\\\"1\\\" stroke=\\\"#000000\\\" stroke-opacity=\\\"1\\\" stroke-width=\\\"3.2\\\"\\/>\\n<circle clip-path=\\\"url(#clip352)\\\" cx=\\\"2210.19\\\" cy=\\\"156.344\\\" r=\\\"14.4\\\" fill=\\\"#e26f46\\\" fill-rule=\\\"evenodd\\\" fill-opacity=\\\"1\\\" stroke=\\\"#000000\\\" stroke-opacity=\\\"1\\\" stroke-width=\\\"3.2\\\"\\/>\\n<circle clip-path=\\\"url(#clip352)\\\" cx=\\\"2291.66\\\" cy=\\\"153.425\\\" r=\\\"14.4\\\" fill=\\\"#e26f46\\\" fill-rule=\\\"evenodd\\\" fill-opacity=\\\"1\\\" stroke=\\\"#000000\\\" stroke-opacity=\\\"1\\\" stroke-width=\\\"3.2\\\"\\/>\\n<polyline clip-path=\\\"url(#clip352)\\\" style=\\\"stroke:#3da44d; stroke-linecap:butt; stroke-linejoin:round; stroke-width:4; stroke-opacity:1; fill:none\\\" points=\\\"\\n  255.035,1151.86 257.073,1151.79 259.112,1151.72 261.151,1151.64 263.189,1151.57 265.228,1151.5 267.267,1151.42 269.305,1151.35 271.344,1151.28 273.383,1151.2 \\n  275.421,1151.13 277.46,1151.06 279.499,1150.99 281.537,1150.91 283.576,1150.84 285.615,1150.77 287.653,1150.69 289.692,1150.62 291.731,1150.55 293.769,1150.47 \\n  295.808,1150.4 297.847,1150.33 299.885,1150.26 301.924,1150.18 303.963,1150.11 306.001,1150.04 308.04,1149.96 310.079,1149.89 312.117,1149.82 314.156,1149.74 \\n  316.195,1149.67 318.233,1149.6 320.272,1149.52 322.31,1149.45 324.349,1149.38 326.388,1149.31 328.426,1149.23 330.465,1149.16 332.504,1149.09 334.542,1149.01 \\n  336.581,1148.94 338.62,1148.85 340.658,1148.77 342.697,1148.68 344.736,1148.59 346.774,1148.51 348.813,1148.42 350.852,1148.33 352.89,1148.25 354.929,1148.16 \\n  356.968,1148.07 359.006,1147.99 361.045,1147.9 363.084,1147.81 365.122,1147.72 367.161,1147.64 369.2,1147.55 371.238,1147.46 373.277,1147.38 375.316,1147.29 \\n  377.354,1147.2 379.393,1147.12 381.432,1147.03 383.47,1146.94 385.509,1146.86 387.548,1146.77 389.586,1146.68 391.625,1146.6 393.664,1146.51 395.702,1146.42 \\n  397.741,1146.34 399.78,1146.25 401.818,1146.16 403.857,1146.08 405.896,1145.99 407.934,1145.9 409.973,1145.82 412.012,1145.73 414.05,1145.64 416.089,1145.56 \\n  418.128,1145.47 420.166,1145.36 422.205,1145.26 424.244,1145.15 426.282,1145.05 428.321,1144.94 430.36,1144.84 432.398,1144.73 434.437,1144.63 436.476,1144.52 \\n  438.514,1144.42 440.553,1144.31 442.592,1144.21 444.63,1144.1 446.669,1144 448.707,1143.9 450.746,1143.79 452.785,1143.69 454.823,1143.58 456.862,1143.48 \\n  458.901,1143.37 460.939,1143.27 462.978,1143.16 465.017,1143.06 467.055,1142.95 469.094,1142.85 471.133,1142.74 473.171,1142.64 475.21,1142.53 477.249,1142.43 \\n  479.287,1142.32 481.326,1142.22 483.365,1142.11 485.403,1142.01 487.442,1141.9 489.481,1141.8 491.519,1141.7 493.558,1141.59 495.597,1141.49 497.635,1141.38 \\n  499.674,1141.27 501.713,1141.14 503.751,1141.02 505.79,1140.89 507.829,1140.76 509.867,1140.63 511.906,1140.5 513.945,1140.37 515.983,1140.24 518.022,1140.11 \\n  520.061,1139.98 522.099,1139.85 524.138,1139.73 526.177,1139.6 528.215,1139.47 530.254,1139.34 532.293,1139.21 534.331,1139.08 536.37,1138.95 538.409,1138.82 \\n  540.447,1138.69 542.486,1138.57 544.525,1138.44 546.563,1138.31 548.602,1138.18 550.641,1138.05 552.679,1137.92 554.718,1137.79 556.757,1137.66 558.795,1137.53 \\n  560.834,1137.4 562.873,1137.28 564.911,1137.15 566.95,1137.02 568.989,1136.89 571.027,1136.76 573.066,1136.63 575.104,1136.5 577.143,1136.37 579.182,1136.24 \\n  581.22,1136.11 583.259,1135.95 585.298,1135.78 587.336,1135.62 589.375,1135.46 591.414,1135.3 593.452,1135.13 595.491,1134.97 597.53,1134.81 599.568,1134.65 \\n  601.607,1134.48 603.646,1134.32 605.684,1134.16 607.723,1134 609.762,1133.83 611.8,1133.67 613.839,1133.51 615.878,1133.35 617.916,1133.18 619.955,1133.02 \\n  621.994,1132.86 624.032,1132.7 626.071,1132.53 628.11,1132.37 630.148,1132.21 632.187,1132.05 634.226,1131.88 636.264,1131.72 638.303,1131.56 640.342,1131.4 \\n  642.38,1131.23 644.419,1131.07 646.458,1130.91 648.496,1130.75 650.535,1130.58 652.574,1130.42 654.612,1130.26 656.651,1130.1 658.69,1129.93 660.728,1129.77 \\n  662.767,1129.6 664.806,1129.39 666.844,1129.18 668.883,1128.97 670.922,1128.76 672.96,1128.55 674.999,1128.33 677.038,1128.12 679.076,1127.91 681.115,1127.7 \\n  683.154,1127.49 685.192,1127.28 687.231,1127.07 689.27,1126.86 691.308,1126.65 693.347,1126.44 695.385,1126.22 697.424,1126.01 699.463,1125.8 701.501,1125.59 \\n  703.54,1125.38 705.579,1125.17 707.617,1124.96 709.656,1124.75 711.695,1124.54 713.733,1124.33 715.772,1124.12 717.811,1123.9 719.849,1123.69 721.888,1123.48 \\n  723.927,1123.27 725.965,1123.06 728.004,1122.85 730.043,1122.64 732.081,1122.43 734.12,1122.22 736.159,1122.01 738.197,1121.79 740.236,1121.58 742.275,1121.37 \\n  744.313,1121.14 746.352,1120.86 748.391,1120.58 750.429,1120.29 752.468,1120.01 754.507,1119.72 756.545,1119.44 758.584,1119.15 760.623,1118.87 762.661,1118.59 \\n  764.7,1118.3 766.739,1118.02 768.777,1117.73 770.816,1117.45 772.855,1117.16 774.893,1116.88 776.932,1116.59 778.971,1116.31 781.009,1116.03 783.048,1115.74 \\n  785.087,1115.46 787.125,1115.17 789.164,1114.89 791.203,1114.6 793.241,1114.32 795.28,1114.03 797.319,1113.75 799.357,1113.47 801.396,1113.18 803.435,1112.9 \\n  805.473,1112.61 807.512,1112.33 809.551,1112.04 811.589,1111.76 813.628,1111.48 815.667,1111.19 817.705,1110.91 819.744,1110.62 821.782,1110.34 823.821,1110.05 \\n  825.86,1109.74 827.898,1109.33 829.937,1108.93 831.976,1108.53 834.014,1108.12 836.053,1107.72 838.092,1107.32 840.13,1106.91 842.169,1106.51 844.208,1106.11 \\n  846.246,1105.7 848.285,1105.3 850.324,1104.9 852.362,1104.5 854.401,1104.09 856.44,1103.69 858.478,1103.29 860.517,1102.88 862.556,1102.48 864.594,1102.08 \\n  866.633,1101.67 868.672,1101.27 870.71,1100.87 872.749,1100.46 874.788,1100.06 876.826,1099.66 878.865,1099.25 880.904,1098.85 882.942,1098.45 884.981,1098.05 \\n  887.02,1097.64 889.058,1097.24 891.097,1096.84 893.136,1096.43 895.174,1096.03 897.213,1095.63 899.252,1095.22 901.29,1094.82 903.329,1094.42 905.368,1094.01 \\n  907.406,1093.54 909.445,1092.93 911.484,1092.32 913.522,1091.71 915.561,1091.1 917.6,1090.48 919.638,1089.87 921.677,1089.26 923.716,1088.65 925.754,1088.04 \\n  927.793,1087.42 929.832,1086.81 931.87,1086.2 933.909,1085.59 935.948,1084.97 937.986,1084.36 940.025,1083.75 942.064,1083.14 944.102,1082.53 946.141,1081.91 \\n  948.179,1081.3 950.218,1080.69 952.257,1080.08 954.295,1079.47 956.334,1078.85 958.373,1078.24 960.411,1077.63 962.45,1077.02 964.489,1076.41 966.527,1075.79 \\n  968.566,1075.18 970.605,1074.57 972.643,1073.96 974.682,1073.35 976.721,1072.73 978.759,1072.12 980.798,1071.51 982.837,1070.9 984.875,1070.28 986.914,1069.67 \\n  988.953,1068.91 990.991,1067.89 993.03,1066.86 995.069,1065.84 997.107,1064.81 999.146,1063.79 1001.18,1062.77 1003.22,1061.74 1005.26,1060.72 1007.3,1059.69 \\n  1009.34,1058.67 1011.38,1057.64 1013.42,1056.62 1015.46,1055.6 1017.49,1054.57 1019.53,1053.55 1021.57,1052.52 1023.61,1051.5 1025.65,1050.47 1027.69,1049.45 \\n  1029.73,1048.43 1031.76,1047.4 1033.8,1046.38 1035.84,1045.35 1037.88,1044.33 1039.92,1043.3 1041.96,1042.28 1044,1041.25 1046.04,1040.23 1048.07,1039.21 \\n  1050.11,1038.18 1052.15,1037.16 1054.19,1036.13 1056.23,1035.11 1058.27,1034.08 1060.31,1033.06 1062.34,1032.04 1064.38,1031.01 1066.42,1029.99 1068.46,1028.96 \\n  1070.5,1027.56 1072.54,1025.6 1074.58,1023.64 1076.62,1021.68 1078.65,1019.71 1080.69,1017.75 1082.73,1015.79 1084.77,1013.83 1086.81,1011.86 1088.85,1009.9 \\n  1090.89,1007.94 1092.92,1005.98 1094.96,1004.01 1097,1002.05 1099.04,1000.09 1101.08,998.126 1103.12,996.164 1105.16,994.202 1107.2,992.239 1109.23,990.277 \\n  1111.27,988.314 1113.31,986.352 1115.35,984.389 1117.39,982.427 1119.43,980.464 1121.47,978.502 1123.5,976.54 1125.54,974.577 1127.58,972.615 1129.62,970.652 \\n  1131.66,968.69 1133.7,966.727 1135.74,964.765 1137.77,962.803 1139.81,960.84 1141.85,958.878 1143.89,956.915 1145.93,954.953 1147.97,952.99 1150.01,951.028 \\n  1152.05,948.077 1154.08,943.869 1156.12,939.661 1158.16,935.452 1160.2,931.244 1162.24,927.036 1164.28,922.828 1166.32,918.619 1168.35,914.411 1170.39,910.203 \\n  1172.43,905.995 1174.47,901.786 1176.51,897.578 1178.55,893.37 1180.59,889.161 1182.63,884.953 1184.66,880.745 1186.7,876.537 1188.74,872.328 1190.78,868.12 \\n  1192.82,863.912 1194.86,859.704 1196.9,855.495 1198.93,851.287 1200.97,847.079 1203.01,842.87 1205.05,838.662 1207.09,834.454 1209.13,830.246 1211.17,826.037 \\n  1213.21,821.829 1215.24,817.621 1217.28,813.413 1219.32,809.204 1221.36,804.996 1223.4,800.788 1225.44,796.579 1227.48,792.371 1229.51,788.163 1231.55,783.955 \\n  1233.59,778.664 1235.63,772.202 1237.67,765.739 1239.71,759.277 1241.75,752.814 1243.79,746.351 1245.82,739.889 1247.86,733.426 1249.9,726.964 1251.94,720.501 \\n  1253.98,714.038 1256.02,707.576 1258.06,701.113 1260.09,694.651 1262.13,688.188 1264.17,681.725 1266.21,675.263 1268.25,668.8 1270.29,662.338 1272.33,655.875 \\n  1274.37,649.412 1276.4,642.95 1278.44,636.487 1280.48,630.025 1282.52,623.562 1284.56,617.099 1286.6,610.637 1288.64,604.174 1290.67,597.712 1292.71,591.249 \\n  1294.75,584.787 1296.79,578.324 1298.83,571.861 1300.87,565.399 1302.91,558.936 1304.95,552.474 1306.98,546.011 1309.02,539.548 1311.06,533.086 1313.1,526.623 \\n  1315.14,521.333 1317.18,517.125 1319.22,512.916 1321.25,508.708 1323.29,504.5 1325.33,500.291 1327.37,496.083 1329.41,491.875 1331.45,487.667 1333.49,483.458 \\n  1335.53,479.25 1337.56,475.042 1339.6,470.834 1341.64,466.625 1343.68,462.417 1345.72,458.209 1347.76,454 1349.8,449.792 1351.83,445.584 1353.87,441.376 \\n  1355.91,437.167 1357.95,432.959 1359.99,428.751 1362.03,424.543 1364.07,420.334 1366.11,416.126 1368.14,411.918 1370.18,407.71 1372.22,403.501 1374.26,399.293 \\n  1376.3,395.085 1378.34,390.876 1380.38,386.668 1382.41,382.46 1384.45,378.252 1386.49,374.043 1388.53,369.835 1390.57,365.627 1392.61,361.419 1394.65,357.21 \\n  1396.68,354.26 1398.72,352.297 1400.76,350.335 1402.8,348.372 1404.84,346.41 1406.88,344.447 1408.92,342.485 1410.96,340.523 1412.99,338.56 1415.03,336.598 \\n  1417.07,334.635 1419.11,332.673 1421.15,330.71 1423.19,328.748 1425.23,326.785 1427.26,324.823 1429.3,322.861 1431.34,320.898 1433.38,318.936 1435.42,316.973 \\n  1437.46,315.011 1439.5,313.048 1441.54,311.086 1443.57,309.123 1445.61,307.161 1447.65,305.199 1449.69,303.236 1451.73,301.274 1453.77,299.311 1455.81,297.349 \\n  1457.84,295.386 1459.88,293.424 1461.92,291.461 1463.96,289.499 1466,287.537 1468.04,285.574 1470.08,283.612 1472.12,281.649 1474.15,279.687 1476.19,277.724 \\n  1478.23,276.325 1480.27,275.3 1482.31,274.276 1484.35,273.252 1486.39,272.227 1488.42,271.203 1490.46,270.179 1492.5,269.154 1494.54,268.13 1496.58,267.106 \\n  1498.62,266.081 1500.66,265.057 1502.7,264.033 1504.73,263.008 1506.77,261.984 1508.81,260.96 1510.85,259.935 1512.89,258.911 1514.93,257.886 1516.97,256.862 \\n  1519,255.838 1521.04,254.813 1523.08,253.789 1525.12,252.765 1527.16,251.74 1529.2,250.716 1531.24,249.692 1533.28,248.667 1535.31,247.643 1537.35,246.619 \\n  1539.39,245.594 1541.43,244.57 1543.47,243.546 1545.51,242.521 1547.55,241.497 1549.58,240.473 1551.62,239.448 1553.66,238.424 1555.7,237.4 1557.74,236.375 \\n  1559.78,235.615 1561.82,235.003 1563.86,234.391 1565.89,233.778 1567.93,233.166 1569.97,232.554 1572.01,231.942 1574.05,231.33 1576.09,230.718 1578.13,230.106 \\n  1580.16,229.494 1582.2,228.882 1584.24,228.27 1586.28,227.658 1588.32,227.045 1590.36,226.433 1592.4,225.821 1594.44,225.209 1596.47,224.597 1598.51,223.985 \\n  1600.55,223.373 1602.59,222.761 1604.63,222.149 1606.67,221.537 1608.71,220.925 1610.74,220.313 1612.78,219.7 1614.82,219.088 1616.86,218.476 1618.9,217.864 \\n  1620.94,217.252 1622.98,216.64 1625.02,216.028 1627.05,215.416 1629.09,214.804 1631.13,214.192 1633.17,213.58 1635.21,212.968 1637.25,212.355 1639.29,211.743 \\n  1641.32,211.273 1643.36,210.87 1645.4,210.467 1647.44,210.064 1649.48,209.661 1651.52,209.258 1653.56,208.855 1655.59,208.452 1657.63,208.048 1659.67,207.645 \\n  1661.71,207.242 1663.75,206.839 1665.79,206.436 1667.83,206.033 1669.87,205.63 1671.9,205.227 1673.94,204.823 1675.98,204.42 1678.02,204.017 1680.06,203.614 \\n  1682.1,203.211 1684.14,202.808 1686.17,202.405 1688.21,202.002 1690.25,201.598 1692.29,201.195 1694.33,200.792 1696.37,200.389 1698.41,199.986 1700.45,199.583 \\n  1702.48,199.18 1704.52,198.777 1706.56,198.373 1708.6,197.97 1710.64,197.567 1712.68,197.164 1714.72,196.761 1716.75,196.358 1718.79,195.955 1720.83,195.552 \\n  1722.87,195.234 1724.91,194.95 1726.95,194.665 1728.99,194.381 1731.03,194.096 1733.06,193.812 1735.1,193.528 1737.14,193.243 1739.18,192.959 1741.22,192.675 \\n  1743.26,192.39 1745.3,192.106 1747.33,191.821 1749.37,191.537 1751.41,191.253 1753.45,190.968 1755.49,190.684 1757.53,190.399 1759.57,190.115 1761.61,189.831 \\n  1763.64,189.546 1765.68,189.262 1767.72,188.977 1769.76,188.693 1771.8,188.409 1773.84,188.124 1775.88,187.84 1777.91,187.556 1779.95,187.271 1781.99,186.987 \\n  1784.03,186.702 1786.07,186.418 1788.11,186.134 1790.15,185.849 1792.19,185.565 1794.22,185.28 1796.26,184.996 1798.3,184.712 1800.34,184.427 1802.38,184.143 \\n  1804.42,183.914 1806.46,183.703 1808.49,183.492 1810.53,183.282 1812.57,183.071 1814.61,182.86 1816.65,182.649 1818.69,182.438 1820.73,182.227 1822.77,182.016 \\n  1824.8,181.805 1826.84,181.594 1828.88,181.383 1830.92,181.172 1832.96,180.961 1835,180.75 1837.04,180.539 1839.07,180.328 1841.11,180.117 1843.15,179.906 \\n  1845.19,179.696 1847.23,179.485 1849.27,179.274 1851.31,179.063 1853.35,178.852 1855.38,178.641 1857.42,178.43 1859.46,178.219 1861.5,178.008 1863.54,177.797 \\n  1865.58,177.586 1867.62,177.375 1869.65,177.164 1871.69,176.953 1873.73,176.742 1875.77,176.531 1877.81,176.321 1879.85,176.11 1881.89,175.899 1883.92,175.688 \\n  1885.96,175.515 1888,175.353 1890.04,175.19 1892.08,175.028 1894.12,174.865 1896.16,174.703 1898.2,174.54 1900.23,174.378 1902.27,174.215 1904.31,174.053 \\n  1906.35,173.89 1908.39,173.728 1910.43,173.565 1912.47,173.403 1914.5,173.24 1916.54,173.078 1918.58,172.915 1920.62,172.753 1922.66,172.59 1924.7,172.428 \\n  1926.74,172.265 1928.78,172.103 1930.81,171.94 1932.85,171.778 1934.89,171.615 1936.93,171.453 1938.97,171.29 1941.01,171.128 1943.05,170.965 1945.08,170.803 \\n  1947.12,170.64 1949.16,170.478 1951.2,170.315 1953.24,170.153 1955.28,169.99 1957.32,169.828 1959.36,169.665 1961.39,169.503 1963.43,169.34 1965.47,169.178 \\n  1967.51,169.043 1969.55,168.914 1971.59,168.785 1973.63,168.656 1975.66,168.528 1977.7,168.399 1979.74,168.27 1981.78,168.141 1983.82,168.012 1985.86,167.883 \\n  1987.9,167.754 1989.94,167.625 1991.97,167.496 1994.01,167.367 1996.05,167.238 1998.09,167.109 2000.13,166.98 2002.17,166.851 2004.21,166.722 2006.24,166.593 \\n  2008.28,166.464 2010.32,166.335 2012.36,166.206 2014.4,166.077 2016.44,165.949 2018.48,165.82 2020.52,165.691 2022.55,165.562 2024.59,165.433 2026.63,165.304 \\n  2028.67,165.175 2030.71,165.046 2032.75,164.917 2034.79,164.788 2036.82,164.659 2038.86,164.53 2040.9,164.401 2042.94,164.272 2044.98,164.143 2047.02,164.014 \\n  2049.06,163.907 2051.1,163.802 2053.13,163.697 2055.17,163.592 2057.21,163.487 2059.25,163.383 2061.29,163.278 2063.33,163.173 2065.37,163.068 2067.4,162.964 \\n  2069.44,162.859 2071.48,162.754 2073.52,162.649 2075.56,162.545 2077.6,162.44 2079.64,162.335 2081.68,162.23 2083.71,162.125 2085.75,162.021 2087.79,161.916 \\n  2089.83,161.811 2091.87,161.706 2093.91,161.602 2095.95,161.497 2097.98,161.392 2100.02,161.287 2102.06,161.183 2104.1,161.078 2106.14,160.973 2108.18,160.868 \\n  2110.22,160.763 2112.26,160.659 2114.29,160.554 2116.33,160.449 2118.37,160.344 2120.41,160.24 2122.45,160.135 2124.49,160.03 2126.53,159.925 2128.56,159.821 \\n  2130.6,159.732 2132.64,159.646 2134.68,159.559 2136.72,159.472 2138.76,159.385 2140.8,159.298 2142.83,159.212 2144.87,159.125 2146.91,159.038 2148.95,158.951 \\n  2150.99,158.864 2153.03,158.778 2155.07,158.691 2157.11,158.604 2159.14,158.517 2161.18,158.431 2163.22,158.344 2165.26,158.257 2167.3,158.17 2169.34,158.083 \\n  2171.38,157.997 2173.41,157.91 2175.45,157.823 2177.49,157.736 2179.53,157.649 2181.57,157.563 2183.61,157.476 2185.65,157.389 2187.69,157.302 2189.72,157.216 \\n  2191.76,157.129 2193.8,157.042 2195.84,156.955 2197.88,156.868 2199.92,156.782 2201.96,156.695 2203.99,156.608 2206.03,156.521 2208.07,156.435 2210.11,156.348 \\n  2212.15,156.274 2214.19,156.201 2216.23,156.128 2218.27,156.055 2220.3,155.982 2222.34,155.909 2224.38,155.836 2226.42,155.763 2228.46,155.69 2230.5,155.617 \\n  2232.54,155.544 2234.57,155.471 2236.61,155.398 2238.65,155.324 2240.69,155.251 2242.73,155.178 2244.77,155.105 2246.81,155.032 2248.85,154.959 2250.88,154.886 \\n  2252.92,154.813 2254.96,154.74 2257,154.667 2259.04,154.594 2261.08,154.521 2263.12,154.448 2265.15,154.375 2267.19,154.302 2269.23,154.229 2271.27,154.156 \\n  2273.31,154.083 2275.35,154.01 2277.39,153.937 2279.43,153.864 2281.46,153.79 2283.5,153.717 2285.54,153.644 2287.58,153.571 2289.62,153.498 2291.66,153.425 \\n  \\n  \\\"\\/>\\n<path clip-path=\\\"url(#clip350)\\\" d=\\\"\\nM759.601 1486.45 L1321.32 1486.45 L1321.32 1279.09 L759.601 1279.09  Z\\n  \\\" fill=\\\"#ffffff\\\" fill-rule=\\\"evenodd\\\" fill-opacity=\\\"1\\\"\\/>\\n<polyline clip-path=\\\"url(#clip350)\\\" style=\\\"stroke:#000000; stroke-linecap:butt; stroke-linejoin:round; stroke-width:4; stroke-opacity:1; fill:none\\\" points=\\\"\\n  759.601,1486.45 1321.32,1486.45 1321.32,1279.09 759.601,1279.09 759.601,1486.45 \\n  \\\"\\/>\\n<polyline clip-path=\\\"url(#clip350)\\\" style=\\\"stroke:#009af9; stroke-linecap:butt; stroke-linejoin:round; stroke-width:4; stroke-opacity:1; fill:none\\\" stroke-dasharray=\\\"16, 10\\\" points=\\\"\\n  783.588,1330.93 927.509,1330.93 \\n  \\\"\\/>\\n<path clip-path=\\\"url(#clip350)\\\" d=\\\"M968 1312.19 L968 1315.73 L963.926 1315.73 Q961.635 1315.73 960.732 1316.66 Q959.852 1317.58 959.852 1319.99 L959.852 1322.28 L966.866 1322.28 L966.866 1325.59 L959.852 1325.59 L959.852 1348.21 L955.57 1348.21 L955.57 1325.59 L951.496 1325.59 L951.496 1322.28 L955.57 1322.28 L955.57 1320.48 Q955.57 1316.15 957.584 1314.18 Q959.598 1312.19 963.973 1312.19 L968 1312.19 Z\\\" fill=\\\"#000000\\\" fill-rule=\\\"evenodd\\\" fill-opacity=\\\"1\\\" \\/><path clip-path=\\\"url(#clip350)\\\" d=\\\"M981.797 1312.24 Q978.695 1317.56 977.19 1322.77 Q975.686 1327.98 975.686 1333.32 Q975.686 1338.67 977.19 1343.93 Q978.718 1349.16 981.797 1354.46 L978.093 1354.46 Q974.621 1349.02 972.885 1343.76 Q971.172 1338.51 971.172 1333.32 Q971.172 1328.16 972.885 1322.93 Q974.598 1317.7 978.093 1312.24 L981.797 1312.24 Z\\\" fill=\\\"#000000\\\" fill-rule=\\\"evenodd\\\" fill-opacity=\\\"1\\\" \\/><path clip-path=\\\"url(#clip350)\\\" d=\\\"M1011.61 1322.28 L1002.24 1334.9 L1012.1 1348.21 L1007.07 1348.21 L999.528 1338.02 L991.982 1348.21 L986.959 1348.21 L997.028 1334.64 L987.815 1322.28 L992.838 1322.28 L999.713 1331.52 L1006.59 1322.28 L1011.61 1322.28 Z\\\" fill=\\\"#000000\\\" fill-rule=\\\"evenodd\\\" fill-opacity=\\\"1\\\" \\/><path clip-path=\\\"url(#clip350)\\\" d=\\\"M1017.44 1312.24 L1021.15 1312.24 Q1024.62 1317.7 1026.33 1322.93 Q1028.07 1328.16 1028.07 1333.32 Q1028.07 1338.51 1026.33 1343.76 Q1024.62 1349.02 1021.15 1354.46 L1017.44 1354.46 Q1020.52 1349.16 1022.03 1343.93 Q1023.56 1338.67 1023.56 1333.32 Q1023.56 1327.98 1022.03 1322.77 Q1020.52 1317.56 1017.44 1312.24 Z\\\" fill=\\\"#000000\\\" fill-rule=\\\"evenodd\\\" fill-opacity=\\\"1\\\" \\/><circle clip-path=\\\"url(#clip350)\\\" cx=\\\"855.548\\\" cy=\\\"1382.77\\\" r=\\\"23.04\\\" fill=\\\"#e26f46\\\" fill-rule=\\\"evenodd\\\" fill-opacity=\\\"1\\\" stroke=\\\"#000000\\\" stroke-opacity=\\\"1\\\" stroke-width=\\\"5.12\\\"\\/>\\n<path clip-path=\\\"url(#clip350)\\\" d=\\\"M951.496 1365.49 L957.792 1365.49 L973.116 1394.4 L973.116 1365.49 L977.653 1365.49 L977.653 1400.05 L971.357 1400.05 L956.033 1371.14 L956.033 1400.05 L951.496 1400.05 L951.496 1365.49 Z\\\" fill=\\\"#000000\\\" fill-rule=\\\"evenodd\\\" fill-opacity=\\\"1\\\" \\/><path clip-path=\\\"url(#clip350)\\\" d=\\\"M996.82 1377.11 Q993.394 1377.11 991.403 1379.79 Q989.412 1382.46 989.412 1387.11 Q989.412 1391.76 991.38 1394.45 Q993.371 1397.11 996.82 1397.11 Q1000.22 1397.11 1002.21 1394.42 Q1004.2 1391.74 1004.2 1387.11 Q1004.2 1382.5 1002.21 1379.82 Q1000.22 1377.11 996.82 1377.11 M996.82 1373.5 Q1002.38 1373.5 1005.55 1377.11 Q1008.72 1380.72 1008.72 1387.11 Q1008.72 1393.47 1005.55 1397.11 Q1002.38 1400.72 996.82 1400.72 Q991.241 1400.72 988.07 1397.11 Q984.922 1393.47 984.922 1387.11 Q984.922 1380.72 988.07 1377.11 Q991.241 1373.5 996.82 1373.5 Z\\\" fill=\\\"#000000\\\" fill-rule=\\\"evenodd\\\" fill-opacity=\\\"1\\\" \\/><path clip-path=\\\"url(#clip350)\\\" d=\\\"M1032.84 1378.06 L1032.84 1364.03 L1037.1 1364.03 L1037.1 1400.05 L1032.84 1400.05 L1032.84 1396.16 Q1031.5 1398.47 1029.44 1399.61 Q1027.4 1400.72 1024.53 1400.72 Q1019.83 1400.72 1016.87 1396.97 Q1013.93 1393.22 1013.93 1387.11 Q1013.93 1381 1016.87 1377.25 Q1019.83 1373.5 1024.53 1373.5 Q1027.4 1373.5 1029.44 1374.63 Q1031.5 1375.74 1032.84 1378.06 M1018.32 1387.11 Q1018.32 1391.81 1020.25 1394.49 Q1022.19 1397.15 1025.57 1397.15 Q1028.95 1397.15 1030.89 1394.49 Q1032.84 1391.81 1032.84 1387.11 Q1032.84 1382.41 1030.89 1379.75 Q1028.95 1377.06 1025.57 1377.06 Q1022.19 1377.06 1020.25 1379.75 Q1018.32 1382.41 1018.32 1387.11 Z\\\" fill=\\\"#000000\\\" fill-rule=\\\"evenodd\\\" fill-opacity=\\\"1\\\" \\/><path clip-path=\\\"url(#clip350)\\\" d=\\\"M1068.05 1386.02 L1068.05 1388.1 L1048.46 1388.1 Q1048.74 1392.5 1051.1 1394.82 Q1053.49 1397.11 1057.72 1397.11 Q1060.18 1397.11 1062.47 1396.51 Q1064.78 1395.9 1067.05 1394.7 L1067.05 1398.73 Q1064.76 1399.7 1062.35 1400.21 Q1059.94 1400.72 1057.47 1400.72 Q1051.26 1400.72 1047.63 1397.11 Q1044.02 1393.5 1044.02 1387.34 Q1044.02 1380.97 1047.44 1377.25 Q1050.89 1373.5 1056.73 1373.5 Q1061.96 1373.5 1064.99 1376.88 Q1068.05 1380.23 1068.05 1386.02 M1063.79 1384.77 Q1063.74 1381.27 1061.82 1379.19 Q1059.92 1377.11 1056.77 1377.11 Q1053.21 1377.11 1051.06 1379.12 Q1048.93 1381.14 1048.6 1384.79 L1063.79 1384.77 Z\\\" fill=\\\"#000000\\\" fill-rule=\\\"evenodd\\\" fill-opacity=\\\"1\\\" \\/><path clip-path=\\\"url(#clip350)\\\" d=\\\"M1091.56 1374.89 L1091.56 1378.91 Q1089.76 1377.99 1087.81 1377.52 Q1085.87 1377.06 1083.79 1377.06 Q1080.62 1377.06 1079.02 1378.03 Q1077.44 1379.01 1077.44 1380.95 Q1077.44 1382.43 1078.58 1383.29 Q1079.71 1384.12 1083.14 1384.89 L1084.6 1385.21 Q1089.13 1386.18 1091.03 1387.96 Q1092.95 1389.72 1092.95 1392.9 Q1092.95 1396.51 1090.08 1398.61 Q1087.24 1400.72 1082.24 1400.72 Q1080.15 1400.72 1077.88 1400.3 Q1075.64 1399.91 1073.14 1399.1 L1073.14 1394.7 Q1075.5 1395.93 1077.79 1396.55 Q1080.08 1397.15 1082.33 1397.15 Q1085.34 1397.15 1086.96 1396.14 Q1088.58 1395.09 1088.58 1393.22 Q1088.58 1391.48 1087.4 1390.56 Q1086.24 1389.63 1082.28 1388.77 L1080.8 1388.43 Q1076.84 1387.59 1075.08 1385.88 Q1073.32 1384.15 1073.32 1381.14 Q1073.32 1377.48 1075.92 1375.49 Q1078.51 1373.5 1083.28 1373.5 Q1085.64 1373.5 1087.72 1373.84 Q1089.81 1374.19 1091.56 1374.89 Z\\\" fill=\\\"#000000\\\" fill-rule=\\\"evenodd\\\" fill-opacity=\\\"1\\\" \\/><path clip-path=\\\"url(#clip350)\\\" d=\\\"M1125.04 1364.08 Q1121.93 1369.4 1120.43 1374.61 Q1118.93 1379.82 1118.93 1385.16 Q1118.93 1390.51 1120.43 1395.77 Q1121.96 1401 1125.04 1406.3 L1121.33 1406.3 Q1117.86 1400.86 1116.12 1395.6 Q1114.41 1390.35 1114.41 1385.16 Q1114.41 1380 1116.12 1374.77 Q1117.84 1369.54 1121.33 1364.08 L1125.04 1364.08 Z\\\" fill=\\\"#000000\\\" fill-rule=\\\"evenodd\\\" fill-opacity=\\\"1\\\" \\/><path clip-path=\\\"url(#clip350)\\\" d=\\\"M1154.85 1384.4 L1154.85 1400.05 L1150.59 1400.05 L1150.59 1384.54 Q1150.59 1380.86 1149.16 1379.03 Q1147.72 1377.2 1144.85 1377.2 Q1141.4 1377.2 1139.41 1379.4 Q1137.42 1381.6 1137.42 1385.4 L1137.42 1400.05 L1133.14 1400.05 L1133.14 1374.12 L1137.42 1374.12 L1137.42 1378.15 Q1138.95 1375.81 1141.01 1374.65 Q1143.09 1373.5 1145.8 1373.5 Q1150.27 1373.5 1152.56 1376.27 Q1154.85 1379.03 1154.85 1384.4 Z\\\" fill=\\\"#000000\\\" fill-rule=\\\"evenodd\\\" fill-opacity=\\\"1\\\" \\/><path clip-path=\\\"url(#clip350)\\\" d=\\\"M1163.9 1378.52 L1193.58 1378.52 L1193.58 1382.41 L1163.9 1382.41 L1163.9 1378.52 M1163.9 1387.96 L1193.58 1387.96 L1193.58 1391.9 L1163.9 1391.9 L1163.9 1387.96 Z\\\" fill=\\\"#000000\\\" fill-rule=\\\"evenodd\\\" fill-opacity=\\\"1\\\" \\/><path clip-path=\\\"url(#clip350)\\\" d=\\\"M1207.7 1396.11 L1224.02 1396.11 L1224.02 1400.05 L1202.07 1400.05 L1202.07 1396.11 Q1204.74 1393.36 1209.32 1388.73 Q1213.92 1384.08 1215.11 1382.73 Q1217.35 1380.21 1218.23 1378.47 Q1219.13 1376.71 1219.13 1375.02 Q1219.13 1372.27 1217.19 1370.53 Q1215.27 1368.8 1212.17 1368.8 Q1209.97 1368.8 1207.51 1369.56 Q1205.08 1370.33 1202.3 1371.88 L1202.3 1367.15 Q1205.13 1366.02 1207.58 1365.44 Q1210.04 1364.86 1212.07 1364.86 Q1217.44 1364.86 1220.64 1367.55 Q1223.83 1370.23 1223.83 1374.72 Q1223.83 1376.85 1223.02 1378.77 Q1222.24 1380.67 1220.13 1383.27 Q1219.55 1383.94 1216.45 1387.15 Q1213.35 1390.35 1207.7 1396.11 Z\\\" fill=\\\"#000000\\\" fill-rule=\\\"evenodd\\\" fill-opacity=\\\"1\\\" \\/><path clip-path=\\\"url(#clip350)\\\" d=\\\"M1244.41 1380.9 Q1241.26 1380.9 1239.41 1383.06 Q1237.58 1385.21 1237.58 1388.96 Q1237.58 1392.69 1239.41 1394.86 Q1241.26 1397.02 1244.41 1397.02 Q1247.56 1397.02 1249.39 1394.86 Q1251.24 1392.69 1251.24 1388.96 Q1251.24 1385.21 1249.39 1383.06 Q1247.56 1380.9 1244.41 1380.9 M1253.69 1366.25 L1253.69 1370.51 Q1251.93 1369.68 1250.13 1369.24 Q1248.35 1368.8 1246.59 1368.8 Q1241.96 1368.8 1239.5 1371.92 Q1237.07 1375.05 1236.73 1381.37 Q1238.09 1379.35 1240.15 1378.29 Q1242.21 1377.2 1244.69 1377.2 Q1249.9 1377.2 1252.91 1380.37 Q1255.94 1383.52 1255.94 1388.96 Q1255.94 1394.28 1252.79 1397.5 Q1249.64 1400.72 1244.41 1400.72 Q1238.42 1400.72 1235.24 1396.14 Q1232.07 1391.53 1232.07 1382.8 Q1232.07 1374.61 1235.96 1369.75 Q1239.85 1364.86 1246.4 1364.86 Q1248.16 1364.86 1249.94 1365.21 Q1251.75 1365.56 1253.69 1366.25 Z\\\" fill=\\\"#000000\\\" fill-rule=\\\"evenodd\\\" fill-opacity=\\\"1\\\" \\/><path clip-path=\\\"url(#clip350)\\\" d=\\\"M1262.72 1364.08 L1266.42 1364.08 Q1269.9 1369.54 1271.61 1374.77 Q1273.35 1380 1273.35 1385.16 Q1273.35 1390.35 1271.61 1395.6 Q1269.9 1400.86 1266.42 1406.3 L1262.72 1406.3 Q1265.8 1401 1267.3 1395.77 Q1268.83 1390.51 1268.83 1385.16 Q1268.83 1379.82 1267.3 1374.61 Q1265.8 1369.4 1262.72 1364.08 Z\\\" fill=\\\"#000000\\\" fill-rule=\\\"evenodd\\\" fill-opacity=\\\"1\\\" \\/><polyline clip-path=\\\"url(#clip350)\\\" style=\\\"stroke:#3da44d; stroke-linecap:butt; stroke-linejoin:round; stroke-width:4; stroke-opacity:1; fill:none\\\" points=\\\"\\n  783.588,1434.61 927.509,1434.61 \\n  \\\"\\/>\\n<path clip-path=\\\"url(#clip350)\\\" d=\\\"M969.922 1426.73 L969.922 1430.75 Q968.116 1429.83 966.172 1429.36 Q964.227 1428.9 962.144 1428.9 Q958.973 1428.9 957.375 1429.87 Q955.801 1430.85 955.801 1432.79 Q955.801 1434.27 956.936 1435.13 Q958.07 1435.96 961.496 1436.73 L962.954 1437.05 Q967.491 1438.02 969.389 1439.8 Q971.311 1441.56 971.311 1444.74 Q971.311 1448.35 968.44 1450.45 Q965.593 1452.56 960.593 1452.56 Q958.51 1452.56 956.241 1452.14 Q953.996 1451.75 951.496 1450.94 L951.496 1446.54 Q953.857 1447.77 956.149 1448.39 Q958.44 1448.99 960.686 1448.99 Q963.695 1448.99 965.315 1447.98 Q966.936 1446.93 966.936 1445.06 Q966.936 1443.32 965.755 1442.4 Q964.598 1441.47 960.639 1440.61 L959.158 1440.27 Q955.2 1439.43 953.44 1437.72 Q951.681 1435.99 951.681 1432.98 Q951.681 1429.32 954.274 1427.33 Q956.866 1425.34 961.635 1425.34 Q963.996 1425.34 966.079 1425.68 Q968.162 1426.03 969.922 1426.73 Z\\\" fill=\\\"#000000\\\" fill-rule=\\\"evenodd\\\" fill-opacity=\\\"1\\\" \\/><path clip-path=\\\"url(#clip350)\\\" d=\\\"M982.213 1448 L982.213 1461.75 L977.931 1461.75 L977.931 1425.96 L982.213 1425.96 L982.213 1429.9 Q983.556 1427.58 985.593 1426.47 Q987.653 1425.34 990.5 1425.34 Q995.222 1425.34 998.162 1429.09 Q1001.13 1432.84 1001.13 1438.95 Q1001.13 1445.06 998.162 1448.81 Q995.222 1452.56 990.5 1452.56 Q987.653 1452.56 985.593 1451.45 Q983.556 1450.31 982.213 1448 M996.704 1438.95 Q996.704 1434.25 994.759 1431.59 Q992.838 1428.9 989.459 1428.9 Q986.079 1428.9 984.135 1431.59 Q982.213 1434.25 982.213 1438.95 Q982.213 1443.65 984.135 1446.33 Q986.079 1448.99 989.459 1448.99 Q992.838 1448.99 994.759 1446.33 Q996.704 1443.65 996.704 1438.95 Z\\\" fill=\\\"#000000\\\" fill-rule=\\\"evenodd\\\" fill-opacity=\\\"1\\\" \\/><path clip-path=\\\"url(#clip350)\\\" d=\\\"M1008.19 1415.87 L1012.44 1415.87 L1012.44 1451.89 L1008.19 1451.89 L1008.19 1415.87 Z\\\" fill=\\\"#000000\\\" fill-rule=\\\"evenodd\\\" fill-opacity=\\\"1\\\" \\/><path clip-path=\\\"url(#clip350)\\\" d=\\\"M1021.36 1425.96 L1025.62 1425.96 L1025.62 1451.89 L1021.36 1451.89 L1021.36 1425.96 M1021.36 1415.87 L1025.62 1415.87 L1025.62 1421.26 L1021.36 1421.26 L1021.36 1415.87 Z\\\" fill=\\\"#000000\\\" fill-rule=\\\"evenodd\\\" fill-opacity=\\\"1\\\" \\/><path clip-path=\\\"url(#clip350)\\\" d=\\\"M1056.08 1436.24 L1056.08 1451.89 L1051.82 1451.89 L1051.82 1436.38 Q1051.82 1432.7 1050.38 1430.87 Q1048.95 1429.04 1046.08 1429.04 Q1042.63 1429.04 1040.64 1431.24 Q1038.65 1433.44 1038.65 1437.24 L1038.65 1451.89 L1034.37 1451.89 L1034.37 1425.96 L1038.65 1425.96 L1038.65 1429.99 Q1040.18 1427.65 1042.24 1426.49 Q1044.32 1425.34 1047.03 1425.34 Q1051.5 1425.34 1053.79 1428.11 Q1056.08 1430.87 1056.08 1436.24 Z\\\" fill=\\\"#000000\\\" fill-rule=\\\"evenodd\\\" fill-opacity=\\\"1\\\" \\/><path clip-path=\\\"url(#clip350)\\\" d=\\\"M1086.75 1437.86 L1086.75 1439.94 L1067.17 1439.94 Q1067.44 1444.34 1069.81 1446.66 Q1072.19 1448.95 1076.43 1448.95 Q1078.88 1448.95 1081.17 1448.35 Q1083.49 1447.74 1085.75 1446.54 L1085.75 1450.57 Q1083.46 1451.54 1081.06 1452.05 Q1078.65 1452.56 1076.17 1452.56 Q1069.97 1452.56 1066.33 1448.95 Q1062.72 1445.34 1062.72 1439.18 Q1062.72 1432.81 1066.15 1429.09 Q1069.6 1425.34 1075.43 1425.34 Q1080.66 1425.34 1083.69 1428.72 Q1086.75 1432.07 1086.75 1437.86 M1082.49 1436.61 Q1082.44 1433.11 1080.52 1431.03 Q1078.62 1428.95 1075.48 1428.95 Q1071.91 1428.95 1069.76 1430.96 Q1067.63 1432.98 1067.31 1436.63 L1082.49 1436.61 Z\\\" fill=\\\"#000000\\\" fill-rule=\\\"evenodd\\\" fill-opacity=\\\"1\\\" \\/><path clip-path=\\\"url(#clip350)\\\" d=\\\"M1095.15 1447.95 L1102.79 1447.95 L1102.79 1421.59 L1094.48 1423.25 L1094.48 1418.99 L1102.75 1417.33 L1107.42 1417.33 L1107.42 1447.95 L1115.06 1447.95 L1115.06 1451.89 L1095.15 1451.89 L1095.15 1447.95 Z\\\" fill=\\\"#000000\\\" fill-rule=\\\"evenodd\\\" fill-opacity=\\\"1\\\" \\/><\\/svg>\\n\"},\"nodeType\":\"DOM\",\"type\":\"node\",\"instanceArgs\":{\"namespace\":\"html\",\"tag\":\"div\"},\"children\":[]}]}}}},\"children\":[{\"props\":{},\"nodeType\":\"ObservableNode\",\"type\":\"node\",\"instanceArgs\":{\"id\":\"17009665018942004493\",\"name\":\"obs-node\"},\"children\":[]}]}]},\n",
       "        window,\n",
       "    );\n",
       "    })()\n",
       "    </script>\n",
       "</div>\n"
      ],
      "text/plain": [
       "Node{WebIO.DOM}(WebIO.DOM(:html, :div), Any[Node{WebIO.DOM}(WebIO.DOM(:html, :div), Any[Scope(Node{WebIO.DOM}(WebIO.DOM(:html, :div), Any[Node{WebIO.DOM}(WebIO.DOM(:html, :div), Any[Node{WebIO.DOM}(WebIO.DOM(:html, :label), Any[\"n\"], Dict{Symbol, Any}(:className => \"interact \", :style => Dict{Any, Any}(:padding => \"5px 10px 0px 10px\")))], Dict{Symbol, Any}(:className => \"interact-flex-row-left\")), Node{WebIO.DOM}(WebIO.DOM(:html, :div), Any[Node{WebIO.DOM}(WebIO.DOM(:html, :input), Any[], Dict{Symbol, Any}(:max => 50, :min => 2, :attributes => Dict{Any, Any}(:type => \"range\", Symbol(\"data-bind\") => \"numericValue: index, valueUpdate: 'input', event: {change: function (){this.changes(this.changes()+1)}}\", \"orient\" => \"horizontal\"), :step => 1, :className => \"slider slider is-fullwidth\", :style => Dict{Any, Any}()))], Dict{Symbol, Any}(:className => \"interact-flex-row-center\")), Node{WebIO.DOM}(WebIO.DOM(:html, :div), Any[Node{WebIO.DOM}(WebIO.DOM(:html, :p), Any[], Dict{Symbol, Any}(:attributes => Dict(\"data-bind\" => \"text: formatted_val\")))], Dict{Symbol, Any}(:className => \"interact-flex-row-right\"))], Dict{Symbol, Any}(:className => \"interact-flex-row interact-widget\")), Dict{String, Tuple{Observables.AbstractObservable, Union{Nothing, Bool}}}(\"changes\" => (Observable{Int64} with 1 listeners. Value:\n",
       "0, nothing), \"index\" => (Observable{Int64} with 2 listeners. Value:\n",
       "26, nothing)), Set{String}(), nothing, Asset[Asset(\"js\", \"knockout\", \"/Users/carbon/.julia/packages/Knockout/3gjS1/src/../assets/knockout.js\"), Asset(\"js\", \"knockout_punches\", \"/Users/carbon/.julia/packages/Knockout/3gjS1/src/../assets/knockout_punches.js\"), Asset(\"js\", nothing, \"/Users/carbon/.julia/packages/InteractBase/h8Fwe/src/../assets/all.js\"), Asset(\"css\", nothing, \"/Users/carbon/.julia/packages/InteractBase/h8Fwe/src/../assets/style.css\"), Asset(\"css\", nothing, \"/Users/carbon/.julia/packages/Interact/pVyN2/src/../assets/bulma_confined.min.css\")], Dict{Any, Any}(\"changes\" => Any[WebIO.JSString(\"(function (val){return (val!=this.model[\\\"changes\\\"]()) ? (this.valueFromJulia[\\\"changes\\\"]=true, this.model[\\\"changes\\\"](val)) : undefined})\")], \"index\" => Any[WebIO.JSString(\"(function (val){return (val!=this.model[\\\"index\\\"]()) ? (this.valueFromJulia[\\\"index\\\"]=true, this.model[\\\"index\\\"](val)) : undefined})\")]), WebIO.ConnectionPool(Channel{Any}(32), Set{AbstractConnection}(), Condition(Base.InvasiveLinkedList{Task}(Task (runnable) @0x00000001168f2230, Task (runnable) @0x00000001168f2230), Base.AlwaysLockedST(1))), WebIO.JSString[WebIO.JSString(\"function () {\\n    var handler = (function (ko, koPunches) {\\n    ko.punches.enableAll();\\n    ko.bindingHandlers.numericValue = {\\n        init: function(element, valueAccessor, allBindings, data, context) {\\n            var stringified = ko.observable(ko.unwrap(valueAccessor()));\\n            stringified.subscribe(function(value) {\\n                var val = parseFloat(value);\\n                if (!isNaN(val)) {\\n                    valueAccessor()(val);\\n                }\\n            });\\n            valueAccessor().subscribe(function(value) {\\n                var str = JSON.stringify(value);\\n                if ((str == \\\"0\\\") && ([\\\"-0\\\", \\\"-0.\\\"].indexOf(stringified()) >= 0))\\n                     return;\\n                 if ([\\\"null\\\", \\\"\\\"].indexOf(str) >= 0)\\n                     return;\\n                stringified(str);\\n            });\\n            ko.applyBindingsToNode(\\n                element,\\n                {\\n                    value: stringified,\\n                    valueUpdate: allBindings.get('valueUpdate'),\\n                },\\n                context,\\n            );\\n        }\\n    };\\n    var json_data = {\\\"formatted_vals\\\":[\\\"2\\\",\\\"3\\\",\\\"4\\\",\\\"5\\\",\\\"6\\\",\\\"7\\\",\\\"8\\\",\\\"9\\\",\\\"10\\\",\\\"11\\\",\\\"12\\\",\\\"13\\\",\\\"14\\\",\\\"15\\\",\\\"16\\\",\\\"17\\\",\\\"18\\\",\\\"19\\\",\\\"20\\\",\\\"21\\\",\\\"22\\\",\\\"23\\\",\\\"24\\\",\\\"25\\\",\\\"26\\\",\\\"27\\\",\\\"28\\\",\\\"29\\\",\\\"30\\\",\\\"31\\\",\\\"32\\\",\\\"33\\\",\\\"34\\\",\\\"35\\\",\\\"36\\\",\\\"37\\\",\\\"38\\\",\\\"39\\\",\\\"40\\\",\\\"41\\\",\\\"42\\\",\\\"43\\\",\\\"44\\\",\\\"45\\\",\\\"46\\\",\\\"47\\\",\\\"48\\\",\\\"49\\\",\\\"50\\\"],\\\"changes\\\":WebIO.getval({\\\"name\\\":\\\"changes\\\",\\\"scope\\\":\\\"6149868130785045897\\\",\\\"id\\\":\\\"2345012731124383594\\\",\\\"type\\\":\\\"observable\\\"}),\\\"index\\\":WebIO.getval({\\\"name\\\":\\\"index\\\",\\\"scope\\\":\\\"6149868130785045897\\\",\\\"id\\\":\\\"10578776765821906720\\\",\\\"type\\\":\\\"observable\\\"})};\\n    var self = this;\\n    function AppViewModel() {\\n        for (var key in json_data) {\\n            var el = json_data[key];\\n            this[key] = Array.isArray(el) ? ko.observableArray(el) : ko.observable(el);\\n        }\\n        \\n        [this[\\\"formatted_val\\\"]=ko.computed(    function(){\\n        return this.formatted_vals()[parseInt(this.index())-(2)];\\n    }\\n,this)]\\n        [this[\\\"changes\\\"].subscribe((function (val){!(this.valueFromJulia[\\\"changes\\\"]) ? (WebIO.setval({\\\"name\\\":\\\"changes\\\",\\\"scope\\\":\\\"6149868130785045897\\\",\\\"id\\\":\\\"2345012731124383594\\\",\\\"type\\\":\\\"observable\\\"},val)) : undefined; return this.valueFromJulia[\\\"changes\\\"]=false}),self),this[\\\"index\\\"].subscribe((function (val){!(this.valueFromJulia[\\\"index\\\"]) ? (WebIO.setval({\\\"name\\\":\\\"index\\\",\\\"scope\\\":\\\"6149868130785045897\\\",\\\"id\\\":\\\"10578776765821906720\\\",\\\"type\\\":\\\"observable\\\"},val)) : undefined; return this.valueFromJulia[\\\"index\\\"]=false}),self)]\\n        \\n    }\\n    self.model = new AppViewModel();\\n    self.valueFromJulia = {};\\n    for (var key in json_data) {\\n        self.valueFromJulia[key] = false;\\n    }\\n    ko.applyBindings(self.model, self.dom);\\n}\\n);\\n    (WebIO.importBlock({\\\"data\\\":[{\\\"name\\\":\\\"knockout\\\",\\\"type\\\":\\\"js\\\",\\\"url\\\":\\\"/assetserver/68b391a98f51946de6766c9cb9c06259d0b67941-knockout.js\\\"},{\\\"name\\\":\\\"knockout_punches\\\",\\\"type\\\":\\\"js\\\",\\\"url\\\":\\\"/assetserver/a75e1e7279f4e8a75d1508d0e0f26637654e46a8-knockout_punches.js\\\"}],\\\"type\\\":\\\"async_block\\\"})).then((imports) => handler.apply(this, imports));\\n}\\n\")])], Dict{Symbol, Any}(:className => \"field interact-widget\")), Node{WebIO.DOM}(WebIO.DOM(:html, :div), Any[Scope(Node{WebIO.DOM}(WebIO.DOM(:html, :div), Any[Node{WebIO.DOM}(WebIO.DOM(:html, :div), Any[Node{WebIO.DOM}(WebIO.DOM(:html, :label), Any[\"spline\"], Dict{Symbol, Any}(:className => \"interact \", :style => Dict{Any, Any}(:padding => \"5px 10px 0px 10px\")))], Dict{Symbol, Any}(:className => \"interact-flex-row-left\")), Node{WebIO.DOM}(WebIO.DOM(:html, :div), Any[Node{WebIO.DOM}(WebIO.DOM(:html, :div), Any[Node{WebIO.DOM}(WebIO.DOM(:html, :span), Any[Node{WebIO.DOM}(WebIO.DOM(:html, :label), Any[], Dict{Symbol, Any}(:attributes => Dict(\"data-bind\" => \"text : key\")))], Dict{Symbol, Any}(:attributes => Dict(\"data-bind\" => \"click: function (){\\$root.update(val)}, css: {'is-primary is-selected' : \\$root.index() == val, 'interact-widget is-medium button ' : true}\")))], Dict{Symbol, Any}(:attributes => (\"data-bind\" => \"foreach : options_js\"), :className => \"buttons has-addons is-centered\"))], Dict{Symbol, Any}(:className => \"interact-flex-row-center\")), Node{WebIO.DOM}(WebIO.DOM(:html, :div), Any[Node{WebIO.DOM}(WebIO.DOM(:html, :div), Any[], Dict{Symbol, Any}())], Dict{Symbol, Any}(:className => \"interact-flex-row-right\"))], Dict{Symbol, Any}(:className => \"interact-flex-row interact-widget\")), Dict{String, Tuple{Observables.AbstractObservable, Union{Nothing, Bool}}}(\"options_js\" => (Observable{Vector{OrderedDict}} with 1 listeners. Value:\n",
       "OrderedDict[OrderedDict{String, Any}(\"key\" => \"spline1\", \"val\" => 1, \"id\" => \"idOAJ6XNYO\"), OrderedDict{String, Any}(\"key\" => \"spline2\", \"val\" => 2, \"id\" => \"id9RqngvM4\"), OrderedDict{String, Any}(\"key\" => \"spline3\", \"val\" => 3, \"id\" => \"idq0YLn5xh\")], nothing), \"index\" => (Observable{Any} with 2 listeners. Value:\n",
       "1, nothing)), Set{String}(), nothing, Asset[Asset(\"js\", \"knockout\", \"/Users/carbon/.julia/packages/Knockout/3gjS1/src/../assets/knockout.js\"), Asset(\"js\", \"knockout_punches\", \"/Users/carbon/.julia/packages/Knockout/3gjS1/src/../assets/knockout_punches.js\"), Asset(\"js\", nothing, \"/Users/carbon/.julia/packages/InteractBase/h8Fwe/src/../assets/all.js\"), Asset(\"css\", nothing, \"/Users/carbon/.julia/packages/InteractBase/h8Fwe/src/../assets/style.css\"), Asset(\"css\", nothing, \"/Users/carbon/.julia/packages/Interact/pVyN2/src/../assets/bulma_confined.min.css\")], Dict{Any, Any}(\"options_js\" => Any[WebIO.JSString(\"(function (val){return (val!=this.model[\\\"options_js\\\"]()) ? (this.valueFromJulia[\\\"options_js\\\"]=true, this.model[\\\"options_js\\\"](val)) : undefined})\")], \"index\" => Any[WebIO.JSString(\"(function (val){return (val!=this.model[\\\"index\\\"]()) ? (this.valueFromJulia[\\\"index\\\"]=true, this.model[\\\"index\\\"](val)) : undefined})\")]), WebIO.ConnectionPool(Channel{Any}(32), Set{AbstractConnection}(), Condition(Base.InvasiveLinkedList{Task}(Task (runnable) @0x000000016c2968c0, Task (runnable) @0x000000016c2968c0), Base.AlwaysLockedST(1))), WebIO.JSString[WebIO.JSString(\"function () {\\n    var handler = (function (ko, koPunches) {\\n    ko.punches.enableAll();\\n    ko.bindingHandlers.numericValue = {\\n        init: function(element, valueAccessor, allBindings, data, context) {\\n            var stringified = ko.observable(ko.unwrap(valueAccessor()));\\n            stringified.subscribe(function(value) {\\n                var val = parseFloat(value);\\n                if (!isNaN(val)) {\\n                    valueAccessor()(val);\\n                }\\n            });\\n            valueAccessor().subscribe(function(value) {\\n                var str = JSON.stringify(value);\\n                if ((str == \\\"0\\\") && ([\\\"-0\\\", \\\"-0.\\\"].indexOf(stringified()) >= 0))\\n                     return;\\n                 if ([\\\"null\\\", \\\"\\\"].indexOf(str) >= 0)\\n                     return;\\n                stringified(str);\\n            });\\n            ko.applyBindingsToNode(\\n                element,\\n                {\\n                    value: stringified,\\n                    valueUpdate: allBindings.get('valueUpdate'),\\n                },\\n                context,\\n            );\\n        }\\n    };\\n    var json_data = {\\\"options_js\\\":WebIO.getval({\\\"name\\\":\\\"options_js\\\",\\\"scope\\\":\\\"3768172643377870379\\\",\\\"id\\\":\\\"5501042021518863844\\\",\\\"type\\\":\\\"observable\\\"}),\\\"index\\\":WebIO.getval({\\\"name\\\":\\\"index\\\",\\\"scope\\\":\\\"3768172643377870379\\\",\\\"id\\\":\\\"15180783453790595778\\\",\\\"type\\\":\\\"observable\\\"})};\\n    var self = this;\\n    function AppViewModel() {\\n        for (var key in json_data) {\\n            var el = json_data[key];\\n            this[key] = Array.isArray(el) ? ko.observableArray(el) : ko.observable(el);\\n        }\\n        [this[\\\"update\\\"]=function (val) {this.index(val)}]\\n        \\n        [this[\\\"options_js\\\"].subscribe((function (val){!(this.valueFromJulia[\\\"options_js\\\"]) ? (WebIO.setval({\\\"name\\\":\\\"options_js\\\",\\\"scope\\\":\\\"3768172643377870379\\\",\\\"id\\\":\\\"5501042021518863844\\\",\\\"type\\\":\\\"observable\\\"},val)) : undefined; return this.valueFromJulia[\\\"options_js\\\"]=false}),self),this[\\\"index\\\"].subscribe((function (val){!(this.valueFromJulia[\\\"index\\\"]) ? (WebIO.setval({\\\"name\\\":\\\"index\\\",\\\"scope\\\":\\\"3768172643377870379\\\",\\\"id\\\":\\\"15180783453790595778\\\",\\\"type\\\":\\\"observable\\\"},val)) : undefined; return this.valueFromJulia[\\\"index\\\"]=false}),self)]\\n        \\n    }\\n    self.model = new AppViewModel();\\n    self.valueFromJulia = {};\\n    for (var key in json_data) {\\n        self.valueFromJulia[key] = false;\\n    }\\n    ko.applyBindings(self.model, self.dom);\\n}\\n);\\n    (WebIO.importBlock({\\\"data\\\":[{\\\"name\\\":\\\"knockout\\\",\\\"type\\\":\\\"js\\\",\\\"url\\\":\\\"/assetserver/68b391a98f51946de6766c9cb9c06259d0b67941-knockout.js\\\"},{\\\"name\\\":\\\"knockout_punches\\\",\\\"type\\\":\\\"js\\\",\\\"url\\\":\\\"/assetserver/a75e1e7279f4e8a75d1508d0e0f26637654e46a8-knockout_punches.js\\\"}],\\\"type\\\":\\\"async_block\\\"})).then((imports) => handler.apply(this, imports));\\n}\\n\")])], Dict{Symbol, Any}(:className => \"interact-widget\")), Node{WebIO.DOM}(WebIO.DOM(:html, :div), Any[Node{WebIO.DOM}(WebIO.DOM(:html, :div), Any[Scope(Node{WebIO.DOM}(WebIO.DOM(:html, :div), Any[Node{WebIO.DOM}(WebIO.DOM(:html, :input), Any[], Dict{Symbol, Any}(:attributes => Dict{Any, Any}(:type => \"checkbox\", Symbol(\"data-bind\") => \"checked: value, valueUpdate: 'change', event: {change: function (){this.changes(this.changes()+1)}}\"), :id => \"##292\", :className => \"switch \", :style => Dict{Any, Any}())), Node{WebIO.DOM}(WebIO.DOM(:html, :label), Any[\"clampedleft\"], Dict{Symbol, Any}(:attributes => Dict{SubString{String}, SubString{String}}(\"className\" => \"\", \"for\" => \"##292\")))], Dict{Symbol, Any}(:className => \"field interact-widget\")), Dict{String, Tuple{Observables.AbstractObservable, Union{Nothing, Bool}}}(\"changes\" => (Observable{Int64} with 1 listeners. Value:\n",
       "0, nothing), \"value\" => (Observable{Bool} with 2 listeners. Value:\n",
       "false, nothing)), Set{String}(), nothing, Asset[Asset(\"js\", \"knockout\", \"/Users/carbon/.julia/packages/Knockout/3gjS1/src/../assets/knockout.js\"), Asset(\"js\", \"knockout_punches\", \"/Users/carbon/.julia/packages/Knockout/3gjS1/src/../assets/knockout_punches.js\"), Asset(\"js\", nothing, \"/Users/carbon/.julia/packages/InteractBase/h8Fwe/src/../assets/all.js\"), Asset(\"css\", nothing, \"/Users/carbon/.julia/packages/InteractBase/h8Fwe/src/../assets/style.css\"), Asset(\"css\", nothing, \"/Users/carbon/.julia/packages/Interact/pVyN2/src/../assets/bulma_confined.min.css\")], Dict{Any, Any}(\"changes\" => Any[WebIO.JSString(\"(function (val){return (val!=this.model[\\\"changes\\\"]()) ? (this.valueFromJulia[\\\"changes\\\"]=true, this.model[\\\"changes\\\"](val)) : undefined})\")], \"value\" => Any[WebIO.JSString(\"(function (val){return (val!=this.model[\\\"value\\\"]()) ? (this.valueFromJulia[\\\"value\\\"]=true, this.model[\\\"value\\\"](val)) : undefined})\")]), WebIO.ConnectionPool(Channel{Any}(32), Set{AbstractConnection}(), Condition(Base.InvasiveLinkedList{Task}(Task (runnable) @0x000000016a50b490, Task (runnable) @0x000000016a50b490), Base.AlwaysLockedST(1))), WebIO.JSString[WebIO.JSString(\"function () {\\n    var handler = (function (ko, koPunches) {\\n    ko.punches.enableAll();\\n    ko.bindingHandlers.numericValue = {\\n        init: function(element, valueAccessor, allBindings, data, context) {\\n            var stringified = ko.observable(ko.unwrap(valueAccessor()));\\n            stringified.subscribe(function(value) {\\n                var val = parseFloat(value);\\n                if (!isNaN(val)) {\\n                    valueAccessor()(val);\\n                }\\n            });\\n            valueAccessor().subscribe(function(value) {\\n                var str = JSON.stringify(value);\\n                if ((str == \\\"0\\\") && ([\\\"-0\\\", \\\"-0.\\\"].indexOf(stringified()) >= 0))\\n                     return;\\n                 if ([\\\"null\\\", \\\"\\\"].indexOf(str) >= 0)\\n                     return;\\n                stringified(str);\\n            });\\n            ko.applyBindingsToNode(\\n                element,\\n                {\\n                    value: stringified,\\n                    valueUpdate: allBindings.get('valueUpdate'),\\n                },\\n                context,\\n            );\\n        }\\n    };\\n    var json_data = {\\\"changes\\\":WebIO.getval({\\\"name\\\":\\\"changes\\\",\\\"scope\\\":\\\"12453861160394372481\\\",\\\"id\\\":\\\"10982875746723634692\\\",\\\"type\\\":\\\"observable\\\"}),\\\"value\\\":WebIO.getval({\\\"name\\\":\\\"value\\\",\\\"scope\\\":\\\"12453861160394372481\\\",\\\"id\\\":\\\"2098318484413778770\\\",\\\"type\\\":\\\"observable\\\"})};\\n    var self = this;\\n    function AppViewModel() {\\n        for (var key in json_data) {\\n            var el = json_data[key];\\n            this[key] = Array.isArray(el) ? ko.observableArray(el) : ko.observable(el);\\n        }\\n        \\n        \\n        [this[\\\"changes\\\"].subscribe((function (val){!(this.valueFromJulia[\\\"changes\\\"]) ? (WebIO.setval({\\\"name\\\":\\\"changes\\\",\\\"scope\\\":\\\"12453861160394372481\\\",\\\"id\\\":\\\"10982875746723634692\\\",\\\"type\\\":\\\"observable\\\"},val)) : undefined; return this.valueFromJulia[\\\"changes\\\"]=false}),self),this[\\\"value\\\"].subscribe((function (val){!(this.valueFromJulia[\\\"value\\\"]) ? (WebIO.setval({\\\"name\\\":\\\"value\\\",\\\"scope\\\":\\\"12453861160394372481\\\",\\\"id\\\":\\\"2098318484413778770\\\",\\\"type\\\":\\\"observable\\\"},val)) : undefined; return this.valueFromJulia[\\\"value\\\"]=false}),self)]\\n        \\n    }\\n    self.model = new AppViewModel();\\n    self.valueFromJulia = {};\\n    for (var key in json_data) {\\n        self.valueFromJulia[key] = false;\\n    }\\n    ko.applyBindings(self.model, self.dom);\\n}\\n);\\n    (WebIO.importBlock({\\\"data\\\":[{\\\"name\\\":\\\"knockout\\\",\\\"type\\\":\\\"js\\\",\\\"url\\\":\\\"/assetserver/68b391a98f51946de6766c9cb9c06259d0b67941-knockout.js\\\"},{\\\"name\\\":\\\"knockout_punches\\\",\\\"type\\\":\\\"js\\\",\\\"url\\\":\\\"/assetserver/a75e1e7279f4e8a75d1508d0e0f26637654e46a8-knockout_punches.js\\\"}],\\\"type\\\":\\\"async_block\\\"})).then((imports) => handler.apply(this, imports));\\n}\\n\")])], Dict{Symbol, Any}(:className => \"field interact-widget\"))], Dict{Symbol, Any}(:className => \"interact-flex-row interact-widget\")), Node{WebIO.DOM}(WebIO.DOM(:html, :div), Any[Node{WebIO.DOM}(WebIO.DOM(:html, :div), Any[Scope(Node{WebIO.DOM}(WebIO.DOM(:html, :div), Any[Node{WebIO.DOM}(WebIO.DOM(:html, :input), Any[], Dict{Symbol, Any}(:attributes => Dict{Any, Any}(:type => \"checkbox\", Symbol(\"data-bind\") => \"checked: value, valueUpdate: 'change', event: {change: function (){this.changes(this.changes()+1)}}\"), :id => \"##293\", :className => \"switch \", :style => Dict{Any, Any}())), Node{WebIO.DOM}(WebIO.DOM(:html, :label), Any[\"clampedright\"], Dict{Symbol, Any}(:attributes => Dict{SubString{String}, SubString{String}}(\"className\" => \"\", \"for\" => \"##293\")))], Dict{Symbol, Any}(:className => \"field interact-widget\")), Dict{String, Tuple{Observables.AbstractObservable, Union{Nothing, Bool}}}(\"changes\" => (Observable{Int64} with 1 listeners. Value:\n",
       "0, nothing), \"value\" => (Observable{Bool} with 2 listeners. Value:\n",
       "false, nothing)), Set{String}(), nothing, Asset[Asset(\"js\", \"knockout\", \"/Users/carbon/.julia/packages/Knockout/3gjS1/src/../assets/knockout.js\"), Asset(\"js\", \"knockout_punches\", \"/Users/carbon/.julia/packages/Knockout/3gjS1/src/../assets/knockout_punches.js\"), Asset(\"js\", nothing, \"/Users/carbon/.julia/packages/InteractBase/h8Fwe/src/../assets/all.js\"), Asset(\"css\", nothing, \"/Users/carbon/.julia/packages/InteractBase/h8Fwe/src/../assets/style.css\"), Asset(\"css\", nothing, \"/Users/carbon/.julia/packages/Interact/pVyN2/src/../assets/bulma_confined.min.css\")], Dict{Any, Any}(\"changes\" => Any[WebIO.JSString(\"(function (val){return (val!=this.model[\\\"changes\\\"]()) ? (this.valueFromJulia[\\\"changes\\\"]=true, this.model[\\\"changes\\\"](val)) : undefined})\")], \"value\" => Any[WebIO.JSString(\"(function (val){return (val!=this.model[\\\"value\\\"]()) ? (this.valueFromJulia[\\\"value\\\"]=true, this.model[\\\"value\\\"](val)) : undefined})\")]), WebIO.ConnectionPool(Channel{Any}(32), Set{AbstractConnection}(), Condition(Base.InvasiveLinkedList{Task}(Task (runnable) @0x000000016c29cbe0, Task (runnable) @0x000000016c29cbe0), Base.AlwaysLockedST(1))), WebIO.JSString[WebIO.JSString(\"function () {\\n    var handler = (function (ko, koPunches) {\\n    ko.punches.enableAll();\\n    ko.bindingHandlers.numericValue = {\\n        init: function(element, valueAccessor, allBindings, data, context) {\\n            var stringified = ko.observable(ko.unwrap(valueAccessor()));\\n            stringified.subscribe(function(value) {\\n                var val = parseFloat(value);\\n                if (!isNaN(val)) {\\n                    valueAccessor()(val);\\n                }\\n            });\\n            valueAccessor().subscribe(function(value) {\\n                var str = JSON.stringify(value);\\n                if ((str == \\\"0\\\") && ([\\\"-0\\\", \\\"-0.\\\"].indexOf(stringified()) >= 0))\\n                     return;\\n                 if ([\\\"null\\\", \\\"\\\"].indexOf(str) >= 0)\\n                     return;\\n                stringified(str);\\n            });\\n            ko.applyBindingsToNode(\\n                element,\\n                {\\n                    value: stringified,\\n                    valueUpdate: allBindings.get('valueUpdate'),\\n                },\\n                context,\\n            );\\n        }\\n    };\\n    var json_data = {\\\"changes\\\":WebIO.getval({\\\"name\\\":\\\"changes\\\",\\\"scope\\\":\\\"2352799863583871972\\\",\\\"id\\\":\\\"8078459403723888167\\\",\\\"type\\\":\\\"observable\\\"}),\\\"value\\\":WebIO.getval({\\\"name\\\":\\\"value\\\",\\\"scope\\\":\\\"2352799863583871972\\\",\\\"id\\\":\\\"1848456544513264309\\\",\\\"type\\\":\\\"observable\\\"})};\\n    var self = this;\\n    function AppViewModel() {\\n        for (var key in json_data) {\\n            var el = json_data[key];\\n            this[key] = Array.isArray(el) ? ko.observableArray(el) : ko.observable(el);\\n        }\\n        \\n        \\n        [this[\\\"changes\\\"].subscribe((function (val){!(this.valueFromJulia[\\\"changes\\\"]) ? (WebIO.setval({\\\"name\\\":\\\"changes\\\",\\\"scope\\\":\\\"2352799863583871972\\\",\\\"id\\\":\\\"8078459403723888167\\\",\\\"type\\\":\\\"observable\\\"},val)) : undefined; return this.valueFromJulia[\\\"changes\\\"]=false}),self),this[\\\"value\\\"].subscribe((function (val){!(this.valueFromJulia[\\\"value\\\"]) ? (WebIO.setval({\\\"name\\\":\\\"value\\\",\\\"scope\\\":\\\"2352799863583871972\\\",\\\"id\\\":\\\"1848456544513264309\\\",\\\"type\\\":\\\"observable\\\"},val)) : undefined; return this.valueFromJulia[\\\"value\\\"]=false}),self)]\\n        \\n    }\\n    self.model = new AppViewModel();\\n    self.valueFromJulia = {};\\n    for (var key in json_data) {\\n        self.valueFromJulia[key] = false;\\n    }\\n    ko.applyBindings(self.model, self.dom);\\n}\\n);\\n    (WebIO.importBlock({\\\"data\\\":[{\\\"name\\\":\\\"knockout\\\",\\\"type\\\":\\\"js\\\",\\\"url\\\":\\\"/assetserver/68b391a98f51946de6766c9cb9c06259d0b67941-knockout.js\\\"},{\\\"name\\\":\\\"knockout_punches\\\",\\\"type\\\":\\\"js\\\",\\\"url\\\":\\\"/assetserver/a75e1e7279f4e8a75d1508d0e0f26637654e46a8-knockout_punches.js\\\"}],\\\"type\\\":\\\"async_block\\\"})).then((imports) => handler.apply(this, imports));\\n}\\n\")])], Dict{Symbol, Any}(:className => \"field interact-widget\"))], Dict{Symbol, Any}(:className => \"interact-flex-row interact-widget\")), Node{WebIO.DOM}(WebIO.DOM(:html, :div), Any[Node{WebIO.DOM}(WebIO.DOM(:html, :div), Any[Scope(Node{WebIO.DOM}(WebIO.DOM(:html, :div), Any[Node{WebIO.DOM}(WebIO.DOM(:html, :input), Any[], Dict{Symbol, Any}(:attributes => Dict{Any, Any}(:type => \"checkbox\", Symbol(\"data-bind\") => \"checked: value, valueUpdate: 'change', event: {change: function (){this.changes(this.changes()+1)}}\"), :id => \"##294\", :className => \"switch \", :style => Dict{Any, Any}())), Node{WebIO.DOM}(WebIO.DOM(:html, :label), Any[\"periodic\"], Dict{Symbol, Any}(:attributes => Dict{SubString{String}, SubString{String}}(\"className\" => \"\", \"for\" => \"##294\")))], Dict{Symbol, Any}(:className => \"field interact-widget\")), Dict{String, Tuple{Observables.AbstractObservable, Union{Nothing, Bool}}}(\"changes\" => (Observable{Int64} with 1 listeners. Value:\n",
       "0, nothing), \"value\" => (Observable{Bool} with 2 listeners. Value:\n",
       "false, nothing)), Set{String}(), nothing, Asset[Asset(\"js\", \"knockout\", \"/Users/carbon/.julia/packages/Knockout/3gjS1/src/../assets/knockout.js\"), Asset(\"js\", \"knockout_punches\", \"/Users/carbon/.julia/packages/Knockout/3gjS1/src/../assets/knockout_punches.js\"), Asset(\"js\", nothing, \"/Users/carbon/.julia/packages/InteractBase/h8Fwe/src/../assets/all.js\"), Asset(\"css\", nothing, \"/Users/carbon/.julia/packages/InteractBase/h8Fwe/src/../assets/style.css\"), Asset(\"css\", nothing, \"/Users/carbon/.julia/packages/Interact/pVyN2/src/../assets/bulma_confined.min.css\")], Dict{Any, Any}(\"changes\" => Any[WebIO.JSString(\"(function (val){return (val!=this.model[\\\"changes\\\"]()) ? (this.valueFromJulia[\\\"changes\\\"]=true, this.model[\\\"changes\\\"](val)) : undefined})\")], \"value\" => Any[WebIO.JSString(\"(function (val){return (val!=this.model[\\\"value\\\"]()) ? (this.valueFromJulia[\\\"value\\\"]=true, this.model[\\\"value\\\"](val)) : undefined})\")]), WebIO.ConnectionPool(Channel{Any}(32), Set{AbstractConnection}(), Condition(Base.InvasiveLinkedList{Task}(Task (runnable) @0x000000016c29cd30, Task (runnable) @0x000000016c29cd30), Base.AlwaysLockedST(1))), WebIO.JSString[WebIO.JSString(\"function () {\\n    var handler = (function (ko, koPunches) {\\n    ko.punches.enableAll();\\n    ko.bindingHandlers.numericValue = {\\n        init: function(element, valueAccessor, allBindings, data, context) {\\n            var stringified = ko.observable(ko.unwrap(valueAccessor()));\\n            stringified.subscribe(function(value) {\\n                var val = parseFloat(value);\\n                if (!isNaN(val)) {\\n                    valueAccessor()(val);\\n                }\\n            });\\n            valueAccessor().subscribe(function(value) {\\n                var str = JSON.stringify(value);\\n                if ((str == \\\"0\\\") && ([\\\"-0\\\", \\\"-0.\\\"].indexOf(stringified()) >= 0))\\n                     return;\\n                 if ([\\\"null\\\", \\\"\\\"].indexOf(str) >= 0)\\n                     return;\\n                stringified(str);\\n            });\\n            ko.applyBindingsToNode(\\n                element,\\n                {\\n                    value: stringified,\\n                    valueUpdate: allBindings.get('valueUpdate'),\\n                },\\n                context,\\n            );\\n        }\\n    };\\n    var json_data = {\\\"changes\\\":WebIO.getval({\\\"name\\\":\\\"changes\\\",\\\"scope\\\":\\\"11790289613816933860\\\",\\\"id\\\":\\\"13391487479250174267\\\",\\\"type\\\":\\\"observable\\\"}),\\\"value\\\":WebIO.getval({\\\"name\\\":\\\"value\\\",\\\"scope\\\":\\\"11790289613816933860\\\",\\\"id\\\":\\\"9654119713781886359\\\",\\\"type\\\":\\\"observable\\\"})};\\n    var self = this;\\n    function AppViewModel() {\\n        for (var key in json_data) {\\n            var el = json_data[key];\\n            this[key] = Array.isArray(el) ? ko.observableArray(el) : ko.observable(el);\\n        }\\n        \\n        \\n        [this[\\\"changes\\\"].subscribe((function (val){!(this.valueFromJulia[\\\"changes\\\"]) ? (WebIO.setval({\\\"name\\\":\\\"changes\\\",\\\"scope\\\":\\\"11790289613816933860\\\",\\\"id\\\":\\\"13391487479250174267\\\",\\\"type\\\":\\\"observable\\\"},val)) : undefined; return this.valueFromJulia[\\\"changes\\\"]=false}),self),this[\\\"value\\\"].subscribe((function (val){!(this.valueFromJulia[\\\"value\\\"]) ? (WebIO.setval({\\\"name\\\":\\\"value\\\",\\\"scope\\\":\\\"11790289613816933860\\\",\\\"id\\\":\\\"9654119713781886359\\\",\\\"type\\\":\\\"observable\\\"},val)) : undefined; return this.valueFromJulia[\\\"value\\\"]=false}),self)]\\n        \\n    }\\n    self.model = new AppViewModel();\\n    self.valueFromJulia = {};\\n    for (var key in json_data) {\\n        self.valueFromJulia[key] = false;\\n    }\\n    ko.applyBindings(self.model, self.dom);\\n}\\n);\\n    (WebIO.importBlock({\\\"data\\\":[{\\\"name\\\":\\\"knockout\\\",\\\"type\\\":\\\"js\\\",\\\"url\\\":\\\"/assetserver/68b391a98f51946de6766c9cb9c06259d0b67941-knockout.js\\\"},{\\\"name\\\":\\\"knockout_punches\\\",\\\"type\\\":\\\"js\\\",\\\"url\\\":\\\"/assetserver/a75e1e7279f4e8a75d1508d0e0f26637654e46a8-knockout_punches.js\\\"}],\\\"type\\\":\\\"async_block\\\"})).then((imports) => handler.apply(this, imports));\\n}\\n\")])], Dict{Symbol, Any}(:className => \"field interact-widget\"))], Dict{Symbol, Any}(:className => \"interact-flex-row interact-widget\")), Node{WebIO.DOM}(WebIO.DOM(:html, :div), Any[Node{WebIO.DOM}(WebIO.DOM(:html, :div), Any[Scope(Node{WebIO.DOM}(WebIO.DOM(:html, :div), Any[Node{WebIO.DOM}(WebIO.DOM(:html, :input), Any[], Dict{Symbol, Any}(:attributes => Dict{Any, Any}(:type => \"checkbox\", Symbol(\"data-bind\") => \"checked: value, valueUpdate: 'change', event: {change: function (){this.changes(this.changes()+1)}}\"), :id => \"##295\", :className => \"switch \", :style => Dict{Any, Any}())), Node{WebIO.DOM}(WebIO.DOM(:html, :label), Any[\"naturalleft\"], Dict{Symbol, Any}(:attributes => Dict{SubString{String}, SubString{String}}(\"className\" => \"\", \"for\" => \"##295\")))], Dict{Symbol, Any}(:className => \"field interact-widget\")), Dict{String, Tuple{Observables.AbstractObservable, Union{Nothing, Bool}}}(\"changes\" => (Observable{Int64} with 1 listeners. Value:\n",
       "0, nothing), \"value\" => (Observable{Bool} with 2 listeners. Value:\n",
       "false, nothing)), Set{String}(), nothing, Asset[Asset(\"js\", \"knockout\", \"/Users/carbon/.julia/packages/Knockout/3gjS1/src/../assets/knockout.js\"), Asset(\"js\", \"knockout_punches\", \"/Users/carbon/.julia/packages/Knockout/3gjS1/src/../assets/knockout_punches.js\"), Asset(\"js\", nothing, \"/Users/carbon/.julia/packages/InteractBase/h8Fwe/src/../assets/all.js\"), Asset(\"css\", nothing, \"/Users/carbon/.julia/packages/InteractBase/h8Fwe/src/../assets/style.css\"), Asset(\"css\", nothing, \"/Users/carbon/.julia/packages/Interact/pVyN2/src/../assets/bulma_confined.min.css\")], Dict{Any, Any}(\"changes\" => Any[WebIO.JSString(\"(function (val){return (val!=this.model[\\\"changes\\\"]()) ? (this.valueFromJulia[\\\"changes\\\"]=true, this.model[\\\"changes\\\"](val)) : undefined})\")], \"value\" => Any[WebIO.JSString(\"(function (val){return (val!=this.model[\\\"value\\\"]()) ? (this.valueFromJulia[\\\"value\\\"]=true, this.model[\\\"value\\\"](val)) : undefined})\")]), WebIO.ConnectionPool(Channel{Any}(32), Set{AbstractConnection}(), Condition(Base.InvasiveLinkedList{Task}(Task (runnable) @0x000000016c29cfd0, Task (runnable) @0x000000016c29cfd0), Base.AlwaysLockedST(1))), WebIO.JSString[WebIO.JSString(\"function () {\\n    var handler = (function (ko, koPunches) {\\n    ko.punches.enableAll();\\n    ko.bindingHandlers.numericValue = {\\n        init: function(element, valueAccessor, allBindings, data, context) {\\n            var stringified = ko.observable(ko.unwrap(valueAccessor()));\\n            stringified.subscribe(function(value) {\\n                var val = parseFloat(value);\\n                if (!isNaN(val)) {\\n                    valueAccessor()(val);\\n                }\\n            });\\n            valueAccessor().subscribe(function(value) {\\n                var str = JSON.stringify(value);\\n                if ((str == \\\"0\\\") && ([\\\"-0\\\", \\\"-0.\\\"].indexOf(stringified()) >= 0))\\n                     return;\\n                 if ([\\\"null\\\", \\\"\\\"].indexOf(str) >= 0)\\n                     return;\\n                stringified(str);\\n            });\\n            ko.applyBindingsToNode(\\n                element,\\n                {\\n                    value: stringified,\\n                    valueUpdate: allBindings.get('valueUpdate'),\\n                },\\n                context,\\n            );\\n        }\\n    };\\n    var json_data = {\\\"changes\\\":WebIO.getval({\\\"name\\\":\\\"changes\\\",\\\"scope\\\":\\\"15814540398560056224\\\",\\\"id\\\":\\\"4817521045528906106\\\",\\\"type\\\":\\\"observable\\\"}),\\\"value\\\":WebIO.getval({\\\"name\\\":\\\"value\\\",\\\"scope\\\":\\\"15814540398560056224\\\",\\\"id\\\":\\\"8291278684059506527\\\",\\\"type\\\":\\\"observable\\\"})};\\n    var self = this;\\n    function AppViewModel() {\\n        for (var key in json_data) {\\n            var el = json_data[key];\\n            this[key] = Array.isArray(el) ? ko.observableArray(el) : ko.observable(el);\\n        }\\n        \\n        \\n        [this[\\\"changes\\\"].subscribe((function (val){!(this.valueFromJulia[\\\"changes\\\"]) ? (WebIO.setval({\\\"name\\\":\\\"changes\\\",\\\"scope\\\":\\\"15814540398560056224\\\",\\\"id\\\":\\\"4817521045528906106\\\",\\\"type\\\":\\\"observable\\\"},val)) : undefined; return this.valueFromJulia[\\\"changes\\\"]=false}),self),this[\\\"value\\\"].subscribe((function (val){!(this.valueFromJulia[\\\"value\\\"]) ? (WebIO.setval({\\\"name\\\":\\\"value\\\",\\\"scope\\\":\\\"15814540398560056224\\\",\\\"id\\\":\\\"8291278684059506527\\\",\\\"type\\\":\\\"observable\\\"},val)) : undefined; return this.valueFromJulia[\\\"value\\\"]=false}),self)]\\n        \\n    }\\n    self.model = new AppViewModel();\\n    self.valueFromJulia = {};\\n    for (var key in json_data) {\\n        self.valueFromJulia[key] = false;\\n    }\\n    ko.applyBindings(self.model, self.dom);\\n}\\n);\\n    (WebIO.importBlock({\\\"data\\\":[{\\\"name\\\":\\\"knockout\\\",\\\"type\\\":\\\"js\\\",\\\"url\\\":\\\"/assetserver/68b391a98f51946de6766c9cb9c06259d0b67941-knockout.js\\\"},{\\\"name\\\":\\\"knockout_punches\\\",\\\"type\\\":\\\"js\\\",\\\"url\\\":\\\"/assetserver/a75e1e7279f4e8a75d1508d0e0f26637654e46a8-knockout_punches.js\\\"}],\\\"type\\\":\\\"async_block\\\"})).then((imports) => handler.apply(this, imports));\\n}\\n\")])], Dict{Symbol, Any}(:className => \"field interact-widget\"))], Dict{Symbol, Any}(:className => \"interact-flex-row interact-widget\")), Node{WebIO.DOM}(WebIO.DOM(:html, :div), Any[Node{WebIO.DOM}(WebIO.DOM(:html, :div), Any[Scope(Node{WebIO.DOM}(WebIO.DOM(:html, :div), Any[Node{WebIO.DOM}(WebIO.DOM(:html, :input), Any[], Dict{Symbol, Any}(:attributes => Dict{Any, Any}(:type => \"checkbox\", Symbol(\"data-bind\") => \"checked: value, valueUpdate: 'change', event: {change: function (){this.changes(this.changes()+1)}}\"), :id => \"##296\", :className => \"switch \", :style => Dict{Any, Any}())), Node{WebIO.DOM}(WebIO.DOM(:html, :label), Any[\"naturalright\"], Dict{Symbol, Any}(:attributes => Dict{SubString{String}, SubString{String}}(\"className\" => \"\", \"for\" => \"##296\")))], Dict{Symbol, Any}(:className => \"field interact-widget\")), Dict{String, Tuple{Observables.AbstractObservable, Union{Nothing, Bool}}}(\"changes\" => (Observable{Int64} with 1 listeners. Value:\n",
       "0, nothing), \"value\" => (Observable{Bool} with 2 listeners. Value:\n",
       "false, nothing)), Set{String}(), nothing, Asset[Asset(\"js\", \"knockout\", \"/Users/carbon/.julia/packages/Knockout/3gjS1/src/../assets/knockout.js\"), Asset(\"js\", \"knockout_punches\", \"/Users/carbon/.julia/packages/Knockout/3gjS1/src/../assets/knockout_punches.js\"), Asset(\"js\", nothing, \"/Users/carbon/.julia/packages/InteractBase/h8Fwe/src/../assets/all.js\"), Asset(\"css\", nothing, \"/Users/carbon/.julia/packages/InteractBase/h8Fwe/src/../assets/style.css\"), Asset(\"css\", nothing, \"/Users/carbon/.julia/packages/Interact/pVyN2/src/../assets/bulma_confined.min.css\")], Dict{Any, Any}(\"changes\" => Any[WebIO.JSString(\"(function (val){return (val!=this.model[\\\"changes\\\"]()) ? (this.valueFromJulia[\\\"changes\\\"]=true, this.model[\\\"changes\\\"](val)) : undefined})\")], \"value\" => Any[WebIO.JSString(\"(function (val){return (val!=this.model[\\\"value\\\"]()) ? (this.valueFromJulia[\\\"value\\\"]=true, this.model[\\\"value\\\"](val)) : undefined})\")]), WebIO.ConnectionPool(Channel{Any}(32), Set{AbstractConnection}(), Condition(Base.InvasiveLinkedList{Task}(Task (runnable) @0x000000016c29d120, Task (runnable) @0x000000016c29d120), Base.AlwaysLockedST(1))), WebIO.JSString[WebIO.JSString(\"function () {\\n    var handler = (function (ko, koPunches) {\\n    ko.punches.enableAll();\\n    ko.bindingHandlers.numericValue = {\\n        init: function(element, valueAccessor, allBindings, data, context) {\\n            var stringified = ko.observable(ko.unwrap(valueAccessor()));\\n            stringified.subscribe(function(value) {\\n                var val = parseFloat(value);\\n                if (!isNaN(val)) {\\n                    valueAccessor()(val);\\n                }\\n            });\\n            valueAccessor().subscribe(function(value) {\\n                var str = JSON.stringify(value);\\n                if ((str == \\\"0\\\") && ([\\\"-0\\\", \\\"-0.\\\"].indexOf(stringified()) >= 0))\\n                     return;\\n                 if ([\\\"null\\\", \\\"\\\"].indexOf(str) >= 0)\\n                     return;\\n                stringified(str);\\n            });\\n            ko.applyBindingsToNode(\\n                element,\\n                {\\n                    value: stringified,\\n                    valueUpdate: allBindings.get('valueUpdate'),\\n                },\\n                context,\\n            );\\n        }\\n    };\\n    var json_data = {\\\"changes\\\":WebIO.getval({\\\"name\\\":\\\"changes\\\",\\\"scope\\\":\\\"16078247271783612114\\\",\\\"id\\\":\\\"2367939373995726488\\\",\\\"type\\\":\\\"observable\\\"}),\\\"value\\\":WebIO.getval({\\\"name\\\":\\\"value\\\",\\\"scope\\\":\\\"16078247271783612114\\\",\\\"id\\\":\\\"5739574063253290749\\\",\\\"type\\\":\\\"observable\\\"})};\\n    var self = this;\\n    function AppViewModel() {\\n        for (var key in json_data) {\\n            var el = json_data[key];\\n            this[key] = Array.isArray(el) ? ko.observableArray(el) : ko.observable(el);\\n        }\\n        \\n        \\n        [this[\\\"changes\\\"].subscribe((function (val){!(this.valueFromJulia[\\\"changes\\\"]) ? (WebIO.setval({\\\"name\\\":\\\"changes\\\",\\\"scope\\\":\\\"16078247271783612114\\\",\\\"id\\\":\\\"2367939373995726488\\\",\\\"type\\\":\\\"observable\\\"},val)) : undefined; return this.valueFromJulia[\\\"changes\\\"]=false}),self),this[\\\"value\\\"].subscribe((function (val){!(this.valueFromJulia[\\\"value\\\"]) ? (WebIO.setval({\\\"name\\\":\\\"value\\\",\\\"scope\\\":\\\"16078247271783612114\\\",\\\"id\\\":\\\"5739574063253290749\\\",\\\"type\\\":\\\"observable\\\"},val)) : undefined; return this.valueFromJulia[\\\"value\\\"]=false}),self)]\\n        \\n    }\\n    self.model = new AppViewModel();\\n    self.valueFromJulia = {};\\n    for (var key in json_data) {\\n        self.valueFromJulia[key] = false;\\n    }\\n    ko.applyBindings(self.model, self.dom);\\n}\\n);\\n    (WebIO.importBlock({\\\"data\\\":[{\\\"name\\\":\\\"knockout\\\",\\\"type\\\":\\\"js\\\",\\\"url\\\":\\\"/assetserver/68b391a98f51946de6766c9cb9c06259d0b67941-knockout.js\\\"},{\\\"name\\\":\\\"knockout_punches\\\",\\\"type\\\":\\\"js\\\",\\\"url\\\":\\\"/assetserver/a75e1e7279f4e8a75d1508d0e0f26637654e46a8-knockout_punches.js\\\"}],\\\"type\\\":\\\"async_block\\\"})).then((imports) => handler.apply(this, imports));\\n}\\n\")])], Dict{Symbol, Any}(:className => \"field interact-widget\"))], Dict{Symbol, Any}(:className => \"interact-flex-row interact-widget\")), Observable{Node{WebIO.DOM}} with 0 listeners. Value:\n",
       "Node{WebIO.DOM}(WebIO.DOM(:html, :div), Any[Plot{Plots.GRBackend() n=3}], Dict{Symbol, Any}(:className => \"interact-flex-row interact-widget\"))], Dict{Symbol, Any}())"
      ]
     },
     "execution_count": 8,
     "metadata": {
      "application/vnd.webio.node+json": {
       "kernelId": "031079b4-7a6c-4f1b-8d4f-5d139b59af37"
      }
     },
     "output_type": "execute_result"
    }
   ],
   "source": [
    "@manipulate for n=2:50,\n",
    "                spline=[spline1, spline2, spline3],\n",
    "                clampedleft=false,\n",
    "                clampedright=false,\n",
    "                periodic=false,\n",
    "                naturalleft=false,\n",
    "                naturalright=false\n",
    "    nodes = range(xlo, xhi, length=n)\n",
    "\n",
    "    boundary = Boundary[]\n",
    "    clampedleft && push!(boundary, ClampedLeft)\n",
    "    clampedright && push!(boundary, ClampedRight)\n",
    "    periodic && push!(boundary, Periodic)\n",
    "    naturalleft && push!(boundary, NaturalLeft)\n",
    "    naturalright && push!(boundary, NaturalRight)\n",
    "    \n",
    "    s = try\n",
    "        spline(nodes, f.(nodes), df.(nodes), boundary)\n",
    "    catch\n",
    "        x -> 0\n",
    "    end\n",
    "    \n",
    "    plot(\n",
    "        xs,\n",
    "        f.(xs),\n",
    "        label=\"f(x)\",\n",
    "        legend=:outerbottom,\n",
    "        line=:dash,\n",
    "        title=\"$boundary\",\n",
    "    )\n",
    "    \n",
    "    scatter!(\n",
    "        nodes,\n",
    "        f.(nodes),\n",
    "        label=\"Nodes (n=$n)\",\n",
    "    )\n",
    "    \n",
    "    plot!(\n",
    "        xs,\n",
    "        s.(xs),\n",
    "        label=\"$spline\",\n",
    "    )\n",
    "end"
   ]
  },
  {
   "cell_type": "markdown",
   "id": "d4428e68",
   "metadata": {},
   "source": [
    "# Tabelki"
   ]
  },
  {
   "cell_type": "code",
   "execution_count": 9,
   "id": "8e19c0dc",
   "metadata": {},
   "outputs": [
    {
     "data": {
      "text/plain": [
       "trial (generic function with 1 method)"
      ]
     },
     "execution_count": 9,
     "metadata": {},
     "output_type": "execute_result"
    }
   ],
   "source": [
    "function trial(n, titles, params)\n",
    "    dferr = DataFrame(n = [])\n",
    "    [insertcols!(dferr, Symbol(t)=>[]) for t=titles]\n",
    "    for i = n\n",
    "        row = Real[i]\n",
    "        for (spline, boundary) = params\n",
    "            nodes = range(xlo, xhi, length=i)\n",
    "\n",
    "            s = spline(nodes, f.(nodes), df.(nodes), boundary)\n",
    "            err = sqerr(f, s, xs)\n",
    "            push!(row, err)\n",
    "        end\n",
    "        push!(dferr, row)\n",
    "    end\n",
    "    dferr\n",
    "end"
   ]
  },
  {
   "cell_type": "markdown",
   "id": "f3ea6b66",
   "metadata": {},
   "source": [
    "# Clamped vs Natural (3rd)\n",
    "Clamped 3rd lepsze."
   ]
  },
  {
   "cell_type": "code",
   "execution_count": 10,
   "id": "753c4228",
   "metadata": {},
   "outputs": [
    {
     "data": {
      "text/html": [
       "<div class=\"data-frame\"><p>10 rows × 3 columns</p><table class=\"data-frame\"><thead><tr><th></th><th>n</th><th>Clamped</th><th>Natural</th></tr><tr><th></th><th title=\"Any\">Any</th><th title=\"Any\">Any</th><th title=\"Any\">Any</th></tr></thead><tbody><tr><th>1</th><td>10</td><td>0.544813</td><td>0.545902</td></tr><tr><th>2</th><td>20</td><td>0.000240081</td><td>0.000240691</td></tr><tr><th>3</th><td>30</td><td>0.000214065</td><td>0.000214139</td></tr><tr><th>4</th><td>40</td><td>4.10962e-5</td><td>4.11133e-5</td></tr><tr><th>5</th><td>50</td><td>6.24331e-6</td><td>6.24876e-6</td></tr><tr><th>6</th><td>60</td><td>1.10788e-6</td><td>1.11004e-6</td></tr><tr><th>7</th><td>70</td><td>2.51751e-7</td><td>2.52738e-7</td></tr><tr><th>8</th><td>80</td><td>7.19016e-8</td><td>7.24039e-8</td></tr><tr><th>9</th><td>90</td><td>2.45684e-8</td><td>2.48453e-8</td></tr><tr><th>10</th><td>100</td><td>9.61787e-9</td><td>9.78048e-9</td></tr></tbody></table></div>"
      ],
      "text/latex": [
       "\\begin{tabular}{r|ccc}\n",
       "\t& n & Clamped & Natural\\\\\n",
       "\t\\hline\n",
       "\t& Any & Any & Any\\\\\n",
       "\t\\hline\n",
       "\t1 & 10 & 0.544813 & 0.545902 \\\\\n",
       "\t2 & 20 & 0.000240081 & 0.000240691 \\\\\n",
       "\t3 & 30 & 0.000214065 & 0.000214139 \\\\\n",
       "\t4 & 40 & 4.10962e-5 & 4.11133e-5 \\\\\n",
       "\t5 & 50 & 6.24331e-6 & 6.24876e-6 \\\\\n",
       "\t6 & 60 & 1.10788e-6 & 1.11004e-6 \\\\\n",
       "\t7 & 70 & 2.51751e-7 & 2.52738e-7 \\\\\n",
       "\t8 & 80 & 7.19016e-8 & 7.24039e-8 \\\\\n",
       "\t9 & 90 & 2.45684e-8 & 2.48453e-8 \\\\\n",
       "\t10 & 100 & 9.61787e-9 & 9.78048e-9 \\\\\n",
       "\\end{tabular}\n"
      ],
      "text/plain": [
       "\u001b[1m10×3 DataFrame\u001b[0m\n",
       "\u001b[1m Row \u001b[0m│\u001b[1m n   \u001b[0m\u001b[1m Clamped     \u001b[0m\u001b[1m Natural     \u001b[0m\n",
       "\u001b[1m     \u001b[0m│\u001b[90m Any \u001b[0m\u001b[90m Any         \u001b[0m\u001b[90m Any         \u001b[0m\n",
       "─────┼───────────────────────────────\n",
       "   1 │ 10   0.544813     0.545902\n",
       "   2 │ 20   0.000240081  0.000240691\n",
       "   3 │ 30   0.000214065  0.000214139\n",
       "   4 │ 40   4.10962e-5   4.11133e-5\n",
       "   5 │ 50   6.24331e-6   6.24876e-6\n",
       "   6 │ 60   1.10788e-6   1.11004e-6\n",
       "   7 │ 70   2.51751e-7   2.52738e-7\n",
       "   8 │ 80   7.19016e-8   7.24039e-8\n",
       "   9 │ 90   2.45684e-8   2.48453e-8\n",
       "  10 │ 100  9.61787e-9   9.78048e-9"
      ]
     },
     "execution_count": 10,
     "metadata": {},
     "output_type": "execute_result"
    }
   ],
   "source": [
    "trial(10:10:100, [\"Clamped\", \"Natural\"], [\n",
    "    (spline3, [ClampedLeft, ClampedRight]),\n",
    "    (spline3, [NaturalLeft, NaturalRight]),\n",
    "])"
   ]
  },
  {
   "cell_type": "markdown",
   "id": "cd5a928a",
   "metadata": {},
   "source": [
    "# Clamped vs Periodic (2nd)\n",
    "Periodic 2nd lepsze."
   ]
  },
  {
   "cell_type": "code",
   "execution_count": 11,
   "id": "fc6a8931",
   "metadata": {},
   "outputs": [
    {
     "data": {
      "text/html": [
       "<div class=\"data-frame\"><p>10 rows × 4 columns</p><table class=\"data-frame\"><thead><tr><th></th><th>n</th><th>Clamped left</th><th>Clamped right</th><th>Periodic</th></tr><tr><th></th><th title=\"Any\">Any</th><th title=\"Any\">Any</th><th title=\"Any\">Any</th><th title=\"Any\">Any</th></tr></thead><tbody><tr><th>1</th><td>10</td><td>56.6795</td><td>56.6795</td><td>26.3772</td></tr><tr><th>2</th><td>20</td><td>2.6406</td><td>2.6406</td><td>1.27995</td></tr><tr><th>3</th><td>30</td><td>0.117885</td><td>0.117885</td><td>0.0590662</td></tr><tr><th>4</th><td>40</td><td>0.00538891</td><td>0.00538891</td><td>0.00284126</td></tr><tr><th>5</th><td>50</td><td>0.000277194</td><td>0.000277194</td><td>0.00016766</td></tr><tr><th>6</th><td>60</td><td>2.31857e-5</td><td>2.31857e-5</td><td>1.83877e-5</td></tr><tr><th>7</th><td>70</td><td>4.66822e-6</td><td>4.66822e-6</td><td>4.46903e-6</td></tr><tr><th>8</th><td>80</td><td>1.65901e-6</td><td>1.65901e-6</td><td>1.64926e-6</td></tr><tr><th>9</th><td>90</td><td>7.28795e-7</td><td>7.28795e-7</td><td>7.28525e-7</td></tr><tr><th>10</th><td>100</td><td>3.59162e-7</td><td>3.59162e-7</td><td>3.59122e-7</td></tr></tbody></table></div>"
      ],
      "text/latex": [
       "\\begin{tabular}{r|cccc}\n",
       "\t& n & Clamped left & Clamped right & Periodic\\\\\n",
       "\t\\hline\n",
       "\t& Any & Any & Any & Any\\\\\n",
       "\t\\hline\n",
       "\t1 & 10 & 56.6795 & 56.6795 & 26.3772 \\\\\n",
       "\t2 & 20 & 2.6406 & 2.6406 & 1.27995 \\\\\n",
       "\t3 & 30 & 0.117885 & 0.117885 & 0.0590662 \\\\\n",
       "\t4 & 40 & 0.00538891 & 0.00538891 & 0.00284126 \\\\\n",
       "\t5 & 50 & 0.000277194 & 0.000277194 & 0.00016766 \\\\\n",
       "\t6 & 60 & 2.31857e-5 & 2.31857e-5 & 1.83877e-5 \\\\\n",
       "\t7 & 70 & 4.66822e-6 & 4.66822e-6 & 4.46903e-6 \\\\\n",
       "\t8 & 80 & 1.65901e-6 & 1.65901e-6 & 1.64926e-6 \\\\\n",
       "\t9 & 90 & 7.28795e-7 & 7.28795e-7 & 7.28525e-7 \\\\\n",
       "\t10 & 100 & 3.59162e-7 & 3.59162e-7 & 3.59122e-7 \\\\\n",
       "\\end{tabular}\n"
      ],
      "text/plain": [
       "\u001b[1m10×4 DataFrame\u001b[0m\n",
       "\u001b[1m Row \u001b[0m│\u001b[1m n   \u001b[0m\u001b[1m Clamped left \u001b[0m\u001b[1m Clamped right \u001b[0m\u001b[1m Periodic   \u001b[0m\n",
       "\u001b[1m     \u001b[0m│\u001b[90m Any \u001b[0m\u001b[90m Any          \u001b[0m\u001b[90m Any           \u001b[0m\u001b[90m Any        \u001b[0m\n",
       "─────┼──────────────────────────────────────────────\n",
       "   1 │ 10   56.6795       56.6795        26.3772\n",
       "   2 │ 20   2.6406        2.6406         1.27995\n",
       "   3 │ 30   0.117885      0.117885       0.0590662\n",
       "   4 │ 40   0.00538891    0.00538891     0.00284126\n",
       "   5 │ 50   0.000277194   0.000277194    0.00016766\n",
       "   6 │ 60   2.31857e-5    2.31857e-5     1.83877e-5\n",
       "   7 │ 70   4.66822e-6    4.66822e-6     4.46903e-6\n",
       "   8 │ 80   1.65901e-6    1.65901e-6     1.64926e-6\n",
       "   9 │ 90   7.28795e-7    7.28795e-7     7.28525e-7\n",
       "  10 │ 100  3.59162e-7    3.59162e-7     3.59122e-7"
      ]
     },
     "execution_count": 11,
     "metadata": {},
     "output_type": "execute_result"
    }
   ],
   "source": [
    "trial(10:10:100, [\"Clamped left\", \"Clamped right\", \"Periodic\"], [\n",
    "    (spline2, [ClampedLeft]),\n",
    "    (spline2, [ClampedRight]),\n",
    "    (spline2, [Periodic]),\n",
    "])"
   ]
  },
  {
   "cell_type": "markdown",
   "id": "44e38600",
   "metadata": {},
   "source": [
    "# Periodic 2nd vs Clamped 3rd\n",
    "Clamped 3rd lepsze."
   ]
  },
  {
   "cell_type": "code",
   "execution_count": 12,
   "id": "3cb98913",
   "metadata": {},
   "outputs": [
    {
     "data": {
      "text/html": [
       "<div class=\"data-frame\"><p>10 rows × 3 columns</p><table class=\"data-frame\"><thead><tr><th></th><th>n</th><th>Periodic 2nd</th><th>Clamped 3rd</th></tr><tr><th></th><th title=\"Any\">Any</th><th title=\"Any\">Any</th><th title=\"Any\">Any</th></tr></thead><tbody><tr><th>1</th><td>10</td><td>26.3772</td><td>0.544813</td></tr><tr><th>2</th><td>20</td><td>1.27995</td><td>0.000240081</td></tr><tr><th>3</th><td>30</td><td>0.0590662</td><td>0.000214065</td></tr><tr><th>4</th><td>40</td><td>0.00284126</td><td>4.10962e-5</td></tr><tr><th>5</th><td>50</td><td>0.00016766</td><td>6.24331e-6</td></tr><tr><th>6</th><td>60</td><td>1.83877e-5</td><td>1.10788e-6</td></tr><tr><th>7</th><td>70</td><td>4.46903e-6</td><td>2.51751e-7</td></tr><tr><th>8</th><td>80</td><td>1.64926e-6</td><td>7.19016e-8</td></tr><tr><th>9</th><td>90</td><td>7.28525e-7</td><td>2.45684e-8</td></tr><tr><th>10</th><td>100</td><td>3.59122e-7</td><td>9.61787e-9</td></tr></tbody></table></div>"
      ],
      "text/latex": [
       "\\begin{tabular}{r|ccc}\n",
       "\t& n & Periodic 2nd & Clamped 3rd\\\\\n",
       "\t\\hline\n",
       "\t& Any & Any & Any\\\\\n",
       "\t\\hline\n",
       "\t1 & 10 & 26.3772 & 0.544813 \\\\\n",
       "\t2 & 20 & 1.27995 & 0.000240081 \\\\\n",
       "\t3 & 30 & 0.0590662 & 0.000214065 \\\\\n",
       "\t4 & 40 & 0.00284126 & 4.10962e-5 \\\\\n",
       "\t5 & 50 & 0.00016766 & 6.24331e-6 \\\\\n",
       "\t6 & 60 & 1.83877e-5 & 1.10788e-6 \\\\\n",
       "\t7 & 70 & 4.46903e-6 & 2.51751e-7 \\\\\n",
       "\t8 & 80 & 1.64926e-6 & 7.19016e-8 \\\\\n",
       "\t9 & 90 & 7.28525e-7 & 2.45684e-8 \\\\\n",
       "\t10 & 100 & 3.59122e-7 & 9.61787e-9 \\\\\n",
       "\\end{tabular}\n"
      ],
      "text/plain": [
       "\u001b[1m10×3 DataFrame\u001b[0m\n",
       "\u001b[1m Row \u001b[0m│\u001b[1m n   \u001b[0m\u001b[1m Periodic 2nd \u001b[0m\u001b[1m Clamped 3rd \u001b[0m\n",
       "\u001b[1m     \u001b[0m│\u001b[90m Any \u001b[0m\u001b[90m Any          \u001b[0m\u001b[90m Any         \u001b[0m\n",
       "─────┼────────────────────────────────\n",
       "   1 │ 10   26.3772       0.544813\n",
       "   2 │ 20   1.27995       0.000240081\n",
       "   3 │ 30   0.0590662     0.000214065\n",
       "   4 │ 40   0.00284126    4.10962e-5\n",
       "   5 │ 50   0.00016766    6.24331e-6\n",
       "   6 │ 60   1.83877e-5    1.10788e-6\n",
       "   7 │ 70   4.46903e-6    2.51751e-7\n",
       "   8 │ 80   1.64926e-6    7.19016e-8\n",
       "   9 │ 90   7.28525e-7    2.45684e-8\n",
       "  10 │ 100  3.59122e-7    9.61787e-9"
      ]
     },
     "execution_count": 12,
     "metadata": {},
     "output_type": "execute_result"
    }
   ],
   "source": [
    "trial(10:10:100, [\"Periodic 2nd\", \"Clamped 3rd\"], [\n",
    "    (spline2, [Periodic]),\n",
    "    (spline3, [ClampedLeft, ClampedRight]),\n",
    "])"
   ]
  }
 ],
 "metadata": {
  "@webio": {
   "lastCommId": "0bdbdf5a26c4492ba8965b3634e25985",
   "lastKernelId": "031079b4-7a6c-4f1b-8d4f-5d139b59af37"
  },
  "kernelspec": {
   "display_name": "Julia 1.7.3",
   "language": "julia",
   "name": "julia-1.7"
  },
  "language_info": {
   "file_extension": ".jl",
   "mimetype": "application/julia",
   "name": "julia",
   "version": "1.7.3"
  }
 },
 "nbformat": 4,
 "nbformat_minor": 5
}
